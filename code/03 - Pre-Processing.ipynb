{
 "cells": [
  {
   "cell_type": "markdown",
   "metadata": {},
   "source": [
    "<img style=\"float: left;\" width=\"120\" src=\"../images/kaggle.png\">\n",
    "<br><br><br>\n",
    "<h2><center>House Prices: Advanced Regression Techniques</center></h2>\n",
    "\n",
    "<h2><center> Preprocessing  </center></h2>"
   ]
  },
  {
   "cell_type": "code",
   "execution_count": 1,
   "metadata": {},
   "outputs": [
    {
     "data": {
      "text/plain": [
       "('sklearn', '0.23.1')"
      ]
     },
     "execution_count": 1,
     "metadata": {},
     "output_type": "execute_result"
    }
   ],
   "source": [
    "import numpy as np\n",
    "import pandas as pd\n",
    "\n",
    "from sklearn.base import BaseEstimator, TransformerMixin\n",
    "from sklearn.pipeline import Pipeline\n",
    "\n",
    "from sklearn.impute import SimpleImputer\n",
    "from sklearn.preprocessing import OrdinalEncoder\n",
    "\n",
    "import pickle5 as pickle\n",
    "\n",
    "import sklearn\n",
    "sklearn.__name__,sklearn.__version__"
   ]
  },
  {
   "cell_type": "code",
   "execution_count": 2,
   "metadata": {},
   "outputs": [
    {
     "data": {
      "text/plain": [
       "((1460, 80), (1459, 79))"
      ]
     },
     "execution_count": 2,
     "metadata": {},
     "output_type": "execute_result"
    }
   ],
   "source": [
    "df_train = pd.read_csv('../data/train.csv', index_col='Id', parse_dates=True).sort_index()\n",
    "df_test = pd.read_csv('../data/test.csv', index_col='Id', parse_dates=True).sort_index()\n",
    "\n",
    "(df_train.shape, df_test.shape)"
   ]
  },
  {
   "cell_type": "code",
   "execution_count": 6,
   "metadata": {},
   "outputs": [
    {
     "data": {
      "text/plain": [
       "((2919, 80),\n",
       " (1460,),\n",
       " (1460,),\n",
       " Index(['MSSubClass', 'MSZoning', 'LotFrontage', 'LotArea', 'Street', 'Alley',\n",
       "        'LotShape', 'LandContour', 'Utilities', 'LotConfig', 'LandSlope',\n",
       "        'Neighborhood', 'Condition1', 'Condition2', 'BldgType', 'HouseStyle',\n",
       "        'OverallQual', 'OverallCond', 'YearBuilt', 'YearRemodAdd', 'RoofStyle',\n",
       "        'RoofMatl', 'Exterior1st', 'Exterior2nd', 'MasVnrType', 'MasVnrArea',\n",
       "        'ExterQual', 'ExterCond', 'Foundation', 'BsmtQual', 'BsmtCond',\n",
       "        'BsmtExposure', 'BsmtFinType1', 'BsmtFinSF1', 'BsmtFinType2',\n",
       "        'BsmtFinSF2', 'BsmtUnfSF', 'TotalBsmtSF', 'Heating', 'HeatingQC',\n",
       "        'CentralAir', 'Electrical', '1stFlrSF', '2ndFlrSF', 'LowQualFinSF',\n",
       "        'GrLivArea', 'BsmtFullBath', 'BsmtHalfBath', 'FullBath', 'HalfBath',\n",
       "        'BedroomAbvGr', 'KitchenAbvGr', 'KitchenQual', 'TotRmsAbvGrd',\n",
       "        'Functional', 'Fireplaces', 'FireplaceQu', 'GarageType', 'GarageYrBlt',\n",
       "        'GarageFinish', 'GarageCars', 'GarageArea', 'GarageQual', 'GarageCond',\n",
       "        'PavedDrive', 'WoodDeckSF', 'OpenPorchSF', 'EnclosedPorch', '3SsnPorch',\n",
       "        'ScreenPorch', 'PoolArea', 'PoolQC', 'Fence', 'MiscFeature', 'MiscVal',\n",
       "        'MoSold', 'YrSold', 'SaleType', 'SaleCondition', 'TrainSet'],\n",
       "       dtype='object'))"
      ]
     },
     "execution_count": 6,
     "metadata": {},
     "output_type": "execute_result"
    }
   ],
   "source": [
    "high_value_threshold = 200000.00\n",
    "y = np.where(df_train['SalePrice'] > 200000, 1, 0)\n",
    "y_regression = df_train['SalePrice']\n",
    "\n",
    "df_train['TrainSet'] = 'Y'\n",
    "df_test['TrainSet'] = 'N'\n",
    "\n",
    "#Append Train and Test\n",
    "df_data = pd.concat([df_train.drop(['SalePrice'], axis=1), df_test], ignore_index=True)\n",
    "X = df_data\n",
    "\n",
    "X.shape, y.shape, y_regression.shape, X.columns"
   ]
  },
  {
   "cell_type": "code",
   "execution_count": 4,
   "metadata": {},
   "outputs": [],
   "source": [
    "class EstimatorCustom(BaseEstimator, TransformerMixin):\n",
    "    \n",
    "  def __init__(self, feature_to_estimate,feature_estimator):\n",
    "    self.feature_to_estimate = feature_to_estimate\n",
    "    self.feature_estimator = feature_estimator\n",
    "    print('\\nCustom Estimator for '+ self.feature_to_estimate + ' init() called.\\n')\n",
    "\n",
    "  def fit(self, X, y = None):\n",
    "    print('\\nCustom Estimator for ' + self.feature_to_estimate + ' fit() called.\\n')\n",
    "    return self\n",
    "    \n",
    " def transform(self, X, y = None):\n",
    "    print('\\nCustom Estimator for ' + self.feature_to_estimate + ' transform() called.\\n')\n",
    "    X_ = X.copy() \n",
    "    X_[self.feature_to_estimate] = X_.groupby(self.feature_estimator)[self.feature_to_estimate].transform(lambda x: x.fillna(x.median()))\n",
    "    \n",
    "    return X_"
   ]
  },
  {
   "cell_type": "code",
   "execution_count": 5,
   "metadata": {},
   "outputs": [
    {
     "name": "stdout",
     "output_type": "stream",
     "text": [
      "\n",
      "Custom Estimator for LotFrontage init() called.\n",
      "\n",
      "\n",
      "Custom Estimator for LotFrontage fit() called.\n",
      "\n",
      "\n",
      "Custom Estimator for LotFrontage transform() called.\n",
      "\n"
     ]
    },
    {
     "data": {
      "text/plain": [
       "(0, (2919, 80))"
      ]
     },
     "execution_count": 5,
     "metadata": {},
     "output_type": "execute_result"
    }
   ],
   "source": [
    "pipe_custom = Pipeline(steps=[('Custom Estimator Lot Frontage',EstimatorCustom('LotFrontage','Neighborhood'))])\n",
    "X_pipe_custom = pipe_custom.fit_transform(X,0)\n",
    "\n",
    "(X_pipe_custom['LotFrontage'].isna().sum(), X_pipe_custom.shape)"
   ]
  },
  {
   "cell_type": "code",
   "execution_count": 6,
   "metadata": {},
   "outputs": [
    {
     "data": {
      "text/plain": [
       "80"
      ]
     },
     "execution_count": 6,
     "metadata": {},
     "output_type": "execute_result"
    }
   ],
   "source": [
    "dict_fla = {'Alley':'Feature_Level_Absent','BsmtQual':'Feature_Level_Absent','BsmtCond':'Feature_Level_Absent','BsmtExposure':'Feature_Level_Absent','BsmtFinType1':'Feature_Level_Absent','BsmtFinType2':'Feature_Level_Absent','FireplaceQu':'Feature_Level_Absent','GarageType':'Feature_Level_Absent','GarageFinish':'Feature_Level_Absent','GarageQual':'Feature_Level_Absent','GarageCond':'Feature_Level_Absent','PoolQC':'Feature_Level_Absent','Fence':'Feature_Level_Absent','MiscFeature':'None'}\n",
    "custom_features = list(dict_fla.keys())\n",
    "pipe_constant = Pipeline(steps=[\n",
    "    ('ImputerConstant', SimpleImputer(strategy='constant', fill_value='None')),\n",
    "    ('OrdinalEncoder', OrdinalEncoder())])\n",
    "\n",
    "numeric_features = X.select_dtypes(include=['int64', 'float64','int32','float32']).columns\n",
    "pipe_median = Pipeline(steps=[\n",
    "    ('ImputerMedian', SimpleImputer(strategy='median'))])\n",
    "\n",
    "categorical_features = X.select_dtypes(include=['object','category']).columns\n",
    "categorical_features = list (set(categorical_features) - set (custom_features))\n",
    "pipe_mode = Pipeline(steps=[\n",
    "    ('ImputerMode', SimpleImputer(strategy='most_frequent')),\n",
    "    ('OrdinalEncoder', OrdinalEncoder())])\n",
    "\n",
    "features = list(custom_features) + list(numeric_features) + list(categorical_features)\n",
    "len(features)"
   ]
  },
  {
   "cell_type": "code",
   "execution_count": 7,
   "metadata": {},
   "outputs": [],
   "source": [
    "from sklearn.compose import ColumnTransformer\n",
    "preprocessor = ColumnTransformer(\n",
    "    transformers=[\n",
    "        ('Constant Imputer', pipe_constant, custom_features),      #14 columns\n",
    "        ('Median Imputer', pipe_median, numeric_features),        #36 columns\n",
    "        ('Mode Iputer', pipe_mode, categorical_features),        #43 columna\n",
    "    ])"
   ]
  },
  {
   "cell_type": "code",
   "execution_count": 8,
   "metadata": {},
   "outputs": [
    {
     "data": {
      "text/plain": [
       "(2919, 80)"
      ]
     },
     "execution_count": 8,
     "metadata": {},
     "output_type": "execute_result"
    }
   ],
   "source": [
    "pipe_imputations = Pipeline(steps=[('preprocessor', preprocessor)])\n",
    "\n",
    "X_pipe_imputations = pipe_imputations.fit_transform(X_pipe_custom, 0)\n",
    "X = pd.DataFrame(columns = features, data = X_pipe_imputations)\n",
    "X.shape\n"
   ]
  },
  {
   "cell_type": "markdown",
   "metadata": {},
   "source": [
    "## Domain Transforms"
   ]
  },
  {
   "cell_type": "code",
   "execution_count": 10,
   "metadata": {},
   "outputs": [
    {
     "data": {
      "text/plain": [
       "Index(['Alley', 'BsmtQual', 'BsmtCond', 'BsmtExposure', 'BsmtFinType1',\n",
       "       'BsmtFinType2', 'FireplaceQu', 'GarageType', 'GarageFinish',\n",
       "       'GarageQual', 'GarageCond', 'PoolQC', 'Fence', 'MiscFeature',\n",
       "       'MSSubClass', 'LotFrontage', 'LotArea', 'OverallQual', 'OverallCond',\n",
       "       'YearBuilt', 'YearRemodAdd', 'MasVnrArea', 'BsmtUnfSF', 'TotalBsmtSF',\n",
       "       'LowQualFinSF', 'GrLivArea', 'BedroomAbvGr', 'KitchenAbvGr',\n",
       "       'TotRmsAbvGrd', 'Fireplaces', 'GarageArea', 'WoodDeckSF', 'OpenPorchSF',\n",
       "       'EnclosedPorch', '3SsnPorch', 'ScreenPorch', 'PoolArea', 'MiscVal',\n",
       "       'MoSold', 'YrSold', 'Exterior2nd', 'Utilities', 'SaleType', 'RoofStyle',\n",
       "       'LandSlope', 'RoofMatl', 'ExterQual', 'Electrical', 'Street',\n",
       "       'Exterior1st', 'SaleCondition', 'Heating', 'Functional', 'PavedDrive',\n",
       "       'MSZoning', 'HeatingQC', 'LotConfig', 'LotShape', 'CentralAir',\n",
       "       'TrainSet', 'LandContour', 'Neighborhood', 'BldgType', 'Condition1',\n",
       "       'ExterCond', 'HouseStyle', 'MasVnrType', 'Foundation', 'KitchenQual',\n",
       "       'Condition2', 'TotalBsmtFin', 'TotalBath'],\n",
       "      dtype='object')"
      ]
     },
     "execution_count": 10,
     "metadata": {},
     "output_type": "execute_result"
    }
   ],
   "source": [
    "X_ = X.copy()\n",
    "\n",
    "X_[\"TotalBsmtFin\"] = X_[\"BsmtFinSF1\"] + X_[\"BsmtFinSF2\"]\n",
    "X_[\"TotalBath\"] = X_[\"FullBath\"] + 0.5*X_[\"HalfBath\"] + X_[\"BsmtFullBath\"] + 0.5*X_[\"BsmtHalfBath\"]\n",
    "    \n",
    "drop_columns = ['BsmtFinSF1','BsmtFinSF2','FullBath','HalfBath','BsmtFullBath','BsmtHalfBath', '1stFlrSF','2ndFlrSF','1stFlrSF','2ndFlrSF', 'GarageCars','GarageYrBlt']\n",
    "\n",
    "X = X_.drop(drop_columns, axis=1)\n",
    "X.columns"
   ]
  },
  {
   "cell_type": "code",
   "execution_count": 11,
   "metadata": {},
   "outputs": [
    {
     "name": "stderr",
     "output_type": "stream",
     "text": [
      "C:\\Users\\pawel\\AppData\\Roaming\\Python\\Python37\\site-packages\\pandas\\core\\frame.py:3997: SettingWithCopyWarning: \n",
      "A value is trying to be set on a copy of a slice from a DataFrame\n",
      "\n",
      "See the caveats in the documentation: https://pandas.pydata.org/pandas-docs/stable/user_guide/indexing.html#returning-a-view-versus-a-copy\n",
      "  errors=errors,\n"
     ]
    },
    {
     "data": {
      "text/plain": [
       "((1460, 71), (1459, 71), 1460)"
      ]
     },
     "execution_count": 11,
     "metadata": {},
     "output_type": "execute_result"
    }
   ],
   "source": [
    "X_train = X[X['TrainSet'] == 1]\n",
    "X_test = X[X['TrainSet'] == 0]\n",
    "\n",
    "X_train.drop(['TrainSet'],axis=1, inplace = True)\n",
    "X_test.drop(['TrainSet'],axis=1, inplace = True)\n",
    "      \n",
    "(X_train.shape, X_test.shape, len(y))"
   ]
  },
  {
   "cell_type": "code",
   "execution_count": 12,
   "metadata": {},
   "outputs": [],
   "source": [
    "file_mrd_train = open(\"../data/X_train_03_preprocess\", \"wb\")\n",
    "file_mrd_test = open(\"../data/X_test_03_preprocess\", \"wb\")\n",
    "file_mrd_y = open(\"../data/y_train_03_preprocess\", \"wb\")\n",
    "\n",
    "pickle.dump(X_train,file_mrd_train)\n",
    "pickle.dump(X_test,file_mrd_test)\n",
    "pickle.dump(y,file_mrd_y)\n",
    "\n",
    "file_mrd_train.close()\n",
    "file_mrd_test.close()\n",
    "file_mrd_y.close()\n",
    "\n",
    "#Regression\n",
    "file_y_regression = open(\"../data/y_regression_train_03_preprocess\", \"wb\")\n",
    "pickle.dump(y_regression,file_y_regression)\n",
    "file_y_regression.close()"
   ]
  },
  {
   "cell_type": "code",
   "execution_count": 13,
   "metadata": {},
   "outputs": [
    {
     "data": {
      "text/html": [
       "<style>div.sk-top-container {color: black;background-color: white;}div.sk-toggleable {background-color: white;}label.sk-toggleable__label {cursor: pointer;display: block;width: 100%;margin-bottom: 0;padding: 0.2em 0.3em;box-sizing: border-box;text-align: center;}div.sk-toggleable__content {max-height: 0;max-width: 0;overflow: hidden;text-align: left;background-color: #f0f8ff;}div.sk-toggleable__content pre {margin: 0.2em;color: black;border-radius: 0.25em;background-color: #f0f8ff;}input.sk-toggleable__control:checked~div.sk-toggleable__content {max-height: 200px;max-width: 100%;overflow: auto;}div.sk-estimator input.sk-toggleable__control:checked~label.sk-toggleable__label {background-color: #d4ebff;}div.sk-label input.sk-toggleable__control:checked~label.sk-toggleable__label {background-color: #d4ebff;}input.sk-hidden--visually {border: 0;clip: rect(1px 1px 1px 1px);clip: rect(1px, 1px, 1px, 1px);height: 1px;margin: -1px;overflow: hidden;padding: 0;position: absolute;width: 1px;}div.sk-estimator {font-family: monospace;background-color: #f0f8ff;margin: 0.25em 0.25em;border: 1px dotted black;border-radius: 0.25em;box-sizing: border-box;}div.sk-estimator:hover {background-color: #d4ebff;}div.sk-parallel-item::after {content: \"\";width: 100%;border-bottom: 1px solid gray;flex-grow: 1;}div.sk-label:hover label.sk-toggleable__label {background-color: #d4ebff;}div.sk-serial::before {content: \"\";position: absolute;border-left: 1px solid gray;box-sizing: border-box;top: 2em;bottom: 0;left: 50%;}div.sk-serial {display: flex;flex-direction: column;align-items: center;background-color: white;}div.sk-item {z-index: 1;}div.sk-parallel {display: flex;align-items: stretch;justify-content: center;background-color: white;}div.sk-parallel-item {display: flex;flex-direction: column;position: relative;background-color: white;}div.sk-parallel-item:first-child::after {align-self: flex-end;width: 50%;}div.sk-parallel-item:last-child::after {align-self: flex-start;width: 50%;}div.sk-parallel-item:only-child::after {width: 0;}div.sk-dashed-wrapped {border: 1px dashed gray;margin: 0.2em;box-sizing: border-box;padding-bottom: 0.1em;background-color: white;position: relative;}div.sk-label label {font-family: monospace;font-weight: bold;background-color: white;display: inline-block;line-height: 1.2em;}div.sk-label-container {position: relative;z-index: 2;text-align: center;}div.sk-container {display: inline-block;position: relative;}</style><div class=\"sk-top-container\"><div class=\"sk-container\"><div class=\"sk-item sk-dashed-wrapped\"><div class=\"sk-label-container\"><div class=\"sk-label sk-toggleable\"><input class=\"sk-toggleable__control sk-hidden--visually\" id=\"538018f5-30f2-4524-9b7d-cd785454bc39\" type=\"checkbox\" ><label class=\"sk-toggleable__label\" for=\"538018f5-30f2-4524-9b7d-cd785454bc39\">Pipeline</label><div class=\"sk-toggleable__content\"><pre>Pipeline(steps=[('Custom Estimator Lot Frontage',\n",
       "                 EstimatorCustom(feature_estimator='Neighborhood',\n",
       "                                 feature_to_estimate='LotFrontage'))])</pre></div></div></div><div class=\"sk-serial\"><div class=\"sk-item\"><div class=\"sk-estimator sk-toggleable\"><input class=\"sk-toggleable__control sk-hidden--visually\" id=\"3031cba1-76d0-4e03-8eed-1eafa4aa0ab3\" type=\"checkbox\" ><label class=\"sk-toggleable__label\" for=\"3031cba1-76d0-4e03-8eed-1eafa4aa0ab3\">EstimatorCustom</label><div class=\"sk-toggleable__content\"><pre>EstimatorCustom(feature_estimator='Neighborhood',\n",
       "                feature_to_estimate='LotFrontage')</pre></div></div></div></div></div></div></div>"
      ],
      "text/plain": [
       "Pipeline(steps=[('Custom Estimator Lot Frontage',\n",
       "                 EstimatorCustom(feature_estimator='Neighborhood',\n",
       "                                 feature_to_estimate='LotFrontage'))])"
      ]
     },
     "execution_count": 13,
     "metadata": {},
     "output_type": "execute_result"
    }
   ],
   "source": [
    "from sklearn import set_config\n",
    "set_config(display='diagram')\n",
    "pipe_custom"
   ]
  },
  {
   "cell_type": "code",
   "execution_count": 14,
   "metadata": {},
   "outputs": [
    {
     "data": {
      "text/html": [
       "<style>div.sk-top-container {color: black;background-color: white;}div.sk-toggleable {background-color: white;}label.sk-toggleable__label {cursor: pointer;display: block;width: 100%;margin-bottom: 0;padding: 0.2em 0.3em;box-sizing: border-box;text-align: center;}div.sk-toggleable__content {max-height: 0;max-width: 0;overflow: hidden;text-align: left;background-color: #f0f8ff;}div.sk-toggleable__content pre {margin: 0.2em;color: black;border-radius: 0.25em;background-color: #f0f8ff;}input.sk-toggleable__control:checked~div.sk-toggleable__content {max-height: 200px;max-width: 100%;overflow: auto;}div.sk-estimator input.sk-toggleable__control:checked~label.sk-toggleable__label {background-color: #d4ebff;}div.sk-label input.sk-toggleable__control:checked~label.sk-toggleable__label {background-color: #d4ebff;}input.sk-hidden--visually {border: 0;clip: rect(1px 1px 1px 1px);clip: rect(1px, 1px, 1px, 1px);height: 1px;margin: -1px;overflow: hidden;padding: 0;position: absolute;width: 1px;}div.sk-estimator {font-family: monospace;background-color: #f0f8ff;margin: 0.25em 0.25em;border: 1px dotted black;border-radius: 0.25em;box-sizing: border-box;}div.sk-estimator:hover {background-color: #d4ebff;}div.sk-parallel-item::after {content: \"\";width: 100%;border-bottom: 1px solid gray;flex-grow: 1;}div.sk-label:hover label.sk-toggleable__label {background-color: #d4ebff;}div.sk-serial::before {content: \"\";position: absolute;border-left: 1px solid gray;box-sizing: border-box;top: 2em;bottom: 0;left: 50%;}div.sk-serial {display: flex;flex-direction: column;align-items: center;background-color: white;}div.sk-item {z-index: 1;}div.sk-parallel {display: flex;align-items: stretch;justify-content: center;background-color: white;}div.sk-parallel-item {display: flex;flex-direction: column;position: relative;background-color: white;}div.sk-parallel-item:first-child::after {align-self: flex-end;width: 50%;}div.sk-parallel-item:last-child::after {align-self: flex-start;width: 50%;}div.sk-parallel-item:only-child::after {width: 0;}div.sk-dashed-wrapped {border: 1px dashed gray;margin: 0.2em;box-sizing: border-box;padding-bottom: 0.1em;background-color: white;position: relative;}div.sk-label label {font-family: monospace;font-weight: bold;background-color: white;display: inline-block;line-height: 1.2em;}div.sk-label-container {position: relative;z-index: 2;text-align: center;}div.sk-container {display: inline-block;position: relative;}</style><div class=\"sk-top-container\"><div class=\"sk-container\"><div class=\"sk-item sk-dashed-wrapped\"><div class=\"sk-label-container\"><div class=\"sk-label sk-toggleable\"><input class=\"sk-toggleable__control sk-hidden--visually\" id=\"1dab48a2-b53d-4068-9cfe-3d5b7368f1ff\" type=\"checkbox\" ><label class=\"sk-toggleable__label\" for=\"1dab48a2-b53d-4068-9cfe-3d5b7368f1ff\">Pipeline</label><div class=\"sk-toggleable__content\"><pre>Pipeline(steps=[('preprocessor',\n",
       "                 ColumnTransformer(transformers=[('Constant Imputer',\n",
       "                                                  Pipeline(steps=[('ImputerConstant',\n",
       "                                                                   SimpleImputer(fill_value='None',\n",
       "                                                                                 strategy='constant')),\n",
       "                                                                  ('OrdinalEncoder',\n",
       "                                                                   OrdinalEncoder())]),\n",
       "                                                  ['Alley', 'BsmtQual',\n",
       "                                                   'BsmtCond', 'BsmtExposure',\n",
       "                                                   'BsmtFinType1',\n",
       "                                                   'BsmtFinType2',\n",
       "                                                   'FireplaceQu', 'GarageType',\n",
       "                                                   'GarageFinish', 'GarageQual',\n",
       "                                                   'GarageCo...\n",
       "                                                   'SaleType', 'RoofStyle',\n",
       "                                                   'LandSlope', 'RoofMatl',\n",
       "                                                   'ExterQual', 'Electrical',\n",
       "                                                   'Street', 'Exterior1st',\n",
       "                                                   'SaleCondition', 'Heating',\n",
       "                                                   'Functional', 'PavedDrive',\n",
       "                                                   'MSZoning', 'HeatingQC',\n",
       "                                                   'LotConfig', 'LotShape',\n",
       "                                                   'CentralAir', 'TrainSet',\n",
       "                                                   'LandContour',\n",
       "                                                   'Neighborhood', 'BldgType',\n",
       "                                                   'Condition1', 'ExterCond',\n",
       "                                                   'HouseStyle', 'MasVnrType',\n",
       "                                                   'Foundation', 'KitchenQual',\n",
       "                                                   'Condition2'])]))])</pre></div></div></div><div class=\"sk-serial\"><div class=\"sk-item sk-dashed-wrapped\"><div class=\"sk-label-container\"><div class=\"sk-label sk-toggleable\"><input class=\"sk-toggleable__control sk-hidden--visually\" id=\"6f0ded12-cca7-4a93-b2f8-1135a7044d2c\" type=\"checkbox\" ><label class=\"sk-toggleable__label\" for=\"6f0ded12-cca7-4a93-b2f8-1135a7044d2c\">preprocessor: ColumnTransformer</label><div class=\"sk-toggleable__content\"><pre>ColumnTransformer(transformers=[('Constant Imputer',\n",
       "                                 Pipeline(steps=[('ImputerConstant',\n",
       "                                                  SimpleImputer(fill_value='None',\n",
       "                                                                strategy='constant')),\n",
       "                                                 ('OrdinalEncoder',\n",
       "                                                  OrdinalEncoder())]),\n",
       "                                 ['Alley', 'BsmtQual', 'BsmtCond',\n",
       "                                  'BsmtExposure', 'BsmtFinType1',\n",
       "                                  'BsmtFinType2', 'FireplaceQu', 'GarageType',\n",
       "                                  'GarageFinish', 'GarageQual', 'GarageCond',\n",
       "                                  'PoolQC', 'Fence', 'MiscFeatur...\n",
       "                                 ['Exterior2nd', 'Utilities', 'SaleType',\n",
       "                                  'RoofStyle', 'LandSlope', 'RoofMatl',\n",
       "                                  'ExterQual', 'Electrical', 'Street',\n",
       "                                  'Exterior1st', 'SaleCondition', 'Heating',\n",
       "                                  'Functional', 'PavedDrive', 'MSZoning',\n",
       "                                  'HeatingQC', 'LotConfig', 'LotShape',\n",
       "                                  'CentralAir', 'TrainSet', 'LandContour',\n",
       "                                  'Neighborhood', 'BldgType', 'Condition1',\n",
       "                                  'ExterCond', 'HouseStyle', 'MasVnrType',\n",
       "                                  'Foundation', 'KitchenQual', 'Condition2'])])</pre></div></div></div><div class=\"sk-parallel\"><div class=\"sk-parallel-item\"><div class=\"sk-item\"><div class=\"sk-label-container\"><div class=\"sk-label sk-toggleable\"><input class=\"sk-toggleable__control sk-hidden--visually\" id=\"da5c6d9f-31c1-4224-98ea-294bde4d8b02\" type=\"checkbox\" ><label class=\"sk-toggleable__label\" for=\"da5c6d9f-31c1-4224-98ea-294bde4d8b02\">Constant Imputer</label><div class=\"sk-toggleable__content\"><pre>['Alley', 'BsmtQual', 'BsmtCond', 'BsmtExposure', 'BsmtFinType1', 'BsmtFinType2', 'FireplaceQu', 'GarageType', 'GarageFinish', 'GarageQual', 'GarageCond', 'PoolQC', 'Fence', 'MiscFeature']</pre></div></div></div><div class=\"sk-serial\"><div class=\"sk-item\"><div class=\"sk-serial\"><div class=\"sk-item\"><div class=\"sk-estimator sk-toggleable\"><input class=\"sk-toggleable__control sk-hidden--visually\" id=\"c0d312d3-e49c-4239-a320-10d7b542873c\" type=\"checkbox\" ><label class=\"sk-toggleable__label\" for=\"c0d312d3-e49c-4239-a320-10d7b542873c\">SimpleImputer</label><div class=\"sk-toggleable__content\"><pre>SimpleImputer(fill_value='None', strategy='constant')</pre></div></div></div><div class=\"sk-item\"><div class=\"sk-estimator sk-toggleable\"><input class=\"sk-toggleable__control sk-hidden--visually\" id=\"a8866c17-f8aa-4c1a-98fc-b7611293d84c\" type=\"checkbox\" ><label class=\"sk-toggleable__label\" for=\"a8866c17-f8aa-4c1a-98fc-b7611293d84c\">OrdinalEncoder</label><div class=\"sk-toggleable__content\"><pre>OrdinalEncoder()</pre></div></div></div></div></div></div></div></div><div class=\"sk-parallel-item\"><div class=\"sk-item\"><div class=\"sk-label-container\"><div class=\"sk-label sk-toggleable\"><input class=\"sk-toggleable__control sk-hidden--visually\" id=\"d8341e5a-3eed-4205-aa6d-9a29d0ce30dd\" type=\"checkbox\" ><label class=\"sk-toggleable__label\" for=\"d8341e5a-3eed-4205-aa6d-9a29d0ce30dd\">Median Imputer</label><div class=\"sk-toggleable__content\"><pre>Index(['MSSubClass', 'LotFrontage', 'LotArea', 'OverallQual', 'OverallCond',\n",
       "       'YearBuilt', 'YearRemodAdd', 'MasVnrArea', 'BsmtFinSF1', 'BsmtFinSF2',\n",
       "       'BsmtUnfSF', 'TotalBsmtSF', '1stFlrSF', '2ndFlrSF', 'LowQualFinSF',\n",
       "       'GrLivArea', 'BsmtFullBath', 'BsmtHalfBath', 'FullBath', 'HalfBath',\n",
       "       'BedroomAbvGr', 'KitchenAbvGr', 'TotRmsAbvGrd', 'Fireplaces',\n",
       "       'GarageYrBlt', 'GarageCars', 'GarageArea', 'WoodDeckSF', 'OpenPorchSF',\n",
       "       'EnclosedPorch', '3SsnPorch', 'ScreenPorch', 'PoolArea', 'MiscVal',\n",
       "       'MoSold', 'YrSold'],\n",
       "      dtype='object')</pre></div></div></div><div class=\"sk-serial\"><div class=\"sk-item\"><div class=\"sk-serial\"><div class=\"sk-item\"><div class=\"sk-estimator sk-toggleable\"><input class=\"sk-toggleable__control sk-hidden--visually\" id=\"47f38c7a-8e59-4318-989b-513670d4aaf8\" type=\"checkbox\" ><label class=\"sk-toggleable__label\" for=\"47f38c7a-8e59-4318-989b-513670d4aaf8\">SimpleImputer</label><div class=\"sk-toggleable__content\"><pre>SimpleImputer(strategy='median')</pre></div></div></div></div></div></div></div></div><div class=\"sk-parallel-item\"><div class=\"sk-item\"><div class=\"sk-label-container\"><div class=\"sk-label sk-toggleable\"><input class=\"sk-toggleable__control sk-hidden--visually\" id=\"627fd36d-8509-4600-8f77-8e2d475b7c75\" type=\"checkbox\" ><label class=\"sk-toggleable__label\" for=\"627fd36d-8509-4600-8f77-8e2d475b7c75\">Mode Iputer</label><div class=\"sk-toggleable__content\"><pre>['Exterior2nd', 'Utilities', 'SaleType', 'RoofStyle', 'LandSlope', 'RoofMatl', 'ExterQual', 'Electrical', 'Street', 'Exterior1st', 'SaleCondition', 'Heating', 'Functional', 'PavedDrive', 'MSZoning', 'HeatingQC', 'LotConfig', 'LotShape', 'CentralAir', 'TrainSet', 'LandContour', 'Neighborhood', 'BldgType', 'Condition1', 'ExterCond', 'HouseStyle', 'MasVnrType', 'Foundation', 'KitchenQual', 'Condition2']</pre></div></div></div><div class=\"sk-serial\"><div class=\"sk-item\"><div class=\"sk-serial\"><div class=\"sk-item\"><div class=\"sk-estimator sk-toggleable\"><input class=\"sk-toggleable__control sk-hidden--visually\" id=\"2b5f9925-cf74-4243-85ca-b98deb4c5748\" type=\"checkbox\" ><label class=\"sk-toggleable__label\" for=\"2b5f9925-cf74-4243-85ca-b98deb4c5748\">SimpleImputer</label><div class=\"sk-toggleable__content\"><pre>SimpleImputer(strategy='most_frequent')</pre></div></div></div><div class=\"sk-item\"><div class=\"sk-estimator sk-toggleable\"><input class=\"sk-toggleable__control sk-hidden--visually\" id=\"ca00228c-9e9e-4416-820f-2468a567e4a8\" type=\"checkbox\" ><label class=\"sk-toggleable__label\" for=\"ca00228c-9e9e-4416-820f-2468a567e4a8\">OrdinalEncoder</label><div class=\"sk-toggleable__content\"><pre>OrdinalEncoder()</pre></div></div></div></div></div></div></div></div></div></div></div></div></div></div>"
      ],
      "text/plain": [
       "Pipeline(steps=[('preprocessor',\n",
       "                 ColumnTransformer(transformers=[('Constant Imputer',\n",
       "                                                  Pipeline(steps=[('ImputerConstant',\n",
       "                                                                   SimpleImputer(fill_value='None',\n",
       "                                                                                 strategy='constant')),\n",
       "                                                                  ('OrdinalEncoder',\n",
       "                                                                   OrdinalEncoder())]),\n",
       "                                                  ['Alley', 'BsmtQual',\n",
       "                                                   'BsmtCond', 'BsmtExposure',\n",
       "                                                   'BsmtFinType1',\n",
       "                                                   'BsmtFinType2',\n",
       "                                                   'FireplaceQu', 'GarageType',\n",
       "                                                   'GarageFinish', 'GarageQual',\n",
       "                                                   'GarageCo...\n",
       "                                                   'SaleType', 'RoofStyle',\n",
       "                                                   'LandSlope', 'RoofMatl',\n",
       "                                                   'ExterQual', 'Electrical',\n",
       "                                                   'Street', 'Exterior1st',\n",
       "                                                   'SaleCondition', 'Heating',\n",
       "                                                   'Functional', 'PavedDrive',\n",
       "                                                   'MSZoning', 'HeatingQC',\n",
       "                                                   'LotConfig', 'LotShape',\n",
       "                                                   'CentralAir', 'TrainSet',\n",
       "                                                   'LandContour',\n",
       "                                                   'Neighborhood', 'BldgType',\n",
       "                                                   'Condition1', 'ExterCond',\n",
       "                                                   'HouseStyle', 'MasVnrType',\n",
       "                                                   'Foundation', 'KitchenQual',\n",
       "                                                   'Condition2'])]))])"
      ]
     },
     "execution_count": 14,
     "metadata": {},
     "output_type": "execute_result"
    }
   ],
   "source": [
    "pipe_imputations"
   ]
  },
  {
   "cell_type": "markdown",
   "metadata": {},
   "source": [
    "<div style=\"text-align: right\">Prepared by Pawel Sobieralski, 2020 </div>"
   ]
  }
 ],
 "metadata": {
  "kernelspec": {
   "display_name": "Python 3",
   "language": "python",
   "name": "python3"
  },
  "language_info": {
   "codemirror_mode": {
    "name": "ipython",
    "version": 3
   },
   "file_extension": ".py",
   "mimetype": "text/x-python",
   "name": "python",
   "nbconvert_exporter": "python",
   "pygments_lexer": "ipython3",
   "version": "3.7.6"
  }
 },
 "nbformat": 4,
 "nbformat_minor": 4
}
