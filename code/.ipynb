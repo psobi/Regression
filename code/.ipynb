{
 "cells": [
  {
   "cell_type": "code",
   "execution_count": 6,
   "metadata": {},
   "outputs": [
    {
     "data": {
      "text/plain": [
       "'0.22.1'"
      ]
     },
     "execution_count": 6,
     "metadata": {},
     "output_type": "execute_result"
    }
   ],
   "source": [
    "import numpy as np\n",
    "import pandas as pd\n",
    "\n",
    "from sklearn.pipeline import FeatureUnion, Pipeline\n",
    "from sklearn.base import BaseEstimator, TransformerMixin\n",
    "\n",
    "from sklearn.impute import SimpleImputer\n",
    "from sklearn.preprocessing import StandardScaler, OrdinalEncoder\n",
    "\n",
    "import pickle5 as pickle\n",
    "\n",
    "sklearn.__version__"
   ]
  },
  {
   "cell_type": "code",
   "execution_count": 731,
   "metadata": {},
   "outputs": [],
   "source": [
    "file_train = open(\"../data/train_pickle\",\"rb\")\n",
    "df_train = pickle.load(file_train)\n",
    "\n",
    "X = df_train.drop(['HighValue','SalePrice'], axis = 1)\n",
    "y = df_train.HighValue"
   ]
  },
  {
   "cell_type": "code",
   "execution_count": 721,
   "metadata": {},
   "outputs": [
    {
     "data": {
      "text/plain": [
       "(1460, 79)"
      ]
     },
     "execution_count": 721,
     "metadata": {},
     "output_type": "execute_result"
    }
   ],
   "source": [
    "X.shape"
   ]
  },
  {
   "cell_type": "code",
   "execution_count": 722,
   "metadata": {},
   "outputs": [],
   "source": [
    "class EstimatorCustom(BaseEstimator, TransformerMixin):\n",
    "    \n",
    "  def __init__(self, feature_to_estimate,feature_estimator):\n",
    "    self.feature_to_estimate = feature_to_estimate\n",
    "    self.feature_estimator = feature_estimator\n",
    "    print('\\nCustom Estimator for '+ self.feature_to_estimate + ' init() called.\\n')\n",
    "\n",
    "  def fit(self, X, y = None):\n",
    "    print('\\nCustom Estimator for ' + self.feature_to_estimate + ' fit() called.\\n')\n",
    "    return self\n",
    "    \n",
    "  def transform(self, X, y = None):\n",
    "    print('\\nCustom Estimator for ' + self.feature_to_estimate + ' transform() called.\\n')\n",
    "    X_ = X.copy() \n",
    "    X_[self.feature_to_estimate] = X_.groupby(self.feature_estimator)[self.feature_to_estimate].transform(lambda x: x.fillna(x.median()))\n",
    "    \n",
    "    return X_"
   ]
  },
  {
   "cell_type": "code",
   "execution_count": 732,
   "metadata": {},
   "outputs": [
    {
     "name": "stdout",
     "output_type": "stream",
     "text": [
      "\n",
      "Custom Estimator for LotFrontage init() called.\n",
      "\n",
      "\n",
      "Custom Estimator for LotFrontage fit() called.\n",
      "\n",
      "\n",
      "Custom Estimator for LotFrontage transform() called.\n",
      "\n"
     ]
    },
    {
     "data": {
      "text/plain": [
       "0"
      ]
     },
     "execution_count": 732,
     "metadata": {},
     "output_type": "execute_result"
    }
   ],
   "source": [
    "pipe_custom = Pipeline(steps=[('Custom Estimator',EstimatorCustom('LotFrontage','Neighborhood'))])\n",
    "X1 = pipe_custom.fit_transform(X,y)\n",
    "\n",
    "X1['LotFrontage'].isna().sum()"
   ]
  },
  {
   "cell_type": "code",
   "execution_count": 733,
   "metadata": {},
   "outputs": [
    {
     "data": {
      "text/plain": [
       "79"
      ]
     },
     "execution_count": 733,
     "metadata": {},
     "output_type": "execute_result"
    }
   ],
   "source": [
    "dict_fla = {'Alley':'Feature_Level_Absent','BsmtQual':'Feature_Level_Absent','BsmtCond':'Feature_Level_Absent','BsmtExposure':'Feature_Level_Absent','BsmtFinType1':'Feature_Level_Absent','BsmtFinType2':'Feature_Level_Absent','FireplaceQu':'Feature_Level_Absent','GarageType':'Feature_Level_Absent','GarageFinish':'Feature_Level_Absent','GarageQual':'Feature_Level_Absent','GarageCond':'Feature_Level_Absent','PoolQC':'Feature_Level_Absent','Fence':'Feature_Level_Absent','MiscFeature':'None'}\n",
    "custom_features = list(dict_fla.keys())\n",
    "pipe_constant = Pipeline(steps=[\n",
    "    ('ImputerConstant', SimpleImputer(strategy='constant', fill_value='None')),\n",
    "    ('OrdinalEncoder', OrdinalEncoder())])\n",
    "\n",
    "numeric_features = df_train.select_dtypes(include=['int64', 'float64','int32','float32']).drop(['SalePrice','HighValue'], axis=1).columns\n",
    "pipe_median = Pipeline(steps=[\n",
    "    ('ImputerMedian', SimpleImputer(strategy='median')),\n",
    "    ('Scaler', StandardScaler())])\n",
    "\n",
    "categorical_features = df_train.select_dtypes(include=['object','category']).columns\n",
    "categorical_features = list (set(categorical_features) - set (custom_features))\n",
    "pipe_mode = Pipeline(steps=[\n",
    "    ('ImputerMode', SimpleImputer(strategy='most_frequent')),\n",
    "    ('OrdinalEncoder', OrdinalEncoder())])\n",
    "\n",
    "#pipe_custom = Pipeline(steps=[('Custom Estimator',EstimatorCustom('LotFrontage','Neighborhood')),('OrdinalEncoder', OrdinalEncoder())])\n",
    "features = list(custom_features) + list(numeric_features) + list(categorical_features)\n",
    "len(features)"
   ]
  },
  {
   "cell_type": "code",
   "execution_count": 734,
   "metadata": {},
   "outputs": [],
   "source": [
    "#from sklearn.compose import ColumnTransformer\n",
    "preprocessor = ColumnTransformer(\n",
    "    transformers=[\n",
    "        ('Constant Imputer', pipe_constant, custom_features),      #14 columns\n",
    "        ('Median Imputer', pipe_median, numeric_features),        #36 columns\n",
    "        ('Mode Iputer', pipe_mode, categorical_features),        #43 columna\n",
    "    ])\n"
   ]
  },
  {
   "cell_type": "code",
   "execution_count": 735,
   "metadata": {},
   "outputs": [],
   "source": [
    "clf = Pipeline(steps=[('preprocessor', preprocessor)])"
   ]
  },
  {
   "cell_type": "code",
   "execution_count": 738,
   "metadata": {},
   "outputs": [
    {
     "data": {
      "text/plain": [
       "(1460, 79)"
      ]
     },
     "execution_count": 738,
     "metadata": {},
     "output_type": "execute_result"
    }
   ],
   "source": [
    "X2 = clf.fit_transform(X1, y)\n",
    "X = pd.DataFrame(columns = features,data=X2)\n",
    "X.shape"
   ]
  },
  {
   "cell_type": "code",
   "execution_count": 737,
   "metadata": {},
   "outputs": [
    {
     "data": {
      "text/plain": [
       "Pipeline(memory=None,\n",
       "         steps=[('preprocessor',\n",
       "                 ColumnTransformer(n_jobs=None, remainder='drop',\n",
       "                                   sparse_threshold=0.3,\n",
       "                                   transformer_weights=None,\n",
       "                                   transformers=[('Constant Imputer',\n",
       "                                                  Pipeline(memory=None,\n",
       "                                                           steps=[('ImputerConstant',\n",
       "                                                                   SimpleImputer(add_indicator=False,\n",
       "                                                                                 copy=True,\n",
       "                                                                                 fill_value='None',\n",
       "                                                                                 missing_values=nan,\n",
       "                                                                                 strategy='constant',\n",
       "                                                                                 verbose=0)),\n",
       "                                                                  ('OrdinalEncoder',\n",
       "                                                                   Or...\n",
       "                                                   'Condition1', 'ExterCond',\n",
       "                                                   'MSZoning', 'MasVnrType',\n",
       "                                                   'Foundation', 'RoofMatl',\n",
       "                                                   'BldgType', 'LotShape',\n",
       "                                                   'LandContour', 'KitchenQual',\n",
       "                                                   'SaleCondition',\n",
       "                                                   'CentralAir', 'LandSlope',\n",
       "                                                   'Exterior1st', 'PavedDrive',\n",
       "                                                   'SaleType', 'LotConfig',\n",
       "                                                   'Condition2', 'HouseStyle',\n",
       "                                                   'Exterior2nd', 'Heating',\n",
       "                                                   'HeatingQC', 'Neighborhood',\n",
       "                                                   'ExterQual', 'Street',\n",
       "                                                   'Utilities',\n",
       "                                                   'Functional'])],\n",
       "                                   verbose=False))],\n",
       "         verbose=False)"
      ]
     },
     "execution_count": 737,
     "metadata": {},
     "output_type": "execute_result"
    }
   ],
   "source": [
    "from sklearn import set_config\n",
    "set_config('diagram')\n",
    "clf"
   ]
  }
 ],
 "metadata": {
  "kernelspec": {
   "display_name": "Python 3",
   "language": "python",
   "name": "python3"
  },
  "language_info": {
   "codemirror_mode": {
    "name": "ipython",
    "version": 3
   },
   "file_extension": ".py",
   "mimetype": "text/x-python",
   "name": "python",
   "nbconvert_exporter": "python",
   "pygments_lexer": "ipython3",
   "version": "3.7.6"
  }
 },
 "nbformat": 4,
 "nbformat_minor": 4
}
