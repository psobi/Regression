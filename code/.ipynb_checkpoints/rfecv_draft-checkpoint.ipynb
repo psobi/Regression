{
 "cells": [
  {
   "cell_type": "code",
   "execution_count": 2,
   "metadata": {},
   "outputs": [],
   "source": [
    "import numpy as np\n",
    "import pandas as pd\n",
    "\n",
    "import seaborn as sns\n",
    "import matplotlib.pyplot as plt\n",
    "\n",
    "import pickle5 as pickle"
   ]
  },
  {
   "cell_type": "code",
   "execution_count": 3,
   "metadata": {},
   "outputs": [
    {
     "data": {
      "text/plain": [
       "(1460, 79)"
      ]
     },
     "execution_count": 3,
     "metadata": {},
     "output_type": "execute_result"
    }
   ],
   "source": [
    "file_train_X = open(\"../data/X_train_03_preprocess\",\"rb\")\n",
    "file_train_y = open(\"../data/y_train_03_preprocess\",\"rb\")\n",
    "\n",
    "X_train = pickle.load(file_train_X)\n",
    "y_train = pickle.load(file_train_y)\n",
    "\n",
    "X_train.isnull().sum().sum() #No missing values\n",
    "X_train.shape"
   ]
  },
  {
   "cell_type": "code",
   "execution_count": 4,
   "metadata": {},
   "outputs": [],
   "source": [
    "X_ = X_train.copy()\n",
    "\n",
    "X_[\"TotalBsmtFin\"] = X_[\"BsmtFinSF1\"] + X_[\"BsmtFinSF2\"]\n",
    "X_[\"TotalBath\"] = X_[\"FullBath\"] + 0.5*X_[\"HalfBath\"] + X_[\"BsmtFullBath\"] + 0.5*X_[\"BsmtHalfBath\"]\n",
    "\n",
    "#X_[\"TotalLivArea\"] = X_[\"GrLivArea\"] + X_[\"TotalBsmtFin\"]\n",
    "    \n",
    "drop_columns = ['BsmtFinSF1','BsmtFinSF2','FullBath','HalfBath','BsmtFullBath','BsmtHalfBath', '1stFlrSF','2ndFlrSF','1stFlrSF','2ndFlrSF', 'GarageCars','GarageYrBlt']\n",
    "\n",
    "\n",
    "X_fs = X_.drop(drop_columns, axis=1)\n",
    "X_fs.columns\n",
    "\n",
    "X = X_fs"
   ]
  },
  {
   "cell_type": "code",
   "execution_count": 6,
   "metadata": {},
   "outputs": [],
   "source": [
    "file_features = open(\"../data/features_selection_rfecv\", \"rb\")\n",
    "models_rfecv = pickle.load(file_features)"
   ]
  },
  {
   "cell_type": "code",
   "execution_count": 19,
   "metadata": {},
   "outputs": [],
   "source": [
    "est_coef = np.absolute(models_rfecv[('Logistic Regression','roc_auc')].estimator_.coef_)\n",
    "\n",
    "#models_rfecv[('Logistic Regression','roc_auc')].support_\n"
   ]
  },
  {
   "cell_type": "code",
   "execution_count": 26,
   "metadata": {},
   "outputs": [
    {
     "data": {
      "text/plain": [
       "['Alley']"
      ]
     },
     "execution_count": 26,
     "metadata": {},
     "output_type": "execute_result"
    }
   ],
   "source": [
    "features = [f for f,s in zip(X.columns, models_rfecv[('Logistic Regression','roc_auc')].support_) if s]\n",
    "b = zip(features,est_coef)\n",
    "b = [f for f,s in zip(features,est_coef)]\n",
    "b"
   ]
  },
  {
   "cell_type": "code",
   "execution_count": 11,
   "metadata": {},
   "outputs": [
    {
     "data": {
      "text/plain": [
       "71"
      ]
     },
     "execution_count": 11,
     "metadata": {},
     "output_type": "execute_result"
    }
   ],
   "source": [
    "len(X.columns)"
   ]
  },
  {
   "cell_type": "code",
   "execution_count": null,
   "metadata": {},
   "outputs": [],
   "source": [
    "(Model Name, Scoring Name): Logistic Regression roc_auc\n",
    "Optimal Number of Features: 32\n",
    "Optimal Score: 0.9764229097648857\n",
    "Features: ['Alley', 'BsmtQual', 'GarageQual', 'PoolQC', 'MiscFeature', 'MSSubClass', 'LotArea', 'OverallQual', 'OverallCond', 'YearBuilt', 'YearRemodAdd', 'BsmtUnfSF', 'TotalBsmtSF', 'GrLivArea', 'KitchenAbvGr', 'TotRmsAbvGrd', 'Fireplaces', 'GarageArea', 'Condition2', 'Functional', 'MSZoning', 'Foundation', 'ExterQual', 'BldgType', 'KitchenQual', 'Street', 'Heating', 'PavedDrive', 'Exterior2nd', 'Exterior1st', 'SaleCondition', 'TotalBath']"
   ]
  }
 ],
 "metadata": {
  "kernelspec": {
   "display_name": "Python 3",
   "language": "python",
   "name": "python3"
  },
  "language_info": {
   "codemirror_mode": {
    "name": "ipython",
    "version": 3
   },
   "file_extension": ".py",
   "mimetype": "text/x-python",
   "name": "python",
   "nbconvert_exporter": "python",
   "pygments_lexer": "ipython3",
   "version": "3.7.6"
  }
 },
 "nbformat": 4,
 "nbformat_minor": 4
}
