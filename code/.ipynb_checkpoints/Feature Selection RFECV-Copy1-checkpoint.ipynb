{
 "cells": [
  {
   "cell_type": "markdown",
   "metadata": {},
   "source": [
    "## Recursive feature elimination with cross-validation"
   ]
  },
  {
   "cell_type": "code",
   "execution_count": 1,
   "metadata": {},
   "outputs": [],
   "source": [
    "import numpy as np\n",
    "import pandas as pd\n",
    "\n",
    "import seaborn as sns\n",
    "import matplotlib.pyplot as plt\n",
    "\n",
    "import pickle5 as pickle"
   ]
  },
  {
   "cell_type": "code",
   "execution_count": 2,
   "metadata": {},
   "outputs": [
    {
     "data": {
      "text/plain": [
       "((1460, 79), (1460,))"
      ]
     },
     "execution_count": 2,
     "metadata": {},
     "output_type": "execute_result"
    }
   ],
   "source": [
    "file_train_X = open(\"../data/X_train_03_preprocess\",\"rb\")\n",
    "file_train_y = open(\"../data/y_train_03_preprocess\",\"rb\")\n",
    "\n",
    "X_train = pickle.load(file_train_X)\n",
    "y_train = pickle.load(file_train_y)\n",
    "\n",
    "X = X_train\n",
    "y = y_train\n",
    "\n",
    "X_train.isnull().sum().sum() #No missing values\n",
    "X_train.shape, y_train.shape"
   ]
  },
  {
   "cell_type": "markdown",
   "metadata": {},
   "source": [
    "## Domain Knowledge"
   ]
  },
  {
   "cell_type": "code",
   "execution_count": 3,
   "metadata": {},
   "outputs": [],
   "source": [
    "X_ = X_train.copy()\n",
    "\n",
    "X_[\"TotalBsmtFin\"] = X_[\"BsmtFinSF1\"] + X_[\"BsmtFinSF2\"]\n",
    "X_[\"TotalBath\"] = X_[\"FullBath\"] + 0.5*X_[\"HalfBath\"] + X_[\"BsmtFullBath\"] + 0.5*X_[\"BsmtHalfBath\"]\n",
    "\n",
    "#X_[\"TotalLivArea\"] = X_[\"GrLivArea\"] + X_[\"TotalBsmtFin\"]\n",
    "    \n",
    "drop_columns = ['BsmtFinSF1','BsmtFinSF2','FullBath','HalfBath','BsmtFullBath','BsmtHalfBath', '1stFlrSF','2ndFlrSF','1stFlrSF','2ndFlrSF', 'GarageCars','GarageYrBlt']\n",
    "\n",
    "\n",
    "X_fs = X_.drop(drop_columns, axis=1)\n",
    "X_fs.columns\n",
    "\n",
    "X = X_fs"
   ]
  },
  {
   "cell_type": "markdown",
   "metadata": {},
   "source": [
    "## Models Dictionary"
   ]
  },
  {
   "cell_type": "code",
   "execution_count": 4,
   "metadata": {},
   "outputs": [],
   "source": [
    "from lightgbm import LGBMClassifier\n",
    "from sklearn.neural_network import MLPClassifier\n",
    "from sklearn.linear_model import LogisticRegression\n",
    "from sklearn.ensemble import GradientBoostingClassifier\n",
    "from sklearn.ensemble import RandomForestClassifier\n",
    "\n",
    "models = {}\n",
    "\n",
    "models.update({\"Light GBM\": LGBMClassifier(n_estimators=200, max_depth=5)})\n",
    "\n",
    "models.update({\"Gradient Boosting\": GradientBoostingClassifier()})\n",
    "\n",
    "models.update({\"Random Forest\": RandomForestClassifier(n_estimators=100,criterion='gini',max_depth=10)})\n",
    "\n",
    "models.update({\"Logistic Regression\": LogisticRegression(max_iter=10000)})\n",
    "\n",
    "scores = ['roc_auc','balanced_accuracy']"
   ]
  },
  {
   "cell_type": "code",
   "execution_count": 5,
   "metadata": {},
   "outputs": [
    {
     "data": {
      "text/plain": [
       "dict_keys(['explained_variance', 'r2', 'max_error', 'neg_median_absolute_error', 'neg_mean_absolute_error', 'neg_mean_squared_error', 'neg_mean_squared_log_error', 'neg_root_mean_squared_error', 'neg_mean_poisson_deviance', 'neg_mean_gamma_deviance', 'accuracy', 'roc_auc', 'roc_auc_ovr', 'roc_auc_ovo', 'roc_auc_ovr_weighted', 'roc_auc_ovo_weighted', 'balanced_accuracy', 'average_precision', 'neg_log_loss', 'neg_brier_score', 'adjusted_rand_score', 'homogeneity_score', 'completeness_score', 'v_measure_score', 'mutual_info_score', 'adjusted_mutual_info_score', 'normalized_mutual_info_score', 'fowlkes_mallows_score', 'precision', 'precision_macro', 'precision_micro', 'precision_samples', 'precision_weighted', 'recall', 'recall_macro', 'recall_micro', 'recall_samples', 'recall_weighted', 'f1', 'f1_macro', 'f1_micro', 'f1_samples', 'f1_weighted', 'jaccard', 'jaccard_macro', 'jaccard_micro', 'jaccard_samples', 'jaccard_weighted'])"
      ]
     },
     "execution_count": 5,
     "metadata": {},
     "output_type": "execute_result"
    }
   ],
   "source": [
    "import sklearn\n",
    "sklearn.metrics.SCORERS.keys()"
   ]
  },
  {
   "cell_type": "markdown",
   "metadata": {},
   "source": [
    "## Stratified k-fold"
   ]
  },
  {
   "cell_type": "code",
   "execution_count": 7,
   "metadata": {},
   "outputs": [],
   "source": [
    "random_state = 303\n",
    "\n",
    "from sklearn.model_selection import StratifiedKFold\n",
    "cv = StratifiedKFold(5)"
   ]
  },
  {
   "cell_type": "markdown",
   "metadata": {},
   "source": [
    "## Recursive feature elimination and cross-validation "
   ]
  },
  {
   "cell_type": "code",
   "execution_count": 11,
   "metadata": {},
   "outputs": [
    {
     "name": "stdout",
     "output_type": "stream",
     "text": [
      "(Model Name, Scoring Name): GBM roc_auc\n",
      "Optimal Number of Features: 45\n",
      "Optimal Score: 0.9832868527596312\n",
      "Features: ['BsmtQual', 'BsmtCond', 'BsmtExposure', 'BsmtFinType1', 'FireplaceQu', 'GarageType', 'GarageFinish', 'MSSubClass', 'LotFrontage', 'LotArea', 'OverallQual', 'OverallCond', 'YearBuilt', 'YearRemodAdd', 'MasVnrArea', 'BsmtUnfSF', 'TotalBsmtSF', 'GrLivArea', 'BedroomAbvGr', 'TotRmsAbvGrd', 'Fireplaces', 'GarageArea', 'WoodDeckSF', 'OpenPorchSF', 'EnclosedPorch', 'MoSold', 'YrSold', 'Functional', 'MSZoning', 'Condition1', 'LandContour', 'SaleType', 'HouseStyle', 'ExterQual', 'LotShape', 'LotConfig', 'KitchenQual', 'HeatingQC', 'Neighborhood', 'Exterior2nd', 'Exterior1st', 'MasVnrType', 'SaleCondition', 'TotalBsmtFin', 'TotalBath']\n",
      "\n",
      "\n",
      "(Model Name, Scoring Name): Gradient Boosting roc_auc\n",
      "Optimal Number of Features: 29\n",
      "Optimal Score: 0.9821261354434281\n",
      "Features: ['Alley', 'BsmtQual', 'BsmtExposure', 'BsmtFinType1', 'FireplaceQu', 'MSSubClass', 'LotFrontage', 'LotArea', 'OverallQual', 'OverallCond', 'YearBuilt', 'YearRemodAdd', 'MasVnrArea', 'BsmtUnfSF', 'TotalBsmtSF', 'GrLivArea', 'Fireplaces', 'GarageArea', 'OpenPorchSF', '3SsnPorch', 'Functional', 'LandContour', 'ExterQual', 'KitchenQual', 'PavedDrive', 'Neighborhood', 'MasVnrType', 'TotalBsmtFin', 'TotalBath']\n",
      "\n",
      "\n",
      "(Model Name, Scoring Name): Random Forest roc_auc\n",
      "Optimal Number of Features: 56\n",
      "Optimal Score: 0.9834341882799762\n",
      "Features: ['Alley', 'BsmtQual', 'BsmtCond', 'BsmtExposure', 'BsmtFinType1', 'BsmtFinType2', 'FireplaceQu', 'GarageType', 'GarageFinish', 'Fence', 'MSSubClass', 'LotFrontage', 'LotArea', 'OverallQual', 'OverallCond', 'YearBuilt', 'YearRemodAdd', 'MasVnrArea', 'BsmtUnfSF', 'TotalBsmtSF', 'GrLivArea', 'BedroomAbvGr', 'KitchenAbvGr', 'TotRmsAbvGrd', 'Fireplaces', 'GarageArea', 'WoodDeckSF', 'OpenPorchSF', 'EnclosedPorch', '3SsnPorch', 'ScreenPorch', 'MoSold', 'YrSold', 'Functional', 'MSZoning', 'Condition1', 'LandContour', 'ExterCond', 'SaleType', 'Foundation', 'HouseStyle', 'ExterQual', 'LotShape', 'BldgType', 'LotConfig', 'KitchenQual', 'LandSlope', 'HeatingQC', 'Neighborhood', 'Exterior2nd', 'Exterior1st', 'MasVnrType', 'RoofStyle', 'SaleCondition', 'TotalBsmtFin', 'TotalBath']\n",
      "\n",
      "\n",
      "(Model Name, Scoring Name): Logistic Regression roc_auc\n",
      "Optimal Number of Features: 32\n",
      "Optimal Score: 0.9764229097648857\n",
      "Features: ['Alley', 'BsmtQual', 'GarageQual', 'PoolQC', 'MiscFeature', 'MSSubClass', 'LotArea', 'OverallQual', 'OverallCond', 'YearBuilt', 'YearRemodAdd', 'BsmtUnfSF', 'TotalBsmtSF', 'GrLivArea', 'KitchenAbvGr', 'TotRmsAbvGrd', 'Fireplaces', 'GarageArea', 'Condition2', 'Functional', 'MSZoning', 'Foundation', 'ExterQual', 'BldgType', 'KitchenQual', 'Street', 'Heating', 'PavedDrive', 'Exterior2nd', 'Exterior1st', 'SaleCondition', 'TotalBath']\n",
      "\n",
      "\n",
      "(Model Name, Scoring Name): GBM balanced_accuracy\n",
      "Optimal Number of Features: 35\n",
      "Optimal Score: 0.9330714783745637\n",
      "Features: ['BsmtQual', 'BsmtExposure', 'BsmtFinType1', 'FireplaceQu', 'GarageFinish', 'MSSubClass', 'LotFrontage', 'LotArea', 'OverallQual', 'OverallCond', 'YearBuilt', 'YearRemodAdd', 'MasVnrArea', 'BsmtUnfSF', 'TotalBsmtSF', 'GrLivArea', 'TotRmsAbvGrd', 'Fireplaces', 'GarageArea', 'WoodDeckSF', 'OpenPorchSF', 'MoSold', 'YrSold', 'Functional', 'Condition1', 'ExterQual', 'LotConfig', 'KitchenQual', 'HeatingQC', 'Neighborhood', 'Exterior2nd', 'Exterior1st', 'SaleCondition', 'TotalBsmtFin', 'TotalBath']\n",
      "\n",
      "\n",
      "(Model Name, Scoring Name): Gradient Boosting balanced_accuracy\n",
      "Optimal Number of Features: 38\n",
      "Optimal Score: 0.9214001866203729\n",
      "Features: ['Alley', 'BsmtQual', 'BsmtExposure', 'BsmtFinType1', 'FireplaceQu', 'MSSubClass', 'LotFrontage', 'LotArea', 'OverallQual', 'OverallCond', 'YearBuilt', 'YearRemodAdd', 'MasVnrArea', 'BsmtUnfSF', 'TotalBsmtSF', 'GrLivArea', 'Fireplaces', 'GarageArea', 'OpenPorchSF', 'EnclosedPorch', '3SsnPorch', 'YrSold', 'Functional', 'MSZoning', 'Condition1', 'LandContour', 'RoofMatl', 'ExterQual', 'LotConfig', 'KitchenQual', 'PavedDrive', 'Neighborhood', 'Exterior1st', 'MasVnrType', 'RoofStyle', 'SaleCondition', 'TotalBsmtFin', 'TotalBath']\n",
      "\n",
      "\n",
      "(Model Name, Scoring Name): Random Forest balanced_accuracy\n",
      "Optimal Number of Features: 27\n",
      "Optimal Score: 0.9206059220753756\n",
      "Features: ['BsmtQual', 'BsmtFinType1', 'GarageType', 'MSSubClass', 'LotFrontage', 'LotArea', 'OverallQual', 'OverallCond', 'YearBuilt', 'YearRemodAdd', 'MasVnrArea', 'BsmtUnfSF', 'TotalBsmtSF', 'GrLivArea', 'TotRmsAbvGrd', 'Fireplaces', 'GarageArea', 'WoodDeckSF', 'OpenPorchSF', 'MoSold', 'YrSold', 'Foundation', 'ExterQual', 'KitchenQual', 'Neighborhood', 'TotalBsmtFin', 'TotalBath']\n",
      "\n",
      "\n",
      "(Model Name, Scoring Name): Logistic Regression balanced_accuracy\n",
      "Optimal Number of Features: 33\n",
      "Optimal Score: 0.9126669671995092\n",
      "Features: ['Alley', 'BsmtQual', 'GarageQual', 'PoolQC', 'MiscFeature', 'MSSubClass', 'LotFrontage', 'LotArea', 'OverallQual', 'OverallCond', 'YearBuilt', 'YearRemodAdd', 'BsmtUnfSF', 'TotalBsmtSF', 'GrLivArea', 'KitchenAbvGr', 'TotRmsAbvGrd', 'Fireplaces', 'GarageArea', 'Condition2', 'Functional', 'MSZoning', 'Foundation', 'ExterQual', 'BldgType', 'KitchenQual', 'Street', 'Heating', 'PavedDrive', 'Exterior2nd', 'Exterior1st', 'SaleCondition', 'TotalBath']\n",
      "\n",
      "\n"
     ]
    }
   ],
   "source": [
    "from sklearn.feature_selection import RFECV\n",
    "\n",
    "models_rfecv = {}\n",
    "models_best_features = {}\n",
    "models_best_cv_scores = {}\n",
    "\n",
    "for scoring_name in scores:\n",
    "    for model_name, model_object in models.items():\n",
    "        \n",
    "        models_rfecv[(model_name,scoring_name)] = RFECV(estimator = models[model_name], cv = cv, scoring = scoring_name)\n",
    "        models_rfecv[(model_name,scoring_name)].fit(X, y)\n",
    "\n",
    "        best_cv_score = models_rfecv[(model_name,scoring_name)].grid_scores_[models_rfecv[(model_name,scoring_name)].n_features_ - 1]\n",
    "        features = [f for f,s in zip(X.columns, models_rfecv[(model_name,scoring_name)].support_) if s]\n",
    "\n",
    "        models_best_features[(model_name,scoring_name)] = features\n",
    "        models_best_cv_scores[(model_name,scoring_name)] = best_cv_score\n",
    "\n",
    "        print('(Model Name, Scoring Name):',model_name, scoring_name)\n",
    "        print('Optimal Number of Features:',models_rfecv[(model_name,scoring_name)].n_features_)\n",
    "        print('Optimal Score:',models_best_cv_scores[(model_name,scoring_name)])\n",
    "        print('Features:',models_best_features[(model_name,scoring_name)])\n",
    "        print('\\n')"
   ]
  },
  {
   "cell_type": "markdown",
   "metadata": {},
   "source": [
    "## Save Results"
   ]
  },
  {
   "cell_type": "code",
   "execution_count": 15,
   "metadata": {},
   "outputs": [],
   "source": [
    "file_features = open(\"../data/features_selection_rfecv\", \"wb\")\n",
    "pickle.dump(models_rfecv,file_features)\n",
    "file_features.close()"
   ]
  },
  {
   "cell_type": "code",
   "execution_count": 39,
   "metadata": {},
   "outputs": [
    {
     "data": {
      "image/png": "[encoded data removed]",
      "text/plain": [
       "<Figure size 1080x72 with 1 Axes>"
      ]
     },
     "metadata": {},
     "output_type": "display_data"
    }
   ],
   "source": [
    "plt.rcParams['font.family'] = 'sans-serif'\n",
    "plt.rcParams['font.sans-serif'] = 'Helvetica'\n",
    "\n",
    "plt.style.use('seaborn')\n",
    "sns.set_style('darkgrid')\n",
    "color = sns.color_palette()\n",
    "\n",
    "plt.rcParams['xtick.labelsize']=14\n",
    "plt.rcParams['ytick.labelsize']=14\n",
    "\n",
    "plt.rcParams['axes.titlesize'] = 16\n",
    "plt.rcParams['axes.titleweight'] = 'bold'\n",
    "plt.rcParams['legend.fontsize'] = 14\n",
    "\n",
    "plt.rcParams['axes.labelsize'] = 14\n",
    "plt.rcParams['axes.labelweight'] = 'bold'\n",
    "\n",
    "sns.set_palette(sns.color_palette(\"RdYlGn\"))\n",
    "                \n",
    "import seaborn as sns; #sns.set()\n",
    "import seaborn as sns\n",
    "import matplotlib.pylab as plt\n",
    "import numpy as np\n",
    "from matplotlib.colors import ListedColormap\n",
    "\n",
    "pal4 = sns.color_palette(\"RdYlGn\",15)\n",
    "sns.set_palette(sns.color_palette(pal4.reverse()))\n",
    "#Reverse\n",
    "cmap4 = ListedColormap(sns.color_palette(pal4).as_hex())\n",
    "sns.palplot(pal4)"
   ]
  },
  {
   "cell_type": "code",
   "execution_count": 40,
   "metadata": {},
   "outputs": [
    {
     "ename": "NameError",
     "evalue": "name 'ticker' is not defined",
     "output_type": "error",
     "traceback": [
      "\u001b[1;31m---------------------------------------------------------------------------\u001b[0m",
      "\u001b[1;31mNameError\u001b[0m                                 Traceback (most recent call last)",
      "\u001b[1;32m<ipython-input-40-5ad8d10e24a8>\u001b[0m in \u001b[0;36m<module>\u001b[1;34m\u001b[0m\n\u001b[0;32m      1\u001b[0m \u001b[0mfmt\u001b[0m \u001b[1;33m=\u001b[0m \u001b[1;34m'${x:,.0f}'\u001b[0m\u001b[1;33m\u001b[0m\u001b[1;33m\u001b[0m\u001b[0m\n\u001b[1;32m----> 2\u001b[1;33m \u001b[0mtick\u001b[0m \u001b[1;33m=\u001b[0m \u001b[0mticker\u001b[0m\u001b[1;33m.\u001b[0m\u001b[0mStrMethodFormatter\u001b[0m\u001b[1;33m(\u001b[0m\u001b[0mfmt\u001b[0m\u001b[1;33m)\u001b[0m\u001b[1;33m\u001b[0m\u001b[1;33m\u001b[0m\u001b[0m\n\u001b[0m\u001b[0;32m      3\u001b[0m \u001b[0max\u001b[0m\u001b[1;33m.\u001b[0m\u001b[0myaxis\u001b[0m\u001b[1;33m.\u001b[0m\u001b[0mset_major_formatter\u001b[0m\u001b[1;33m(\u001b[0m\u001b[0mtick\u001b[0m\u001b[1;33m)\u001b[0m\u001b[1;33m\u001b[0m\u001b[1;33m\u001b[0m\u001b[0m\n\u001b[0;32m      4\u001b[0m \u001b[1;33m\u001b[0m\u001b[0m\n\u001b[0;32m      5\u001b[0m \u001b[0max\u001b[0m\u001b[1;33m.\u001b[0m\u001b[0mset_title\u001b[0m\u001b[1;33m(\u001b[0m\u001b[1;34m'House Value by Class'\u001b[0m\u001b[1;33m)\u001b[0m\u001b[1;33m\u001b[0m\u001b[1;33m\u001b[0m\u001b[0m\n",
      "\u001b[1;31mNameError\u001b[0m: name 'ticker' is not defined"
     ]
    }
   ],
   "source": [
    "fmt = '${x:,.0f}'\n",
    "tick = ticker.StrMethodFormatter(fmt)\n",
    "ax.yaxis.set_major_formatter(tick)\n",
    "\n",
    "ax.set_title('House Value by Class')\n",
    "ax.set_ylabel('Sale Price')\n",
    "ax.set_xlabel('Class - High or Low Value')\n",
    "plt.legend(['1 - High Value\\n0 - Low Value'],loc='upper left')"
   ]
  },
  {
   "cell_type": "code",
   "execution_count": 42,
   "metadata": {},
   "outputs": [],
   "source": [
    "NoFeaures = range(1, len(models_rfecv[(model_name,'balanced_accuracy')].grid_scores_) + 1)\n",
    "\n",
    "Cross_Validation_Score_ba = models_rfecv[(model_name,'balanced_accuracy')].grid_scores_\n",
    "Cross_Validation_Score_auc = models_rfecv[(model_name,'roc_auc')].grid_scores_\n"
   ]
  },
  {
   "cell_type": "code",
   "execution_count": 41,
   "metadata": {},
   "outputs": [
    {
     "ename": "NameError",
     "evalue": "name 'feature_importance' is not defined",
     "output_type": "error",
     "traceback": [
      "\u001b[1;31m---------------------------------------------------------------------------\u001b[0m",
      "\u001b[1;31mNameError\u001b[0m                                 Traceback (most recent call last)",
      "\u001b[1;32m<ipython-input-41-7cb1ccec4b54>\u001b[0m in \u001b[0;36m<module>\u001b[1;34m\u001b[0m\n\u001b[0;32m     26\u001b[0m \u001b[0mplt\u001b[0m\u001b[1;33m.\u001b[0m\u001b[0mrcParams\u001b[0m\u001b[1;33m.\u001b[0m\u001b[0mupdate\u001b[0m\u001b[1;33m(\u001b[0m\u001b[0mparams\u001b[0m\u001b[1;33m)\u001b[0m\u001b[1;33m\u001b[0m\u001b[1;33m\u001b[0m\u001b[0m\n\u001b[0;32m     27\u001b[0m \u001b[1;33m\u001b[0m\u001b[0m\n\u001b[1;32m---> 28\u001b[1;33m \u001b[0mdata\u001b[0m \u001b[1;33m=\u001b[0m \u001b[0mfeature_importance\u001b[0m\u001b[1;33m.\u001b[0m\u001b[0msort_values\u001b[0m\u001b[1;33m(\u001b[0m\u001b[0mby\u001b[0m\u001b[1;33m=\u001b[0m\u001b[1;33m[\u001b[0m\u001b[1;34m'Feature Importance'\u001b[0m\u001b[1;33m]\u001b[0m\u001b[1;33m,\u001b[0m\u001b[0mascending\u001b[0m\u001b[1;33m=\u001b[0m\u001b[1;32mFalse\u001b[0m\u001b[1;33m)\u001b[0m\u001b[1;33m\u001b[0m\u001b[1;33m\u001b[0m\u001b[0m\n\u001b[0m\u001b[0;32m     29\u001b[0m \u001b[0max\u001b[0m \u001b[1;33m=\u001b[0m \u001b[0msns\u001b[0m\u001b[1;33m.\u001b[0m\u001b[0mbarplot\u001b[0m\u001b[1;33m(\u001b[0m\u001b[0mx\u001b[0m\u001b[1;33m=\u001b[0m\u001b[1;34m'Feature Name'\u001b[0m\u001b[1;33m,\u001b[0m\u001b[0my\u001b[0m\u001b[1;33m=\u001b[0m\u001b[1;34m'Feature Importance'\u001b[0m\u001b[1;33m,\u001b[0m \u001b[0mdata\u001b[0m\u001b[1;33m=\u001b[0m\u001b[0mdata\u001b[0m\u001b[1;33m[\u001b[0m\u001b[1;33m:\u001b[0m\u001b[1;36m100\u001b[0m\u001b[1;33m]\u001b[0m\u001b[1;33m,\u001b[0m\u001b[0mpalette\u001b[0m\u001b[1;33m=\u001b[0m\u001b[1;34m'RdYlGn_r'\u001b[0m\u001b[1;33m)\u001b[0m\u001b[1;33m\u001b[0m\u001b[1;33m\u001b[0m\u001b[0m\n\u001b[0;32m     30\u001b[0m \u001b[1;33m\u001b[0m\u001b[0m\n",
      "\u001b[1;31mNameError\u001b[0m: name 'feature_importance' is not defined"
     ]
    }
   ],
   "source": [
    "import pylab as plot\n",
    "params = {'legend.fontsize': 15,\n",
    "          'legend.handlelength': 2}\n",
    "plt.rcParams['xtick.labelsize']=12\n",
    "plt.rcParams['ytick.labelsize']=14\n",
    "\n",
    "plt.rcParams['axes.titlesize'] = 16\n",
    "plt.rcParams['axes.titleweight'] = 'bold'\n",
    "plt.rcParams['legend.fontsize'] = 14\n",
    "\n",
    "plt.rcParams['axes.labelsize'] = 14\n",
    "plt.rcParams['axes.labelweight'] = 'bold'\n",
    "\n",
    "plot.rcParams.update(params)\n",
    "\n",
    "sns.set(rc={'figure.figsize':(14,8)})\n",
    "\n",
    "\n",
    "import matplotlib.pylab as plt\n",
    "params = {'legend.fontsize': 14,\n",
    "          'figure.figsize': (14, 7),\n",
    "         'axes.labelsize': 14,\n",
    "         'axes.titlesize':14,\n",
    "         'xtick.labelsize':12,\n",
    "         'ytick.labelsize':14}\n",
    "plt.rcParams.update(params)\n",
    "\n",
    "model_name = 'Logistic Regression'\n",
    "\n",
    "NoFeaures = range(1, len(models_rfecv[(model_name,'balanced_accuracy')].grid_scores_) + 1)\n",
    "Cross_Validation_Score_ba = models_rfecv[(model_name,'balanced_accuracy')].grid_scores_\n",
    "Cross_Validation_Score_auc = models_rfecv[(model_name,'roc_auc')].grid_scores_\n",
    "\n",
    "\n",
    "data = feature_importance.sort_values(by=['Feature Importance'],ascending=False)\n",
    "#ax = sns.barplot(x='Feature Name',y='Feature Importance', data=data[:100],palette='RdYlGn_r')\n",
    "\n",
    "ax.set_title('Feature Importance \\n Cumulative Importance',fontsize=16)\n",
    "plt.xlabel('Feature Name')\n",
    "plt.ylabel('Feature Importaance')\n",
    "ax.set_xticklabels(ax.get_xticklabels(), rotation=90)\n",
    "\n",
    "#ax2 = ax.twinx()\n",
    "#data.plot(x=\"Feature Name\", y=\"Cumulative Feature Importance\", ax=ax2, legend=True, color=\"r\", linewidth = 3)\n",
    "\n",
    "#ax2.axhline(feature_importance_threshold, linestyle =\"--\", color=\"black\")\n",
    "#ax2.axvline(len(features_keep), linestyle =\"--\", color=\"black\")\n",
    "#ax2.set_ylabel('Cumulative Importance')\n",
    "#ax2.tick_params(axis='y', labelsize=14)\n",
    "##ax2.tick_params(axis='y', size=16)\n",
    "\n",
    "\n",
    "#plt.legend(['25% least important features account\\n only for 1% variablity in Target'],loc='center right')\n",
    "#plt.tight_layout()\n",
    "#plt.show()\n",
    "#figure = ax.get_figure()    \n",
    "\n",
    "#figure.savefig('../doc/figures/feature_importance.png', dpi=600)"
   ]
  },
  {
   "cell_type": "markdown",
   "metadata": {},
   "source": [
    "## Notes"
   ]
  },
  {
   "cell_type": "code",
   "execution_count": 42,
   "metadata": {},
   "outputs": [
    {
     "data": {
      "text/plain": [
       "array([[0.31612831, 0.44961496, 0.17500586, 0.45334847, 0.60226876,\n",
       "        1.22897989, 0.20721549, 0.28316545, 1.95990328, 0.3416995 ,\n",
       "        0.77273091, 0.85561882, 0.51484313, 0.79335639, 0.51632423,\n",
       "        1.23388091, 1.41848668, 0.53668929, 0.39879542, 0.23336202,\n",
       "        0.40366898, 0.67230585, 0.21975101, 0.47254085, 0.88919531,\n",
       "        0.55272045, 0.40533595, 1.34544029, 0.34965164, 0.51842875,\n",
       "        0.1630307 , 0.21518417, 0.45046124, 0.63148338, 0.31999104,\n",
       "        0.2231498 , 0.35567442, 0.27016307, 0.22709947, 0.24250023]])"
      ]
     },
     "execution_count": 42,
     "metadata": {},
     "output_type": "execute_result"
    }
   ],
   "source": [
    "## Calculate the importances of selected features, for the peak of the cv score curve\n",
    "\n",
    "np.absolute(models_rfecv['Logistic Regression'].estimator_.coef_)\n",
    "models_rfecv['Logistic Regression'].estimator_.feature_importances_ \n",
    "\n",
    "X_new = rfecv.transform(X_train)\n",
    "score = cross_val_score(grid, X_new, y_train, cv=skf, scoring='balanced_accuracy') #.mean()\n",
    "score\n",
    "\n",
    "n_scores = cross_val_score(pipeline, X, y, scoring='accuracy', cv=cv, n_jobs=-1, error_score='raise')\n",
    "# report performance\n",
    "print('Accuracy: %.3f (%.3f)' % (mean(n_scores), std(n_scores)))\n"
   ]
  },
  {
   "cell_type": "code",
   "execution_count": 30,
   "metadata": {},
   "outputs": [],
   "source": [
    "X_new = rfecv.transform(X_train)"
   ]
  },
  {
   "cell_type": "code",
   "execution_count": 208,
   "metadata": {},
   "outputs": [
    {
     "data": {
      "text/html": [
       "<div>\n",
       "<style scoped>\n",
       "    .dataframe tbody tr th:only-of-type {\n",
       "        vertical-align: middle;\n",
       "    }\n",
       "\n",
       "    .dataframe tbody tr th {\n",
       "        vertical-align: top;\n",
       "    }\n",
       "\n",
       "    .dataframe thead th {\n",
       "        text-align: right;\n",
       "    }\n",
       "</style>\n",
       "<table border=\"1\" class=\"dataframe\">\n",
       "  <thead>\n",
       "    <tr style=\"text-align: right;\">\n",
       "      <th></th>\n",
       "      <th>Number of Features</th>\n",
       "      <th>Balanced Accuracy</th>\n",
       "      <th>ROC AUC</th>\n",
       "    </tr>\n",
       "  </thead>\n",
       "  <tbody>\n",
       "    <tr>\n",
       "      <th>0</th>\n",
       "      <td>1</td>\n",
       "      <td>0.826655</td>\n",
       "      <td>0.911494</td>\n",
       "    </tr>\n",
       "    <tr>\n",
       "      <th>1</th>\n",
       "      <td>2</td>\n",
       "      <td>0.849272</td>\n",
       "      <td>0.940890</td>\n",
       "    </tr>\n",
       "    <tr>\n",
       "      <th>2</th>\n",
       "      <td>3</td>\n",
       "      <td>0.859000</td>\n",
       "      <td>0.955186</td>\n",
       "    </tr>\n",
       "    <tr>\n",
       "      <th>3</th>\n",
       "      <td>4</td>\n",
       "      <td>0.859002</td>\n",
       "      <td>0.957236</td>\n",
       "    </tr>\n",
       "    <tr>\n",
       "      <th>4</th>\n",
       "      <td>5</td>\n",
       "      <td>0.868149</td>\n",
       "      <td>0.957173</td>\n",
       "    </tr>\n",
       "    <tr>\n",
       "      <th>...</th>\n",
       "      <td>...</td>\n",
       "      <td>...</td>\n",
       "      <td>...</td>\n",
       "    </tr>\n",
       "    <tr>\n",
       "      <th>74</th>\n",
       "      <td>75</td>\n",
       "      <td>0.892279</td>\n",
       "      <td>0.970071</td>\n",
       "    </tr>\n",
       "    <tr>\n",
       "      <th>75</th>\n",
       "      <td>76</td>\n",
       "      <td>0.891796</td>\n",
       "      <td>0.969823</td>\n",
       "    </tr>\n",
       "    <tr>\n",
       "      <th>76</th>\n",
       "      <td>77</td>\n",
       "      <td>0.893453</td>\n",
       "      <td>0.969753</td>\n",
       "    </tr>\n",
       "    <tr>\n",
       "      <th>77</th>\n",
       "      <td>78</td>\n",
       "      <td>0.894422</td>\n",
       "      <td>0.969730</td>\n",
       "    </tr>\n",
       "    <tr>\n",
       "      <th>78</th>\n",
       "      <td>79</td>\n",
       "      <td>0.893744</td>\n",
       "      <td>0.969889</td>\n",
       "    </tr>\n",
       "  </tbody>\n",
       "</table>\n",
       "<p>79 rows × 3 columns</p>\n",
       "</div>"
      ],
      "text/plain": [
       "    Number of Features  Balanced Accuracy   ROC AUC\n",
       "0                    1           0.826655  0.911494\n",
       "1                    2           0.849272  0.940890\n",
       "2                    3           0.859000  0.955186\n",
       "3                    4           0.859002  0.957236\n",
       "4                    5           0.868149  0.957173\n",
       "..                 ...                ...       ...\n",
       "74                  75           0.892279  0.970071\n",
       "75                  76           0.891796  0.969823\n",
       "76                  77           0.893453  0.969753\n",
       "77                  78           0.894422  0.969730\n",
       "78                  79           0.893744  0.969889\n",
       "\n",
       "[79 rows x 3 columns]"
      ]
     },
     "execution_count": 208,
     "metadata": {},
     "output_type": "execute_result"
    }
   ],
   "source": [
    "no_feaures = range(1, len(models_rfecv[(model_name,'balanced_accuracy')].grid_scores_) + 1)\n",
    "\n",
    "cross_validation_score_ba = models_rfecv[(model_name,'balanced_accuracy')].grid_scores_\n",
    "cross_validation_score_auc = models_rfecv[(model_name,'roc_auc')].grid_scores_\n",
    "cv_score = pd.DataFrame({'Number of Features':no_feaures,'Balanced Accuracy':cross_validation_score_ba, 'ROC AUC':cross_validation_score_auc})\n",
    "cv_score"
   ]
  },
  {
   "cell_type": "code",
   "execution_count": 212,
   "metadata": {},
   "outputs": [
    {
     "data": {
      "image/png": "[encoded data removed]",
      "text/plain": [
       "<Figure size 576x396 with 2 Axes>"
      ]
     },
     "metadata": {},
     "output_type": "display_data"
    }
   ],
   "source": [
    "import seaborn as sns; sns.set()\n",
    "import matplotlib.pyplot as plt\n",
    "\n",
    "#sns.set(rc={'figure.figsize':(10,10)})\n",
    "\n",
    "ax = sns.lineplot(x=\"Number of Features\", y=\"Balanced Accuracy\", data = cv_score, linewidth = 3, color='g')\n",
    "ax2 = ax.twinx()\n",
    "cv_score.plot(x=\"Number of Features\", y=\"ROC AUC\", ax=ax2, color=\"r\", linewidth = 3,legend=False)\n",
    "\n",
    "ax.set_title('Model Cross Validation Scores',fontsize=16)\n",
    "plt.xlabel('Number of Selected Features')\n",
    "plt.ylabel('Feature Importaance')\n",
    "\n",
    "ax.set_xlabel('Number of Features',fontsize=14)\n",
    "ax.set_ylabel('Balanced Accuracy\\n Number of Correct Classifications',fontsize=14,color=\"g\")\n",
    "ax2.set_ylabel('ROC AUC\\nArea Under the Curve',fontsize=14,color=\"r\")\n",
    "\n",
    "ax2.axvline(models_rfecv[(model_name,'balanced_accuracy')].n_features_, linestyle =\"--\", color=\"black\",label='kjk')\n",
    "ax.tick_params(axis='y', labelsize=12)\n",
    "ax2.tick_params(axis='y', labelsize=12)\n",
    "\n",
    "\n",
    "plt.legend(['No of Features for Optimal AUC\\n Score for Logistic Regression'],loc='center right')\n",
    "\n",
    "plt.tight_layout()\n",
    "plt.show()\n",
    "\n",
    "figure = ax.get_figure() \n",
    "figure.savefig('../doc/figures/model_validation_scores.png', dpi=600)"
   ]
  },
  {
   "cell_type": "code",
   "execution_count": 17,
   "metadata": {},
   "outputs": [
    {
     "data": {
      "image/png": "[encoded data removed]",
      "text/plain": [
       "<Figure size 432x288 with 1 Axes>"
      ]
     },
     "metadata": {
      "needs_background": "light"
     },
     "output_type": "display_data"
    }
   ],
   "source": [
    "plt.figure()\n",
    "plt.title('Logistic Regression CV score by No of Features')\n",
    "plt.xlabel(\"Number of features selected\")\n",
    "plt.ylabel(\"Cross Validation Score\\n nb of correct classifications\")\n",
    "plt.plot(range(1, len(models_rfecv['GBM'].grid_scores_) + 1), models_rfecv['GBM'].grid_scores_)\n",
    "plt.show()"
   ]
  },
  {
   "cell_type": "code",
   "execution_count": 37,
   "metadata": {},
   "outputs": [
    {
     "data": {
      "text/plain": [
       "((1460, 79), (1460,))"
      ]
     },
     "execution_count": 37,
     "metadata": {},
     "output_type": "execute_result"
    }
   ],
   "source": [
    "file_train_X = open(\"../data/X_train_03_preprocess\",\"rb\")\n",
    "file_train_y = open(\"../data/y_train_03_preprocess\",\"rb\")\n",
    "\n",
    "X_train = pickle.load(file_train_X)\n",
    "y_train = pickle.load(file_train_y)\n",
    "\n",
    "X = X_train\n",
    "y = y_train\n",
    "\n",
    "X_train.isnull().sum().sum() #No missing values\n",
    "X_train.shape, y_train.shape"
   ]
  },
  {
   "cell_type": "code",
   "execution_count": 38,
   "metadata": {},
   "outputs": [
    {
     "name": "stdout",
     "output_type": "stream",
     "text": [
      "(Model Name, Scoring Name): GBM roc_auc\n",
      "Optimal Number of Features: 27\n",
      "Optimal Score: 0.9830879486522572\n",
      "Features: ['BsmtExposure', 'MSSubClass', 'LotFrontage', 'LotArea', 'OverallQual', 'OverallCond', 'YearBuilt', 'YearRemodAdd', 'MasVnrArea', 'BsmtFinSF1', 'BsmtUnfSF', 'TotalBsmtSF', '1stFlrSF', '2ndFlrSF', 'GrLivArea', 'TotRmsAbvGrd', 'Fireplaces', 'GarageYrBlt', 'GarageArea', 'WoodDeckSF', 'OpenPorchSF', 'MoSold', 'YrSold', 'ExterQual', 'KitchenQual', 'Neighborhood', 'Exterior1st']\n",
      "\n",
      "\n",
      "(Model Name, Scoring Name): Gradient Boosting roc_auc\n",
      "Optimal Number of Features: 23\n",
      "Optimal Score: 0.9829486416704698\n",
      "Features: ['BsmtQual', 'BsmtFinType1', 'MSSubClass', 'LotFrontage', 'LotArea', 'OverallQual', 'OverallCond', 'YearBuilt', 'YearRemodAdd', 'BsmtFinSF1', 'BsmtFinSF2', 'BsmtUnfSF', 'TotalBsmtSF', '1stFlrSF', '2ndFlrSF', 'GrLivArea', 'GarageYrBlt', 'GarageArea', '3SsnPorch', 'ExterQual', 'KitchenQual', 'Neighborhood', 'MasVnrType']\n",
      "\n",
      "\n",
      "(Model Name, Scoring Name): Random Forest roc_auc\n",
      "Optimal Number of Features: 58\n",
      "Optimal Score: 0.9828427846870176\n",
      "Features: ['BsmtQual', 'BsmtExposure', 'BsmtFinType1', 'BsmtFinType2', 'FireplaceQu', 'GarageType', 'GarageFinish', 'MSSubClass', 'LotFrontage', 'LotArea', 'OverallQual', 'OverallCond', 'YearBuilt', 'YearRemodAdd', 'MasVnrArea', 'BsmtFinSF1', 'BsmtFinSF2', 'BsmtUnfSF', 'TotalBsmtSF', '1stFlrSF', '2ndFlrSF', 'GrLivArea', 'BsmtFullBath', 'FullBath', 'HalfBath', 'BedroomAbvGr', 'TotRmsAbvGrd', 'Fireplaces', 'GarageYrBlt', 'GarageCars', 'GarageArea', 'WoodDeckSF', 'OpenPorchSF', 'EnclosedPorch', '3SsnPorch', 'ScreenPorch', 'MoSold', 'YrSold', 'MSZoning', 'Condition1', 'LandContour', 'ExterCond', 'SaleType', 'Foundation', 'HouseStyle', 'ExterQual', 'LotShape', 'BldgType', 'LotConfig', 'KitchenQual', 'LandSlope', 'HeatingQC', 'Neighborhood', 'Exterior2nd', 'Exterior1st', 'MasVnrType', 'RoofStyle', 'SaleCondition']\n",
      "\n",
      "\n",
      "(Model Name, Scoring Name): Logistic Regression roc_auc\n",
      "Optimal Number of Features: 40\n",
      "Optimal Score: 0.9773586416120829\n",
      "Features: ['Alley', 'BsmtQual', 'GarageQual', 'PoolQC', 'MiscFeature', 'MSSubClass', 'LotFrontage', 'LotArea', 'OverallQual', 'OverallCond', 'YearBuilt', 'YearRemodAdd', 'BsmtUnfSF', 'TotalBsmtSF', '1stFlrSF', '2ndFlrSF', 'GrLivArea', 'BsmtFullBath', 'BsmtHalfBath', 'FullBath', 'HalfBath', 'KitchenAbvGr', 'TotRmsAbvGrd', 'Fireplaces', 'GarageYrBlt', 'GarageCars', 'GarageArea', 'Condition2', 'Functional', 'MSZoning', 'Foundation', 'ExterQual', 'BldgType', 'KitchenQual', 'Street', 'Heating', 'PavedDrive', 'Exterior2nd', 'Exterior1st', 'SaleCondition']\n",
      "\n",
      "\n",
      "(Model Name, Scoring Name): GBM balanced_accuracy\n",
      "Optimal Number of Features: 36\n",
      "Optimal Score: 0.9293978339435419\n",
      "Features: ['BsmtQual', 'BsmtExposure', 'BsmtFinType1', 'FireplaceQu', 'MSSubClass', 'LotFrontage', 'LotArea', 'OverallQual', 'OverallCond', 'YearBuilt', 'YearRemodAdd', 'MasVnrArea', 'BsmtFinSF1', 'BsmtFinSF2', 'BsmtUnfSF', 'TotalBsmtSF', '1stFlrSF', '2ndFlrSF', 'GrLivArea', 'TotRmsAbvGrd', 'Fireplaces', 'GarageYrBlt', 'GarageArea', 'WoodDeckSF', 'OpenPorchSF', 'MoSold', 'YrSold', 'Condition1', 'LandContour', 'ExterQual', 'LotConfig', 'KitchenQual', 'HeatingQC', 'Neighborhood', 'Exterior1st', 'SaleCondition']\n",
      "\n",
      "\n",
      "(Model Name, Scoring Name): Gradient Boosting balanced_accuracy\n",
      "Optimal Number of Features: 28\n",
      "Optimal Score: 0.9221447483970995\n",
      "Features: ['Alley', 'BsmtQual', 'BsmtExposure', 'BsmtFinType1', 'MSSubClass', 'LotFrontage', 'LotArea', 'OverallQual', 'OverallCond', 'YearBuilt', 'YearRemodAdd', 'MasVnrArea', 'BsmtFinSF1', 'BsmtFinSF2', 'BsmtUnfSF', 'TotalBsmtSF', '1stFlrSF', '2ndFlrSF', 'GrLivArea', 'Fireplaces', 'GarageYrBlt', 'GarageArea', '3SsnPorch', 'ExterQual', 'KitchenQual', 'PavedDrive', 'Neighborhood', 'MasVnrType']\n",
      "\n",
      "\n",
      "(Model Name, Scoring Name): Random Forest balanced_accuracy\n",
      "Optimal Number of Features: 17\n",
      "Optimal Score: 0.9181412345239863\n",
      "Features: ['LotFrontage', 'LotArea', 'OverallQual', 'YearBuilt', 'YearRemodAdd', 'BsmtFinSF1', 'BsmtUnfSF', 'TotalBsmtSF', '1stFlrSF', '2ndFlrSF', 'GrLivArea', 'TotRmsAbvGrd', 'GarageYrBlt', 'GarageArea', 'ExterQual', 'KitchenQual', 'Neighborhood']\n",
      "\n",
      "\n",
      "(Model Name, Scoring Name): Logistic Regression balanced_accuracy\n",
      "Optimal Number of Features: 39\n",
      "Optimal Score: 0.9135612525906041\n",
      "Features: ['Alley', 'BsmtQual', 'GarageQual', 'PoolQC', 'MiscFeature', 'MSSubClass', 'LotFrontage', 'LotArea', 'OverallQual', 'OverallCond', 'YearBuilt', 'YearRemodAdd', 'BsmtUnfSF', 'TotalBsmtSF', '1stFlrSF', '2ndFlrSF', 'GrLivArea', 'BsmtFullBath', 'BsmtHalfBath', 'FullBath', 'HalfBath', 'KitchenAbvGr', 'TotRmsAbvGrd', 'Fireplaces', 'GarageYrBlt', 'GarageCars', 'GarageArea', 'Condition2', 'Functional', 'MSZoning', 'ExterQual', 'BldgType', 'KitchenQual', 'Street', 'Heating', 'PavedDrive', 'Exterior2nd', 'Exterior1st', 'SaleCondition']\n",
      "\n",
      "\n"
     ]
    }
   ],
   "source": [
    "from sklearn.feature_selection import RFECV\n",
    "\n",
    "models_rfecv = {}\n",
    "models_best_features = {}\n",
    "models_best_cv_scores = {}\n",
    "\n",
    "for scoring_name in scores:\n",
    "    for model_name, model_object in models.items():\n",
    "        \n",
    "        models_rfecv[(model_name,scoring_name)] = RFECV(estimator = models[model_name], cv = cv, scoring = scoring_name)\n",
    "        models_rfecv[(model_name,scoring_name)].fit(X, y)\n",
    "\n",
    "        best_cv_score = models_rfecv[(model_name,scoring_name)].grid_scores_[models_rfecv[(model_name,scoring_name)].n_features_ - 1]\n",
    "        features = [f for f,s in zip(X.columns, models_rfecv[(model_name,scoring_name)].support_) if s]\n",
    "\n",
    "        models_best_features[(model_name,scoring_name)] = features\n",
    "        models_best_cv_scores[(model_name,scoring_name)] = best_cv_score\n",
    "\n",
    "        print('(Model Name, Scoring Name):',model_name, scoring_name)\n",
    "        print('Optimal Number of Features:',models_rfecv[(model_name,scoring_name)].n_features_)\n",
    "        print('Optimal Score:',models_best_cv_scores[(model_name,scoring_name)])\n",
    "        print('Features:',models_best_features[(model_name,scoring_name)])\n",
    "        print('\\n')"
   ]
  },
  {
   "cell_type": "markdown",
   "metadata": {},
   "source": [
    "## Optimal Features"
   ]
  },
  {
   "cell_type": "code",
   "execution_count": 28,
   "metadata": {},
   "outputs": [
    {
     "data": {
      "text/plain": [
       "43"
      ]
     },
     "execution_count": 28,
     "metadata": {},
     "output_type": "execute_result"
    }
   ],
   "source": [
    "rfecv.n_features_"
   ]
  },
  {
   "cell_type": "code",
   "execution_count": 29,
   "metadata": {},
   "outputs": [
    {
     "data": {
      "text/plain": [
       "['Alley',\n",
       " 'BsmtQual',\n",
       " 'BsmtCond',\n",
       " 'GarageType',\n",
       " 'GarageQual',\n",
       " 'PoolQC',\n",
       " 'MiscFeature',\n",
       " 'MSSubClass',\n",
       " 'LotFrontage',\n",
       " 'LotArea',\n",
       " 'OverallQual',\n",
       " 'OverallCond',\n",
       " 'YearBuilt',\n",
       " 'YearRemodAdd',\n",
       " 'BsmtUnfSF',\n",
       " 'TotalBsmtSF',\n",
       " '1stFlrSF',\n",
       " '2ndFlrSF',\n",
       " 'GrLivArea',\n",
       " 'BsmtFullBath',\n",
       " 'BsmtHalfBath',\n",
       " 'FullBath',\n",
       " 'HalfBath',\n",
       " 'KitchenAbvGr',\n",
       " 'TotRmsAbvGrd',\n",
       " 'Fireplaces',\n",
       " 'GarageYrBlt',\n",
       " 'GarageCars',\n",
       " 'GarageArea',\n",
       " 'Condition2',\n",
       " 'Functional',\n",
       " 'MSZoning',\n",
       " 'Condition1',\n",
       " 'Foundation',\n",
       " 'ExterQual',\n",
       " 'BldgType',\n",
       " 'KitchenQual',\n",
       " 'Street',\n",
       " 'Heating',\n",
       " 'PavedDrive',\n",
       " 'Exterior2nd',\n",
       " 'Exterior1st',\n",
       " 'SaleCondition']"
      ]
     },
     "execution_count": 29,
     "metadata": {},
     "output_type": "execute_result"
    }
   ],
   "source": [
    "features = [f for f,s in zip(X_train.columns, rfecv.support_) if s]\n",
    "features"
   ]
  },
  {
   "cell_type": "code",
   "execution_count": 32,
   "metadata": {},
   "outputs": [],
   "source": [
    "from sklearn.pipeline import make_pipeline\n",
    "from sklearn import preprocessing\n",
    "pipe = make_pipeline(preprocessing.StandardScaler(), lm.LogisticRegression())\n",
    "\n",
    "# Define a range of hyper parameters for grid search\n",
    "C_range = 10.**np.arange(-5, 1)\n",
    "#penalty_options = ['l1', 'l2']"
   ]
  },
  {
   "cell_type": "code",
   "execution_count": 39,
   "metadata": {},
   "outputs": [
    {
     "data": {
      "text/plain": [
       "GridSearchCV(cv=StratifiedKFold(n_splits=3, random_state=None, shuffle=False),\n",
       "             estimator=Pipeline(steps=[('standardscaler', StandardScaler()),\n",
       "                                       ('logisticregression',\n",
       "                                        LogisticRegression())]),\n",
       "             param_grid={'logisticregression__C': array([1.e-05, 1.e-04, 1.e-03, 1.e-02, 1.e-01, 1.e+00])},\n",
       "             scoring='roc_auc')"
      ]
     },
     "execution_count": 39,
     "metadata": {},
     "output_type": "execute_result"
    }
   ],
   "source": [
    "from sklearn.model_selection import GridSearchCV\n",
    "skf = StratifiedKFold(3)\n",
    "#param_grid = dict(logisticregression__C=C_range,  logisticregression__penalty=penalty_options)\n",
    "param_grid = dict(logisticregression__C=C_range)\n",
    "grid = GridSearchCV(pipe, param_grid, cv=skf, scoring='roc_auc')\n",
    "\n",
    "grid.fit(X_new, y_train)"
   ]
  },
  {
   "cell_type": "code",
   "execution_count": 49,
   "metadata": {},
   "outputs": [
    {
     "data": {
      "text/plain": [
       "0.9789669595742382"
      ]
     },
     "execution_count": 49,
     "metadata": {},
     "output_type": "execute_result"
    }
   ],
   "source": [
    "best_params = grid.best_params_\n",
    "best_params\n",
    "best_score = grid.best_score_\n",
    "best_score"
   ]
  },
  {
   "cell_type": "code",
   "execution_count": 43,
   "metadata": {},
   "outputs": [],
   "source": [
    "from sklearn.model_selection import cross_val_score"
   ]
  },
  {
   "cell_type": "code",
   "execution_count": 50,
   "metadata": {},
   "outputs": [
    {
     "data": {
      "text/plain": [
       "array([0.93634497, 0.9301848 , 0.93004115])"
      ]
     },
     "execution_count": 50,
     "metadata": {},
     "output_type": "execute_result"
    }
   ],
   "source": [
    "score = cross_val_score(grid, X_new, y_train, cv=skf, scoring='accuracy') #.mean()\n",
    "score"
   ]
  },
  {
   "cell_type": "code",
   "execution_count": 52,
   "metadata": {},
   "outputs": [
    {
     "data": {
      "text/plain": [
       "array([0.98308668, 0.9794652 , 0.974349  ])"
      ]
     },
     "execution_count": 52,
     "metadata": {},
     "output_type": "execute_result"
    }
   ],
   "source": [
    "score = cross_val_score(grid, X_new, y_train, cv=skf, scoring='roc_auc') #.mean()\n",
    "score"
   ]
  },
  {
   "cell_type": "code",
   "execution_count": 58,
   "metadata": {},
   "outputs": [
    {
     "data": {
      "text/plain": [
       "array([0.90999553, 0.8968565 , 0.91956682])"
      ]
     },
     "execution_count": 58,
     "metadata": {},
     "output_type": "execute_result"
    }
   ],
   "source": [
    "score = cross_val_score(grid, X_new, y_train, cv=skf, scoring='balanced_accuracy') #.mean()\n",
    "score"
   ]
  },
  {
   "cell_type": "code",
   "execution_count": 60,
   "metadata": {},
   "outputs": [
    {
     "data": {
      "text/plain": [
       "array([0.88644689, 0.87218045, 0.88194444])"
      ]
     },
     "execution_count": 60,
     "metadata": {},
     "output_type": "execute_result"
    }
   ],
   "source": [
    "score = cross_val_score(grid, X_new, y_train, cv=skf, scoring='f1')\n",
    "score"
   ]
  },
  {
   "cell_type": "code",
   "execution_count": 46,
   "metadata": {},
   "outputs": [
    {
     "data": {
      "text/plain": [
       "0.9321903087968949"
      ]
     },
     "execution_count": 46,
     "metadata": {},
     "output_type": "execute_result"
    }
   ],
   "source": [
    "score"
   ]
  },
  {
   "cell_type": "code",
   "execution_count": 56,
   "metadata": {},
   "outputs": [
    {
     "name": "stdout",
     "output_type": "stream",
     "text": [
      "0.959 (+/-0.009) for {'logisticregression__C': 1e-05}\n",
      "0.960 (+/-0.009) for {'logisticregression__C': 0.0001}\n",
      "0.965 (+/-0.009) for {'logisticregression__C': 0.001}\n",
      "0.975 (+/-0.007) for {'logisticregression__C': 0.01}\n",
      "0.979 (+/-0.007) for {'logisticregression__C': 0.1}\n",
      "0.977 (+/-0.007) for {'logisticregression__C': 1.0}\n",
      "\n"
     ]
    }
   ],
   "source": [
    "means = grid.cv_results_['mean_test_score']\n",
    "stds = grid.cv_results_['std_test_score']\n",
    "for mean, std, params in zip(means, stds, grid.cv_results_['params']):\n",
    "    print(\"%0.3f (+/-%0.03f) for %r\"\n",
    "    % (mean, std * 2, params))\n",
    "print()"
   ]
  },
  {
   "cell_type": "code",
   "execution_count": 57,
   "metadata": {},
   "outputs": [
    {
     "name": "stdout",
     "output_type": "stream",
     "text": [
      "Detailed classification report:\n",
      "\n",
      "The model is trained on the full development set.\n",
      "The scores are computed on the full evaluation set.\n",
      "\n"
     ]
    },
    {
     "ename": "NameError",
     "evalue": "name 'y_test' is not defined",
     "output_type": "error",
     "traceback": [
      "\u001b[1;31m---------------------------------------------------------------------------\u001b[0m",
      "\u001b[1;31mNameError\u001b[0m                                 Traceback (most recent call last)",
      "\u001b[1;32m<ipython-input-57-299694e86abf>\u001b[0m in \u001b[0;36m<module>\u001b[1;34m\u001b[0m\n\u001b[0;32m      4\u001b[0m \u001b[0mprint\u001b[0m\u001b[1;33m(\u001b[0m\u001b[1;34m\"The scores are computed on the full evaluation set.\"\u001b[0m\u001b[1;33m)\u001b[0m\u001b[1;33m\u001b[0m\u001b[1;33m\u001b[0m\u001b[0m\n\u001b[0;32m      5\u001b[0m \u001b[0mprint\u001b[0m\u001b[1;33m(\u001b[0m\u001b[1;33m)\u001b[0m\u001b[1;33m\u001b[0m\u001b[1;33m\u001b[0m\u001b[0m\n\u001b[1;32m----> 6\u001b[1;33m \u001b[0my_true\u001b[0m\u001b[1;33m,\u001b[0m \u001b[0my_pred\u001b[0m \u001b[1;33m=\u001b[0m \u001b[0my_test\u001b[0m\u001b[1;33m,\u001b[0m \u001b[0mgrid\u001b[0m\u001b[1;33m.\u001b[0m\u001b[0mpredict\u001b[0m\u001b[1;33m(\u001b[0m\u001b[0mX_test\u001b[0m\u001b[1;33m)\u001b[0m\u001b[1;33m\u001b[0m\u001b[1;33m\u001b[0m\u001b[0m\n\u001b[0m\u001b[0;32m      7\u001b[0m \u001b[0mprint\u001b[0m\u001b[1;33m(\u001b[0m\u001b[0mclassification_report\u001b[0m\u001b[1;33m(\u001b[0m\u001b[0my_true\u001b[0m\u001b[1;33m,\u001b[0m \u001b[0my_pred\u001b[0m\u001b[1;33m)\u001b[0m\u001b[1;33m)\u001b[0m\u001b[1;33m\u001b[0m\u001b[1;33m\u001b[0m\u001b[0m\n\u001b[0;32m      8\u001b[0m \u001b[0mprint\u001b[0m\u001b[1;33m(\u001b[0m\u001b[1;33m)\u001b[0m\u001b[1;33m\u001b[0m\u001b[1;33m\u001b[0m\u001b[0m\n",
      "\u001b[1;31mNameError\u001b[0m: name 'y_test' is not defined"
     ]
    }
   ],
   "source": [
    "    print(\"Detailed classification report:\")\n",
    "    print()\n",
    "    print(\"The model is trained on the full development set.\")\n",
    "    print(\"The scores are computed on the full evaluation set.\")\n",
    "    print()\n",
    "    y_true, y_pred = y_test, grid.predict(X_test)\n",
    "    print(classification_report(y_true, y_pred))\n",
    "    print()"
   ]
  },
  {
   "cell_type": "code",
   "execution_count": null,
   "metadata": {},
   "outputs": [],
   "source": [
    "score = cross_val_score(logreg_model, X_new, y, cv=strat_k_fold, scoring='accuracy').mean()\n",
    "print(\"Accuracy after Feature Selection : {} \".format(fe_score))"
   ]
  },
  {
   "cell_type": "code",
   "execution_count": 41,
   "metadata": {},
   "outputs": [
    {
     "data": {
      "text/plain": [
       "sklearn.pipeline.Pipeline"
      ]
     },
     "execution_count": 41,
     "metadata": {},
     "output_type": "execute_result"
    }
   ],
   "source": [
    "type(grid.best_estimator_)\n",
    "classification_report(clf.best_estimator_.predict(x_test), y_test)"
   ]
  },
  {
   "cell_type": "code",
   "execution_count": null,
   "metadata": {},
   "outputs": [],
   "source": [
    "#joblib.dump(gs_clf.best_estimator_, 'logisic_regression.pkl', compress=1)\n",
    "# classifier = joblib.load(filepath) # path to .pkl file\n",
    "#  result = classifier.predict(tokenlist)\n",
    "\n",
    "#classifier = joblib.load(filepath)\n",
    "#classification_report(classifier.predict(x_test), y_test)"
   ]
  },
  {
   "cell_type": "code",
   "execution_count": null,
   "metadata": {},
   "outputs": [],
   "source": [
    "pipe = make_pipeline(preprocessing.StandardScaler(), lm.LogisticRegression())"
   ]
  },
  {
   "cell_type": "code",
   "execution_count": null,
   "metadata": {},
   "outputs": [],
   "source": [
    "from sklearn.pipeline import make_pipeline\n",
    "from sklearn.grid_search import GridSearchCV\n",
    "from sklearn.cross_validation import StratifiedKFold\n",
    "from sklearn import preprocessing\n",
    "from sklearn.feature_selection import RFECV\n",
    "import sklearn\n",
    "import sklearn.linear_model as lm\n",
    "import sklearn.grid_search as gs\n",
    "\n",
    "#  Create a logistic regression estimator \n",
    "logreg = lm.LogisticRegression()\n",
    "\n",
    "# Use RFECV to pick best features, using Stratified Kfold\n",
    "rfecv =   RFECV(estimator=logreg, cv=StratifiedKFold(y, 3), scoring='roc_auc')\n",
    "\n",
    "rfecv.fit(X, y)\n",
    "\n",
    "# Put the best features into new df X_new\n",
    "X_new = rfecv.transform(X)\n",
    "\n",
    "# \n",
    "pipe = make_pipeline(preprocessing.StandardScaler(), lm.LogisticRegression())\n",
    "\n",
    "# Define a range of hyper parameters for grid search\n",
    "C_range = 10.**np.arange(-5, 1)\n",
    "penalty_options = ['l1', 'l2']\n",
    "\n",
    "skf = StratifiedKFold(y, 3)\n",
    "param_grid = dict(logisticregression__C=C_range,  logisticregression__penalty=penalty_options)\n",
    "\n",
    "grid = GridSearchCV(pipe, param_grid, cv=skf, scoring='roc_auc')\n",
    "\n",
    "grid.fit(X_new, y) "
   ]
  }
 ],
 "metadata": {
  "kernelspec": {
   "display_name": "Python 3",
   "language": "python",
   "name": "python3"
  },
  "language_info": {
   "codemirror_mode": {
    "name": "ipython",
    "version": 3
   },
   "file_extension": ".py",
   "mimetype": "text/x-python",
   "name": "python",
   "nbconvert_exporter": "python",
   "pygments_lexer": "ipython3",
   "version": "3.7.6"
  }
 },
 "nbformat": 4,
 "nbformat_minor": 4
}
