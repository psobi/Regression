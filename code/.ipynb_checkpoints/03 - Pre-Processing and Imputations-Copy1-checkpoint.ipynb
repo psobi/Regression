{
 "cells": [
  {
   "cell_type": "code",
   "execution_count": 31,
   "metadata": {},
   "outputs": [
    {
     "data": {
      "text/plain": [
       "('sklearn', '0.23.1')"
      ]
     },
     "execution_count": 31,
     "metadata": {},
     "output_type": "execute_result"
    }
   ],
   "source": [
    "import numpy as np\n",
    "import pandas as pd\n",
    "\n",
    "from sklearn.base import BaseEstimator, TransformerMixin\n",
    "from sklearn.pipeline import Pipeline\n",
    "\n",
    "from sklearn.impute import SimpleImputer\n",
    "from sklearn.preprocessing import StandardScaler, OrdinalEncoder\n",
    "\n",
    "import pickle5 as pickle\n",
    "\n",
    "import sklearn\n",
    "sklearn.__name__,sklearn.__version__"
   ]
  },
  {
   "cell_type": "code",
   "execution_count": 4,
   "metadata": {},
   "outputs": [
    {
     "data": {
      "text/plain": [
       "((1460, 80), (1459, 79))"
      ]
     },
     "execution_count": 4,
     "metadata": {},
     "output_type": "execute_result"
    }
   ],
   "source": [
    "df_train = pd.read_csv('../data/train.csv', index_col='Id', parse_dates=True).sort_index()\n",
    "df_test = pd.read_csv('../data/test.csv', index_col='Id', parse_dates=True).sort_index()\n",
    "\n",
    "(df_train.shape, df_test.shape)"
   ]
  },
  {
   "cell_type": "code",
   "execution_count": 6,
   "metadata": {},
   "outputs": [
    {
     "data": {
      "text/plain": [
       "((2919, 80),\n",
       " (1460,),\n",
       " Index(['MSSubClass', 'MSZoning', 'LotFrontage', 'LotArea', 'Street', 'Alley',\n",
       "        'LotShape', 'LandContour', 'Utilities', 'LotConfig', 'LandSlope',\n",
       "        'Neighborhood', 'Condition1', 'Condition2', 'BldgType', 'HouseStyle',\n",
       "        'OverallQual', 'OverallCond', 'YearBuilt', 'YearRemodAdd', 'RoofStyle',\n",
       "        'RoofMatl', 'Exterior1st', 'Exterior2nd', 'MasVnrType', 'MasVnrArea',\n",
       "        'ExterQual', 'ExterCond', 'Foundation', 'BsmtQual', 'BsmtCond',\n",
       "        'BsmtExposure', 'BsmtFinType1', 'BsmtFinSF1', 'BsmtFinType2',\n",
       "        'BsmtFinSF2', 'BsmtUnfSF', 'TotalBsmtSF', 'Heating', 'HeatingQC',\n",
       "        'CentralAir', 'Electrical', '1stFlrSF', '2ndFlrSF', 'LowQualFinSF',\n",
       "        'GrLivArea', 'BsmtFullBath', 'BsmtHalfBath', 'FullBath', 'HalfBath',\n",
       "        'BedroomAbvGr', 'KitchenAbvGr', 'KitchenQual', 'TotRmsAbvGrd',\n",
       "        'Functional', 'Fireplaces', 'FireplaceQu', 'GarageType', 'GarageYrBlt',\n",
       "        'GarageFinish', 'GarageCars', 'GarageArea', 'GarageQual', 'GarageCond',\n",
       "        'PavedDrive', 'WoodDeckSF', 'OpenPorchSF', 'EnclosedPorch', '3SsnPorch',\n",
       "        'ScreenPorch', 'PoolArea', 'PoolQC', 'Fence', 'MiscFeature', 'MiscVal',\n",
       "        'MoSold', 'YrSold', 'SaleType', 'SaleCondition', 'TrainSet'],\n",
       "       dtype='object'))"
      ]
     },
     "execution_count": 6,
     "metadata": {},
     "output_type": "execute_result"
    }
   ],
   "source": [
    "high_value_threshold = 200000.00\n",
    "y = np.where(df_train['SalePrice'] > 200000, 1, 0)\n",
    "\n",
    "df_train['TrainSet'] = 'Y'\n",
    "df_test['TrainSet'] = 'N'\n",
    "\n",
    "#Append Train and Test\n",
    "df_data = pd.concat([df_train.drop(['SalePrice'], axis=1), df_test], ignore_index=True)\n",
    "X = df_data\n",
    "\n",
    "X.shape, y.shape, X.columns"
   ]
  },
  {
   "cell_type": "code",
   "execution_count": 30,
   "metadata": {},
   "outputs": [],
   "source": [
    "class EstimatorCustom(BaseEstimator, TransformerMixin):\n",
    "    \n",
    "  def __init__(self, feature_to_estimate,feature_estimator):\n",
    "    self.feature_to_estimate = feature_to_estimate\n",
    "    self.feature_estimator = feature_estimator\n",
    "    print('\\nCustom Estimator for '+ self.feature_to_estimate + ' init() called.\\n')\n",
    "\n",
    "  def fit(self, X, y = None):\n",
    "    print('\\nCustom Estimator for ' + self.feature_to_estimate + ' fit() called.\\n')\n",
    "    return self\n",
    "    \n",
    "  def transform(self, X, y = None):\n",
    "    print('\\nCustom Estimator for ' + self.feature_to_estimate + ' transform() called.\\n')\n",
    "    X_ = X.copy() \n",
    "    X_[self.feature_to_estimate] = X_.groupby(self.feature_estimator)[self.feature_to_estimate].transform(lambda x: x.fillna(x.median()))\n",
    "    \n",
    "    return X_"
   ]
  },
  {
   "cell_type": "code",
   "execution_count": 27,
   "metadata": {},
   "outputs": [
    {
     "name": "stdout",
     "output_type": "stream",
     "text": [
      "\n",
      "Custom Estimator for LotFrontage init() called.\n",
      "\n",
      "\n",
      "Custom Estimator for LotFrontage fit() called.\n",
      "\n",
      "\n",
      "Custom Estimator for LotFrontage transform() called.\n",
      "\n"
     ]
    },
    {
     "data": {
      "text/plain": [
       "(0, (2919, 80))"
      ]
     },
     "execution_count": 27,
     "metadata": {},
     "output_type": "execute_result"
    }
   ],
   "source": [
    "pipe_custom = Pipeline(steps=[('Custom Estimator Lot Frontage',EstimatorCustom('LotFrontage','Neighborhood'))])\n",
    "X_pipe_custom = pipe_custom.fit_transform(X,0)\n",
    "\n",
    "(X_pipe_custom['LotFrontage'].isna().sum(), X_pipe_custom.shape)"
   ]
  },
  {
   "cell_type": "code",
   "execution_count": 10,
   "metadata": {},
   "outputs": [
    {
     "data": {
      "text/plain": [
       "80"
      ]
     },
     "execution_count": 10,
     "metadata": {},
     "output_type": "execute_result"
    }
   ],
   "source": [
    "dict_fla = {'Alley':'Feature_Level_Absent','BsmtQual':'Feature_Level_Absent','BsmtCond':'Feature_Level_Absent','BsmtExposure':'Feature_Level_Absent','BsmtFinType1':'Feature_Level_Absent','BsmtFinType2':'Feature_Level_Absent','FireplaceQu':'Feature_Level_Absent','GarageType':'Feature_Level_Absent','GarageFinish':'Feature_Level_Absent','GarageQual':'Feature_Level_Absent','GarageCond':'Feature_Level_Absent','PoolQC':'Feature_Level_Absent','Fence':'Feature_Level_Absent','MiscFeature':'None'}\n",
    "custom_features = list(dict_fla.keys())\n",
    "pipe_constant = Pipeline(steps=[\n",
    "    ('ImputerConstant', SimpleImputer(strategy='constant', fill_value='None')),\n",
    "    ('OrdinalEncoder', OrdinalEncoder())])\n",
    "\n",
    "numeric_features = X.select_dtypes(include=['int64', 'float64','int32','float32']).columns\n",
    "pipe_median = Pipeline(steps=[\n",
    "    ('ImputerMedian', SimpleImputer(strategy='median')),\n",
    "    ('Scaler', StandardScaler())])\n",
    "\n",
    "categorical_features = X.select_dtypes(include=['object','category']).columns\n",
    "categorical_features = list (set(categorical_features) - set (custom_features))\n",
    "pipe_mode = Pipeline(steps=[\n",
    "    ('ImputerMode', SimpleImputer(strategy='most_frequent')),\n",
    "    ('OrdinalEncoder', OrdinalEncoder())])\n",
    "\n",
    "features = list(custom_features) + list(numeric_features) + list(categorical_features)\n",
    "len(features)"
   ]
  },
  {
   "cell_type": "code",
   "execution_count": 11,
   "metadata": {},
   "outputs": [],
   "source": [
    "from sklearn.compose import ColumnTransformer\n",
    "preprocessor = ColumnTransformer(\n",
    "    transformers=[\n",
    "        ('Constant Imputer', pipe_constant, custom_features),      #14 columns\n",
    "        ('Median Imputer', pipe_median, numeric_features),        #36 columns\n",
    "        ('Mode Iputer', pipe_mode, categorical_features),        #43 columna\n",
    "    ])"
   ]
  },
  {
   "cell_type": "code",
   "execution_count": 12,
   "metadata": {},
   "outputs": [
    {
     "data": {
      "text/plain": [
       "(2919, 80)"
      ]
     },
     "execution_count": 12,
     "metadata": {},
     "output_type": "execute_result"
    }
   ],
   "source": [
    "pipe_imputations = Pipeline(steps=[('preprocessor', preprocessor)])\n",
    "\n",
    "X_pipe_imputations = pipe_imputations.fit_transform(X_pipe_custom, 0)\n",
    "X = pd.DataFrame(columns = features, data = X_pipe_imputations)\n",
    "X.shape\n"
   ]
  },
  {
   "cell_type": "code",
   "execution_count": 14,
   "metadata": {},
   "outputs": [
    {
     "name": "stderr",
     "output_type": "stream",
     "text": [
      "C:\\Users\\pawel\\AppData\\Roaming\\Python\\Python37\\site-packages\\pandas\\core\\frame.py:3997: SettingWithCopyWarning: \n",
      "A value is trying to be set on a copy of a slice from a DataFrame\n",
      "\n",
      "See the caveats in the documentation: https://pandas.pydata.org/pandas-docs/stable/user_guide/indexing.html#returning-a-view-versus-a-copy\n",
      "  errors=errors,\n"
     ]
    },
    {
     "data": {
      "text/plain": [
       "((1460, 79), (1459, 79), 1460)"
      ]
     },
     "execution_count": 14,
     "metadata": {},
     "output_type": "execute_result"
    }
   ],
   "source": [
    "X_train = X[X['TrainSet'] == 1]\n",
    "X_test = X[X['TrainSet'] == 0]\n",
    "\n",
    "X_train.drop(['TrainSet'],axis=1, inplace = True)\n",
    "X_test.drop(['TrainSet'],axis=1, inplace = True)\n",
    "      \n",
    "(X_train.shape, X_test.shape, len(y))"
   ]
  },
  {
   "cell_type": "code",
   "execution_count": 24,
   "metadata": {},
   "outputs": [],
   "source": [
    "file_mrd_train = open(\"../data/mrd_train\", \"wb\")\n",
    "file_mrd_test = open(\"../data/mrd_test\", \"wb\")\n",
    "file_mrd_y = open(\"../data/mrd_y\", \"wb\")\n",
    "\n",
    "pickle.dump(X_train,file_mrd_train)\n",
    "pickle.dump(X_test,file_mrd_test)\n",
    "pickle.dump(y,file_mrd_y)\n",
    "\n",
    "file_mrd_train.close()\n",
    "file_mrd_test.close()\n",
    "file_mrd_y.close()"
   ]
  },
  {
   "cell_type": "code",
   "execution_count": 32,
   "metadata": {},
   "outputs": [
    {
     "data": {
      "text/html": [
       "<style>div.sk-top-container {color: black;background-color: white;}div.sk-toggleable {background-color: white;}label.sk-toggleable__label {cursor: pointer;display: block;width: 100%;margin-bottom: 0;padding: 0.2em 0.3em;box-sizing: border-box;text-align: center;}div.sk-toggleable__content {max-height: 0;max-width: 0;overflow: hidden;text-align: left;background-color: #f0f8ff;}div.sk-toggleable__content pre {margin: 0.2em;color: black;border-radius: 0.25em;background-color: #f0f8ff;}input.sk-toggleable__control:checked~div.sk-toggleable__content {max-height: 200px;max-width: 100%;overflow: auto;}div.sk-estimator input.sk-toggleable__control:checked~label.sk-toggleable__label {background-color: #d4ebff;}div.sk-label input.sk-toggleable__control:checked~label.sk-toggleable__label {background-color: #d4ebff;}input.sk-hidden--visually {border: 0;clip: rect(1px 1px 1px 1px);clip: rect(1px, 1px, 1px, 1px);height: 1px;margin: -1px;overflow: hidden;padding: 0;position: absolute;width: 1px;}div.sk-estimator {font-family: monospace;background-color: #f0f8ff;margin: 0.25em 0.25em;border: 1px dotted black;border-radius: 0.25em;box-sizing: border-box;}div.sk-estimator:hover {background-color: #d4ebff;}div.sk-parallel-item::after {content: \"\";width: 100%;border-bottom: 1px solid gray;flex-grow: 1;}div.sk-label:hover label.sk-toggleable__label {background-color: #d4ebff;}div.sk-serial::before {content: \"\";position: absolute;border-left: 1px solid gray;box-sizing: border-box;top: 2em;bottom: 0;left: 50%;}div.sk-serial {display: flex;flex-direction: column;align-items: center;background-color: white;}div.sk-item {z-index: 1;}div.sk-parallel {display: flex;align-items: stretch;justify-content: center;background-color: white;}div.sk-parallel-item {display: flex;flex-direction: column;position: relative;background-color: white;}div.sk-parallel-item:first-child::after {align-self: flex-end;width: 50%;}div.sk-parallel-item:last-child::after {align-self: flex-start;width: 50%;}div.sk-parallel-item:only-child::after {width: 0;}div.sk-dashed-wrapped {border: 1px dashed gray;margin: 0.2em;box-sizing: border-box;padding-bottom: 0.1em;background-color: white;position: relative;}div.sk-label label {font-family: monospace;font-weight: bold;background-color: white;display: inline-block;line-height: 1.2em;}div.sk-label-container {position: relative;z-index: 2;text-align: center;}div.sk-container {display: inline-block;position: relative;}</style><div class=\"sk-top-container\"><div class=\"sk-container\"><div class=\"sk-item sk-dashed-wrapped\"><div class=\"sk-label-container\"><div class=\"sk-label sk-toggleable\"><input class=\"sk-toggleable__control sk-hidden--visually\" id=\"9bad447c-301c-4f33-9c0e-44d652d8be52\" type=\"checkbox\" ><label class=\"sk-toggleable__label\" for=\"9bad447c-301c-4f33-9c0e-44d652d8be52\">Pipeline</label><div class=\"sk-toggleable__content\"><pre>Pipeline(steps=[('Custom Estimator Lot Frontage',\n",
       "                 EstimatorCustom(feature_estimator='Neighborhood',\n",
       "                                 feature_to_estimate='LotFrontage'))])</pre></div></div></div><div class=\"sk-serial\"><div class=\"sk-item\"><div class=\"sk-estimator sk-toggleable\"><input class=\"sk-toggleable__control sk-hidden--visually\" id=\"c9873023-8fda-4be6-93cf-ad49aef7c772\" type=\"checkbox\" ><label class=\"sk-toggleable__label\" for=\"c9873023-8fda-4be6-93cf-ad49aef7c772\">EstimatorCustom</label><div class=\"sk-toggleable__content\"><pre>EstimatorCustom(feature_estimator='Neighborhood',\n",
       "                feature_to_estimate='LotFrontage')</pre></div></div></div></div></div></div></div>"
      ],
      "text/plain": [
       "Pipeline(steps=[('Custom Estimator Lot Frontage',\n",
       "                 EstimatorCustom(feature_estimator='Neighborhood',\n",
       "                                 feature_to_estimate='LotFrontage'))])"
      ]
     },
     "execution_count": 32,
     "metadata": {},
     "output_type": "execute_result"
    }
   ],
   "source": [
    "from sklearn import set_config\n",
    "set_config(display='diagram')\n",
    "pipe_custom"
   ]
  },
  {
   "cell_type": "code",
   "execution_count": 33,
   "metadata": {},
   "outputs": [
    {
     "data": {
      "text/html": [
       "<style>div.sk-top-container {color: black;background-color: white;}div.sk-toggleable {background-color: white;}label.sk-toggleable__label {cursor: pointer;display: block;width: 100%;margin-bottom: 0;padding: 0.2em 0.3em;box-sizing: border-box;text-align: center;}div.sk-toggleable__content {max-height: 0;max-width: 0;overflow: hidden;text-align: left;background-color: #f0f8ff;}div.sk-toggleable__content pre {margin: 0.2em;color: black;border-radius: 0.25em;background-color: #f0f8ff;}input.sk-toggleable__control:checked~div.sk-toggleable__content {max-height: 200px;max-width: 100%;overflow: auto;}div.sk-estimator input.sk-toggleable__control:checked~label.sk-toggleable__label {background-color: #d4ebff;}div.sk-label input.sk-toggleable__control:checked~label.sk-toggleable__label {background-color: #d4ebff;}input.sk-hidden--visually {border: 0;clip: rect(1px 1px 1px 1px);clip: rect(1px, 1px, 1px, 1px);height: 1px;margin: -1px;overflow: hidden;padding: 0;position: absolute;width: 1px;}div.sk-estimator {font-family: monospace;background-color: #f0f8ff;margin: 0.25em 0.25em;border: 1px dotted black;border-radius: 0.25em;box-sizing: border-box;}div.sk-estimator:hover {background-color: #d4ebff;}div.sk-parallel-item::after {content: \"\";width: 100%;border-bottom: 1px solid gray;flex-grow: 1;}div.sk-label:hover label.sk-toggleable__label {background-color: #d4ebff;}div.sk-serial::before {content: \"\";position: absolute;border-left: 1px solid gray;box-sizing: border-box;top: 2em;bottom: 0;left: 50%;}div.sk-serial {display: flex;flex-direction: column;align-items: center;background-color: white;}div.sk-item {z-index: 1;}div.sk-parallel {display: flex;align-items: stretch;justify-content: center;background-color: white;}div.sk-parallel-item {display: flex;flex-direction: column;position: relative;background-color: white;}div.sk-parallel-item:first-child::after {align-self: flex-end;width: 50%;}div.sk-parallel-item:last-child::after {align-self: flex-start;width: 50%;}div.sk-parallel-item:only-child::after {width: 0;}div.sk-dashed-wrapped {border: 1px dashed gray;margin: 0.2em;box-sizing: border-box;padding-bottom: 0.1em;background-color: white;position: relative;}div.sk-label label {font-family: monospace;font-weight: bold;background-color: white;display: inline-block;line-height: 1.2em;}div.sk-label-container {position: relative;z-index: 2;text-align: center;}div.sk-container {display: inline-block;position: relative;}</style><div class=\"sk-top-container\"><div class=\"sk-container\"><div class=\"sk-item sk-dashed-wrapped\"><div class=\"sk-label-container\"><div class=\"sk-label sk-toggleable\"><input class=\"sk-toggleable__control sk-hidden--visually\" id=\"f4983323-2278-4ada-af15-3624fb2ee9e7\" type=\"checkbox\" ><label class=\"sk-toggleable__label\" for=\"f4983323-2278-4ada-af15-3624fb2ee9e7\">Pipeline</label><div class=\"sk-toggleable__content\"><pre>Pipeline(steps=[('preprocessor',\n",
       "                 ColumnTransformer(transformers=[('Constant Imputer',\n",
       "                                                  Pipeline(steps=[('ImputerConstant',\n",
       "                                                                   SimpleImputer(fill_value='None',\n",
       "                                                                                 strategy='constant')),\n",
       "                                                                  ('OrdinalEncoder',\n",
       "                                                                   OrdinalEncoder())]),\n",
       "                                                  ['Alley', 'BsmtQual',\n",
       "                                                   'BsmtCond', 'BsmtExposure',\n",
       "                                                   'BsmtFinType1',\n",
       "                                                   'BsmtFinType2',\n",
       "                                                   'FireplaceQu', 'GarageType',\n",
       "                                                   'GarageFinish', 'GarageQual',\n",
       "                                                   'GarageCo...\n",
       "                                                   'Utilities', 'Foundation',\n",
       "                                                   'ExterCond', 'Exterior1st',\n",
       "                                                   'Condition2', 'Electrical',\n",
       "                                                   'Neighborhood', 'CentralAir',\n",
       "                                                   'Heating', 'Condition1',\n",
       "                                                   'SaleType', 'LotConfig',\n",
       "                                                   'SaleCondition',\n",
       "                                                   'HouseStyle', 'HeatingQC',\n",
       "                                                   'PavedDrive', 'ExterQual',\n",
       "                                                   'Street', 'LandContour',\n",
       "                                                   'BldgType', 'RoofStyle',\n",
       "                                                   'MSZoning', 'Functional',\n",
       "                                                   'MasVnrType', 'TrainSet',\n",
       "                                                   'LotShape', 'Exterior2nd',\n",
       "                                                   'LandSlope'])]))])</pre></div></div></div><div class=\"sk-serial\"><div class=\"sk-item sk-dashed-wrapped\"><div class=\"sk-label-container\"><div class=\"sk-label sk-toggleable\"><input class=\"sk-toggleable__control sk-hidden--visually\" id=\"b4453cec-f548-4fc3-8b10-6297ac6b2351\" type=\"checkbox\" ><label class=\"sk-toggleable__label\" for=\"b4453cec-f548-4fc3-8b10-6297ac6b2351\">preprocessor: ColumnTransformer</label><div class=\"sk-toggleable__content\"><pre>ColumnTransformer(transformers=[('Constant Imputer',\n",
       "                                 Pipeline(steps=[('ImputerConstant',\n",
       "                                                  SimpleImputer(fill_value='None',\n",
       "                                                                strategy='constant')),\n",
       "                                                 ('OrdinalEncoder',\n",
       "                                                  OrdinalEncoder())]),\n",
       "                                 ['Alley', 'BsmtQual', 'BsmtCond',\n",
       "                                  'BsmtExposure', 'BsmtFinType1',\n",
       "                                  'BsmtFinType2', 'FireplaceQu', 'GarageType',\n",
       "                                  'GarageFinish', 'GarageQual', 'GarageCond',\n",
       "                                  'PoolQC', 'Fence', 'MiscFeatur...\n",
       "                                 ['KitchenQual', 'RoofMatl', 'Utilities',\n",
       "                                  'Foundation', 'ExterCond', 'Exterior1st',\n",
       "                                  'Condition2', 'Electrical', 'Neighborhood',\n",
       "                                  'CentralAir', 'Heating', 'Condition1',\n",
       "                                  'SaleType', 'LotConfig', 'SaleCondition',\n",
       "                                  'HouseStyle', 'HeatingQC', 'PavedDrive',\n",
       "                                  'ExterQual', 'Street', 'LandContour',\n",
       "                                  'BldgType', 'RoofStyle', 'MSZoning',\n",
       "                                  'Functional', 'MasVnrType', 'TrainSet',\n",
       "                                  'LotShape', 'Exterior2nd', 'LandSlope'])])</pre></div></div></div><div class=\"sk-parallel\"><div class=\"sk-parallel-item\"><div class=\"sk-item\"><div class=\"sk-label-container\"><div class=\"sk-label sk-toggleable\"><input class=\"sk-toggleable__control sk-hidden--visually\" id=\"0df2929c-9d35-4dd5-9c5a-a60baafa7d99\" type=\"checkbox\" ><label class=\"sk-toggleable__label\" for=\"0df2929c-9d35-4dd5-9c5a-a60baafa7d99\">Constant Imputer</label><div class=\"sk-toggleable__content\"><pre>['Alley', 'BsmtQual', 'BsmtCond', 'BsmtExposure', 'BsmtFinType1', 'BsmtFinType2', 'FireplaceQu', 'GarageType', 'GarageFinish', 'GarageQual', 'GarageCond', 'PoolQC', 'Fence', 'MiscFeature']</pre></div></div></div><div class=\"sk-serial\"><div class=\"sk-item\"><div class=\"sk-serial\"><div class=\"sk-item\"><div class=\"sk-estimator sk-toggleable\"><input class=\"sk-toggleable__control sk-hidden--visually\" id=\"296d6417-8795-457c-965b-cdebbce7d6db\" type=\"checkbox\" ><label class=\"sk-toggleable__label\" for=\"296d6417-8795-457c-965b-cdebbce7d6db\">SimpleImputer</label><div class=\"sk-toggleable__content\"><pre>SimpleImputer(fill_value='None', strategy='constant')</pre></div></div></div><div class=\"sk-item\"><div class=\"sk-estimator sk-toggleable\"><input class=\"sk-toggleable__control sk-hidden--visually\" id=\"8d84991d-629d-465e-aa85-50c5ad39eb99\" type=\"checkbox\" ><label class=\"sk-toggleable__label\" for=\"8d84991d-629d-465e-aa85-50c5ad39eb99\">OrdinalEncoder</label><div class=\"sk-toggleable__content\"><pre>OrdinalEncoder()</pre></div></div></div></div></div></div></div></div><div class=\"sk-parallel-item\"><div class=\"sk-item\"><div class=\"sk-label-container\"><div class=\"sk-label sk-toggleable\"><input class=\"sk-toggleable__control sk-hidden--visually\" id=\"e4fe491f-c4ba-4146-8755-97b516af1f29\" type=\"checkbox\" ><label class=\"sk-toggleable__label\" for=\"e4fe491f-c4ba-4146-8755-97b516af1f29\">Median Imputer</label><div class=\"sk-toggleable__content\"><pre>Index(['MSSubClass', 'LotFrontage', 'LotArea', 'OverallQual', 'OverallCond',\n",
       "       'YearBuilt', 'YearRemodAdd', 'MasVnrArea', 'BsmtFinSF1', 'BsmtFinSF2',\n",
       "       'BsmtUnfSF', 'TotalBsmtSF', '1stFlrSF', '2ndFlrSF', 'LowQualFinSF',\n",
       "       'GrLivArea', 'BsmtFullBath', 'BsmtHalfBath', 'FullBath', 'HalfBath',\n",
       "       'BedroomAbvGr', 'KitchenAbvGr', 'TotRmsAbvGrd', 'Fireplaces',\n",
       "       'GarageYrBlt', 'GarageCars', 'GarageArea', 'WoodDeckSF', 'OpenPorchSF',\n",
       "       'EnclosedPorch', '3SsnPorch', 'ScreenPorch', 'PoolArea', 'MiscVal',\n",
       "       'MoSold', 'YrSold'],\n",
       "      dtype='object')</pre></div></div></div><div class=\"sk-serial\"><div class=\"sk-item\"><div class=\"sk-serial\"><div class=\"sk-item\"><div class=\"sk-estimator sk-toggleable\"><input class=\"sk-toggleable__control sk-hidden--visually\" id=\"97a1c1b3-75b5-4a69-97e0-d8c6ba499d11\" type=\"checkbox\" ><label class=\"sk-toggleable__label\" for=\"97a1c1b3-75b5-4a69-97e0-d8c6ba499d11\">SimpleImputer</label><div class=\"sk-toggleable__content\"><pre>SimpleImputer(strategy='median')</pre></div></div></div><div class=\"sk-item\"><div class=\"sk-estimator sk-toggleable\"><input class=\"sk-toggleable__control sk-hidden--visually\" id=\"11d58878-2d3b-4367-93d2-fa0599b08048\" type=\"checkbox\" ><label class=\"sk-toggleable__label\" for=\"11d58878-2d3b-4367-93d2-fa0599b08048\">StandardScaler</label><div class=\"sk-toggleable__content\"><pre>StandardScaler()</pre></div></div></div></div></div></div></div></div><div class=\"sk-parallel-item\"><div class=\"sk-item\"><div class=\"sk-label-container\"><div class=\"sk-label sk-toggleable\"><input class=\"sk-toggleable__control sk-hidden--visually\" id=\"4d32b755-0ede-4ba7-96d2-51b985d9bd18\" type=\"checkbox\" ><label class=\"sk-toggleable__label\" for=\"4d32b755-0ede-4ba7-96d2-51b985d9bd18\">Mode Iputer</label><div class=\"sk-toggleable__content\"><pre>['KitchenQual', 'RoofMatl', 'Utilities', 'Foundation', 'ExterCond', 'Exterior1st', 'Condition2', 'Electrical', 'Neighborhood', 'CentralAir', 'Heating', 'Condition1', 'SaleType', 'LotConfig', 'SaleCondition', 'HouseStyle', 'HeatingQC', 'PavedDrive', 'ExterQual', 'Street', 'LandContour', 'BldgType', 'RoofStyle', 'MSZoning', 'Functional', 'MasVnrType', 'TrainSet', 'LotShape', 'Exterior2nd', 'LandSlope']</pre></div></div></div><div class=\"sk-serial\"><div class=\"sk-item\"><div class=\"sk-serial\"><div class=\"sk-item\"><div class=\"sk-estimator sk-toggleable\"><input class=\"sk-toggleable__control sk-hidden--visually\" id=\"3f02373b-f243-48d2-9f45-9b217a8e5a54\" type=\"checkbox\" ><label class=\"sk-toggleable__label\" for=\"3f02373b-f243-48d2-9f45-9b217a8e5a54\">SimpleImputer</label><div class=\"sk-toggleable__content\"><pre>SimpleImputer(strategy='most_frequent')</pre></div></div></div><div class=\"sk-item\"><div class=\"sk-estimator sk-toggleable\"><input class=\"sk-toggleable__control sk-hidden--visually\" id=\"5d8a7696-e1ae-42af-a83f-4ed667af7630\" type=\"checkbox\" ><label class=\"sk-toggleable__label\" for=\"5d8a7696-e1ae-42af-a83f-4ed667af7630\">OrdinalEncoder</label><div class=\"sk-toggleable__content\"><pre>OrdinalEncoder()</pre></div></div></div></div></div></div></div></div></div></div></div></div></div></div>"
      ],
      "text/plain": [
       "Pipeline(steps=[('preprocessor',\n",
       "                 ColumnTransformer(transformers=[('Constant Imputer',\n",
       "                                                  Pipeline(steps=[('ImputerConstant',\n",
       "                                                                   SimpleImputer(fill_value='None',\n",
       "                                                                                 strategy='constant')),\n",
       "                                                                  ('OrdinalEncoder',\n",
       "                                                                   OrdinalEncoder())]),\n",
       "                                                  ['Alley', 'BsmtQual',\n",
       "                                                   'BsmtCond', 'BsmtExposure',\n",
       "                                                   'BsmtFinType1',\n",
       "                                                   'BsmtFinType2',\n",
       "                                                   'FireplaceQu', 'GarageType',\n",
       "                                                   'GarageFinish', 'GarageQual',\n",
       "                                                   'GarageCo...\n",
       "                                                   'Utilities', 'Foundation',\n",
       "                                                   'ExterCond', 'Exterior1st',\n",
       "                                                   'Condition2', 'Electrical',\n",
       "                                                   'Neighborhood', 'CentralAir',\n",
       "                                                   'Heating', 'Condition1',\n",
       "                                                   'SaleType', 'LotConfig',\n",
       "                                                   'SaleCondition',\n",
       "                                                   'HouseStyle', 'HeatingQC',\n",
       "                                                   'PavedDrive', 'ExterQual',\n",
       "                                                   'Street', 'LandContour',\n",
       "                                                   'BldgType', 'RoofStyle',\n",
       "                                                   'MSZoning', 'Functional',\n",
       "                                                   'MasVnrType', 'TrainSet',\n",
       "                                                   'LotShape', 'Exterior2nd',\n",
       "                                                   'LandSlope'])]))])"
      ]
     },
     "execution_count": 33,
     "metadata": {},
     "output_type": "execute_result"
    }
   ],
   "source": [
    "pipe_imputations"
   ]
  }
 ],
 "metadata": {
  "kernelspec": {
   "display_name": "Python 3",
   "language": "python",
   "name": "python3"
  },
  "language_info": {
   "codemirror_mode": {
    "name": "ipython",
    "version": 3
   },
   "file_extension": ".py",
   "mimetype": "text/x-python",
   "name": "python",
   "nbconvert_exporter": "python",
   "pygments_lexer": "ipython3",
   "version": "3.7.6"
  }
 },
 "nbformat": 4,
 "nbformat_minor": 4
}
