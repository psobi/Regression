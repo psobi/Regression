{
 "cells": [
  {
   "cell_type": "code",
   "execution_count": 17,
   "metadata": {},
   "outputs": [
    {
     "data": {
      "text/plain": [
       "('sklearn', '0.23.1')"
      ]
     },
     "execution_count": 17,
     "metadata": {},
     "output_type": "execute_result"
    }
   ],
   "source": [
    "import numpy as np\n",
    "import pandas as pd\n",
    "\n",
    "from sklearn.base import BaseEstimator, TransformerMixin\n",
    "from sklearn.pipeline import Pipeline\n",
    "\n",
    "from sklearn.impute import SimpleImputer\n",
    "from sklearn.preprocessing import RobustScaler, OrdinalEncoder\n",
    "\n",
    "import pickle5 as pickle\n",
    "\n",
    "import sklearn\n",
    "sklearn.__name__,sklearn.__version__"
   ]
  },
  {
   "cell_type": "code",
   "execution_count": 18,
   "metadata": {},
   "outputs": [
    {
     "data": {
      "text/plain": [
       "((1460, 80), (1459, 79))"
      ]
     },
     "execution_count": 18,
     "metadata": {},
     "output_type": "execute_result"
    }
   ],
   "source": [
    "df_train = pd.read_csv('../data/train.csv', index_col='Id', parse_dates=True).sort_index()\n",
    "df_test = pd.read_csv('../data/test.csv', index_col='Id', parse_dates=True).sort_index()\n",
    "\n",
    "(df_train.shape, df_test.shape)"
   ]
  },
  {
   "cell_type": "code",
   "execution_count": 19,
   "metadata": {},
   "outputs": [
    {
     "data": {
      "text/plain": [
       "((2919, 80),\n",
       " (1460,),\n",
       " Index(['MSSubClass', 'MSZoning', 'LotFrontage', 'LotArea', 'Street', 'Alley',\n",
       "        'LotShape', 'LandContour', 'Utilities', 'LotConfig', 'LandSlope',\n",
       "        'Neighborhood', 'Condition1', 'Condition2', 'BldgType', 'HouseStyle',\n",
       "        'OverallQual', 'OverallCond', 'YearBuilt', 'YearRemodAdd', 'RoofStyle',\n",
       "        'RoofMatl', 'Exterior1st', 'Exterior2nd', 'MasVnrType', 'MasVnrArea',\n",
       "        'ExterQual', 'ExterCond', 'Foundation', 'BsmtQual', 'BsmtCond',\n",
       "        'BsmtExposure', 'BsmtFinType1', 'BsmtFinSF1', 'BsmtFinType2',\n",
       "        'BsmtFinSF2', 'BsmtUnfSF', 'TotalBsmtSF', 'Heating', 'HeatingQC',\n",
       "        'CentralAir', 'Electrical', '1stFlrSF', '2ndFlrSF', 'LowQualFinSF',\n",
       "        'GrLivArea', 'BsmtFullBath', 'BsmtHalfBath', 'FullBath', 'HalfBath',\n",
       "        'BedroomAbvGr', 'KitchenAbvGr', 'KitchenQual', 'TotRmsAbvGrd',\n",
       "        'Functional', 'Fireplaces', 'FireplaceQu', 'GarageType', 'GarageYrBlt',\n",
       "        'GarageFinish', 'GarageCars', 'GarageArea', 'GarageQual', 'GarageCond',\n",
       "        'PavedDrive', 'WoodDeckSF', 'OpenPorchSF', 'EnclosedPorch', '3SsnPorch',\n",
       "        'ScreenPorch', 'PoolArea', 'PoolQC', 'Fence', 'MiscFeature', 'MiscVal',\n",
       "        'MoSold', 'YrSold', 'SaleType', 'SaleCondition', 'TrainSet'],\n",
       "       dtype='object'))"
      ]
     },
     "execution_count": 19,
     "metadata": {},
     "output_type": "execute_result"
    }
   ],
   "source": [
    "high_value_threshold = 200000.00\n",
    "y = np.where(df_train['SalePrice'] > 200000, 1, 0)\n",
    "\n",
    "df_train['TrainSet'] = 'Y'\n",
    "df_test['TrainSet'] = 'N'\n",
    "\n",
    "#Append Train and Test\n",
    "df_data = pd.concat([df_train.drop(['SalePrice'], axis=1), df_test], ignore_index=True)\n",
    "X = df_data\n",
    "\n",
    "X.shape, y.shape, X.columns"
   ]
  },
  {
   "cell_type": "code",
   "execution_count": 20,
   "metadata": {},
   "outputs": [],
   "source": [
    "class EstimatorCustom(BaseEstimator, TransformerMixin):\n",
    "    \n",
    "  def __init__(self, feature_to_estimate,feature_estimator):\n",
    "    self.feature_to_estimate = feature_to_estimate\n",
    "    self.feature_estimator = feature_estimator\n",
    "    print('\\nCustom Estimator for '+ self.feature_to_estimate + ' init() called.\\n')\n",
    "\n",
    "  def fit(self, X, y = None):\n",
    "    print('\\nCustom Estimator for ' + self.feature_to_estimate + ' fit() called.\\n')\n",
    "    return self\n",
    "    \n",
    "  def transform(self, X, y = None):\n",
    "    print('\\nCustom Estimator for ' + self.feature_to_estimate + ' transform() called.\\n')\n",
    "    X_ = X.copy() \n",
    "    X_[self.feature_to_estimate] = X_.groupby(self.feature_estimator)[self.feature_to_estimate].transform(lambda x: x.fillna(x.median()))\n",
    "    \n",
    "    return X_"
   ]
  },
  {
   "cell_type": "code",
   "execution_count": 21,
   "metadata": {},
   "outputs": [
    {
     "name": "stdout",
     "output_type": "stream",
     "text": [
      "\n",
      "Custom Estimator for LotFrontage init() called.\n",
      "\n",
      "\n",
      "Custom Estimator for LotFrontage fit() called.\n",
      "\n",
      "\n",
      "Custom Estimator for LotFrontage transform() called.\n",
      "\n"
     ]
    },
    {
     "data": {
      "text/plain": [
       "(0, (2919, 80))"
      ]
     },
     "execution_count": 21,
     "metadata": {},
     "output_type": "execute_result"
    }
   ],
   "source": [
    "pipe_custom = Pipeline(steps=[('Custom Estimator Lot Frontage',EstimatorCustom('LotFrontage','Neighborhood'))])\n",
    "X_pipe_custom = pipe_custom.fit_transform(X,0)\n",
    "\n",
    "(X_pipe_custom['LotFrontage'].isna().sum(), X_pipe_custom.shape)"
   ]
  },
  {
   "cell_type": "code",
   "execution_count": 22,
   "metadata": {},
   "outputs": [
    {
     "data": {
      "text/plain": [
       "80"
      ]
     },
     "execution_count": 22,
     "metadata": {},
     "output_type": "execute_result"
    }
   ],
   "source": [
    "dict_fla = {'Alley':'Feature_Level_Absent','BsmtQual':'Feature_Level_Absent','BsmtCond':'Feature_Level_Absent','BsmtExposure':'Feature_Level_Absent','BsmtFinType1':'Feature_Level_Absent','BsmtFinType2':'Feature_Level_Absent','FireplaceQu':'Feature_Level_Absent','GarageType':'Feature_Level_Absent','GarageFinish':'Feature_Level_Absent','GarageQual':'Feature_Level_Absent','GarageCond':'Feature_Level_Absent','PoolQC':'Feature_Level_Absent','Fence':'Feature_Level_Absent','MiscFeature':'None'}\n",
    "custom_features = list(dict_fla.keys())\n",
    "pipe_constant = Pipeline(steps=[\n",
    "    ('ImputerConstant', SimpleImputer(strategy='constant', fill_value='None')),\n",
    "    ('OrdinalEncoder', OrdinalEncoder())])\n",
    "\n",
    "numeric_features = X.select_dtypes(include=['int64', 'float64','int32','float32']).columns\n",
    "pipe_median = Pipeline(steps=[\n",
    "    ('ImputerMedian', SimpleImputer(strategy='median')),\n",
    "    ('Scaler', RobustScaler())])\n",
    "\n",
    "categorical_features = X.select_dtypes(include=['object','category']).columns\n",
    "categorical_features = list (set(categorical_features) - set (custom_features))\n",
    "pipe_mode = Pipeline(steps=[\n",
    "    ('ImputerMode', SimpleImputer(strategy='most_frequent')),\n",
    "    ('OrdinalEncoder', OrdinalEncoder())])\n",
    "\n",
    "features = list(custom_features) + list(numeric_features) + list(categorical_features)\n",
    "len(features)"
   ]
  },
  {
   "cell_type": "code",
   "execution_count": 23,
   "metadata": {},
   "outputs": [],
   "source": [
    "from sklearn.compose import ColumnTransformer\n",
    "preprocessor = ColumnTransformer(\n",
    "    transformers=[\n",
    "        ('Constant Imputer', pipe_constant, custom_features),      #14 columns\n",
    "        ('Median Imputer', pipe_median, numeric_features),        #36 columns\n",
    "        ('Mode Iputer', pipe_mode, categorical_features),        #43 columna\n",
    "    ])"
   ]
  },
  {
   "cell_type": "code",
   "execution_count": 24,
   "metadata": {},
   "outputs": [
    {
     "data": {
      "text/plain": [
       "(2919, 80)"
      ]
     },
     "execution_count": 24,
     "metadata": {},
     "output_type": "execute_result"
    }
   ],
   "source": [
    "pipe_imputations = Pipeline(steps=[('preprocessor', preprocessor)])\n",
    "\n",
    "X_pipe_imputations = pipe_imputations.fit_transform(X_pipe_custom, 0)\n",
    "X = pd.DataFrame(columns = features, data = X_pipe_imputations)\n",
    "X.shape\n"
   ]
  },
  {
   "cell_type": "code",
   "execution_count": 25,
   "metadata": {},
   "outputs": [
    {
     "name": "stderr",
     "output_type": "stream",
     "text": [
      "C:\\Users\\pawel\\AppData\\Roaming\\Python\\Python37\\site-packages\\pandas\\core\\frame.py:3997: SettingWithCopyWarning: \n",
      "A value is trying to be set on a copy of a slice from a DataFrame\n",
      "\n",
      "See the caveats in the documentation: https://pandas.pydata.org/pandas-docs/stable/user_guide/indexing.html#returning-a-view-versus-a-copy\n",
      "  errors=errors,\n"
     ]
    },
    {
     "data": {
      "text/plain": [
       "((1460, 79), (1459, 79), 1460)"
      ]
     },
     "execution_count": 25,
     "metadata": {},
     "output_type": "execute_result"
    }
   ],
   "source": [
    "X_train = X[X['TrainSet'] == 1]\n",
    "X_test = X[X['TrainSet'] == 0]\n",
    "\n",
    "X_train.drop(['TrainSet'],axis=1, inplace = True)\n",
    "X_test.drop(['TrainSet'],axis=1, inplace = True)\n",
    "      \n",
    "(X_train.shape, X_test.shape, len(y))"
   ]
  },
  {
   "cell_type": "code",
   "execution_count": 26,
   "metadata": {},
   "outputs": [],
   "source": [
    "file_mrd_train = open(\"../data/X_train_03_preprocess\", \"wb\")\n",
    "file_mrd_test = open(\"../data/X_test_03_preprocess\", \"wb\")\n",
    "file_mrd_y = open(\"../data/y_train_03_preprocess\", \"wb\")\n",
    "\n",
    "pickle.dump(X_train,file_mrd_train)\n",
    "pickle.dump(X_test,file_mrd_test)\n",
    "pickle.dump(y,file_mrd_y)\n",
    "\n",
    "file_mrd_train.close()\n",
    "file_mrd_test.close()\n",
    "file_mrd_y.close()"
   ]
  },
  {
   "cell_type": "code",
   "execution_count": 29,
   "metadata": {},
   "outputs": [
    {
     "data": {
      "text/html": [
       "<style>div.sk-top-container {color: black;background-color: white;}div.sk-toggleable {background-color: white;}label.sk-toggleable__label {cursor: pointer;display: block;width: 100%;margin-bottom: 0;padding: 0.2em 0.3em;box-sizing: border-box;text-align: center;}div.sk-toggleable__content {max-height: 0;max-width: 0;overflow: hidden;text-align: left;background-color: #f0f8ff;}div.sk-toggleable__content pre {margin: 0.2em;color: black;border-radius: 0.25em;background-color: #f0f8ff;}input.sk-toggleable__control:checked~div.sk-toggleable__content {max-height: 200px;max-width: 100%;overflow: auto;}div.sk-estimator input.sk-toggleable__control:checked~label.sk-toggleable__label {background-color: #d4ebff;}div.sk-label input.sk-toggleable__control:checked~label.sk-toggleable__label {background-color: #d4ebff;}input.sk-hidden--visually {border: 0;clip: rect(1px 1px 1px 1px);clip: rect(1px, 1px, 1px, 1px);height: 1px;margin: -1px;overflow: hidden;padding: 0;position: absolute;width: 1px;}div.sk-estimator {font-family: monospace;background-color: #f0f8ff;margin: 0.25em 0.25em;border: 1px dotted black;border-radius: 0.25em;box-sizing: border-box;}div.sk-estimator:hover {background-color: #d4ebff;}div.sk-parallel-item::after {content: \"\";width: 100%;border-bottom: 1px solid gray;flex-grow: 1;}div.sk-label:hover label.sk-toggleable__label {background-color: #d4ebff;}div.sk-serial::before {content: \"\";position: absolute;border-left: 1px solid gray;box-sizing: border-box;top: 2em;bottom: 0;left: 50%;}div.sk-serial {display: flex;flex-direction: column;align-items: center;background-color: white;}div.sk-item {z-index: 1;}div.sk-parallel {display: flex;align-items: stretch;justify-content: center;background-color: white;}div.sk-parallel-item {display: flex;flex-direction: column;position: relative;background-color: white;}div.sk-parallel-item:first-child::after {align-self: flex-end;width: 50%;}div.sk-parallel-item:last-child::after {align-self: flex-start;width: 50%;}div.sk-parallel-item:only-child::after {width: 0;}div.sk-dashed-wrapped {border: 1px dashed gray;margin: 0.2em;box-sizing: border-box;padding-bottom: 0.1em;background-color: white;position: relative;}div.sk-label label {font-family: monospace;font-weight: bold;background-color: white;display: inline-block;line-height: 1.2em;}div.sk-label-container {position: relative;z-index: 2;text-align: center;}div.sk-container {display: inline-block;position: relative;}</style><div class=\"sk-top-container\"><div class=\"sk-container\"><div class=\"sk-item sk-dashed-wrapped\"><div class=\"sk-label-container\"><div class=\"sk-label sk-toggleable\"><input class=\"sk-toggleable__control sk-hidden--visually\" id=\"7cfc95f3-2dff-4318-bf02-c95509d3d545\" type=\"checkbox\" ><label class=\"sk-toggleable__label\" for=\"7cfc95f3-2dff-4318-bf02-c95509d3d545\">Pipeline</label><div class=\"sk-toggleable__content\"><pre>Pipeline(steps=[('Custom Estimator Lot Frontage',\n",
       "                 EstimatorCustom(feature_estimator='Neighborhood',\n",
       "                                 feature_to_estimate='LotFrontage'))])</pre></div></div></div><div class=\"sk-serial\"><div class=\"sk-item\"><div class=\"sk-estimator sk-toggleable\"><input class=\"sk-toggleable__control sk-hidden--visually\" id=\"0b01b4e8-156f-4f33-b5fc-1984279d29e4\" type=\"checkbox\" ><label class=\"sk-toggleable__label\" for=\"0b01b4e8-156f-4f33-b5fc-1984279d29e4\">EstimatorCustom</label><div class=\"sk-toggleable__content\"><pre>EstimatorCustom(feature_estimator='Neighborhood',\n",
       "                feature_to_estimate='LotFrontage')</pre></div></div></div></div></div></div></div>"
      ],
      "text/plain": [
       "Pipeline(steps=[('Custom Estimator Lot Frontage',\n",
       "                 EstimatorCustom(feature_estimator='Neighborhood',\n",
       "                                 feature_to_estimate='LotFrontage'))])"
      ]
     },
     "execution_count": 29,
     "metadata": {},
     "output_type": "execute_result"
    }
   ],
   "source": [
    "from sklearn import set_config\n",
    "set_config(display='diagram')\n",
    "pipe_custom"
   ]
  },
  {
   "cell_type": "code",
   "execution_count": 28,
   "metadata": {},
   "outputs": [
    {
     "data": {
      "text/html": [
       "<style>div.sk-top-container {color: black;background-color: white;}div.sk-toggleable {background-color: white;}label.sk-toggleable__label {cursor: pointer;display: block;width: 100%;margin-bottom: 0;padding: 0.2em 0.3em;box-sizing: border-box;text-align: center;}div.sk-toggleable__content {max-height: 0;max-width: 0;overflow: hidden;text-align: left;background-color: #f0f8ff;}div.sk-toggleable__content pre {margin: 0.2em;color: black;border-radius: 0.25em;background-color: #f0f8ff;}input.sk-toggleable__control:checked~div.sk-toggleable__content {max-height: 200px;max-width: 100%;overflow: auto;}div.sk-estimator input.sk-toggleable__control:checked~label.sk-toggleable__label {background-color: #d4ebff;}div.sk-label input.sk-toggleable__control:checked~label.sk-toggleable__label {background-color: #d4ebff;}input.sk-hidden--visually {border: 0;clip: rect(1px 1px 1px 1px);clip: rect(1px, 1px, 1px, 1px);height: 1px;margin: -1px;overflow: hidden;padding: 0;position: absolute;width: 1px;}div.sk-estimator {font-family: monospace;background-color: #f0f8ff;margin: 0.25em 0.25em;border: 1px dotted black;border-radius: 0.25em;box-sizing: border-box;}div.sk-estimator:hover {background-color: #d4ebff;}div.sk-parallel-item::after {content: \"\";width: 100%;border-bottom: 1px solid gray;flex-grow: 1;}div.sk-label:hover label.sk-toggleable__label {background-color: #d4ebff;}div.sk-serial::before {content: \"\";position: absolute;border-left: 1px solid gray;box-sizing: border-box;top: 2em;bottom: 0;left: 50%;}div.sk-serial {display: flex;flex-direction: column;align-items: center;background-color: white;}div.sk-item {z-index: 1;}div.sk-parallel {display: flex;align-items: stretch;justify-content: center;background-color: white;}div.sk-parallel-item {display: flex;flex-direction: column;position: relative;background-color: white;}div.sk-parallel-item:first-child::after {align-self: flex-end;width: 50%;}div.sk-parallel-item:last-child::after {align-self: flex-start;width: 50%;}div.sk-parallel-item:only-child::after {width: 0;}div.sk-dashed-wrapped {border: 1px dashed gray;margin: 0.2em;box-sizing: border-box;padding-bottom: 0.1em;background-color: white;position: relative;}div.sk-label label {font-family: monospace;font-weight: bold;background-color: white;display: inline-block;line-height: 1.2em;}div.sk-label-container {position: relative;z-index: 2;text-align: center;}div.sk-container {display: inline-block;position: relative;}</style><div class=\"sk-top-container\"><div class=\"sk-container\"><div class=\"sk-item sk-dashed-wrapped\"><div class=\"sk-label-container\"><div class=\"sk-label sk-toggleable\"><input class=\"sk-toggleable__control sk-hidden--visually\" id=\"ce41ce43-af88-4b07-841a-b3bbd0d46f31\" type=\"checkbox\" ><label class=\"sk-toggleable__label\" for=\"ce41ce43-af88-4b07-841a-b3bbd0d46f31\">Pipeline</label><div class=\"sk-toggleable__content\"><pre>Pipeline(steps=[('preprocessor',\n",
       "                 ColumnTransformer(transformers=[('Constant Imputer',\n",
       "                                                  Pipeline(steps=[('ImputerConstant',\n",
       "                                                                   SimpleImputer(fill_value='None',\n",
       "                                                                                 strategy='constant')),\n",
       "                                                                  ('OrdinalEncoder',\n",
       "                                                                   OrdinalEncoder())]),\n",
       "                                                  ['Alley', 'BsmtQual',\n",
       "                                                   'BsmtCond', 'BsmtExposure',\n",
       "                                                   'BsmtFinType1',\n",
       "                                                   'BsmtFinType2',\n",
       "                                                   'FireplaceQu', 'GarageType',\n",
       "                                                   'GarageFinish', 'GarageQual',\n",
       "                                                   'GarageCo...\n",
       "                                                   'MSZoning', 'Condition1',\n",
       "                                                   'LandContour', 'ExterCond',\n",
       "                                                   'RoofMatl', 'SaleType',\n",
       "                                                   'Foundation', 'Utilities',\n",
       "                                                   'HouseStyle', 'ExterQual',\n",
       "                                                   'LotShape', 'BldgType',\n",
       "                                                   'LotConfig', 'CentralAir',\n",
       "                                                   'TrainSet', 'KitchenQual',\n",
       "                                                   'LandSlope', 'Street',\n",
       "                                                   'Electrical', 'Heating',\n",
       "                                                   'PavedDrive', 'HeatingQC',\n",
       "                                                   'Neighborhood',\n",
       "                                                   'Exterior2nd', 'Exterior1st',\n",
       "                                                   'MasVnrType', 'RoofStyle',\n",
       "                                                   'SaleCondition'])]))])</pre></div></div></div><div class=\"sk-serial\"><div class=\"sk-item sk-dashed-wrapped\"><div class=\"sk-label-container\"><div class=\"sk-label sk-toggleable\"><input class=\"sk-toggleable__control sk-hidden--visually\" id=\"6dd4e5b8-c566-46a9-9513-00d57870cd5c\" type=\"checkbox\" ><label class=\"sk-toggleable__label\" for=\"6dd4e5b8-c566-46a9-9513-00d57870cd5c\">preprocessor: ColumnTransformer</label><div class=\"sk-toggleable__content\"><pre>ColumnTransformer(transformers=[('Constant Imputer',\n",
       "                                 Pipeline(steps=[('ImputerConstant',\n",
       "                                                  SimpleImputer(fill_value='None',\n",
       "                                                                strategy='constant')),\n",
       "                                                 ('OrdinalEncoder',\n",
       "                                                  OrdinalEncoder())]),\n",
       "                                 ['Alley', 'BsmtQual', 'BsmtCond',\n",
       "                                  'BsmtExposure', 'BsmtFinType1',\n",
       "                                  'BsmtFinType2', 'FireplaceQu', 'GarageType',\n",
       "                                  'GarageFinish', 'GarageQual', 'GarageCond',\n",
       "                                  'PoolQC', 'Fence', 'MiscFeatur...\n",
       "                                 ['Condition2', 'Functional', 'MSZoning',\n",
       "                                  'Condition1', 'LandContour', 'ExterCond',\n",
       "                                  'RoofMatl', 'SaleType', 'Foundation',\n",
       "                                  'Utilities', 'HouseStyle', 'ExterQual',\n",
       "                                  'LotShape', 'BldgType', 'LotConfig',\n",
       "                                  'CentralAir', 'TrainSet', 'KitchenQual',\n",
       "                                  'LandSlope', 'Street', 'Electrical',\n",
       "                                  'Heating', 'PavedDrive', 'HeatingQC',\n",
       "                                  'Neighborhood', 'Exterior2nd', 'Exterior1st',\n",
       "                                  'MasVnrType', 'RoofStyle',\n",
       "                                  'SaleCondition'])])</pre></div></div></div><div class=\"sk-parallel\"><div class=\"sk-parallel-item\"><div class=\"sk-item\"><div class=\"sk-label-container\"><div class=\"sk-label sk-toggleable\"><input class=\"sk-toggleable__control sk-hidden--visually\" id=\"e9773e2f-c4b6-4eaa-bda4-cdd861bfa435\" type=\"checkbox\" ><label class=\"sk-toggleable__label\" for=\"e9773e2f-c4b6-4eaa-bda4-cdd861bfa435\">Constant Imputer</label><div class=\"sk-toggleable__content\"><pre>['Alley', 'BsmtQual', 'BsmtCond', 'BsmtExposure', 'BsmtFinType1', 'BsmtFinType2', 'FireplaceQu', 'GarageType', 'GarageFinish', 'GarageQual', 'GarageCond', 'PoolQC', 'Fence', 'MiscFeature']</pre></div></div></div><div class=\"sk-serial\"><div class=\"sk-item\"><div class=\"sk-serial\"><div class=\"sk-item\"><div class=\"sk-estimator sk-toggleable\"><input class=\"sk-toggleable__control sk-hidden--visually\" id=\"5764e9a5-87e6-42cf-b91a-9678523a12d7\" type=\"checkbox\" ><label class=\"sk-toggleable__label\" for=\"5764e9a5-87e6-42cf-b91a-9678523a12d7\">SimpleImputer</label><div class=\"sk-toggleable__content\"><pre>SimpleImputer(fill_value='None', strategy='constant')</pre></div></div></div><div class=\"sk-item\"><div class=\"sk-estimator sk-toggleable\"><input class=\"sk-toggleable__control sk-hidden--visually\" id=\"c22d5c20-5f3a-4e48-b2f7-f120e3499403\" type=\"checkbox\" ><label class=\"sk-toggleable__label\" for=\"c22d5c20-5f3a-4e48-b2f7-f120e3499403\">OrdinalEncoder</label><div class=\"sk-toggleable__content\"><pre>OrdinalEncoder()</pre></div></div></div></div></div></div></div></div><div class=\"sk-parallel-item\"><div class=\"sk-item\"><div class=\"sk-label-container\"><div class=\"sk-label sk-toggleable\"><input class=\"sk-toggleable__control sk-hidden--visually\" id=\"d2c56ffb-c891-4e55-9f83-64c9d4d42173\" type=\"checkbox\" ><label class=\"sk-toggleable__label\" for=\"d2c56ffb-c891-4e55-9f83-64c9d4d42173\">Median Imputer</label><div class=\"sk-toggleable__content\"><pre>Index(['MSSubClass', 'LotFrontage', 'LotArea', 'OverallQual', 'OverallCond',\n",
       "       'YearBuilt', 'YearRemodAdd', 'MasVnrArea', 'BsmtFinSF1', 'BsmtFinSF2',\n",
       "       'BsmtUnfSF', 'TotalBsmtSF', '1stFlrSF', '2ndFlrSF', 'LowQualFinSF',\n",
       "       'GrLivArea', 'BsmtFullBath', 'BsmtHalfBath', 'FullBath', 'HalfBath',\n",
       "       'BedroomAbvGr', 'KitchenAbvGr', 'TotRmsAbvGrd', 'Fireplaces',\n",
       "       'GarageYrBlt', 'GarageCars', 'GarageArea', 'WoodDeckSF', 'OpenPorchSF',\n",
       "       'EnclosedPorch', '3SsnPorch', 'ScreenPorch', 'PoolArea', 'MiscVal',\n",
       "       'MoSold', 'YrSold'],\n",
       "      dtype='object')</pre></div></div></div><div class=\"sk-serial\"><div class=\"sk-item\"><div class=\"sk-serial\"><div class=\"sk-item\"><div class=\"sk-estimator sk-toggleable\"><input class=\"sk-toggleable__control sk-hidden--visually\" id=\"14af2541-d5fa-403b-ad8c-76e79720645b\" type=\"checkbox\" ><label class=\"sk-toggleable__label\" for=\"14af2541-d5fa-403b-ad8c-76e79720645b\">SimpleImputer</label><div class=\"sk-toggleable__content\"><pre>SimpleImputer(strategy='median')</pre></div></div></div><div class=\"sk-item\"><div class=\"sk-estimator sk-toggleable\"><input class=\"sk-toggleable__control sk-hidden--visually\" id=\"2f914d7e-5420-45c7-b0af-a22ac716deb2\" type=\"checkbox\" ><label class=\"sk-toggleable__label\" for=\"2f914d7e-5420-45c7-b0af-a22ac716deb2\">RobustScaler</label><div class=\"sk-toggleable__content\"><pre>RobustScaler()</pre></div></div></div></div></div></div></div></div><div class=\"sk-parallel-item\"><div class=\"sk-item\"><div class=\"sk-label-container\"><div class=\"sk-label sk-toggleable\"><input class=\"sk-toggleable__control sk-hidden--visually\" id=\"10daa53e-32d5-4ee5-a225-feb299dcadf4\" type=\"checkbox\" ><label class=\"sk-toggleable__label\" for=\"10daa53e-32d5-4ee5-a225-feb299dcadf4\">Mode Iputer</label><div class=\"sk-toggleable__content\"><pre>['Condition2', 'Functional', 'MSZoning', 'Condition1', 'LandContour', 'ExterCond', 'RoofMatl', 'SaleType', 'Foundation', 'Utilities', 'HouseStyle', 'ExterQual', 'LotShape', 'BldgType', 'LotConfig', 'CentralAir', 'TrainSet', 'KitchenQual', 'LandSlope', 'Street', 'Electrical', 'Heating', 'PavedDrive', 'HeatingQC', 'Neighborhood', 'Exterior2nd', 'Exterior1st', 'MasVnrType', 'RoofStyle', 'SaleCondition']</pre></div></div></div><div class=\"sk-serial\"><div class=\"sk-item\"><div class=\"sk-serial\"><div class=\"sk-item\"><div class=\"sk-estimator sk-toggleable\"><input class=\"sk-toggleable__control sk-hidden--visually\" id=\"7534d77d-9dbc-494b-aa6a-b4a855f7f1cd\" type=\"checkbox\" ><label class=\"sk-toggleable__label\" for=\"7534d77d-9dbc-494b-aa6a-b4a855f7f1cd\">SimpleImputer</label><div class=\"sk-toggleable__content\"><pre>SimpleImputer(strategy='most_frequent')</pre></div></div></div><div class=\"sk-item\"><div class=\"sk-estimator sk-toggleable\"><input class=\"sk-toggleable__control sk-hidden--visually\" id=\"49bdedf1-169a-48cb-8f4e-39d7c27a6ebf\" type=\"checkbox\" ><label class=\"sk-toggleable__label\" for=\"49bdedf1-169a-48cb-8f4e-39d7c27a6ebf\">OrdinalEncoder</label><div class=\"sk-toggleable__content\"><pre>OrdinalEncoder()</pre></div></div></div></div></div></div></div></div></div></div></div></div></div></div>"
      ],
      "text/plain": [
       "Pipeline(steps=[('preprocessor',\n",
       "                 ColumnTransformer(transformers=[('Constant Imputer',\n",
       "                                                  Pipeline(steps=[('ImputerConstant',\n",
       "                                                                   SimpleImputer(fill_value='None',\n",
       "                                                                                 strategy='constant')),\n",
       "                                                                  ('OrdinalEncoder',\n",
       "                                                                   OrdinalEncoder())]),\n",
       "                                                  ['Alley', 'BsmtQual',\n",
       "                                                   'BsmtCond', 'BsmtExposure',\n",
       "                                                   'BsmtFinType1',\n",
       "                                                   'BsmtFinType2',\n",
       "                                                   'FireplaceQu', 'GarageType',\n",
       "                                                   'GarageFinish', 'GarageQual',\n",
       "                                                   'GarageCo...\n",
       "                                                   'MSZoning', 'Condition1',\n",
       "                                                   'LandContour', 'ExterCond',\n",
       "                                                   'RoofMatl', 'SaleType',\n",
       "                                                   'Foundation', 'Utilities',\n",
       "                                                   'HouseStyle', 'ExterQual',\n",
       "                                                   'LotShape', 'BldgType',\n",
       "                                                   'LotConfig', 'CentralAir',\n",
       "                                                   'TrainSet', 'KitchenQual',\n",
       "                                                   'LandSlope', 'Street',\n",
       "                                                   'Electrical', 'Heating',\n",
       "                                                   'PavedDrive', 'HeatingQC',\n",
       "                                                   'Neighborhood',\n",
       "                                                   'Exterior2nd', 'Exterior1st',\n",
       "                                                   'MasVnrType', 'RoofStyle',\n",
       "                                                   'SaleCondition'])]))])"
      ]
     },
     "execution_count": 28,
     "metadata": {},
     "output_type": "execute_result"
    }
   ],
   "source": [
    "pipe_imputations"
   ]
  }
 ],
 "metadata": {
  "kernelspec": {
   "display_name": "Python 3",
   "language": "python",
   "name": "python3"
  },
  "language_info": {
   "codemirror_mode": {
    "name": "ipython",
    "version": 3
   },
   "file_extension": ".py",
   "mimetype": "text/x-python",
   "name": "python",
   "nbconvert_exporter": "python",
   "pygments_lexer": "ipython3",
   "version": "3.7.6"
  }
 },
 "nbformat": 4,
 "nbformat_minor": 4
}
