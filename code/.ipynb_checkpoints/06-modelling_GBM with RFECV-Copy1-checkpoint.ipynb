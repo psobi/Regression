{
 "cells": [
  {
   "cell_type": "code",
   "execution_count": 1,
   "metadata": {},
   "outputs": [],
   "source": [
    "import numpy as np\n",
    "import pandas as pd\n",
    "import seaborn as sns\n",
    "import matplotlib.pyplot as plt\n",
    "import lightgbm as lgb\n",
    "\n",
    "from lightgbm import LGBMClassifier\n",
    "\n",
    "from sklearn.model_selection import train_test_split, GridSearchCV\n",
    "from sklearn.metrics import confusion_matrix,accuracy_score, roc_curve, auc\n",
    "sns.set_style(\"darkgrid\")\n",
    "\n",
    "from sklearn.pipeline import Pipeline\n",
    "from sklearn.preprocessing import StandardScaler\n",
    "#Import data\n",
    "import pickle5 as pickle"
   ]
  },
  {
   "cell_type": "code",
   "execution_count": 2,
   "metadata": {},
   "outputs": [
    {
     "data": {
      "text/plain": [
       "((1460, 71), (1460,))"
      ]
     },
     "execution_count": 2,
     "metadata": {},
     "output_type": "execute_result"
    }
   ],
   "source": [
    "file_train_X = open(\"../data/X_train_03_preprocess\",\"rb\")\n",
    "file_train_y = open(\"../data/y_train_03_preprocess\",\"rb\")\n",
    "\n",
    "X = pickle.load(file_train_X)\n",
    "y = pickle.load(file_train_y)\n",
    "\n",
    "X.isnull().sum().sum() #No missing values\n",
    "X.shape, y.shape"
   ]
  },
  {
   "cell_type": "code",
   "execution_count": 4,
   "metadata": {},
   "outputs": [],
   "source": [
    "for c in X.columns:\n",
    "    col_type = X[c].dtype\n",
    "    if col_type == 'object' or col_type.name == 'category':\n",
    "        X[c] = X[c].astype('category')"
   ]
  },
  {
   "cell_type": "markdown",
   "metadata": {},
   "source": [
    "## Retrieve Best Features from RFECV"
   ]
  },
  {
   "cell_type": "code",
   "execution_count": 5,
   "metadata": {},
   "outputs": [
    {
     "data": {
      "text/plain": [
       "{('Random Forest', 'roc_auc'): ['BsmtQual',\n",
       "  'BsmtExposure',\n",
       "  'BsmtFinType1',\n",
       "  'FireplaceQu',\n",
       "  'GarageType',\n",
       "  'GarageFinish',\n",
       "  'MSSubClass',\n",
       "  'LotFrontage',\n",
       "  'LotArea',\n",
       "  'OverallQual',\n",
       "  'OverallCond',\n",
       "  'YearBuilt',\n",
       "  'YearRemodAdd',\n",
       "  'MasVnrArea',\n",
       "  'BsmtUnfSF',\n",
       "  'TotalBsmtSF',\n",
       "  'GrLivArea',\n",
       "  'BedroomAbvGr',\n",
       "  'TotRmsAbvGrd',\n",
       "  'Fireplaces',\n",
       "  'GarageArea',\n",
       "  'WoodDeckSF',\n",
       "  'OpenPorchSF',\n",
       "  'ScreenPorch',\n",
       "  'MoSold',\n",
       "  'YrSold',\n",
       "  'Exterior2nd',\n",
       "  'RoofStyle',\n",
       "  'ExterQual',\n",
       "  'Exterior1st',\n",
       "  'SaleCondition',\n",
       "  'HeatingQC',\n",
       "  'LotConfig',\n",
       "  'LotShape',\n",
       "  'LandContour',\n",
       "  'Neighborhood',\n",
       "  'BldgType',\n",
       "  'HouseStyle',\n",
       "  'MasVnrType',\n",
       "  'Foundation',\n",
       "  'KitchenQual',\n",
       "  'TotalBsmtFin',\n",
       "  'TotalBath'],\n",
       " ('Logistic Regression', 'roc_auc'): ['BsmtQual',\n",
       "  'MSSubClass',\n",
       "  'LotArea',\n",
       "  'OverallQual',\n",
       "  'OverallCond',\n",
       "  'YearBuilt',\n",
       "  'YearRemodAdd',\n",
       "  'LowQualFinSF',\n",
       "  'GrLivArea',\n",
       "  'Fireplaces',\n",
       "  'GarageArea',\n",
       "  'Exterior2nd',\n",
       "  'Exterior1st',\n",
       "  'SaleCondition',\n",
       "  'Functional',\n",
       "  'MSZoning',\n",
       "  'BldgType',\n",
       "  'KitchenQual',\n",
       "  'Condition2',\n",
       "  'TotalBsmtFin'],\n",
       " ('Random Forest', 'balanced_accuracy'): ['BsmtQual',\n",
       "  'MSSubClass',\n",
       "  'LotFrontage',\n",
       "  'LotArea',\n",
       "  'OverallQual',\n",
       "  'YearBuilt',\n",
       "  'YearRemodAdd',\n",
       "  'BsmtUnfSF',\n",
       "  'TotalBsmtSF',\n",
       "  'GrLivArea',\n",
       "  'TotRmsAbvGrd',\n",
       "  'Fireplaces',\n",
       "  'GarageArea',\n",
       "  'OpenPorchSF',\n",
       "  'ExterQual',\n",
       "  'Neighborhood',\n",
       "  'KitchenQual',\n",
       "  'TotalBsmtFin',\n",
       "  'TotalBath'],\n",
       " ('Logistic Regression', 'balanced_accuracy'): ['BsmtQual',\n",
       "  'BsmtFinType1',\n",
       "  'MiscFeature',\n",
       "  'MSSubClass',\n",
       "  'LotArea',\n",
       "  'OverallQual',\n",
       "  'OverallCond',\n",
       "  'YearBuilt',\n",
       "  'YearRemodAdd',\n",
       "  'TotalBsmtSF',\n",
       "  'LowQualFinSF',\n",
       "  'GrLivArea',\n",
       "  'TotRmsAbvGrd',\n",
       "  'Fireplaces',\n",
       "  'GarageArea',\n",
       "  'Exterior2nd',\n",
       "  'Exterior1st',\n",
       "  'SaleCondition',\n",
       "  'Functional',\n",
       "  'MSZoning',\n",
       "  'BldgType',\n",
       "  'KitchenQual',\n",
       "  'Condition2',\n",
       "  'TotalBsmtFin',\n",
       "  'TotalBath']}"
      ]
     },
     "execution_count": 5,
     "metadata": {},
     "output_type": "execute_result"
    }
   ],
   "source": [
    "file_features = open(\"../data/04_features_selection\", \"rb\")\n",
    "models_best_features = pickle.load(file_features)\n",
    "models_best_features"
   ]
  },
  {
   "cell_type": "code",
   "execution_count": 6,
   "metadata": {},
   "outputs": [
    {
     "data": {
      "text/plain": [
       "Index(['Alley', 'BsmtQual', 'BsmtCond', 'BsmtExposure', 'BsmtFinType1',\n",
       "       'BsmtFinType2', 'FireplaceQu', 'GarageType', 'GarageFinish',\n",
       "       'GarageQual', 'GarageCond', 'PoolQC', 'Fence', 'MiscFeature',\n",
       "       'MSSubClass', 'LotFrontage', 'LotArea', 'OverallQual', 'OverallCond',\n",
       "       'YearBuilt', 'YearRemodAdd', 'MasVnrArea', 'BsmtUnfSF', 'TotalBsmtSF',\n",
       "       'LowQualFinSF', 'GrLivArea', 'BedroomAbvGr', 'KitchenAbvGr',\n",
       "       'TotRmsAbvGrd', 'Fireplaces', 'GarageArea', 'WoodDeckSF', 'OpenPorchSF',\n",
       "       'EnclosedPorch', '3SsnPorch', 'ScreenPorch', 'PoolArea', 'MiscVal',\n",
       "       'MoSold', 'YrSold', 'Exterior2nd', 'Utilities', 'SaleType', 'RoofStyle',\n",
       "       'LandSlope', 'RoofMatl', 'ExterQual', 'Electrical', 'Street',\n",
       "       'Exterior1st', 'SaleCondition', 'Heating', 'Functional', 'PavedDrive',\n",
       "       'MSZoning', 'HeatingQC', 'LotConfig', 'LotShape', 'CentralAir',\n",
       "       'LandContour', 'Neighborhood', 'BldgType', 'Condition1', 'ExterCond',\n",
       "       'HouseStyle', 'MasVnrType', 'Foundation', 'KitchenQual', 'Condition2',\n",
       "       'TotalBsmtFin', 'TotalBath'],\n",
       "      dtype='object')"
      ]
     },
     "execution_count": 6,
     "metadata": {},
     "output_type": "execute_result"
    }
   ],
   "source": [
    "X.columns"
   ]
  },
  {
   "cell_type": "code",
   "execution_count": 56,
   "metadata": {},
   "outputs": [
    {
     "data": {
      "text/plain": [
       "dict_keys(['memory', 'steps', 'verbose', 'scaler', 'lgbm', 'scaler__copy', 'scaler__with_mean', 'scaler__with_std', 'lgbm__boosting_type', 'lgbm__class_weight', 'lgbm__colsample_bytree', 'lgbm__importance_type', 'lgbm__learning_rate', 'lgbm__max_depth', 'lgbm__min_child_samples', 'lgbm__min_child_weight', 'lgbm__min_split_gain', 'lgbm__n_estimators', 'lgbm__n_jobs', 'lgbm__num_leaves', 'lgbm__objective', 'lgbm__random_state', 'lgbm__reg_alpha', 'lgbm__reg_lambda', 'lgbm__silent', 'lgbm__subsample', 'lgbm__subsample_for_bin', 'lgbm__subsample_freq', 'lgbm__metric'])"
      ]
     },
     "execution_count": 56,
     "metadata": {},
     "output_type": "execute_result"
    }
   ],
   "source": [
    "pipeline.get_params().keys()"
   ]
  },
  {
   "cell_type": "code",
   "execution_count": 13,
   "metadata": {},
   "outputs": [
    {
     "name": "stdout",
     "output_type": "stream",
     "text": [
      "Fitting 5 folds for each of 324 candidates, totalling 1620 fits\n"
     ]
    },
    {
     "name": "stderr",
     "output_type": "stream",
     "text": [
      "[Parallel(n_jobs=1)]: Using backend SequentialBackend with 1 concurrent workers.\n"
     ]
    },
    {
     "name": "stdout",
     "output_type": "stream",
     "text": [
      "Best score and parameter combination = \n",
      "0.9833654115570789\n",
      "{'lgbm__learning_rate': 0.07, 'lgbm__max_depth': 7, 'lgbm__min_data_in_leaf': 20, 'lgbm__n_estimators': 100, 'lgbm__num_leaves': 10}\n"
     ]
    },
    {
     "name": "stderr",
     "output_type": "stream",
     "text": [
      "[Parallel(n_jobs=1)]: Done 1620 out of 1620 | elapsed:  2.8min finished\n"
     ]
    }
   ],
   "source": [
    "pipeline = Pipeline([('scaler', StandardScaler()),('lgbm', LGBMClassifier(objective = 'binary', metric  = 'roc_auc',boosting_type = 'gbdt'))])\n",
    "\n",
    "\n",
    "parameters = {}\n",
    "parameters['lgbm__learning_rate'] = [0.07]\n",
    "parameters['lgbm__n_estimators'] = [10, 20, 40, 50, 60, 70, 80, 90, 100] #, 50, 100, 150, 200, 300, 500]\n",
    "parameters['lgbm__num_leaves'] = [10, 20 , 30]\n",
    "parameters['lgbm__min_data_in_leaf'] = [5, 10, 15, 20, 25] #, 30, 40, 50, 60, 70, 80, 90, 100]\n",
    "parameters['lgbm__max_depth'] = [5, 6 , 7, 8] #, 9, 10]\n",
    "\n",
    "CV = GridSearchCV(pipeline, parameters, cv = 5, scoring = 'roc_auc', verbose = 1)\n",
    "CV.fit(X, y)   \n",
    "\n",
    "print('Best score')\n",
    "print(CV.best_score_)\n",
    "print(' parameter combination)\n",
    "print(CV.best_params_)    \n"
   ]
  },
  {
   "cell_type": "code",
   "execution_count": 26,
   "metadata": {},
   "outputs": [],
   "source": [
    "lgbm  = CV.best_estimator_.steps[-1][-1]"
   ]
  },
  {
   "cell_type": "code",
   "execution_count": null,
   "metadata": {},
   "outputs": [],
   "source": [
    "best_estimator_ : will give you the estimator maximizing your scoring method if you provide some or the score function of your estimator\n",
    "best_score_ : score produced by your best estimator\n",
    "best_params_ : parameters used to produce your best score\n",
    "grid_scores_ : parameters, mean score and score of each fold (for all your fits)"
   ]
  },
  {
   "cell_type": "code",
   "execution_count": 17,
   "metadata": {},
   "outputs": [],
   "source": [
    "predictions_lgbm_prob = CV.predict(X)\n",
    "predictions_lgbm_01 = np.where(predictions_lgbm_prob > 0.5, 1, 0) #Turn probability to 0-1 binary output"
   ]
  },
  {
   "cell_type": "code",
   "execution_count": 29,
   "metadata": {},
   "outputs": [
    {
     "name": "stdout",
     "output_type": "stream",
     "text": [
      "Overall accuracy of Light GBM model: 0.9924657534246575\n"
     ]
    },
    {
     "data": {
      "image/png": "[encoded data removed]",
      "text/plain": [
       "<Figure size 432x288 with 1 Axes>"
      ]
     },
     "metadata": {},
     "output_type": "display_data"
    },
    {
     "data": {
      "image/png": "[encoded data removed]",
      "text/plain": [
       "<Figure size 432x288 with 1 Axes>"
      ]
     },
     "metadata": {},
     "output_type": "display_data"
    },
    {
     "name": "stdout",
     "output_type": "stream",
     "text": [
      "AUC score: 0.9905541033482888\n"
     ]
    }
   ],
   "source": [
    "lgb.plot_importance(lgbm, max_num_features=21, importance_type='split')\n",
    "\n",
    "#Print accuracy\n",
    "acc_lgbm = accuracy_score(y,predictions_lgbm_01)\n",
    "print('Overall accuracy of Light GBM model:', acc_lgbm)\n",
    "\n",
    "#Print Area Under Curve\n",
    "plt.figure()\n",
    "false_positive_rate, recall, thresholds = roc_curve(y, predictions_lgbm_prob)\n",
    "roc_auc = auc(false_positive_rate, recall)\n",
    "plt.title('Receiver Operating Characteristic (ROC)')\n",
    "plt.plot(false_positive_rate, recall, 'b', label = 'AUC = %0.3f' %roc_auc)\n",
    "plt.legend(loc='lower right')\n",
    "plt.plot([0,1], [0,1], 'r--')\n",
    "plt.xlim([0.0,1.0])\n",
    "plt.ylim([0.0,1.0])\n",
    "plt.ylabel('Recall')\n",
    "plt.xlabel('Fall-out (1-Specificity)')\n",
    "plt.show()\n",
    "\n",
    "print('AUC score:', roc_auc)"
   ]
  },
  {
   "cell_type": "code",
   "execution_count": 21,
   "metadata": {},
   "outputs": [
    {
     "ename": "NameError",
     "evalue": "name 'test_y' is not defined",
     "output_type": "error",
     "traceback": [
      "\u001b[1;31m---------------------------------------------------------------------------\u001b[0m",
      "\u001b[1;31mNameError\u001b[0m                                 Traceback (most recent call last)",
      "\u001b[1;32m<ipython-input-21-13d46ef6c555>\u001b[0m in \u001b[0;36m<module>\u001b[1;34m\u001b[0m\n\u001b[0;32m      1\u001b[0m \u001b[0mplt\u001b[0m\u001b[1;33m.\u001b[0m\u001b[0mfigure\u001b[0m\u001b[1;33m(\u001b[0m\u001b[1;33m)\u001b[0m\u001b[1;33m\u001b[0m\u001b[1;33m\u001b[0m\u001b[0m\n\u001b[1;32m----> 2\u001b[1;33m \u001b[0mcm\u001b[0m \u001b[1;33m=\u001b[0m \u001b[0mconfusion_matrix\u001b[0m\u001b[1;33m(\u001b[0m\u001b[0mtest_y\u001b[0m\u001b[1;33m,\u001b[0m \u001b[0mpredictions_lgbm_01\u001b[0m\u001b[1;33m)\u001b[0m\u001b[1;33m\u001b[0m\u001b[1;33m\u001b[0m\u001b[0m\n\u001b[0m\u001b[0;32m      3\u001b[0m \u001b[0mlabels\u001b[0m \u001b[1;33m=\u001b[0m \u001b[1;33m[\u001b[0m\u001b[1;34m'No Default'\u001b[0m\u001b[1;33m,\u001b[0m \u001b[1;34m'Default'\u001b[0m\u001b[1;33m]\u001b[0m\u001b[1;33m\u001b[0m\u001b[1;33m\u001b[0m\u001b[0m\n\u001b[0;32m      4\u001b[0m \u001b[0mplt\u001b[0m\u001b[1;33m.\u001b[0m\u001b[0mfigure\u001b[0m\u001b[1;33m(\u001b[0m\u001b[0mfigsize\u001b[0m\u001b[1;33m=\u001b[0m\u001b[1;33m(\u001b[0m\u001b[1;36m8\u001b[0m\u001b[1;33m,\u001b[0m\u001b[1;36m6\u001b[0m\u001b[1;33m)\u001b[0m\u001b[1;33m)\u001b[0m\u001b[1;33m\u001b[0m\u001b[1;33m\u001b[0m\u001b[0m\n\u001b[0;32m      5\u001b[0m \u001b[0msns\u001b[0m\u001b[1;33m.\u001b[0m\u001b[0mheatmap\u001b[0m\u001b[1;33m(\u001b[0m\u001b[0mcm\u001b[0m\u001b[1;33m,\u001b[0m \u001b[0mxticklabels\u001b[0m \u001b[1;33m=\u001b[0m \u001b[0mlabels\u001b[0m\u001b[1;33m,\u001b[0m \u001b[0myticklabels\u001b[0m \u001b[1;33m=\u001b[0m \u001b[0mlabels\u001b[0m\u001b[1;33m,\u001b[0m \u001b[0mannot\u001b[0m \u001b[1;33m=\u001b[0m \u001b[1;32mTrue\u001b[0m\u001b[1;33m,\u001b[0m \u001b[0mfmt\u001b[0m\u001b[1;33m=\u001b[0m\u001b[1;34m'd'\u001b[0m\u001b[1;33m,\u001b[0m \u001b[0mcmap\u001b[0m\u001b[1;33m=\u001b[0m\u001b[1;34m\"Blues\"\u001b[0m\u001b[1;33m,\u001b[0m \u001b[0mvmin\u001b[0m \u001b[1;33m=\u001b[0m \u001b[1;36m0.2\u001b[0m\u001b[1;33m)\u001b[0m\u001b[1;33m;\u001b[0m\u001b[1;33m\u001b[0m\u001b[1;33m\u001b[0m\u001b[0m\n",
      "\u001b[1;31mNameError\u001b[0m: name 'test_y' is not defined"
     ]
    },
    {
     "data": {
      "text/plain": [
       "<Figure size 432x288 with 0 Axes>"
      ]
     },
     "metadata": {},
     "output_type": "display_data"
    }
   ],
   "source": [
    "plt.figure()\n",
    "cm = confusion_matrix(test_y, predictions_lgbm_01)\n",
    "labels = ['No Default', 'Default']\n",
    "plt.figure(figsize=(8,6))\n",
    "sns.heatmap(cm, xticklabels = labels, yticklabels = labels, annot = True, fmt='d', cmap=\"Blues\", vmin = 0.2);\n",
    "plt.title('Confusion Matrix')\n",
    "plt.ylabel('True Class')\n",
    "plt.xlabel('Predicted Class')\n",
    "plt.show()"
   ]
  }
 ],
 "metadata": {
  "kernelspec": {
   "display_name": "Python 3",
   "language": "python",
   "name": "python3"
  },
  "language_info": {
   "codemirror_mode": {
    "name": "ipython",
    "version": 3
   },
   "file_extension": ".py",
   "mimetype": "text/x-python",
   "name": "python",
   "nbconvert_exporter": "python",
   "pygments_lexer": "ipython3",
   "version": "3.7.6"
  }
 },
 "nbformat": 4,
 "nbformat_minor": 4
}
