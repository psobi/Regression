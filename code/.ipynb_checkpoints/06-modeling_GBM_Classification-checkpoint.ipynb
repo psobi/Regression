{
 "cells": [
  {
   "cell_type": "markdown",
   "metadata": {},
   "source": [
    "## Parameter estimation using grid search with cross-validation"
   ]
  },
  {
   "cell_type": "code",
   "execution_count": 39,
   "metadata": {},
   "outputs": [],
   "source": [
    "import numpy as np\n",
    "import pandas as pd\n",
    "import seaborn as sns\n",
    "import matplotlib.pyplot as plt\n",
    "import lightgbm as lgb\n",
    "\n",
    "from lightgbm import LGBMClassifier\n",
    "\n",
    "from sklearn.model_selection import train_test_split, GridSearchCV\n",
    "from sklearn.metrics import confusion_matrix,accuracy_score, roc_curve, auc\n",
    "sns.set_style(\"darkgrid\")\n",
    "\n",
    "from sklearn.pipeline import Pipeline\n",
    "from sklearn.preprocessing import StandardScaler\n",
    "#Import data\n",
    "import pickle5 as pickle"
   ]
  },
  {
   "cell_type": "code",
   "execution_count": 40,
   "metadata": {},
   "outputs": [
    {
     "data": {
      "text/plain": [
       "((1460, 71), (1460,))"
      ]
     },
     "execution_count": 40,
     "metadata": {},
     "output_type": "execute_result"
    }
   ],
   "source": [
    "file_train_X = open(\"../data/X_train_03_preprocess\",\"rb\")\n",
    "file_train_y = open(\"../data/y_train_03_preprocess\",\"rb\")\n",
    "\n",
    "X = pickle.load(file_train_X)\n",
    "y = pickle.load(file_train_y)\n",
    "\n",
    "X.isnull().sum().sum() #No missing values\n",
    "X.shape, y.shape"
   ]
  },
  {
   "cell_type": "code",
   "execution_count": 41,
   "metadata": {},
   "outputs": [],
   "source": [
    "for c in X.columns:\n",
    "    col_type = X[c].dtype\n",
    "    if col_type == 'object' or col_type.name == 'category':\n",
    "        X[c] = X[c].astype('category')"
   ]
  },
  {
   "cell_type": "markdown",
   "metadata": {},
   "source": [
    "\n",
    "## Best Features from RFECV\n",
    "RFE CV has minimal impact on tree methods but it can be useful with logistic regression"
   ]
  },
  {
   "cell_type": "code",
   "execution_count": 64,
   "metadata": {},
   "outputs": [],
   "source": [
    "rfe = False\n",
    "file_features = open(\"../data/04_features_selection\", \"rb\")\n",
    "models_best_features = pickle.load(file_features)\n",
    "models_best_features\n",
    "\n",
    "if rfe:\n",
    "    X = X[models_best_features[('Light GBM','roc_auc')]]\n",
    "    X.shape"
   ]
  },
  {
   "cell_type": "code",
   "execution_count": 44,
   "metadata": {},
   "outputs": [
    {
     "name": "stdout",
     "output_type": "stream",
     "text": [
      "Fitting 5 folds for each of 360 candidates, totalling 1800 fits\n"
     ]
    },
    {
     "name": "stderr",
     "output_type": "stream",
     "text": [
      "[Parallel(n_jobs=-1)]: Using backend LokyBackend with 12 concurrent workers.\n",
      "[Parallel(n_jobs=-1)]: Done  26 tasks      | elapsed:    4.0s\n",
      "[Parallel(n_jobs=-1)]: Done 176 tasks      | elapsed:   10.0s\n",
      "[Parallel(n_jobs=-1)]: Done 426 tasks      | elapsed:   20.0s\n",
      "[Parallel(n_jobs=-1)]: Done 776 tasks      | elapsed:   35.5s\n",
      "[Parallel(n_jobs=-1)]: Done 1226 tasks      | elapsed:   55.7s\n",
      "[Parallel(n_jobs=-1)]: Done 1776 tasks      | elapsed:  1.4min\n",
      "[Parallel(n_jobs=-1)]: Done 1800 out of 1800 | elapsed:  1.4min finished\n"
     ]
    },
    {
     "name": "stdout",
     "output_type": "stream",
     "text": [
      "Best score\n",
      "0.9833875242041543\n",
      "Best parameters\n",
      "{'lgbm__learning_rate': 0.07, 'lgbm__max_depth': 7, 'lgbm__min_data_in_leaf': 25, 'lgbm__n_estimators': 80}\n"
     ]
    }
   ],
   "source": [
    "pipeline = Pipeline([('scaler', StandardScaler()),('lgbm', LGBMClassifier(objective = 'binary', metric  = 'roc_auc',boosting_type = 'gbdt'))])\n",
    "\n",
    "from sklearn.model_selection import StratifiedKFold\n",
    "cv = StratifiedKFold(5)\n",
    "\n",
    "parameters = {}\n",
    "parameters['lgbm__learning_rate'] = [0.07]\n",
    "parameters['lgbm__min_data_in_leaf'] = list(range(5,35,5))\n",
    "parameters['lgbm__n_estimators'] = list(range(10,110,10))\n",
    "parameters['lgbm__max_depth'] = list(range(5,11,1))\n",
    "#parameters['lgbm__num_leaves'] = [10, 20 , 30]\n",
    "\n",
    "grid = GridSearchCV(pipeline, parameters, cv = cv, scoring = 'roc_auc', verbose = 1,n_jobs=-1)\n",
    "grid.fit(X, y)   \n",
    "\n",
    "print('Best score')\n",
    "print(grid.best_score_)\n",
    "print('Best parameters')\n",
    "print(grid.best_params_)    \n"
   ]
  },
  {
   "cell_type": "code",
   "execution_count": 45,
   "metadata": {},
   "outputs": [
    {
     "name": "stdout",
     "output_type": "stream",
     "text": [
      "{'lgbm__learning_rate': 0.07, 'lgbm__max_depth': 7, 'lgbm__min_data_in_leaf': 25, 'lgbm__n_estimators': 80}\n",
      "0.967 (+/-0.017) for {'lgbm__learning_rate': 0.07, 'lgbm__max_depth': 5, 'lgbm__min_data_in_leaf': 5, 'lgbm__n_estimators': 10}\n",
      "0.973 (+/-0.010) for {'lgbm__learning_rate': 0.07, 'lgbm__max_depth': 5, 'lgbm__min_data_in_leaf': 5, 'lgbm__n_estimators': 20}\n",
      "0.976 (+/-0.010) for {'lgbm__learning_rate': 0.07, 'lgbm__max_depth': 5, 'lgbm__min_data_in_leaf': 5, 'lgbm__n_estimators': 30}\n",
      "0.978 (+/-0.011) for {'lgbm__learning_rate': 0.07, 'lgbm__max_depth': 5, 'lgbm__min_data_in_leaf': 5, 'lgbm__n_estimators': 40}\n",
      "0.979 (+/-0.010) for {'lgbm__learning_rate': 0.07, 'lgbm__max_depth': 5, 'lgbm__min_data_in_leaf': 5, 'lgbm__n_estimators': 50}\n",
      "0.980 (+/-0.010) for {'lgbm__learning_rate': 0.07, 'lgbm__max_depth': 5, 'lgbm__min_data_in_leaf': 5, 'lgbm__n_estimators': 60}\n",
      "0.980 (+/-0.010) for {'lgbm__learning_rate': 0.07, 'lgbm__max_depth': 5, 'lgbm__min_data_in_leaf': 5, 'lgbm__n_estimators': 70}\n",
      "0.981 (+/-0.011) for {'lgbm__learning_rate': 0.07, 'lgbm__max_depth': 5, 'lgbm__min_data_in_leaf': 5, 'lgbm__n_estimators': 80}\n",
      "0.981 (+/-0.010) for {'lgbm__learning_rate': 0.07, 'lgbm__max_depth': 5, 'lgbm__min_data_in_leaf': 5, 'lgbm__n_estimators': 90}\n",
      "0.981 (+/-0.010) for {'lgbm__learning_rate': 0.07, 'lgbm__max_depth': 5, 'lgbm__min_data_in_leaf': 5, 'lgbm__n_estimators': 100}\n",
      "0.970 (+/-0.015) for {'lgbm__learning_rate': 0.07, 'lgbm__max_depth': 5, 'lgbm__min_data_in_leaf': 10, 'lgbm__n_estimators': 10}\n",
      "0.973 (+/-0.016) for {'lgbm__learning_rate': 0.07, 'lgbm__max_depth': 5, 'lgbm__min_data_in_leaf': 10, 'lgbm__n_estimators': 20}\n",
      "0.977 (+/-0.011) for {'lgbm__learning_rate': 0.07, 'lgbm__max_depth': 5, 'lgbm__min_data_in_leaf': 10, 'lgbm__n_estimators': 30}\n",
      "0.979 (+/-0.010) for {'lgbm__learning_rate': 0.07, 'lgbm__max_depth': 5, 'lgbm__min_data_in_leaf': 10, 'lgbm__n_estimators': 40}\n",
      "0.980 (+/-0.010) for {'lgbm__learning_rate': 0.07, 'lgbm__max_depth': 5, 'lgbm__min_data_in_leaf': 10, 'lgbm__n_estimators': 50}\n",
      "0.981 (+/-0.010) for {'lgbm__learning_rate': 0.07, 'lgbm__max_depth': 5, 'lgbm__min_data_in_leaf': 10, 'lgbm__n_estimators': 60}\n",
      "0.981 (+/-0.010) for {'lgbm__learning_rate': 0.07, 'lgbm__max_depth': 5, 'lgbm__min_data_in_leaf': 10, 'lgbm__n_estimators': 70}\n",
      "0.981 (+/-0.010) for {'lgbm__learning_rate': 0.07, 'lgbm__max_depth': 5, 'lgbm__min_data_in_leaf': 10, 'lgbm__n_estimators': 80}\n",
      "0.982 (+/-0.010) for {'lgbm__learning_rate': 0.07, 'lgbm__max_depth': 5, 'lgbm__min_data_in_leaf': 10, 'lgbm__n_estimators': 90}\n",
      "0.982 (+/-0.010) for {'lgbm__learning_rate': 0.07, 'lgbm__max_depth': 5, 'lgbm__min_data_in_leaf': 10, 'lgbm__n_estimators': 100}\n",
      "0.965 (+/-0.016) for {'lgbm__learning_rate': 0.07, 'lgbm__max_depth': 5, 'lgbm__min_data_in_leaf': 15, 'lgbm__n_estimators': 10}\n",
      "0.975 (+/-0.012) for {'lgbm__learning_rate': 0.07, 'lgbm__max_depth': 5, 'lgbm__min_data_in_leaf': 15, 'lgbm__n_estimators': 20}\n",
      "0.977 (+/-0.012) for {'lgbm__learning_rate': 0.07, 'lgbm__max_depth': 5, 'lgbm__min_data_in_leaf': 15, 'lgbm__n_estimators': 30}\n",
      "0.980 (+/-0.010) for {'lgbm__learning_rate': 0.07, 'lgbm__max_depth': 5, 'lgbm__min_data_in_leaf': 15, 'lgbm__n_estimators': 40}\n",
      "0.981 (+/-0.009) for {'lgbm__learning_rate': 0.07, 'lgbm__max_depth': 5, 'lgbm__min_data_in_leaf': 15, 'lgbm__n_estimators': 50}\n",
      "0.981 (+/-0.010) for {'lgbm__learning_rate': 0.07, 'lgbm__max_depth': 5, 'lgbm__min_data_in_leaf': 15, 'lgbm__n_estimators': 60}\n",
      "0.982 (+/-0.010) for {'lgbm__learning_rate': 0.07, 'lgbm__max_depth': 5, 'lgbm__min_data_in_leaf': 15, 'lgbm__n_estimators': 70}\n",
      "0.982 (+/-0.010) for {'lgbm__learning_rate': 0.07, 'lgbm__max_depth': 5, 'lgbm__min_data_in_leaf': 15, 'lgbm__n_estimators': 80}\n",
      "0.982 (+/-0.010) for {'lgbm__learning_rate': 0.07, 'lgbm__max_depth': 5, 'lgbm__min_data_in_leaf': 15, 'lgbm__n_estimators': 90}\n",
      "0.982 (+/-0.010) for {'lgbm__learning_rate': 0.07, 'lgbm__max_depth': 5, 'lgbm__min_data_in_leaf': 15, 'lgbm__n_estimators': 100}\n",
      "0.969 (+/-0.010) for {'lgbm__learning_rate': 0.07, 'lgbm__max_depth': 5, 'lgbm__min_data_in_leaf': 20, 'lgbm__n_estimators': 10}\n",
      "0.975 (+/-0.012) for {'lgbm__learning_rate': 0.07, 'lgbm__max_depth': 5, 'lgbm__min_data_in_leaf': 20, 'lgbm__n_estimators': 20}\n",
      "0.978 (+/-0.011) for {'lgbm__learning_rate': 0.07, 'lgbm__max_depth': 5, 'lgbm__min_data_in_leaf': 20, 'lgbm__n_estimators': 30}\n",
      "0.980 (+/-0.009) for {'lgbm__learning_rate': 0.07, 'lgbm__max_depth': 5, 'lgbm__min_data_in_leaf': 20, 'lgbm__n_estimators': 40}\n",
      "0.981 (+/-0.009) for {'lgbm__learning_rate': 0.07, 'lgbm__max_depth': 5, 'lgbm__min_data_in_leaf': 20, 'lgbm__n_estimators': 50}\n",
      "0.982 (+/-0.010) for {'lgbm__learning_rate': 0.07, 'lgbm__max_depth': 5, 'lgbm__min_data_in_leaf': 20, 'lgbm__n_estimators': 60}\n",
      "0.982 (+/-0.009) for {'lgbm__learning_rate': 0.07, 'lgbm__max_depth': 5, 'lgbm__min_data_in_leaf': 20, 'lgbm__n_estimators': 70}\n",
      "0.983 (+/-0.008) for {'lgbm__learning_rate': 0.07, 'lgbm__max_depth': 5, 'lgbm__min_data_in_leaf': 20, 'lgbm__n_estimators': 80}\n",
      "0.983 (+/-0.009) for {'lgbm__learning_rate': 0.07, 'lgbm__max_depth': 5, 'lgbm__min_data_in_leaf': 20, 'lgbm__n_estimators': 90}\n",
      "0.983 (+/-0.009) for {'lgbm__learning_rate': 0.07, 'lgbm__max_depth': 5, 'lgbm__min_data_in_leaf': 20, 'lgbm__n_estimators': 100}\n",
      "0.968 (+/-0.014) for {'lgbm__learning_rate': 0.07, 'lgbm__max_depth': 5, 'lgbm__min_data_in_leaf': 25, 'lgbm__n_estimators': 10}\n",
      "0.974 (+/-0.013) for {'lgbm__learning_rate': 0.07, 'lgbm__max_depth': 5, 'lgbm__min_data_in_leaf': 25, 'lgbm__n_estimators': 20}\n",
      "0.978 (+/-0.011) for {'lgbm__learning_rate': 0.07, 'lgbm__max_depth': 5, 'lgbm__min_data_in_leaf': 25, 'lgbm__n_estimators': 30}\n",
      "0.980 (+/-0.010) for {'lgbm__learning_rate': 0.07, 'lgbm__max_depth': 5, 'lgbm__min_data_in_leaf': 25, 'lgbm__n_estimators': 40}\n",
      "0.981 (+/-0.010) for {'lgbm__learning_rate': 0.07, 'lgbm__max_depth': 5, 'lgbm__min_data_in_leaf': 25, 'lgbm__n_estimators': 50}\n",
      "0.982 (+/-0.009) for {'lgbm__learning_rate': 0.07, 'lgbm__max_depth': 5, 'lgbm__min_data_in_leaf': 25, 'lgbm__n_estimators': 60}\n",
      "0.982 (+/-0.009) for {'lgbm__learning_rate': 0.07, 'lgbm__max_depth': 5, 'lgbm__min_data_in_leaf': 25, 'lgbm__n_estimators': 70}\n",
      "0.983 (+/-0.009) for {'lgbm__learning_rate': 0.07, 'lgbm__max_depth': 5, 'lgbm__min_data_in_leaf': 25, 'lgbm__n_estimators': 80}\n",
      "0.983 (+/-0.008) for {'lgbm__learning_rate': 0.07, 'lgbm__max_depth': 5, 'lgbm__min_data_in_leaf': 25, 'lgbm__n_estimators': 90}\n",
      "0.983 (+/-0.009) for {'lgbm__learning_rate': 0.07, 'lgbm__max_depth': 5, 'lgbm__min_data_in_leaf': 25, 'lgbm__n_estimators': 100}\n",
      "0.967 (+/-0.014) for {'lgbm__learning_rate': 0.07, 'lgbm__max_depth': 5, 'lgbm__min_data_in_leaf': 30, 'lgbm__n_estimators': 10}\n",
      "0.974 (+/-0.010) for {'lgbm__learning_rate': 0.07, 'lgbm__max_depth': 5, 'lgbm__min_data_in_leaf': 30, 'lgbm__n_estimators': 20}\n",
      "0.978 (+/-0.011) for {'lgbm__learning_rate': 0.07, 'lgbm__max_depth': 5, 'lgbm__min_data_in_leaf': 30, 'lgbm__n_estimators': 30}\n",
      "0.980 (+/-0.009) for {'lgbm__learning_rate': 0.07, 'lgbm__max_depth': 5, 'lgbm__min_data_in_leaf': 30, 'lgbm__n_estimators': 40}\n",
      "0.981 (+/-0.009) for {'lgbm__learning_rate': 0.07, 'lgbm__max_depth': 5, 'lgbm__min_data_in_leaf': 30, 'lgbm__n_estimators': 50}\n",
      "0.982 (+/-0.010) for {'lgbm__learning_rate': 0.07, 'lgbm__max_depth': 5, 'lgbm__min_data_in_leaf': 30, 'lgbm__n_estimators': 60}\n",
      "0.983 (+/-0.009) for {'lgbm__learning_rate': 0.07, 'lgbm__max_depth': 5, 'lgbm__min_data_in_leaf': 30, 'lgbm__n_estimators': 70}\n",
      "0.983 (+/-0.009) for {'lgbm__learning_rate': 0.07, 'lgbm__max_depth': 5, 'lgbm__min_data_in_leaf': 30, 'lgbm__n_estimators': 80}\n",
      "0.983 (+/-0.009) for {'lgbm__learning_rate': 0.07, 'lgbm__max_depth': 5, 'lgbm__min_data_in_leaf': 30, 'lgbm__n_estimators': 90}\n",
      "0.983 (+/-0.010) for {'lgbm__learning_rate': 0.07, 'lgbm__max_depth': 5, 'lgbm__min_data_in_leaf': 30, 'lgbm__n_estimators': 100}\n",
      "0.966 (+/-0.018) for {'lgbm__learning_rate': 0.07, 'lgbm__max_depth': 6, 'lgbm__min_data_in_leaf': 5, 'lgbm__n_estimators': 10}\n",
      "0.975 (+/-0.010) for {'lgbm__learning_rate': 0.07, 'lgbm__max_depth': 6, 'lgbm__min_data_in_leaf': 5, 'lgbm__n_estimators': 20}\n",
      "0.975 (+/-0.010) for {'lgbm__learning_rate': 0.07, 'lgbm__max_depth': 6, 'lgbm__min_data_in_leaf': 5, 'lgbm__n_estimators': 30}\n",
      "0.977 (+/-0.012) for {'lgbm__learning_rate': 0.07, 'lgbm__max_depth': 6, 'lgbm__min_data_in_leaf': 5, 'lgbm__n_estimators': 40}\n",
      "0.979 (+/-0.010) for {'lgbm__learning_rate': 0.07, 'lgbm__max_depth': 6, 'lgbm__min_data_in_leaf': 5, 'lgbm__n_estimators': 50}\n",
      "0.979 (+/-0.011) for {'lgbm__learning_rate': 0.07, 'lgbm__max_depth': 6, 'lgbm__min_data_in_leaf': 5, 'lgbm__n_estimators': 60}\n",
      "0.980 (+/-0.010) for {'lgbm__learning_rate': 0.07, 'lgbm__max_depth': 6, 'lgbm__min_data_in_leaf': 5, 'lgbm__n_estimators': 70}\n",
      "0.980 (+/-0.010) for {'lgbm__learning_rate': 0.07, 'lgbm__max_depth': 6, 'lgbm__min_data_in_leaf': 5, 'lgbm__n_estimators': 80}\n",
      "0.981 (+/-0.010) for {'lgbm__learning_rate': 0.07, 'lgbm__max_depth': 6, 'lgbm__min_data_in_leaf': 5, 'lgbm__n_estimators': 90}\n",
      "0.981 (+/-0.010) for {'lgbm__learning_rate': 0.07, 'lgbm__max_depth': 6, 'lgbm__min_data_in_leaf': 5, 'lgbm__n_estimators': 100}\n",
      "0.966 (+/-0.011) for {'lgbm__learning_rate': 0.07, 'lgbm__max_depth': 6, 'lgbm__min_data_in_leaf': 10, 'lgbm__n_estimators': 10}\n",
      "0.974 (+/-0.013) for {'lgbm__learning_rate': 0.07, 'lgbm__max_depth': 6, 'lgbm__min_data_in_leaf': 10, 'lgbm__n_estimators': 20}\n",
      "0.976 (+/-0.012) for {'lgbm__learning_rate': 0.07, 'lgbm__max_depth': 6, 'lgbm__min_data_in_leaf': 10, 'lgbm__n_estimators': 30}\n",
      "0.979 (+/-0.011) for {'lgbm__learning_rate': 0.07, 'lgbm__max_depth': 6, 'lgbm__min_data_in_leaf': 10, 'lgbm__n_estimators': 40}\n",
      "0.980 (+/-0.011) for {'lgbm__learning_rate': 0.07, 'lgbm__max_depth': 6, 'lgbm__min_data_in_leaf': 10, 'lgbm__n_estimators': 50}\n",
      "0.980 (+/-0.011) for {'lgbm__learning_rate': 0.07, 'lgbm__max_depth': 6, 'lgbm__min_data_in_leaf': 10, 'lgbm__n_estimators': 60}\n",
      "0.981 (+/-0.011) for {'lgbm__learning_rate': 0.07, 'lgbm__max_depth': 6, 'lgbm__min_data_in_leaf': 10, 'lgbm__n_estimators': 70}\n",
      "0.981 (+/-0.011) for {'lgbm__learning_rate': 0.07, 'lgbm__max_depth': 6, 'lgbm__min_data_in_leaf': 10, 'lgbm__n_estimators': 80}\n",
      "0.981 (+/-0.011) for {'lgbm__learning_rate': 0.07, 'lgbm__max_depth': 6, 'lgbm__min_data_in_leaf': 10, 'lgbm__n_estimators': 90}\n",
      "0.981 (+/-0.011) for {'lgbm__learning_rate': 0.07, 'lgbm__max_depth': 6, 'lgbm__min_data_in_leaf': 10, 'lgbm__n_estimators': 100}\n",
      "0.967 (+/-0.015) for {'lgbm__learning_rate': 0.07, 'lgbm__max_depth': 6, 'lgbm__min_data_in_leaf': 15, 'lgbm__n_estimators': 10}\n",
      "0.974 (+/-0.014) for {'lgbm__learning_rate': 0.07, 'lgbm__max_depth': 6, 'lgbm__min_data_in_leaf': 15, 'lgbm__n_estimators': 20}\n",
      "0.978 (+/-0.012) for {'lgbm__learning_rate': 0.07, 'lgbm__max_depth': 6, 'lgbm__min_data_in_leaf': 15, 'lgbm__n_estimators': 30}\n",
      "0.979 (+/-0.011) for {'lgbm__learning_rate': 0.07, 'lgbm__max_depth': 6, 'lgbm__min_data_in_leaf': 15, 'lgbm__n_estimators': 40}\n",
      "0.980 (+/-0.011) for {'lgbm__learning_rate': 0.07, 'lgbm__max_depth': 6, 'lgbm__min_data_in_leaf': 15, 'lgbm__n_estimators': 50}\n",
      "0.980 (+/-0.010) for {'lgbm__learning_rate': 0.07, 'lgbm__max_depth': 6, 'lgbm__min_data_in_leaf': 15, 'lgbm__n_estimators': 60}\n",
      "0.981 (+/-0.010) for {'lgbm__learning_rate': 0.07, 'lgbm__max_depth': 6, 'lgbm__min_data_in_leaf': 15, 'lgbm__n_estimators': 70}\n",
      "0.981 (+/-0.010) for {'lgbm__learning_rate': 0.07, 'lgbm__max_depth': 6, 'lgbm__min_data_in_leaf': 15, 'lgbm__n_estimators': 80}\n",
      "0.981 (+/-0.010) for {'lgbm__learning_rate': 0.07, 'lgbm__max_depth': 6, 'lgbm__min_data_in_leaf': 15, 'lgbm__n_estimators': 90}\n",
      "0.981 (+/-0.010) for {'lgbm__learning_rate': 0.07, 'lgbm__max_depth': 6, 'lgbm__min_data_in_leaf': 15, 'lgbm__n_estimators': 100}\n",
      "0.970 (+/-0.012) for {'lgbm__learning_rate': 0.07, 'lgbm__max_depth': 6, 'lgbm__min_data_in_leaf': 20, 'lgbm__n_estimators': 10}\n",
      "0.975 (+/-0.014) for {'lgbm__learning_rate': 0.07, 'lgbm__max_depth': 6, 'lgbm__min_data_in_leaf': 20, 'lgbm__n_estimators': 20}\n",
      "0.979 (+/-0.012) for {'lgbm__learning_rate': 0.07, 'lgbm__max_depth': 6, 'lgbm__min_data_in_leaf': 20, 'lgbm__n_estimators': 30}\n",
      "0.980 (+/-0.011) for {'lgbm__learning_rate': 0.07, 'lgbm__max_depth': 6, 'lgbm__min_data_in_leaf': 20, 'lgbm__n_estimators': 40}\n",
      "0.981 (+/-0.011) for {'lgbm__learning_rate': 0.07, 'lgbm__max_depth': 6, 'lgbm__min_data_in_leaf': 20, 'lgbm__n_estimators': 50}\n",
      "0.982 (+/-0.010) for {'lgbm__learning_rate': 0.07, 'lgbm__max_depth': 6, 'lgbm__min_data_in_leaf': 20, 'lgbm__n_estimators': 60}\n",
      "0.982 (+/-0.010) for {'lgbm__learning_rate': 0.07, 'lgbm__max_depth': 6, 'lgbm__min_data_in_leaf': 20, 'lgbm__n_estimators': 70}\n",
      "0.982 (+/-0.011) for {'lgbm__learning_rate': 0.07, 'lgbm__max_depth': 6, 'lgbm__min_data_in_leaf': 20, 'lgbm__n_estimators': 80}\n",
      "0.982 (+/-0.011) for {'lgbm__learning_rate': 0.07, 'lgbm__max_depth': 6, 'lgbm__min_data_in_leaf': 20, 'lgbm__n_estimators': 90}\n",
      "0.982 (+/-0.011) for {'lgbm__learning_rate': 0.07, 'lgbm__max_depth': 6, 'lgbm__min_data_in_leaf': 20, 'lgbm__n_estimators': 100}\n",
      "0.967 (+/-0.012) for {'lgbm__learning_rate': 0.07, 'lgbm__max_depth': 6, 'lgbm__min_data_in_leaf': 25, 'lgbm__n_estimators': 10}\n",
      "0.974 (+/-0.015) for {'lgbm__learning_rate': 0.07, 'lgbm__max_depth': 6, 'lgbm__min_data_in_leaf': 25, 'lgbm__n_estimators': 20}\n",
      "0.979 (+/-0.010) for {'lgbm__learning_rate': 0.07, 'lgbm__max_depth': 6, 'lgbm__min_data_in_leaf': 25, 'lgbm__n_estimators': 30}\n",
      "0.980 (+/-0.010) for {'lgbm__learning_rate': 0.07, 'lgbm__max_depth': 6, 'lgbm__min_data_in_leaf': 25, 'lgbm__n_estimators': 40}\n",
      "0.982 (+/-0.009) for {'lgbm__learning_rate': 0.07, 'lgbm__max_depth': 6, 'lgbm__min_data_in_leaf': 25, 'lgbm__n_estimators': 50}\n",
      "0.982 (+/-0.009) for {'lgbm__learning_rate': 0.07, 'lgbm__max_depth': 6, 'lgbm__min_data_in_leaf': 25, 'lgbm__n_estimators': 60}\n",
      "0.982 (+/-0.009) for {'lgbm__learning_rate': 0.07, 'lgbm__max_depth': 6, 'lgbm__min_data_in_leaf': 25, 'lgbm__n_estimators': 70}\n",
      "0.982 (+/-0.009) for {'lgbm__learning_rate': 0.07, 'lgbm__max_depth': 6, 'lgbm__min_data_in_leaf': 25, 'lgbm__n_estimators': 80}\n",
      "0.982 (+/-0.008) for {'lgbm__learning_rate': 0.07, 'lgbm__max_depth': 6, 'lgbm__min_data_in_leaf': 25, 'lgbm__n_estimators': 90}\n",
      "0.982 (+/-0.009) for {'lgbm__learning_rate': 0.07, 'lgbm__max_depth': 6, 'lgbm__min_data_in_leaf': 25, 'lgbm__n_estimators': 100}\n",
      "0.967 (+/-0.016) for {'lgbm__learning_rate': 0.07, 'lgbm__max_depth': 6, 'lgbm__min_data_in_leaf': 30, 'lgbm__n_estimators': 10}\n",
      "0.974 (+/-0.012) for {'lgbm__learning_rate': 0.07, 'lgbm__max_depth': 6, 'lgbm__min_data_in_leaf': 30, 'lgbm__n_estimators': 20}\n",
      "0.978 (+/-0.010) for {'lgbm__learning_rate': 0.07, 'lgbm__max_depth': 6, 'lgbm__min_data_in_leaf': 30, 'lgbm__n_estimators': 30}\n",
      "0.980 (+/-0.010) for {'lgbm__learning_rate': 0.07, 'lgbm__max_depth': 6, 'lgbm__min_data_in_leaf': 30, 'lgbm__n_estimators': 40}\n",
      "0.982 (+/-0.009) for {'lgbm__learning_rate': 0.07, 'lgbm__max_depth': 6, 'lgbm__min_data_in_leaf': 30, 'lgbm__n_estimators': 50}\n",
      "0.982 (+/-0.009) for {'lgbm__learning_rate': 0.07, 'lgbm__max_depth': 6, 'lgbm__min_data_in_leaf': 30, 'lgbm__n_estimators': 60}\n",
      "0.983 (+/-0.009) for {'lgbm__learning_rate': 0.07, 'lgbm__max_depth': 6, 'lgbm__min_data_in_leaf': 30, 'lgbm__n_estimators': 70}\n",
      "0.983 (+/-0.010) for {'lgbm__learning_rate': 0.07, 'lgbm__max_depth': 6, 'lgbm__min_data_in_leaf': 30, 'lgbm__n_estimators': 80}\n",
      "0.983 (+/-0.010) for {'lgbm__learning_rate': 0.07, 'lgbm__max_depth': 6, 'lgbm__min_data_in_leaf': 30, 'lgbm__n_estimators': 90}\n",
      "0.983 (+/-0.010) for {'lgbm__learning_rate': 0.07, 'lgbm__max_depth': 6, 'lgbm__min_data_in_leaf': 30, 'lgbm__n_estimators': 100}\n",
      "0.957 (+/-0.037) for {'lgbm__learning_rate': 0.07, 'lgbm__max_depth': 7, 'lgbm__min_data_in_leaf': 5, 'lgbm__n_estimators': 10}\n",
      "0.971 (+/-0.024) for {'lgbm__learning_rate': 0.07, 'lgbm__max_depth': 7, 'lgbm__min_data_in_leaf': 5, 'lgbm__n_estimators': 20}\n",
      "0.973 (+/-0.018) for {'lgbm__learning_rate': 0.07, 'lgbm__max_depth': 7, 'lgbm__min_data_in_leaf': 5, 'lgbm__n_estimators': 30}\n",
      "0.977 (+/-0.014) for {'lgbm__learning_rate': 0.07, 'lgbm__max_depth': 7, 'lgbm__min_data_in_leaf': 5, 'lgbm__n_estimators': 40}\n",
      "0.978 (+/-0.012) for {'lgbm__learning_rate': 0.07, 'lgbm__max_depth': 7, 'lgbm__min_data_in_leaf': 5, 'lgbm__n_estimators': 50}\n",
      "0.980 (+/-0.012) for {'lgbm__learning_rate': 0.07, 'lgbm__max_depth': 7, 'lgbm__min_data_in_leaf': 5, 'lgbm__n_estimators': 60}\n",
      "0.980 (+/-0.011) for {'lgbm__learning_rate': 0.07, 'lgbm__max_depth': 7, 'lgbm__min_data_in_leaf': 5, 'lgbm__n_estimators': 70}\n",
      "0.980 (+/-0.012) for {'lgbm__learning_rate': 0.07, 'lgbm__max_depth': 7, 'lgbm__min_data_in_leaf': 5, 'lgbm__n_estimators': 80}\n",
      "0.980 (+/-0.011) for {'lgbm__learning_rate': 0.07, 'lgbm__max_depth': 7, 'lgbm__min_data_in_leaf': 5, 'lgbm__n_estimators': 90}\n",
      "0.981 (+/-0.011) for {'lgbm__learning_rate': 0.07, 'lgbm__max_depth': 7, 'lgbm__min_data_in_leaf': 5, 'lgbm__n_estimators': 100}\n",
      "0.969 (+/-0.016) for {'lgbm__learning_rate': 0.07, 'lgbm__max_depth': 7, 'lgbm__min_data_in_leaf': 10, 'lgbm__n_estimators': 10}\n",
      "0.975 (+/-0.013) for {'lgbm__learning_rate': 0.07, 'lgbm__max_depth': 7, 'lgbm__min_data_in_leaf': 10, 'lgbm__n_estimators': 20}\n",
      "0.976 (+/-0.013) for {'lgbm__learning_rate': 0.07, 'lgbm__max_depth': 7, 'lgbm__min_data_in_leaf': 10, 'lgbm__n_estimators': 30}\n",
      "0.979 (+/-0.011) for {'lgbm__learning_rate': 0.07, 'lgbm__max_depth': 7, 'lgbm__min_data_in_leaf': 10, 'lgbm__n_estimators': 40}\n",
      "0.980 (+/-0.010) for {'lgbm__learning_rate': 0.07, 'lgbm__max_depth': 7, 'lgbm__min_data_in_leaf': 10, 'lgbm__n_estimators': 50}\n",
      "0.981 (+/-0.011) for {'lgbm__learning_rate': 0.07, 'lgbm__max_depth': 7, 'lgbm__min_data_in_leaf': 10, 'lgbm__n_estimators': 60}\n",
      "0.981 (+/-0.011) for {'lgbm__learning_rate': 0.07, 'lgbm__max_depth': 7, 'lgbm__min_data_in_leaf': 10, 'lgbm__n_estimators': 70}\n",
      "0.982 (+/-0.010) for {'lgbm__learning_rate': 0.07, 'lgbm__max_depth': 7, 'lgbm__min_data_in_leaf': 10, 'lgbm__n_estimators': 80}\n",
      "0.982 (+/-0.011) for {'lgbm__learning_rate': 0.07, 'lgbm__max_depth': 7, 'lgbm__min_data_in_leaf': 10, 'lgbm__n_estimators': 90}\n",
      "0.982 (+/-0.010) for {'lgbm__learning_rate': 0.07, 'lgbm__max_depth': 7, 'lgbm__min_data_in_leaf': 10, 'lgbm__n_estimators': 100}\n",
      "0.966 (+/-0.014) for {'lgbm__learning_rate': 0.07, 'lgbm__max_depth': 7, 'lgbm__min_data_in_leaf': 15, 'lgbm__n_estimators': 10}\n",
      "0.973 (+/-0.013) for {'lgbm__learning_rate': 0.07, 'lgbm__max_depth': 7, 'lgbm__min_data_in_leaf': 15, 'lgbm__n_estimators': 20}\n",
      "0.979 (+/-0.010) for {'lgbm__learning_rate': 0.07, 'lgbm__max_depth': 7, 'lgbm__min_data_in_leaf': 15, 'lgbm__n_estimators': 30}\n",
      "0.980 (+/-0.009) for {'lgbm__learning_rate': 0.07, 'lgbm__max_depth': 7, 'lgbm__min_data_in_leaf': 15, 'lgbm__n_estimators': 40}\n",
      "0.980 (+/-0.010) for {'lgbm__learning_rate': 0.07, 'lgbm__max_depth': 7, 'lgbm__min_data_in_leaf': 15, 'lgbm__n_estimators': 50}\n",
      "0.981 (+/-0.010) for {'lgbm__learning_rate': 0.07, 'lgbm__max_depth': 7, 'lgbm__min_data_in_leaf': 15, 'lgbm__n_estimators': 60}\n",
      "0.981 (+/-0.010) for {'lgbm__learning_rate': 0.07, 'lgbm__max_depth': 7, 'lgbm__min_data_in_leaf': 15, 'lgbm__n_estimators': 70}\n",
      "0.981 (+/-0.011) for {'lgbm__learning_rate': 0.07, 'lgbm__max_depth': 7, 'lgbm__min_data_in_leaf': 15, 'lgbm__n_estimators': 80}\n",
      "0.982 (+/-0.011) for {'lgbm__learning_rate': 0.07, 'lgbm__max_depth': 7, 'lgbm__min_data_in_leaf': 15, 'lgbm__n_estimators': 90}\n",
      "0.982 (+/-0.011) for {'lgbm__learning_rate': 0.07, 'lgbm__max_depth': 7, 'lgbm__min_data_in_leaf': 15, 'lgbm__n_estimators': 100}\n",
      "0.969 (+/-0.012) for {'lgbm__learning_rate': 0.07, 'lgbm__max_depth': 7, 'lgbm__min_data_in_leaf': 20, 'lgbm__n_estimators': 10}\n",
      "0.975 (+/-0.012) for {'lgbm__learning_rate': 0.07, 'lgbm__max_depth': 7, 'lgbm__min_data_in_leaf': 20, 'lgbm__n_estimators': 20}\n",
      "0.978 (+/-0.010) for {'lgbm__learning_rate': 0.07, 'lgbm__max_depth': 7, 'lgbm__min_data_in_leaf': 20, 'lgbm__n_estimators': 30}\n",
      "0.979 (+/-0.011) for {'lgbm__learning_rate': 0.07, 'lgbm__max_depth': 7, 'lgbm__min_data_in_leaf': 20, 'lgbm__n_estimators': 40}\n",
      "0.980 (+/-0.011) for {'lgbm__learning_rate': 0.07, 'lgbm__max_depth': 7, 'lgbm__min_data_in_leaf': 20, 'lgbm__n_estimators': 50}\n",
      "0.981 (+/-0.011) for {'lgbm__learning_rate': 0.07, 'lgbm__max_depth': 7, 'lgbm__min_data_in_leaf': 20, 'lgbm__n_estimators': 60}\n",
      "0.982 (+/-0.011) for {'lgbm__learning_rate': 0.07, 'lgbm__max_depth': 7, 'lgbm__min_data_in_leaf': 20, 'lgbm__n_estimators': 70}\n",
      "0.982 (+/-0.011) for {'lgbm__learning_rate': 0.07, 'lgbm__max_depth': 7, 'lgbm__min_data_in_leaf': 20, 'lgbm__n_estimators': 80}\n",
      "0.982 (+/-0.011) for {'lgbm__learning_rate': 0.07, 'lgbm__max_depth': 7, 'lgbm__min_data_in_leaf': 20, 'lgbm__n_estimators': 90}\n",
      "0.982 (+/-0.011) for {'lgbm__learning_rate': 0.07, 'lgbm__max_depth': 7, 'lgbm__min_data_in_leaf': 20, 'lgbm__n_estimators': 100}\n",
      "0.968 (+/-0.012) for {'lgbm__learning_rate': 0.07, 'lgbm__max_depth': 7, 'lgbm__min_data_in_leaf': 25, 'lgbm__n_estimators': 10}\n",
      "0.975 (+/-0.015) for {'lgbm__learning_rate': 0.07, 'lgbm__max_depth': 7, 'lgbm__min_data_in_leaf': 25, 'lgbm__n_estimators': 20}\n",
      "0.979 (+/-0.010) for {'lgbm__learning_rate': 0.07, 'lgbm__max_depth': 7, 'lgbm__min_data_in_leaf': 25, 'lgbm__n_estimators': 30}\n",
      "0.981 (+/-0.009) for {'lgbm__learning_rate': 0.07, 'lgbm__max_depth': 7, 'lgbm__min_data_in_leaf': 25, 'lgbm__n_estimators': 40}\n",
      "0.982 (+/-0.009) for {'lgbm__learning_rate': 0.07, 'lgbm__max_depth': 7, 'lgbm__min_data_in_leaf': 25, 'lgbm__n_estimators': 50}\n",
      "0.982 (+/-0.009) for {'lgbm__learning_rate': 0.07, 'lgbm__max_depth': 7, 'lgbm__min_data_in_leaf': 25, 'lgbm__n_estimators': 60}\n",
      "0.983 (+/-0.010) for {'lgbm__learning_rate': 0.07, 'lgbm__max_depth': 7, 'lgbm__min_data_in_leaf': 25, 'lgbm__n_estimators': 70}\n",
      "0.983 (+/-0.010) for {'lgbm__learning_rate': 0.07, 'lgbm__max_depth': 7, 'lgbm__min_data_in_leaf': 25, 'lgbm__n_estimators': 80}\n",
      "0.983 (+/-0.010) for {'lgbm__learning_rate': 0.07, 'lgbm__max_depth': 7, 'lgbm__min_data_in_leaf': 25, 'lgbm__n_estimators': 90}\n",
      "0.983 (+/-0.010) for {'lgbm__learning_rate': 0.07, 'lgbm__max_depth': 7, 'lgbm__min_data_in_leaf': 25, 'lgbm__n_estimators': 100}\n",
      "0.968 (+/-0.016) for {'lgbm__learning_rate': 0.07, 'lgbm__max_depth': 7, 'lgbm__min_data_in_leaf': 30, 'lgbm__n_estimators': 10}\n",
      "0.974 (+/-0.012) for {'lgbm__learning_rate': 0.07, 'lgbm__max_depth': 7, 'lgbm__min_data_in_leaf': 30, 'lgbm__n_estimators': 20}\n",
      "0.978 (+/-0.010) for {'lgbm__learning_rate': 0.07, 'lgbm__max_depth': 7, 'lgbm__min_data_in_leaf': 30, 'lgbm__n_estimators': 30}\n",
      "0.980 (+/-0.009) for {'lgbm__learning_rate': 0.07, 'lgbm__max_depth': 7, 'lgbm__min_data_in_leaf': 30, 'lgbm__n_estimators': 40}\n",
      "0.981 (+/-0.011) for {'lgbm__learning_rate': 0.07, 'lgbm__max_depth': 7, 'lgbm__min_data_in_leaf': 30, 'lgbm__n_estimators': 50}\n",
      "0.982 (+/-0.011) for {'lgbm__learning_rate': 0.07, 'lgbm__max_depth': 7, 'lgbm__min_data_in_leaf': 30, 'lgbm__n_estimators': 60}\n",
      "0.982 (+/-0.011) for {'lgbm__learning_rate': 0.07, 'lgbm__max_depth': 7, 'lgbm__min_data_in_leaf': 30, 'lgbm__n_estimators': 70}\n",
      "0.983 (+/-0.011) for {'lgbm__learning_rate': 0.07, 'lgbm__max_depth': 7, 'lgbm__min_data_in_leaf': 30, 'lgbm__n_estimators': 80}\n",
      "0.983 (+/-0.011) for {'lgbm__learning_rate': 0.07, 'lgbm__max_depth': 7, 'lgbm__min_data_in_leaf': 30, 'lgbm__n_estimators': 90}\n",
      "0.983 (+/-0.011) for {'lgbm__learning_rate': 0.07, 'lgbm__max_depth': 7, 'lgbm__min_data_in_leaf': 30, 'lgbm__n_estimators': 100}\n",
      "0.959 (+/-0.038) for {'lgbm__learning_rate': 0.07, 'lgbm__max_depth': 8, 'lgbm__min_data_in_leaf': 5, 'lgbm__n_estimators': 10}\n",
      "0.973 (+/-0.018) for {'lgbm__learning_rate': 0.07, 'lgbm__max_depth': 8, 'lgbm__min_data_in_leaf': 5, 'lgbm__n_estimators': 20}\n",
      "0.974 (+/-0.018) for {'lgbm__learning_rate': 0.07, 'lgbm__max_depth': 8, 'lgbm__min_data_in_leaf': 5, 'lgbm__n_estimators': 30}\n",
      "0.978 (+/-0.013) for {'lgbm__learning_rate': 0.07, 'lgbm__max_depth': 8, 'lgbm__min_data_in_leaf': 5, 'lgbm__n_estimators': 40}\n",
      "0.979 (+/-0.012) for {'lgbm__learning_rate': 0.07, 'lgbm__max_depth': 8, 'lgbm__min_data_in_leaf': 5, 'lgbm__n_estimators': 50}\n",
      "0.981 (+/-0.011) for {'lgbm__learning_rate': 0.07, 'lgbm__max_depth': 8, 'lgbm__min_data_in_leaf': 5, 'lgbm__n_estimators': 60}\n",
      "0.981 (+/-0.011) for {'lgbm__learning_rate': 0.07, 'lgbm__max_depth': 8, 'lgbm__min_data_in_leaf': 5, 'lgbm__n_estimators': 70}\n",
      "0.982 (+/-0.011) for {'lgbm__learning_rate': 0.07, 'lgbm__max_depth': 8, 'lgbm__min_data_in_leaf': 5, 'lgbm__n_estimators': 80}\n",
      "0.982 (+/-0.012) for {'lgbm__learning_rate': 0.07, 'lgbm__max_depth': 8, 'lgbm__min_data_in_leaf': 5, 'lgbm__n_estimators': 90}\n",
      "0.982 (+/-0.011) for {'lgbm__learning_rate': 0.07, 'lgbm__max_depth': 8, 'lgbm__min_data_in_leaf': 5, 'lgbm__n_estimators': 100}\n",
      "0.969 (+/-0.017) for {'lgbm__learning_rate': 0.07, 'lgbm__max_depth': 8, 'lgbm__min_data_in_leaf': 10, 'lgbm__n_estimators': 10}\n",
      "0.975 (+/-0.014) for {'lgbm__learning_rate': 0.07, 'lgbm__max_depth': 8, 'lgbm__min_data_in_leaf': 10, 'lgbm__n_estimators': 20}\n",
      "0.976 (+/-0.013) for {'lgbm__learning_rate': 0.07, 'lgbm__max_depth': 8, 'lgbm__min_data_in_leaf': 10, 'lgbm__n_estimators': 30}\n",
      "0.979 (+/-0.013) for {'lgbm__learning_rate': 0.07, 'lgbm__max_depth': 8, 'lgbm__min_data_in_leaf': 10, 'lgbm__n_estimators': 40}\n",
      "0.980 (+/-0.012) for {'lgbm__learning_rate': 0.07, 'lgbm__max_depth': 8, 'lgbm__min_data_in_leaf': 10, 'lgbm__n_estimators': 50}\n",
      "0.980 (+/-0.012) for {'lgbm__learning_rate': 0.07, 'lgbm__max_depth': 8, 'lgbm__min_data_in_leaf': 10, 'lgbm__n_estimators': 60}\n",
      "0.981 (+/-0.012) for {'lgbm__learning_rate': 0.07, 'lgbm__max_depth': 8, 'lgbm__min_data_in_leaf': 10, 'lgbm__n_estimators': 70}\n",
      "0.981 (+/-0.012) for {'lgbm__learning_rate': 0.07, 'lgbm__max_depth': 8, 'lgbm__min_data_in_leaf': 10, 'lgbm__n_estimators': 80}\n",
      "0.981 (+/-0.011) for {'lgbm__learning_rate': 0.07, 'lgbm__max_depth': 8, 'lgbm__min_data_in_leaf': 10, 'lgbm__n_estimators': 90}\n",
      "0.982 (+/-0.011) for {'lgbm__learning_rate': 0.07, 'lgbm__max_depth': 8, 'lgbm__min_data_in_leaf': 10, 'lgbm__n_estimators': 100}\n",
      "0.967 (+/-0.015) for {'lgbm__learning_rate': 0.07, 'lgbm__max_depth': 8, 'lgbm__min_data_in_leaf': 15, 'lgbm__n_estimators': 10}\n",
      "0.975 (+/-0.013) for {'lgbm__learning_rate': 0.07, 'lgbm__max_depth': 8, 'lgbm__min_data_in_leaf': 15, 'lgbm__n_estimators': 20}\n",
      "0.978 (+/-0.012) for {'lgbm__learning_rate': 0.07, 'lgbm__max_depth': 8, 'lgbm__min_data_in_leaf': 15, 'lgbm__n_estimators': 30}\n",
      "0.980 (+/-0.011) for {'lgbm__learning_rate': 0.07, 'lgbm__max_depth': 8, 'lgbm__min_data_in_leaf': 15, 'lgbm__n_estimators': 40}\n",
      "0.980 (+/-0.011) for {'lgbm__learning_rate': 0.07, 'lgbm__max_depth': 8, 'lgbm__min_data_in_leaf': 15, 'lgbm__n_estimators': 50}\n",
      "0.981 (+/-0.013) for {'lgbm__learning_rate': 0.07, 'lgbm__max_depth': 8, 'lgbm__min_data_in_leaf': 15, 'lgbm__n_estimators': 60}\n",
      "0.981 (+/-0.012) for {'lgbm__learning_rate': 0.07, 'lgbm__max_depth': 8, 'lgbm__min_data_in_leaf': 15, 'lgbm__n_estimators': 70}\n",
      "0.982 (+/-0.012) for {'lgbm__learning_rate': 0.07, 'lgbm__max_depth': 8, 'lgbm__min_data_in_leaf': 15, 'lgbm__n_estimators': 80}\n",
      "0.981 (+/-0.012) for {'lgbm__learning_rate': 0.07, 'lgbm__max_depth': 8, 'lgbm__min_data_in_leaf': 15, 'lgbm__n_estimators': 90}\n",
      "0.982 (+/-0.013) for {'lgbm__learning_rate': 0.07, 'lgbm__max_depth': 8, 'lgbm__min_data_in_leaf': 15, 'lgbm__n_estimators': 100}\n",
      "0.970 (+/-0.012) for {'lgbm__learning_rate': 0.07, 'lgbm__max_depth': 8, 'lgbm__min_data_in_leaf': 20, 'lgbm__n_estimators': 10}\n",
      "0.975 (+/-0.013) for {'lgbm__learning_rate': 0.07, 'lgbm__max_depth': 8, 'lgbm__min_data_in_leaf': 20, 'lgbm__n_estimators': 20}\n",
      "0.979 (+/-0.010) for {'lgbm__learning_rate': 0.07, 'lgbm__max_depth': 8, 'lgbm__min_data_in_leaf': 20, 'lgbm__n_estimators': 30}\n",
      "0.980 (+/-0.010) for {'lgbm__learning_rate': 0.07, 'lgbm__max_depth': 8, 'lgbm__min_data_in_leaf': 20, 'lgbm__n_estimators': 40}\n",
      "0.980 (+/-0.010) for {'lgbm__learning_rate': 0.07, 'lgbm__max_depth': 8, 'lgbm__min_data_in_leaf': 20, 'lgbm__n_estimators': 50}\n",
      "0.981 (+/-0.010) for {'lgbm__learning_rate': 0.07, 'lgbm__max_depth': 8, 'lgbm__min_data_in_leaf': 20, 'lgbm__n_estimators': 60}\n",
      "0.982 (+/-0.010) for {'lgbm__learning_rate': 0.07, 'lgbm__max_depth': 8, 'lgbm__min_data_in_leaf': 20, 'lgbm__n_estimators': 70}\n",
      "0.982 (+/-0.011) for {'lgbm__learning_rate': 0.07, 'lgbm__max_depth': 8, 'lgbm__min_data_in_leaf': 20, 'lgbm__n_estimators': 80}\n",
      "0.982 (+/-0.011) for {'lgbm__learning_rate': 0.07, 'lgbm__max_depth': 8, 'lgbm__min_data_in_leaf': 20, 'lgbm__n_estimators': 90}\n",
      "0.982 (+/-0.011) for {'lgbm__learning_rate': 0.07, 'lgbm__max_depth': 8, 'lgbm__min_data_in_leaf': 20, 'lgbm__n_estimators': 100}\n",
      "0.968 (+/-0.012) for {'lgbm__learning_rate': 0.07, 'lgbm__max_depth': 8, 'lgbm__min_data_in_leaf': 25, 'lgbm__n_estimators': 10}\n",
      "0.975 (+/-0.014) for {'lgbm__learning_rate': 0.07, 'lgbm__max_depth': 8, 'lgbm__min_data_in_leaf': 25, 'lgbm__n_estimators': 20}\n",
      "0.979 (+/-0.011) for {'lgbm__learning_rate': 0.07, 'lgbm__max_depth': 8, 'lgbm__min_data_in_leaf': 25, 'lgbm__n_estimators': 30}\n",
      "0.980 (+/-0.010) for {'lgbm__learning_rate': 0.07, 'lgbm__max_depth': 8, 'lgbm__min_data_in_leaf': 25, 'lgbm__n_estimators': 40}\n",
      "0.981 (+/-0.011) for {'lgbm__learning_rate': 0.07, 'lgbm__max_depth': 8, 'lgbm__min_data_in_leaf': 25, 'lgbm__n_estimators': 50}\n",
      "0.982 (+/-0.010) for {'lgbm__learning_rate': 0.07, 'lgbm__max_depth': 8, 'lgbm__min_data_in_leaf': 25, 'lgbm__n_estimators': 60}\n",
      "0.982 (+/-0.010) for {'lgbm__learning_rate': 0.07, 'lgbm__max_depth': 8, 'lgbm__min_data_in_leaf': 25, 'lgbm__n_estimators': 70}\n",
      "0.982 (+/-0.011) for {'lgbm__learning_rate': 0.07, 'lgbm__max_depth': 8, 'lgbm__min_data_in_leaf': 25, 'lgbm__n_estimators': 80}\n",
      "0.983 (+/-0.011) for {'lgbm__learning_rate': 0.07, 'lgbm__max_depth': 8, 'lgbm__min_data_in_leaf': 25, 'lgbm__n_estimators': 90}\n",
      "0.983 (+/-0.011) for {'lgbm__learning_rate': 0.07, 'lgbm__max_depth': 8, 'lgbm__min_data_in_leaf': 25, 'lgbm__n_estimators': 100}\n",
      "0.967 (+/-0.016) for {'lgbm__learning_rate': 0.07, 'lgbm__max_depth': 8, 'lgbm__min_data_in_leaf': 30, 'lgbm__n_estimators': 10}\n",
      "0.974 (+/-0.013) for {'lgbm__learning_rate': 0.07, 'lgbm__max_depth': 8, 'lgbm__min_data_in_leaf': 30, 'lgbm__n_estimators': 20}\n",
      "0.978 (+/-0.011) for {'lgbm__learning_rate': 0.07, 'lgbm__max_depth': 8, 'lgbm__min_data_in_leaf': 30, 'lgbm__n_estimators': 30}\n",
      "0.981 (+/-0.010) for {'lgbm__learning_rate': 0.07, 'lgbm__max_depth': 8, 'lgbm__min_data_in_leaf': 30, 'lgbm__n_estimators': 40}\n",
      "0.982 (+/-0.010) for {'lgbm__learning_rate': 0.07, 'lgbm__max_depth': 8, 'lgbm__min_data_in_leaf': 30, 'lgbm__n_estimators': 50}\n",
      "0.982 (+/-0.009) for {'lgbm__learning_rate': 0.07, 'lgbm__max_depth': 8, 'lgbm__min_data_in_leaf': 30, 'lgbm__n_estimators': 60}\n",
      "0.983 (+/-0.009) for {'lgbm__learning_rate': 0.07, 'lgbm__max_depth': 8, 'lgbm__min_data_in_leaf': 30, 'lgbm__n_estimators': 70}\n",
      "0.983 (+/-0.010) for {'lgbm__learning_rate': 0.07, 'lgbm__max_depth': 8, 'lgbm__min_data_in_leaf': 30, 'lgbm__n_estimators': 80}\n",
      "0.983 (+/-0.010) for {'lgbm__learning_rate': 0.07, 'lgbm__max_depth': 8, 'lgbm__min_data_in_leaf': 30, 'lgbm__n_estimators': 90}\n",
      "0.982 (+/-0.010) for {'lgbm__learning_rate': 0.07, 'lgbm__max_depth': 8, 'lgbm__min_data_in_leaf': 30, 'lgbm__n_estimators': 100}\n",
      "0.959 (+/-0.037) for {'lgbm__learning_rate': 0.07, 'lgbm__max_depth': 9, 'lgbm__min_data_in_leaf': 5, 'lgbm__n_estimators': 10}\n",
      "0.972 (+/-0.019) for {'lgbm__learning_rate': 0.07, 'lgbm__max_depth': 9, 'lgbm__min_data_in_leaf': 5, 'lgbm__n_estimators': 20}\n",
      "0.973 (+/-0.017) for {'lgbm__learning_rate': 0.07, 'lgbm__max_depth': 9, 'lgbm__min_data_in_leaf': 5, 'lgbm__n_estimators': 30}\n",
      "0.978 (+/-0.012) for {'lgbm__learning_rate': 0.07, 'lgbm__max_depth': 9, 'lgbm__min_data_in_leaf': 5, 'lgbm__n_estimators': 40}\n",
      "0.979 (+/-0.010) for {'lgbm__learning_rate': 0.07, 'lgbm__max_depth': 9, 'lgbm__min_data_in_leaf': 5, 'lgbm__n_estimators': 50}\n",
      "0.980 (+/-0.010) for {'lgbm__learning_rate': 0.07, 'lgbm__max_depth': 9, 'lgbm__min_data_in_leaf': 5, 'lgbm__n_estimators': 60}\n",
      "0.981 (+/-0.011) for {'lgbm__learning_rate': 0.07, 'lgbm__max_depth': 9, 'lgbm__min_data_in_leaf': 5, 'lgbm__n_estimators': 70}\n",
      "0.981 (+/-0.011) for {'lgbm__learning_rate': 0.07, 'lgbm__max_depth': 9, 'lgbm__min_data_in_leaf': 5, 'lgbm__n_estimators': 80}\n",
      "0.981 (+/-0.011) for {'lgbm__learning_rate': 0.07, 'lgbm__max_depth': 9, 'lgbm__min_data_in_leaf': 5, 'lgbm__n_estimators': 90}\n",
      "0.981 (+/-0.011) for {'lgbm__learning_rate': 0.07, 'lgbm__max_depth': 9, 'lgbm__min_data_in_leaf': 5, 'lgbm__n_estimators': 100}\n",
      "0.969 (+/-0.017) for {'lgbm__learning_rate': 0.07, 'lgbm__max_depth': 9, 'lgbm__min_data_in_leaf': 10, 'lgbm__n_estimators': 10}\n",
      "0.975 (+/-0.014) for {'lgbm__learning_rate': 0.07, 'lgbm__max_depth': 9, 'lgbm__min_data_in_leaf': 10, 'lgbm__n_estimators': 20}\n",
      "0.976 (+/-0.013) for {'lgbm__learning_rate': 0.07, 'lgbm__max_depth': 9, 'lgbm__min_data_in_leaf': 10, 'lgbm__n_estimators': 30}\n",
      "0.979 (+/-0.013) for {'lgbm__learning_rate': 0.07, 'lgbm__max_depth': 9, 'lgbm__min_data_in_leaf': 10, 'lgbm__n_estimators': 40}\n",
      "0.980 (+/-0.012) for {'lgbm__learning_rate': 0.07, 'lgbm__max_depth': 9, 'lgbm__min_data_in_leaf': 10, 'lgbm__n_estimators': 50}\n",
      "0.981 (+/-0.012) for {'lgbm__learning_rate': 0.07, 'lgbm__max_depth': 9, 'lgbm__min_data_in_leaf': 10, 'lgbm__n_estimators': 60}\n",
      "0.981 (+/-0.012) for {'lgbm__learning_rate': 0.07, 'lgbm__max_depth': 9, 'lgbm__min_data_in_leaf': 10, 'lgbm__n_estimators': 70}\n",
      "0.981 (+/-0.012) for {'lgbm__learning_rate': 0.07, 'lgbm__max_depth': 9, 'lgbm__min_data_in_leaf': 10, 'lgbm__n_estimators': 80}\n",
      "0.981 (+/-0.012) for {'lgbm__learning_rate': 0.07, 'lgbm__max_depth': 9, 'lgbm__min_data_in_leaf': 10, 'lgbm__n_estimators': 90}\n",
      "0.981 (+/-0.012) for {'lgbm__learning_rate': 0.07, 'lgbm__max_depth': 9, 'lgbm__min_data_in_leaf': 10, 'lgbm__n_estimators': 100}\n",
      "0.967 (+/-0.015) for {'lgbm__learning_rate': 0.07, 'lgbm__max_depth': 9, 'lgbm__min_data_in_leaf': 15, 'lgbm__n_estimators': 10}\n",
      "0.975 (+/-0.011) for {'lgbm__learning_rate': 0.07, 'lgbm__max_depth': 9, 'lgbm__min_data_in_leaf': 15, 'lgbm__n_estimators': 20}\n",
      "0.978 (+/-0.011) for {'lgbm__learning_rate': 0.07, 'lgbm__max_depth': 9, 'lgbm__min_data_in_leaf': 15, 'lgbm__n_estimators': 30}\n",
      "0.980 (+/-0.010) for {'lgbm__learning_rate': 0.07, 'lgbm__max_depth': 9, 'lgbm__min_data_in_leaf': 15, 'lgbm__n_estimators': 40}\n",
      "0.981 (+/-0.010) for {'lgbm__learning_rate': 0.07, 'lgbm__max_depth': 9, 'lgbm__min_data_in_leaf': 15, 'lgbm__n_estimators': 50}\n",
      "0.981 (+/-0.012) for {'lgbm__learning_rate': 0.07, 'lgbm__max_depth': 9, 'lgbm__min_data_in_leaf': 15, 'lgbm__n_estimators': 60}\n",
      "0.981 (+/-0.012) for {'lgbm__learning_rate': 0.07, 'lgbm__max_depth': 9, 'lgbm__min_data_in_leaf': 15, 'lgbm__n_estimators': 70}\n",
      "0.981 (+/-0.013) for {'lgbm__learning_rate': 0.07, 'lgbm__max_depth': 9, 'lgbm__min_data_in_leaf': 15, 'lgbm__n_estimators': 80}\n",
      "0.981 (+/-0.013) for {'lgbm__learning_rate': 0.07, 'lgbm__max_depth': 9, 'lgbm__min_data_in_leaf': 15, 'lgbm__n_estimators': 90}\n",
      "0.981 (+/-0.013) for {'lgbm__learning_rate': 0.07, 'lgbm__max_depth': 9, 'lgbm__min_data_in_leaf': 15, 'lgbm__n_estimators': 100}\n",
      "0.970 (+/-0.012) for {'lgbm__learning_rate': 0.07, 'lgbm__max_depth': 9, 'lgbm__min_data_in_leaf': 20, 'lgbm__n_estimators': 10}\n",
      "0.975 (+/-0.013) for {'lgbm__learning_rate': 0.07, 'lgbm__max_depth': 9, 'lgbm__min_data_in_leaf': 20, 'lgbm__n_estimators': 20}\n",
      "0.978 (+/-0.010) for {'lgbm__learning_rate': 0.07, 'lgbm__max_depth': 9, 'lgbm__min_data_in_leaf': 20, 'lgbm__n_estimators': 30}\n",
      "0.980 (+/-0.010) for {'lgbm__learning_rate': 0.07, 'lgbm__max_depth': 9, 'lgbm__min_data_in_leaf': 20, 'lgbm__n_estimators': 40}\n",
      "0.981 (+/-0.011) for {'lgbm__learning_rate': 0.07, 'lgbm__max_depth': 9, 'lgbm__min_data_in_leaf': 20, 'lgbm__n_estimators': 50}\n",
      "0.981 (+/-0.011) for {'lgbm__learning_rate': 0.07, 'lgbm__max_depth': 9, 'lgbm__min_data_in_leaf': 20, 'lgbm__n_estimators': 60}\n",
      "0.981 (+/-0.011) for {'lgbm__learning_rate': 0.07, 'lgbm__max_depth': 9, 'lgbm__min_data_in_leaf': 20, 'lgbm__n_estimators': 70}\n",
      "0.981 (+/-0.012) for {'lgbm__learning_rate': 0.07, 'lgbm__max_depth': 9, 'lgbm__min_data_in_leaf': 20, 'lgbm__n_estimators': 80}\n",
      "0.982 (+/-0.012) for {'lgbm__learning_rate': 0.07, 'lgbm__max_depth': 9, 'lgbm__min_data_in_leaf': 20, 'lgbm__n_estimators': 90}\n",
      "0.981 (+/-0.012) for {'lgbm__learning_rate': 0.07, 'lgbm__max_depth': 9, 'lgbm__min_data_in_leaf': 20, 'lgbm__n_estimators': 100}\n",
      "0.968 (+/-0.012) for {'lgbm__learning_rate': 0.07, 'lgbm__max_depth': 9, 'lgbm__min_data_in_leaf': 25, 'lgbm__n_estimators': 10}\n",
      "0.975 (+/-0.015) for {'lgbm__learning_rate': 0.07, 'lgbm__max_depth': 9, 'lgbm__min_data_in_leaf': 25, 'lgbm__n_estimators': 20}\n",
      "0.979 (+/-0.010) for {'lgbm__learning_rate': 0.07, 'lgbm__max_depth': 9, 'lgbm__min_data_in_leaf': 25, 'lgbm__n_estimators': 30}\n",
      "0.981 (+/-0.009) for {'lgbm__learning_rate': 0.07, 'lgbm__max_depth': 9, 'lgbm__min_data_in_leaf': 25, 'lgbm__n_estimators': 40}\n",
      "0.981 (+/-0.010) for {'lgbm__learning_rate': 0.07, 'lgbm__max_depth': 9, 'lgbm__min_data_in_leaf': 25, 'lgbm__n_estimators': 50}\n",
      "0.982 (+/-0.011) for {'lgbm__learning_rate': 0.07, 'lgbm__max_depth': 9, 'lgbm__min_data_in_leaf': 25, 'lgbm__n_estimators': 60}\n",
      "0.982 (+/-0.011) for {'lgbm__learning_rate': 0.07, 'lgbm__max_depth': 9, 'lgbm__min_data_in_leaf': 25, 'lgbm__n_estimators': 70}\n",
      "0.982 (+/-0.011) for {'lgbm__learning_rate': 0.07, 'lgbm__max_depth': 9, 'lgbm__min_data_in_leaf': 25, 'lgbm__n_estimators': 80}\n",
      "0.982 (+/-0.011) for {'lgbm__learning_rate': 0.07, 'lgbm__max_depth': 9, 'lgbm__min_data_in_leaf': 25, 'lgbm__n_estimators': 90}\n",
      "0.982 (+/-0.010) for {'lgbm__learning_rate': 0.07, 'lgbm__max_depth': 9, 'lgbm__min_data_in_leaf': 25, 'lgbm__n_estimators': 100}\n",
      "0.967 (+/-0.016) for {'lgbm__learning_rate': 0.07, 'lgbm__max_depth': 9, 'lgbm__min_data_in_leaf': 30, 'lgbm__n_estimators': 10}\n",
      "0.974 (+/-0.012) for {'lgbm__learning_rate': 0.07, 'lgbm__max_depth': 9, 'lgbm__min_data_in_leaf': 30, 'lgbm__n_estimators': 20}\n",
      "0.978 (+/-0.011) for {'lgbm__learning_rate': 0.07, 'lgbm__max_depth': 9, 'lgbm__min_data_in_leaf': 30, 'lgbm__n_estimators': 30}\n",
      "0.980 (+/-0.009) for {'lgbm__learning_rate': 0.07, 'lgbm__max_depth': 9, 'lgbm__min_data_in_leaf': 30, 'lgbm__n_estimators': 40}\n",
      "0.981 (+/-0.009) for {'lgbm__learning_rate': 0.07, 'lgbm__max_depth': 9, 'lgbm__min_data_in_leaf': 30, 'lgbm__n_estimators': 50}\n",
      "0.982 (+/-0.010) for {'lgbm__learning_rate': 0.07, 'lgbm__max_depth': 9, 'lgbm__min_data_in_leaf': 30, 'lgbm__n_estimators': 60}\n",
      "0.982 (+/-0.010) for {'lgbm__learning_rate': 0.07, 'lgbm__max_depth': 9, 'lgbm__min_data_in_leaf': 30, 'lgbm__n_estimators': 70}\n",
      "0.983 (+/-0.009) for {'lgbm__learning_rate': 0.07, 'lgbm__max_depth': 9, 'lgbm__min_data_in_leaf': 30, 'lgbm__n_estimators': 80}\n",
      "0.983 (+/-0.009) for {'lgbm__learning_rate': 0.07, 'lgbm__max_depth': 9, 'lgbm__min_data_in_leaf': 30, 'lgbm__n_estimators': 90}\n",
      "0.983 (+/-0.009) for {'lgbm__learning_rate': 0.07, 'lgbm__max_depth': 9, 'lgbm__min_data_in_leaf': 30, 'lgbm__n_estimators': 100}\n",
      "0.959 (+/-0.037) for {'lgbm__learning_rate': 0.07, 'lgbm__max_depth': 10, 'lgbm__min_data_in_leaf': 5, 'lgbm__n_estimators': 10}\n",
      "0.971 (+/-0.019) for {'lgbm__learning_rate': 0.07, 'lgbm__max_depth': 10, 'lgbm__min_data_in_leaf': 5, 'lgbm__n_estimators': 20}\n",
      "0.973 (+/-0.018) for {'lgbm__learning_rate': 0.07, 'lgbm__max_depth': 10, 'lgbm__min_data_in_leaf': 5, 'lgbm__n_estimators': 30}\n",
      "0.978 (+/-0.012) for {'lgbm__learning_rate': 0.07, 'lgbm__max_depth': 10, 'lgbm__min_data_in_leaf': 5, 'lgbm__n_estimators': 40}\n",
      "0.979 (+/-0.011) for {'lgbm__learning_rate': 0.07, 'lgbm__max_depth': 10, 'lgbm__min_data_in_leaf': 5, 'lgbm__n_estimators': 50}\n",
      "0.980 (+/-0.011) for {'lgbm__learning_rate': 0.07, 'lgbm__max_depth': 10, 'lgbm__min_data_in_leaf': 5, 'lgbm__n_estimators': 60}\n",
      "0.981 (+/-0.010) for {'lgbm__learning_rate': 0.07, 'lgbm__max_depth': 10, 'lgbm__min_data_in_leaf': 5, 'lgbm__n_estimators': 70}\n",
      "0.981 (+/-0.010) for {'lgbm__learning_rate': 0.07, 'lgbm__max_depth': 10, 'lgbm__min_data_in_leaf': 5, 'lgbm__n_estimators': 80}\n",
      "0.981 (+/-0.010) for {'lgbm__learning_rate': 0.07, 'lgbm__max_depth': 10, 'lgbm__min_data_in_leaf': 5, 'lgbm__n_estimators': 90}\n",
      "0.981 (+/-0.010) for {'lgbm__learning_rate': 0.07, 'lgbm__max_depth': 10, 'lgbm__min_data_in_leaf': 5, 'lgbm__n_estimators': 100}\n",
      "0.969 (+/-0.017) for {'lgbm__learning_rate': 0.07, 'lgbm__max_depth': 10, 'lgbm__min_data_in_leaf': 10, 'lgbm__n_estimators': 10}\n",
      "0.975 (+/-0.014) for {'lgbm__learning_rate': 0.07, 'lgbm__max_depth': 10, 'lgbm__min_data_in_leaf': 10, 'lgbm__n_estimators': 20}\n",
      "0.977 (+/-0.013) for {'lgbm__learning_rate': 0.07, 'lgbm__max_depth': 10, 'lgbm__min_data_in_leaf': 10, 'lgbm__n_estimators': 30}\n",
      "0.979 (+/-0.012) for {'lgbm__learning_rate': 0.07, 'lgbm__max_depth': 10, 'lgbm__min_data_in_leaf': 10, 'lgbm__n_estimators': 40}\n",
      "0.980 (+/-0.012) for {'lgbm__learning_rate': 0.07, 'lgbm__max_depth': 10, 'lgbm__min_data_in_leaf': 10, 'lgbm__n_estimators': 50}\n",
      "0.980 (+/-0.012) for {'lgbm__learning_rate': 0.07, 'lgbm__max_depth': 10, 'lgbm__min_data_in_leaf': 10, 'lgbm__n_estimators': 60}\n",
      "0.981 (+/-0.012) for {'lgbm__learning_rate': 0.07, 'lgbm__max_depth': 10, 'lgbm__min_data_in_leaf': 10, 'lgbm__n_estimators': 70}\n",
      "0.981 (+/-0.011) for {'lgbm__learning_rate': 0.07, 'lgbm__max_depth': 10, 'lgbm__min_data_in_leaf': 10, 'lgbm__n_estimators': 80}\n",
      "0.981 (+/-0.011) for {'lgbm__learning_rate': 0.07, 'lgbm__max_depth': 10, 'lgbm__min_data_in_leaf': 10, 'lgbm__n_estimators': 90}\n",
      "0.981 (+/-0.011) for {'lgbm__learning_rate': 0.07, 'lgbm__max_depth': 10, 'lgbm__min_data_in_leaf': 10, 'lgbm__n_estimators': 100}\n",
      "0.967 (+/-0.015) for {'lgbm__learning_rate': 0.07, 'lgbm__max_depth': 10, 'lgbm__min_data_in_leaf': 15, 'lgbm__n_estimators': 10}\n",
      "0.975 (+/-0.011) for {'lgbm__learning_rate': 0.07, 'lgbm__max_depth': 10, 'lgbm__min_data_in_leaf': 15, 'lgbm__n_estimators': 20}\n",
      "0.978 (+/-0.011) for {'lgbm__learning_rate': 0.07, 'lgbm__max_depth': 10, 'lgbm__min_data_in_leaf': 15, 'lgbm__n_estimators': 30}\n",
      "0.981 (+/-0.011) for {'lgbm__learning_rate': 0.07, 'lgbm__max_depth': 10, 'lgbm__min_data_in_leaf': 15, 'lgbm__n_estimators': 40}\n",
      "0.981 (+/-0.011) for {'lgbm__learning_rate': 0.07, 'lgbm__max_depth': 10, 'lgbm__min_data_in_leaf': 15, 'lgbm__n_estimators': 50}\n",
      "0.981 (+/-0.012) for {'lgbm__learning_rate': 0.07, 'lgbm__max_depth': 10, 'lgbm__min_data_in_leaf': 15, 'lgbm__n_estimators': 60}\n",
      "0.981 (+/-0.013) for {'lgbm__learning_rate': 0.07, 'lgbm__max_depth': 10, 'lgbm__min_data_in_leaf': 15, 'lgbm__n_estimators': 70}\n",
      "0.981 (+/-0.013) for {'lgbm__learning_rate': 0.07, 'lgbm__max_depth': 10, 'lgbm__min_data_in_leaf': 15, 'lgbm__n_estimators': 80}\n",
      "0.981 (+/-0.013) for {'lgbm__learning_rate': 0.07, 'lgbm__max_depth': 10, 'lgbm__min_data_in_leaf': 15, 'lgbm__n_estimators': 90}\n",
      "0.981 (+/-0.013) for {'lgbm__learning_rate': 0.07, 'lgbm__max_depth': 10, 'lgbm__min_data_in_leaf': 15, 'lgbm__n_estimators': 100}\n",
      "0.970 (+/-0.013) for {'lgbm__learning_rate': 0.07, 'lgbm__max_depth': 10, 'lgbm__min_data_in_leaf': 20, 'lgbm__n_estimators': 10}\n",
      "0.975 (+/-0.013) for {'lgbm__learning_rate': 0.07, 'lgbm__max_depth': 10, 'lgbm__min_data_in_leaf': 20, 'lgbm__n_estimators': 20}\n",
      "0.978 (+/-0.011) for {'lgbm__learning_rate': 0.07, 'lgbm__max_depth': 10, 'lgbm__min_data_in_leaf': 20, 'lgbm__n_estimators': 30}\n",
      "0.980 (+/-0.010) for {'lgbm__learning_rate': 0.07, 'lgbm__max_depth': 10, 'lgbm__min_data_in_leaf': 20, 'lgbm__n_estimators': 40}\n",
      "0.981 (+/-0.010) for {'lgbm__learning_rate': 0.07, 'lgbm__max_depth': 10, 'lgbm__min_data_in_leaf': 20, 'lgbm__n_estimators': 50}\n",
      "0.981 (+/-0.011) for {'lgbm__learning_rate': 0.07, 'lgbm__max_depth': 10, 'lgbm__min_data_in_leaf': 20, 'lgbm__n_estimators': 60}\n",
      "0.981 (+/-0.011) for {'lgbm__learning_rate': 0.07, 'lgbm__max_depth': 10, 'lgbm__min_data_in_leaf': 20, 'lgbm__n_estimators': 70}\n",
      "0.981 (+/-0.011) for {'lgbm__learning_rate': 0.07, 'lgbm__max_depth': 10, 'lgbm__min_data_in_leaf': 20, 'lgbm__n_estimators': 80}\n",
      "0.982 (+/-0.011) for {'lgbm__learning_rate': 0.07, 'lgbm__max_depth': 10, 'lgbm__min_data_in_leaf': 20, 'lgbm__n_estimators': 90}\n",
      "0.982 (+/-0.011) for {'lgbm__learning_rate': 0.07, 'lgbm__max_depth': 10, 'lgbm__min_data_in_leaf': 20, 'lgbm__n_estimators': 100}\n",
      "0.968 (+/-0.012) for {'lgbm__learning_rate': 0.07, 'lgbm__max_depth': 10, 'lgbm__min_data_in_leaf': 25, 'lgbm__n_estimators': 10}\n",
      "0.975 (+/-0.015) for {'lgbm__learning_rate': 0.07, 'lgbm__max_depth': 10, 'lgbm__min_data_in_leaf': 25, 'lgbm__n_estimators': 20}\n",
      "0.979 (+/-0.010) for {'lgbm__learning_rate': 0.07, 'lgbm__max_depth': 10, 'lgbm__min_data_in_leaf': 25, 'lgbm__n_estimators': 30}\n",
      "0.981 (+/-0.009) for {'lgbm__learning_rate': 0.07, 'lgbm__max_depth': 10, 'lgbm__min_data_in_leaf': 25, 'lgbm__n_estimators': 40}\n",
      "0.981 (+/-0.010) for {'lgbm__learning_rate': 0.07, 'lgbm__max_depth': 10, 'lgbm__min_data_in_leaf': 25, 'lgbm__n_estimators': 50}\n",
      "0.982 (+/-0.011) for {'lgbm__learning_rate': 0.07, 'lgbm__max_depth': 10, 'lgbm__min_data_in_leaf': 25, 'lgbm__n_estimators': 60}\n",
      "0.982 (+/-0.011) for {'lgbm__learning_rate': 0.07, 'lgbm__max_depth': 10, 'lgbm__min_data_in_leaf': 25, 'lgbm__n_estimators': 70}\n",
      "0.982 (+/-0.011) for {'lgbm__learning_rate': 0.07, 'lgbm__max_depth': 10, 'lgbm__min_data_in_leaf': 25, 'lgbm__n_estimators': 80}\n",
      "0.982 (+/-0.011) for {'lgbm__learning_rate': 0.07, 'lgbm__max_depth': 10, 'lgbm__min_data_in_leaf': 25, 'lgbm__n_estimators': 90}\n",
      "0.982 (+/-0.011) for {'lgbm__learning_rate': 0.07, 'lgbm__max_depth': 10, 'lgbm__min_data_in_leaf': 25, 'lgbm__n_estimators': 100}\n",
      "0.967 (+/-0.016) for {'lgbm__learning_rate': 0.07, 'lgbm__max_depth': 10, 'lgbm__min_data_in_leaf': 30, 'lgbm__n_estimators': 10}\n",
      "0.974 (+/-0.012) for {'lgbm__learning_rate': 0.07, 'lgbm__max_depth': 10, 'lgbm__min_data_in_leaf': 30, 'lgbm__n_estimators': 20}\n",
      "0.979 (+/-0.011) for {'lgbm__learning_rate': 0.07, 'lgbm__max_depth': 10, 'lgbm__min_data_in_leaf': 30, 'lgbm__n_estimators': 30}\n",
      "0.981 (+/-0.009) for {'lgbm__learning_rate': 0.07, 'lgbm__max_depth': 10, 'lgbm__min_data_in_leaf': 30, 'lgbm__n_estimators': 40}\n",
      "0.982 (+/-0.010) for {'lgbm__learning_rate': 0.07, 'lgbm__max_depth': 10, 'lgbm__min_data_in_leaf': 30, 'lgbm__n_estimators': 50}\n",
      "0.982 (+/-0.011) for {'lgbm__learning_rate': 0.07, 'lgbm__max_depth': 10, 'lgbm__min_data_in_leaf': 30, 'lgbm__n_estimators': 60}\n",
      "0.983 (+/-0.011) for {'lgbm__learning_rate': 0.07, 'lgbm__max_depth': 10, 'lgbm__min_data_in_leaf': 30, 'lgbm__n_estimators': 70}\n",
      "0.983 (+/-0.011) for {'lgbm__learning_rate': 0.07, 'lgbm__max_depth': 10, 'lgbm__min_data_in_leaf': 30, 'lgbm__n_estimators': 80}\n",
      "0.983 (+/-0.011) for {'lgbm__learning_rate': 0.07, 'lgbm__max_depth': 10, 'lgbm__min_data_in_leaf': 30, 'lgbm__n_estimators': 90}\n",
      "0.983 (+/-0.010) for {'lgbm__learning_rate': 0.07, 'lgbm__max_depth': 10, 'lgbm__min_data_in_leaf': 30, 'lgbm__n_estimators': 100}\n"
     ]
    }
   ],
   "source": [
    "print(grid.best_params_)\n",
    "\n",
    "means = grid.cv_results_['mean_test_score']\n",
    "stds = grid.cv_results_['std_test_score']\n",
    "for mean, std, params in zip(means, stds, grid.cv_results_['params']):\n",
    "    print(\"%0.3f (+/-%0.03f) for %r\"\n",
    "        % (mean, std * 2, params))\n"
   ]
  },
  {
   "cell_type": "code",
   "execution_count": 99,
   "metadata": {},
   "outputs": [
    {
     "data": {
      "text/plain": [
       "dict_keys(['explained_variance', 'r2', 'max_error', 'neg_median_absolute_error', 'neg_mean_absolute_error', 'neg_mean_squared_error', 'neg_mean_squared_log_error', 'neg_root_mean_squared_error', 'neg_mean_poisson_deviance', 'neg_mean_gamma_deviance', 'accuracy', 'roc_auc', 'roc_auc_ovr', 'roc_auc_ovo', 'roc_auc_ovr_weighted', 'roc_auc_ovo_weighted', 'balanced_accuracy', 'average_precision', 'neg_log_loss', 'neg_brier_score', 'adjusted_rand_score', 'homogeneity_score', 'completeness_score', 'v_measure_score', 'mutual_info_score', 'adjusted_mutual_info_score', 'normalized_mutual_info_score', 'fowlkes_mallows_score', 'precision', 'precision_macro', 'precision_micro', 'precision_samples', 'precision_weighted', 'recall', 'recall_macro', 'recall_micro', 'recall_samples', 'recall_weighted', 'f1', 'f1_macro', 'f1_micro', 'f1_samples', 'f1_weighted', 'jaccard', 'jaccard_macro', 'jaccard_micro', 'jaccard_samples', 'jaccard_weighted'])"
      ]
     },
     "execution_count": 99,
     "metadata": {},
     "output_type": "execute_result"
    }
   ],
   "source": [
    "import sklearn\n",
    "sklearn.metrics.SCORERS.keys()"
   ]
  },
  {
   "cell_type": "code",
   "execution_count": 109,
   "metadata": {},
   "outputs": [
    {
     "data": {
      "text/plain": [
       "array([0.97962294, 0.9750508 , 0.98704177, 0.97402671, 0.96965047])"
      ]
     },
     "execution_count": 109,
     "metadata": {},
     "output_type": "execute_result"
    }
   ],
   "source": [
    "from sklearn.model_selection import KFold\n",
    "from sklearn.model_selection import StratifiedKFold\n",
    "from sklearn.model_selection import cross_val_score\n",
    "\n",
    "# Stratified K fold\n",
    "\n",
    "classifier  = grid.best_estimator_.steps[-1][-1]\n",
    "\n",
    "cv = StratifiedKFold(n_splits=5)\n",
    "\n",
    "cv_results_skfold = cross_val_score(classifier, X, y, cv = cv, scoring='roc_auc')\n",
    "\n",
    "cv_results_skfold"
   ]
  },
  {
   "cell_type": "code",
   "execution_count": 110,
   "metadata": {},
   "outputs": [
    {
     "name": "stdout",
     "output_type": "stream",
     "text": [
      "Accuracy for ROC AUC: 0.98 (+/- 0.01)\n"
     ]
    }
   ],
   "source": [
    "print(\"Accuracy for ROC AUC: %0.2f (+/- %0.2f)\" % (cv_results_skfold.mean(), cv_results_skfold.std() * 2))"
   ]
  },
  {
   "cell_type": "code",
   "execution_count": 46,
   "metadata": {},
   "outputs": [],
   "source": [
    "file_model_lgbm = open(\"../data/05_modelling_GBM\", \"wb\")\n",
    "pickle.dump(grid,file_model_lgbm)\n",
    "file_features.close()"
   ]
  },
  {
   "cell_type": "code",
   "execution_count": 47,
   "metadata": {},
   "outputs": [],
   "source": [
    "import numpy as np\n",
    "import matplotlib.pyplot as plt\n",
    "\n",
    "from sklearn import svm, datasets\n",
    "from sklearn.metrics import auc\n",
    "from sklearn.metrics import plot_roc_curve\n",
    "from sklearn.model_selection import StratifiedKFold\n",
    "\n",
    "n_samples, n_features = X.shape\n",
    "\n",
    "random_state = np.random.RandomState(0)\n",
    "X = np.c_[X, random_state.randn(n_samples, 200 * n_features)]\n",
    "\n",
    "cv = StratifiedKFold(5)"
   ]
  },
  {
   "cell_type": "code",
   "execution_count": 48,
   "metadata": {},
   "outputs": [],
   "source": [
    "classifier  = grid.best_estimator_.steps[-1][-1]"
   ]
  },
  {
   "cell_type": "markdown",
   "metadata": {},
   "source": [
    "## Interate KFolds and  Test"
   ]
  },
  {
   "cell_type": "code",
   "execution_count": 49,
   "metadata": {},
   "outputs": [
    {
     "data": {
      "text/plain": [
       "((1460, 2), (1460, 1))"
      ]
     },
     "execution_count": 49,
     "metadata": {},
     "output_type": "execute_result"
    }
   ],
   "source": [
    "appended_data = []\n",
    "appended_y_data = []\n",
    "\n",
    "for i, (train, test) in enumerate(cv.split(X, y)):\n",
    "    \n",
    "    classifier.fit(X[train], y[train])\n",
    "    predictions_model_prob = classifier.predict_proba(X[test])\n",
    "    \n",
    "    data = pd.DataFrame(data = predictions_model_prob, columns = ['proba_a','proba_b'])\n",
    "    data_y = pd.DataFrame(data = y[test], columns = ['y'])\n",
    "    \n",
    "    appended_data.append(data)\n",
    "    appended_y_data.append(data_y)\n",
    "\n",
    "appended_data = pd.concat(appended_data)\n",
    "appended_y_data = pd.concat(appended_y_data)\n",
    "\n",
    "appended_data.shape,appended_y_data.shape "
   ]
  },
  {
   "cell_type": "code",
   "execution_count": 79,
   "metadata": {},
   "outputs": [
    {
     "data": {
      "text/plain": [
       "(427, 468)"
      ]
     },
     "execution_count": 79,
     "metadata": {},
     "output_type": "execute_result"
    }
   ],
   "source": [
    "class_threshold = 0.25\n",
    "appended_data['Prediction'] = np.where(appended_data['proba_b'] >= class_threshold, 1, 0) \n",
    "appended_data['Prediction'].sum()\n",
    "\n",
    "cv_predicted_y = appended_data['Prediction'].to_numpy()\n",
    "cv_true_y = appended_y_data.to_numpy()\n",
    "cv_true_y.sum(), cv_predicted_y.sum()"
   ]
  },
  {
   "cell_type": "code",
   "execution_count": 73,
   "metadata": {},
   "outputs": [
    {
     "data": {
      "image/png": "[encoded data removed]",
      "text/plain": [
       "<Figure size 216x72 with 1 Axes>"
      ]
     },
     "metadata": {},
     "output_type": "display_data"
    }
   ],
   "source": [
    "import seaborn as sns; #sns.set()\n",
    "import seaborn as sns\n",
    "import matplotlib.pylab as plt\n",
    "import numpy as np\n",
    "from matplotlib.colors import ListedColormap\n",
    "\n",
    "pal4 = sns.color_palette(\"RdYlGn_r\",3)\n",
    "sns.set_palette(sns.color_palette(pal4.reverse()))\n",
    "#Reverse\n",
    "cmap4 = ListedColormap(sns.color_palette(pal4).as_hex())\n",
    "sns.palplot(pal4)"
   ]
  },
  {
   "cell_type": "code",
   "execution_count": 78,
   "metadata": {},
   "outputs": [],
   "source": [
    "params = {'legend.fontsize': 15,\n",
    "          'legend.handlelength': 2}\n",
    "plt.rcParams['xtick.labelsize']=12\n",
    "plt.rcParams['ytick.labelsize']=14\n",
    "\n",
    "plt.rcParams['axes.titlesize'] = 16\n",
    "plt.rcParams['axes.titleweight'] = 'bold'\n",
    "plt.rcParams['legend.fontsize'] = 14\n",
    "\n",
    "plt.rcParams['axes.labelsize'] = 14\n",
    "plt.rcParams['axes.labelweight'] = 'bold'\n",
    "\n",
    "plt.rcParams.update(params)\n",
    "\n",
    "sns.set(rc={'figure.figsize':(14,8)})\n",
    "\n",
    "\n",
    "import matplotlib.pylab as plt\n",
    "params = {'legend.fontsize': 14,\n",
    "          'figure.figsize': (14, 7),\n",
    "         'axes.labelsize': 14,\n",
    "         'axes.titlesize':14,\n",
    "         'xtick.labelsize':12,\n",
    "         'ytick.labelsize':14}\n",
    "plt.rcParams.update(params)\n"
   ]
  },
  {
   "cell_type": "code",
   "execution_count": 92,
   "metadata": {},
   "outputs": [
    {
     "data": {
      "text/plain": [
       "<Figure size 1008x504 with 0 Axes>"
      ]
     },
     "metadata": {},
     "output_type": "display_data"
    },
    {
     "data": {
      "image/png": "[encoded data removed]",
      "text/plain": [
       "<Figure size 576x576 with 2 Axes>"
      ]
     },
     "metadata": {},
     "output_type": "display_data"
    }
   ],
   "source": [
    "plt.figure()\n",
    "cm = confusion_matrix(cv_true_y, cv_predicted_y)\n",
    "labels = ['Low Value House', 'High Value House']\n",
    "plt.figure(figsize=(8,8))\n",
    "ax = sns.heatmap(cm, xticklabels = labels, yticklabels = labels, annot = True, fmt='d',cmap = cmap4);\n",
    "\n",
    "ax.tick_params(labelsize=14)\n",
    "plt.title('Cross Validation Confusion Matrix')\n",
    "plt.ylabel('True Class')\n",
    "plt.xlabel('Predicted Class')\n",
    "plt.show()\n",
    "\n",
    "figure = ax.get_figure()    \n",
    "\n",
    "figure.savefig('../doc/figures/confusion_matrix_lgbm.png', dpi=600)"
   ]
  },
  {
   "cell_type": "code",
   "execution_count": 93,
   "metadata": {},
   "outputs": [
    {
     "name": "stdout",
     "output_type": "stream",
     "text": [
      "                  precision    recall  f1-score   support\n",
      "\n",
      " Low Value House       0.97      0.93      0.95      1033\n",
      "High Value House       0.84      0.93      0.88       427\n",
      "\n",
      "        accuracy                           0.93      1460\n",
      "       macro avg       0.91      0.93      0.92      1460\n",
      "    weighted avg       0.93      0.93      0.93      1460\n",
      "\n"
     ]
    }
   ],
   "source": [
    "from sklearn.metrics import classification_report\n",
    "target_names = ['Low Value House', 'High Value House']\n",
    "print(classification_report(cv_true_y, cv_predicted_y, target_names=target_names))"
   ]
  },
  {
   "cell_type": "code",
   "execution_count": 94,
   "metadata": {},
   "outputs": [
    {
     "data": {
      "text/plain": [
       "(0.928082191780822, 0.9271952953018765)"
      ]
     },
     "execution_count": 94,
     "metadata": {},
     "output_type": "execute_result"
    }
   ],
   "source": [
    "from sklearn.metrics import balanced_accuracy_score,accuracy_score\n",
    "\n",
    "accuracy_score(cv_true_y, cv_predicted_y), balanced_accuracy_score(cv_true_y, cv_predicted_y)"
   ]
  },
  {
   "cell_type": "markdown",
   "metadata": {},
   "source": [
    "## ROC AUC Curve"
   ]
  },
  {
   "cell_type": "code",
   "execution_count": 95,
   "metadata": {},
   "outputs": [
    {
     "data": {
      "text/plain": [
       "<Figure size 1008x576 with 0 Axes>"
      ]
     },
     "metadata": {},
     "output_type": "display_data"
    },
    {
     "data": {
      "image/png": "[encoded data removed]",
      "text/plain": [
       "<Figure size 1008x504 with 1 Axes>"
      ]
     },
     "metadata": {},
     "output_type": "display_data"
    }
   ],
   "source": [
    "tprs = []\n",
    "aucs = []\n",
    "mean_fpr = np.linspace(0, 1, 100)\n",
    "\n",
    "plt.figure(figsize=(14,8))\n",
    "\n",
    "fig, ax = plt.subplots()\n",
    "for i, (train, test) in enumerate(cv.split(X, y)):\n",
    "    classifier.fit(X[train], y[train])\n",
    "    viz = plot_roc_curve(classifier, X[test], y[test],\n",
    "                         name='ROC fold {}'.format(i),\n",
    "                         alpha=0.3, lw=2, ax=ax)\n",
    "    interp_tpr = np.interp(mean_fpr, viz.fpr, viz.tpr)\n",
    "    interp_tpr[0] = 0.0\n",
    "    tprs.append(interp_tpr)\n",
    "    aucs.append(viz.roc_auc)\n",
    "\n",
    "ax.plot([0, 1], [0, 1], linestyle='--', lw=1, color='black',\n",
    "        label='No Predictive Power', alpha=.8)\n",
    "\n",
    "mean_tpr = np.mean(tprs, axis=0)\n",
    "mean_tpr[-1] = 1.0\n",
    "mean_auc = auc(mean_fpr, mean_tpr)\n",
    "std_auc = np.std(aucs)\n",
    "ax.plot(mean_fpr, mean_tpr, color='r',\n",
    "        label=r'Mean ROC (AUC = %0.2f $\\pm$ %0.2f)' % (mean_auc, std_auc),\n",
    "        lw=3, alpha=.8)\n",
    "#RdYlGn\n",
    "std_tpr = np.std(tprs, axis=0)\n",
    "tprs_upper = np.minimum(mean_tpr + std_tpr, 1)\n",
    "tprs_lower = np.maximum(mean_tpr - std_tpr, 0)\n",
    "ax.fill_between(mean_fpr, tprs_lower, tprs_upper, color='grey', alpha=.2,\n",
    "                label=r'$\\pm$ 1 std. dev.')\n",
    "\n",
    "ax.set(xlim=[-0.05, 1.05], ylim=[-0.05, 1.05],title=\"ROC Characteristics\")\n",
    "ax.legend(loc=\"lower right\")\n",
    "plt.show()\n",
    "\n",
    "figure = ax.get_figure()    \n",
    "\n",
    "figure.savefig('../doc/figures/roc_lgbm.png', dpi=600)"
   ]
  },
  {
   "cell_type": "code",
   "execution_count": 102,
   "metadata": {},
   "outputs": [
    {
     "data": {
      "text/html": [
       "<style>div.sk-top-container {color: black;background-color: white;}div.sk-toggleable {background-color: white;}label.sk-toggleable__label {cursor: pointer;display: block;width: 100%;margin-bottom: 0;padding: 0.2em 0.3em;box-sizing: border-box;text-align: center;}div.sk-toggleable__content {max-height: 0;max-width: 0;overflow: hidden;text-align: left;background-color: #f0f8ff;}div.sk-toggleable__content pre {margin: 0.2em;color: black;border-radius: 0.25em;background-color: #f0f8ff;}input.sk-toggleable__control:checked~div.sk-toggleable__content {max-height: 200px;max-width: 100%;overflow: auto;}div.sk-estimator input.sk-toggleable__control:checked~label.sk-toggleable__label {background-color: #d4ebff;}div.sk-label input.sk-toggleable__control:checked~label.sk-toggleable__label {background-color: #d4ebff;}input.sk-hidden--visually {border: 0;clip: rect(1px 1px 1px 1px);clip: rect(1px, 1px, 1px, 1px);height: 1px;margin: -1px;overflow: hidden;padding: 0;position: absolute;width: 1px;}div.sk-estimator {font-family: monospace;background-color: #f0f8ff;margin: 0.25em 0.25em;border: 1px dotted black;border-radius: 0.25em;box-sizing: border-box;}div.sk-estimator:hover {background-color: #d4ebff;}div.sk-parallel-item::after {content: \"\";width: 100%;border-bottom: 1px solid gray;flex-grow: 1;}div.sk-label:hover label.sk-toggleable__label {background-color: #d4ebff;}div.sk-serial::before {content: \"\";position: absolute;border-left: 1px solid gray;box-sizing: border-box;top: 2em;bottom: 0;left: 50%;}div.sk-serial {display: flex;flex-direction: column;align-items: center;background-color: white;}div.sk-item {z-index: 1;}div.sk-parallel {display: flex;align-items: stretch;justify-content: center;background-color: white;}div.sk-parallel-item {display: flex;flex-direction: column;position: relative;background-color: white;}div.sk-parallel-item:first-child::after {align-self: flex-end;width: 50%;}div.sk-parallel-item:last-child::after {align-self: flex-start;width: 50%;}div.sk-parallel-item:only-child::after {width: 0;}div.sk-dashed-wrapped {border: 1px dashed gray;margin: 0.2em;box-sizing: border-box;padding-bottom: 0.1em;background-color: white;position: relative;}div.sk-label label {font-family: monospace;font-weight: bold;background-color: white;display: inline-block;line-height: 1.2em;}div.sk-label-container {position: relative;z-index: 2;text-align: center;}div.sk-container {display: inline-block;position: relative;}</style><div class=\"sk-top-container\"><div class=\"sk-container\"><div class=\"sk-item sk-dashed-wrapped\"><div class=\"sk-label-container\"><div class=\"sk-label sk-toggleable\"><input class=\"sk-toggleable__control sk-hidden--visually\" id=\"fef64721-2fbb-4223-9e82-6310a542c6e0\" type=\"checkbox\" ><label class=\"sk-toggleable__label\" for=\"fef64721-2fbb-4223-9e82-6310a542c6e0\">Pipeline</label><div class=\"sk-toggleable__content\"><pre>Pipeline(steps=[('scaler', StandardScaler()),\n",
       "                ('lgbm', LGBMClassifier(metric='roc_auc', objective='binary'))])</pre></div></div></div><div class=\"sk-serial\"><div class=\"sk-item\"><div class=\"sk-estimator sk-toggleable\"><input class=\"sk-toggleable__control sk-hidden--visually\" id=\"29720530-8bbe-433a-8830-bc79cb6a8b87\" type=\"checkbox\" ><label class=\"sk-toggleable__label\" for=\"29720530-8bbe-433a-8830-bc79cb6a8b87\">StandardScaler</label><div class=\"sk-toggleable__content\"><pre>StandardScaler()</pre></div></div></div><div class=\"sk-item\"><div class=\"sk-estimator sk-toggleable\"><input class=\"sk-toggleable__control sk-hidden--visually\" id=\"475fce75-5edc-4c14-859a-fcbddc77d81d\" type=\"checkbox\" ><label class=\"sk-toggleable__label\" for=\"475fce75-5edc-4c14-859a-fcbddc77d81d\">LGBMClassifier</label><div class=\"sk-toggleable__content\"><pre>LGBMClassifier(metric='roc_auc', objective='binary')</pre></div></div></div></div></div></div></div>"
      ],
      "text/plain": [
       "Pipeline(steps=[('scaler', StandardScaler()),\n",
       "                ('lgbm', LGBMClassifier(metric='roc_auc', objective='binary'))])"
      ]
     },
     "execution_count": 102,
     "metadata": {},
     "output_type": "execute_result"
    }
   ],
   "source": [
    "from sklearn import set_config\n",
    "set_config(display='diagram')\n",
    "pipeline"
   ]
  }
 ],
 "metadata": {
  "kernelspec": {
   "display_name": "Python 3",
   "language": "python",
   "name": "python3"
  },
  "language_info": {
   "codemirror_mode": {
    "name": "ipython",
    "version": 3
   },
   "file_extension": ".py",
   "mimetype": "text/x-python",
   "name": "python",
   "nbconvert_exporter": "python",
   "pygments_lexer": "ipython3",
   "version": "3.7.6"
  }
 },
 "nbformat": 4,
 "nbformat_minor": 4
}
