{
 "cells": [
  {
   "cell_type": "code",
   "execution_count": 76,
   "metadata": {},
   "outputs": [
    {
     "data": {
      "text/plain": [
       "('sklearn', '0.23.1')"
      ]
     },
     "execution_count": 76,
     "metadata": {},
     "output_type": "execute_result"
    }
   ],
   "source": [
    "import numpy as np\n",
    "import pandas as pd\n",
    "\n",
    "from sklearn.base import BaseEstimator, TransformerMixin\n",
    "from sklearn.pipeline import Pipeline\n",
    "\n",
    "from sklearn.impute import SimpleImputer\n",
    "from sklearn.preprocessing import StandardScaler, OrdinalEncoder\n",
    "\n",
    "import pickle5 as pickle\n",
    "\n",
    "import sklearn\n",
    "sklearn.__name__,sklearn.__version__"
   ]
  },
  {
   "cell_type": "code",
   "execution_count": 77,
   "metadata": {},
   "outputs": [
    {
     "data": {
      "text/plain": [
       "((1460, 80), (1459, 79))"
      ]
     },
     "execution_count": 77,
     "metadata": {},
     "output_type": "execute_result"
    }
   ],
   "source": [
    "df_train = pd.read_csv('../data/train.csv', index_col='Id', parse_dates=True).sort_index()\n",
    "df_test = pd.read_csv('../data/test.csv', index_col='Id', parse_dates=True).sort_index()\n",
    "\n",
    "(df_train.shape, df_test.shape)"
   ]
  },
  {
   "cell_type": "code",
   "execution_count": 78,
   "metadata": {},
   "outputs": [
    {
     "data": {
      "text/plain": [
       "((2919, 80),\n",
       " (1460,),\n",
       " Index(['MSSubClass', 'MSZoning', 'LotFrontage', 'LotArea', 'Street', 'Alley',\n",
       "        'LotShape', 'LandContour', 'Utilities', 'LotConfig', 'LandSlope',\n",
       "        'Neighborhood', 'Condition1', 'Condition2', 'BldgType', 'HouseStyle',\n",
       "        'OverallQual', 'OverallCond', 'YearBuilt', 'YearRemodAdd', 'RoofStyle',\n",
       "        'RoofMatl', 'Exterior1st', 'Exterior2nd', 'MasVnrType', 'MasVnrArea',\n",
       "        'ExterQual', 'ExterCond', 'Foundation', 'BsmtQual', 'BsmtCond',\n",
       "        'BsmtExposure', 'BsmtFinType1', 'BsmtFinSF1', 'BsmtFinType2',\n",
       "        'BsmtFinSF2', 'BsmtUnfSF', 'TotalBsmtSF', 'Heating', 'HeatingQC',\n",
       "        'CentralAir', 'Electrical', '1stFlrSF', '2ndFlrSF', 'LowQualFinSF',\n",
       "        'GrLivArea', 'BsmtFullBath', 'BsmtHalfBath', 'FullBath', 'HalfBath',\n",
       "        'BedroomAbvGr', 'KitchenAbvGr', 'KitchenQual', 'TotRmsAbvGrd',\n",
       "        'Functional', 'Fireplaces', 'FireplaceQu', 'GarageType', 'GarageYrBlt',\n",
       "        'GarageFinish', 'GarageCars', 'GarageArea', 'GarageQual', 'GarageCond',\n",
       "        'PavedDrive', 'WoodDeckSF', 'OpenPorchSF', 'EnclosedPorch', '3SsnPorch',\n",
       "        'ScreenPorch', 'PoolArea', 'PoolQC', 'Fence', 'MiscFeature', 'MiscVal',\n",
       "        'MoSold', 'YrSold', 'SaleType', 'SaleCondition', 'TrainSet'],\n",
       "       dtype='object'))"
      ]
     },
     "execution_count": 78,
     "metadata": {},
     "output_type": "execute_result"
    }
   ],
   "source": [
    "high_value_threshold = 200000.00\n",
    "y_train = np.where(df_train['SalePrice'] > 200000, 1, 0)\n",
    "\n",
    "df_train['TrainSet'] = 'Y'\n",
    "df_test['TrainSet'] = 'N'\n",
    "\n",
    "#Append Train and Test\n",
    "df_data = pd.concat([df_train.drop(['SalePrice'], axis=1), df_test], ignore_index=True)\n",
    "X = df_data\n",
    "\n",
    "X.shape, y.shape, X.columns"
   ]
  },
  {
   "cell_type": "markdown",
   "metadata": {},
   "source": [
    "## New Features"
   ]
  },
  {
   "cell_type": "code",
   "execution_count": 79,
   "metadata": {},
   "outputs": [],
   "source": [
    "class FeaturesEngineering():\n",
    "    \n",
    "    def __init__(self, X):\n",
    "        print(\"\\nFeatureEngineering init\")\n",
    "        self.X_ = X.copy()\n",
    "    \n",
    "    def addFeature(self, X):\n",
    "    \n",
    "        #New Aggregated Components\n",
    "        self.X_[\"TotalBsmtFin\"] = self.X_[\"BsmtFinSF1\"] + self.X_[\"BsmtFinSF2\"]\n",
    "        self.X_[\"TotalBath\"] = self.X_[\"FullBath\"] + 0.5*self.X_[\"HalfBath\"] + self.X_[\"BsmtFullBath\"] + 0.5*self.X_[\"BsmtHalfBath\"]\n",
    "\n",
    "        self.X_[\"TotalArea\"] = self.X_[\"GrLivArea\"] + self.X_[\"TotalBsmtSF\"]\n",
    "        \n",
    "        #Inidcators of extras\n",
    "        self.X_['IsGarage'] = np.where(self.X_['GarageArea'] > 0, 1, 0)\n",
    "        self.X_['IsFireplace'] = np.where(self.X_['Fireplaces'] > 0, 1, 0)\n",
    "        self.X_['IsPool'] = np.where(self.X_['PoolArea'] > 0, 1, 0)\n",
    "        self.X_['IsOpenPorch'] = np.where(self.X_['OpenPorchSF'] > 0, 1, 0)\n",
    "        self.X_['IsWoodDeck'] = np.where(self.X_['WoodDeckSF'] > 0, 1, 0)\n",
    "            \n",
    "        return self.X_\n",
    "\n",
    "    #GrLivArea = 1stFlrSF+ 2ndFlrSF\n",
    "    \n",
    "    def dropFeature(self, X):\n",
    "\n",
    "        drop_columns = ['BsmtFinSF1','BsmtFinSF2','FullBath','HalfBath','BsmtFullBath','BsmtHalfBath']\n",
    "        self.X_.drop(drop_columns, axis=1)\n",
    "        \n",
    "        return self.X_"
   ]
  },
  {
   "cell_type": "code",
   "execution_count": 80,
   "metadata": {},
   "outputs": [
    {
     "name": "stdout",
     "output_type": "stream",
     "text": [
      "\n",
      "FeatureEngineering init\n"
     ]
    },
    {
     "data": {
      "text/plain": [
       "(2919, 88)"
      ]
     },
     "execution_count": 80,
     "metadata": {},
     "output_type": "execute_result"
    }
   ],
   "source": [
    "fe = FeaturesEngineering(X)\n",
    "\n",
    "X_extra= fe.addFeature(X)\n",
    "\n",
    "#X_component = X_extras = fe.dropFeature(X_extra)\n",
    "X_components = X_extra\n",
    "X_components.shape"
   ]
  },
  {
   "cell_type": "code",
   "execution_count": 81,
   "metadata": {},
   "outputs": [],
   "source": [
    "class EstimatorCustom(BaseEstimator, TransformerMixin):\n",
    "    \n",
    "  def __init__(self, feature_to_estimate,feature_estimator):\n",
    "    self.feature_to_estimate = feature_to_estimate\n",
    "    self.feature_estimator = feature_estimator\n",
    "    print('\\nCustom Estimator for '+ self.feature_to_estimate + ' init() called.\\n')\n",
    "\n",
    "  def fit(self, X, y = None):\n",
    "    print('\\nCustom Estimator for ' + self.feature_to_estimate + ' fit() called.\\n')\n",
    "    return self\n",
    "    \n",
    "  def transform(self, X, y = None):\n",
    "    print('\\nCustom Estimator for ' + self.feature_to_estimate + ' transform() called.\\n')\n",
    "    X_ = X.copy() \n",
    "    X_[self.feature_to_estimate] = X_.groupby(self.feature_estimator)[self.feature_to_estimate].transform(lambda x: x.fillna(x.median()))\n",
    "    \n",
    "    return X_"
   ]
  },
  {
   "cell_type": "code",
   "execution_count": 82,
   "metadata": {},
   "outputs": [
    {
     "name": "stdout",
     "output_type": "stream",
     "text": [
      "\n",
      "Custom Estimator for LotFrontage init() called.\n",
      "\n",
      "\n",
      "Custom Estimator for LotFrontage fit() called.\n",
      "\n",
      "\n",
      "Custom Estimator for LotFrontage transform() called.\n",
      "\n"
     ]
    },
    {
     "data": {
      "text/plain": [
       "(0, (2919, 88))"
      ]
     },
     "execution_count": 82,
     "metadata": {},
     "output_type": "execute_result"
    }
   ],
   "source": [
    "pipe_custom = Pipeline(steps=[('Custom Estimator Lot Frontage',EstimatorCustom('LotFrontage','Neighborhood'))])\n",
    "X_pipe_custom = pipe_custom.fit_transform(X_components,0)\n",
    "\n",
    "(X_pipe_custom['LotFrontage'].isna().sum(), X_pipe_custom.shape)"
   ]
  },
  {
   "cell_type": "code",
   "execution_count": 83,
   "metadata": {},
   "outputs": [
    {
     "data": {
      "text/plain": [
       "88"
      ]
     },
     "execution_count": 83,
     "metadata": {},
     "output_type": "execute_result"
    }
   ],
   "source": [
    "dict_fla = {'Alley':'Feature_Level_Absent','BsmtQual':'Feature_Level_Absent','BsmtCond':'Feature_Level_Absent','BsmtExposure':'Feature_Level_Absent','BsmtFinType1':'Feature_Level_Absent','BsmtFinType2':'Feature_Level_Absent','FireplaceQu':'Feature_Level_Absent','GarageType':'Feature_Level_Absent','GarageFinish':'Feature_Level_Absent','GarageQual':'Feature_Level_Absent','GarageCond':'Feature_Level_Absent','PoolQC':'Feature_Level_Absent','Fence':'Feature_Level_Absent','MiscFeature':'None'}\n",
    "custom_features = list(dict_fla.keys())\n",
    "pipe_constant = Pipeline(steps=[\n",
    "    ('ImputerConstant', SimpleImputer(strategy='constant', fill_value='None')),\n",
    "    ('OrdinalEncoder', OrdinalEncoder())])\n",
    "\n",
    "numeric_features = X_components.select_dtypes(include=['int64', 'float64','int32','float32']).columns\n",
    "pipe_median = Pipeline(steps=[\n",
    "    ('ImputerMedian', SimpleImputer(strategy='median')),\n",
    "    ('Scaler', StandardScaler())])\n",
    "\n",
    "categorical_features = X_components.select_dtypes(include=['object','category']).columns\n",
    "categorical_features = list (set(categorical_features) - set (custom_features))\n",
    "pipe_mode = Pipeline(steps=[\n",
    "    ('ImputerMode', SimpleImputer(strategy='most_frequent')),\n",
    "    ('OrdinalEncoder', OrdinalEncoder())])\n",
    "\n",
    "features = list(custom_features) + list(numeric_features) + list(categorical_features)\n",
    "len(features)"
   ]
  },
  {
   "cell_type": "code",
   "execution_count": 84,
   "metadata": {},
   "outputs": [],
   "source": [
    "from sklearn.compose import ColumnTransformer\n",
    "preprocessor = ColumnTransformer(\n",
    "    transformers=[\n",
    "        ('Constant Imputer', pipe_constant, custom_features),      #14 columns\n",
    "        ('Median Imputer', pipe_median, numeric_features),        #36 columns\n",
    "        ('Mode Iputer', pipe_mode, categorical_features),        #43 columna\n",
    "    ])"
   ]
  },
  {
   "cell_type": "code",
   "execution_count": 85,
   "metadata": {},
   "outputs": [
    {
     "data": {
      "text/plain": [
       "(2919, 88)"
      ]
     },
     "execution_count": 85,
     "metadata": {},
     "output_type": "execute_result"
    }
   ],
   "source": [
    "pipe_imputations = Pipeline(steps=[('preprocessor', preprocessor)])\n",
    "\n",
    "X_pipe_imputations = pipe_imputations.fit_transform(X_pipe_custom, 0)\n",
    "X = pd.DataFrame(columns = features, data = X_pipe_imputations)\n",
    "X.shape\n"
   ]
  },
  {
   "cell_type": "code",
   "execution_count": 86,
   "metadata": {},
   "outputs": [
    {
     "name": "stderr",
     "output_type": "stream",
     "text": [
      "C:\\Users\\pawel\\AppData\\Roaming\\Python\\Python37\\site-packages\\pandas\\core\\frame.py:3997: SettingWithCopyWarning: \n",
      "A value is trying to be set on a copy of a slice from a DataFrame\n",
      "\n",
      "See the caveats in the documentation: https://pandas.pydata.org/pandas-docs/stable/user_guide/indexing.html#returning-a-view-versus-a-copy\n",
      "  errors=errors,\n"
     ]
    },
    {
     "data": {
      "text/plain": [
       "((1460, 87), (1459, 87), 1460)"
      ]
     },
     "execution_count": 86,
     "metadata": {},
     "output_type": "execute_result"
    }
   ],
   "source": [
    "X_train = X[X['TrainSet'] == 1]\n",
    "X_test = X[X['TrainSet'] == 0]\n",
    "\n",
    "X_train.drop(['TrainSet'],axis=1, inplace = True)\n",
    "X_test.drop(['TrainSet'],axis=1, inplace = True)\n",
    "      \n",
    "(X_train.shape, X_test.shape, len(y))"
   ]
  },
  {
   "cell_type": "code",
   "execution_count": 87,
   "metadata": {},
   "outputs": [],
   "source": [
    "y_train = pd.DataFrame(data=y_train, columns = ['HighValue'])"
   ]
  },
  {
   "cell_type": "code",
   "execution_count": 88,
   "metadata": {},
   "outputs": [
    {
     "data": {
      "text/plain": [
       "((1460, 87), (1460, 1))"
      ]
     },
     "execution_count": 88,
     "metadata": {},
     "output_type": "execute_result"
    }
   ],
   "source": [
    "X_train.shape, y_train.shape"
   ]
  },
  {
   "cell_type": "code",
   "execution_count": 89,
   "metadata": {},
   "outputs": [],
   "source": [
    "file_mrd_train_X = open(\"../data/mrd_train_X\", \"wb\")\n",
    "file_mrd_test_X = open(\"../data/mrd_test_X\", \"wb\")\n",
    "file_mrd_train_y = open(\"../data/mrd_train_y\", \"wb\")\n",
    "\n",
    "pickle.dump(X_train,file_mrd_train_X)\n",
    "pickle.dump(y_train,file_mrd_train_y)\n",
    "pickle.dump(X_test,file_mrd_test_X)\n",
    "\n",
    "file_mrd_train_X.close()\n",
    "file_mrd_train_y.close()\n",
    "file_mrd_test_X.close()"
   ]
  },
  {
   "cell_type": "code",
   "execution_count": 42,
   "metadata": {},
   "outputs": [
    {
     "data": {
      "text/html": [
       "<style>div.sk-top-container {color: black;background-color: white;}div.sk-toggleable {background-color: white;}label.sk-toggleable__label {cursor: pointer;display: block;width: 100%;margin-bottom: 0;padding: 0.2em 0.3em;box-sizing: border-box;text-align: center;}div.sk-toggleable__content {max-height: 0;max-width: 0;overflow: hidden;text-align: left;background-color: #f0f8ff;}div.sk-toggleable__content pre {margin: 0.2em;color: black;border-radius: 0.25em;background-color: #f0f8ff;}input.sk-toggleable__control:checked~div.sk-toggleable__content {max-height: 200px;max-width: 100%;overflow: auto;}div.sk-estimator input.sk-toggleable__control:checked~label.sk-toggleable__label {background-color: #d4ebff;}div.sk-label input.sk-toggleable__control:checked~label.sk-toggleable__label {background-color: #d4ebff;}input.sk-hidden--visually {border: 0;clip: rect(1px 1px 1px 1px);clip: rect(1px, 1px, 1px, 1px);height: 1px;margin: -1px;overflow: hidden;padding: 0;position: absolute;width: 1px;}div.sk-estimator {font-family: monospace;background-color: #f0f8ff;margin: 0.25em 0.25em;border: 1px dotted black;border-radius: 0.25em;box-sizing: border-box;}div.sk-estimator:hover {background-color: #d4ebff;}div.sk-parallel-item::after {content: \"\";width: 100%;border-bottom: 1px solid gray;flex-grow: 1;}div.sk-label:hover label.sk-toggleable__label {background-color: #d4ebff;}div.sk-serial::before {content: \"\";position: absolute;border-left: 1px solid gray;box-sizing: border-box;top: 2em;bottom: 0;left: 50%;}div.sk-serial {display: flex;flex-direction: column;align-items: center;background-color: white;}div.sk-item {z-index: 1;}div.sk-parallel {display: flex;align-items: stretch;justify-content: center;background-color: white;}div.sk-parallel-item {display: flex;flex-direction: column;position: relative;background-color: white;}div.sk-parallel-item:first-child::after {align-self: flex-end;width: 50%;}div.sk-parallel-item:last-child::after {align-self: flex-start;width: 50%;}div.sk-parallel-item:only-child::after {width: 0;}div.sk-dashed-wrapped {border: 1px dashed gray;margin: 0.2em;box-sizing: border-box;padding-bottom: 0.1em;background-color: white;position: relative;}div.sk-label label {font-family: monospace;font-weight: bold;background-color: white;display: inline-block;line-height: 1.2em;}div.sk-label-container {position: relative;z-index: 2;text-align: center;}div.sk-container {display: inline-block;position: relative;}</style><div class=\"sk-top-container\"><div class=\"sk-container\"><div class=\"sk-item sk-dashed-wrapped\"><div class=\"sk-label-container\"><div class=\"sk-label sk-toggleable\"><input class=\"sk-toggleable__control sk-hidden--visually\" id=\"1ef63bcb-5e0d-49e1-84f5-406db94cfb98\" type=\"checkbox\" ><label class=\"sk-toggleable__label\" for=\"1ef63bcb-5e0d-49e1-84f5-406db94cfb98\">Pipeline</label><div class=\"sk-toggleable__content\"><pre>Pipeline(steps=[('Custom Estimator Lot Frontage',\n",
       "                 EstimatorCustom(feature_estimator='Neighborhood',\n",
       "                                 feature_to_estimate='LotFrontage'))])</pre></div></div></div><div class=\"sk-serial\"><div class=\"sk-item\"><div class=\"sk-estimator sk-toggleable\"><input class=\"sk-toggleable__control sk-hidden--visually\" id=\"69f0f91a-da7c-4ee9-8df5-e3dc22fe1655\" type=\"checkbox\" ><label class=\"sk-toggleable__label\" for=\"69f0f91a-da7c-4ee9-8df5-e3dc22fe1655\">EstimatorCustom</label><div class=\"sk-toggleable__content\"><pre>EstimatorCustom(feature_estimator='Neighborhood',\n",
       "                feature_to_estimate='LotFrontage')</pre></div></div></div></div></div></div></div>"
      ],
      "text/plain": [
       "Pipeline(steps=[('Custom Estimator Lot Frontage',\n",
       "                 EstimatorCustom(feature_estimator='Neighborhood',\n",
       "                                 feature_to_estimate='LotFrontage'))])"
      ]
     },
     "execution_count": 42,
     "metadata": {},
     "output_type": "execute_result"
    }
   ],
   "source": [
    "from sklearn import set_config\n",
    "set_config(display='diagram')\n",
    "pipe_custom"
   ]
  },
  {
   "cell_type": "code",
   "execution_count": 44,
   "metadata": {},
   "outputs": [
    {
     "data": {
      "text/html": [
       "<style>div.sk-top-container {color: black;background-color: white;}div.sk-toggleable {background-color: white;}label.sk-toggleable__label {cursor: pointer;display: block;width: 100%;margin-bottom: 0;padding: 0.2em 0.3em;box-sizing: border-box;text-align: center;}div.sk-toggleable__content {max-height: 0;max-width: 0;overflow: hidden;text-align: left;background-color: #f0f8ff;}div.sk-toggleable__content pre {margin: 0.2em;color: black;border-radius: 0.25em;background-color: #f0f8ff;}input.sk-toggleable__control:checked~div.sk-toggleable__content {max-height: 200px;max-width: 100%;overflow: auto;}div.sk-estimator input.sk-toggleable__control:checked~label.sk-toggleable__label {background-color: #d4ebff;}div.sk-label input.sk-toggleable__control:checked~label.sk-toggleable__label {background-color: #d4ebff;}input.sk-hidden--visually {border: 0;clip: rect(1px 1px 1px 1px);clip: rect(1px, 1px, 1px, 1px);height: 1px;margin: -1px;overflow: hidden;padding: 0;position: absolute;width: 1px;}div.sk-estimator {font-family: monospace;background-color: #f0f8ff;margin: 0.25em 0.25em;border: 1px dotted black;border-radius: 0.25em;box-sizing: border-box;}div.sk-estimator:hover {background-color: #d4ebff;}div.sk-parallel-item::after {content: \"\";width: 100%;border-bottom: 1px solid gray;flex-grow: 1;}div.sk-label:hover label.sk-toggleable__label {background-color: #d4ebff;}div.sk-serial::before {content: \"\";position: absolute;border-left: 1px solid gray;box-sizing: border-box;top: 2em;bottom: 0;left: 50%;}div.sk-serial {display: flex;flex-direction: column;align-items: center;background-color: white;}div.sk-item {z-index: 1;}div.sk-parallel {display: flex;align-items: stretch;justify-content: center;background-color: white;}div.sk-parallel-item {display: flex;flex-direction: column;position: relative;background-color: white;}div.sk-parallel-item:first-child::after {align-self: flex-end;width: 50%;}div.sk-parallel-item:last-child::after {align-self: flex-start;width: 50%;}div.sk-parallel-item:only-child::after {width: 0;}div.sk-dashed-wrapped {border: 1px dashed gray;margin: 0.2em;box-sizing: border-box;padding-bottom: 0.1em;background-color: white;position: relative;}div.sk-label label {font-family: monospace;font-weight: bold;background-color: white;display: inline-block;line-height: 1.2em;}div.sk-label-container {position: relative;z-index: 2;text-align: center;}div.sk-container {display: inline-block;position: relative;}</style><div class=\"sk-top-container\"><div class=\"sk-container\"><div class=\"sk-item sk-dashed-wrapped\"><div class=\"sk-label-container\"><div class=\"sk-label sk-toggleable\"><input class=\"sk-toggleable__control sk-hidden--visually\" id=\"2f32c89b-25e5-4fc6-a1d9-b193d632f8d6\" type=\"checkbox\" ><label class=\"sk-toggleable__label\" for=\"2f32c89b-25e5-4fc6-a1d9-b193d632f8d6\">Pipeline</label><div class=\"sk-toggleable__content\"><pre>Pipeline(steps=[('preprocessor',\n",
       "                 ColumnTransformer(transformers=[('Constant Imputer',\n",
       "                                                  Pipeline(steps=[('ImputerConstant',\n",
       "                                                                   SimpleImputer(fill_value='None',\n",
       "                                                                                 strategy='constant')),\n",
       "                                                                  ('OrdinalEncoder',\n",
       "                                                                   OrdinalEncoder())]),\n",
       "                                                  ['Alley', 'BsmtQual',\n",
       "                                                   'BsmtCond', 'BsmtExposure',\n",
       "                                                   'BsmtFinType1',\n",
       "                                                   'BsmtFinType2',\n",
       "                                                   'FireplaceQu', 'GarageType',\n",
       "                                                   'GarageFinish', 'GarageQual',\n",
       "                                                   'GarageCo...\n",
       "                                                   'MasVnrType', 'HouseStyle',\n",
       "                                                   'Foundation', 'LotConfig',\n",
       "                                                   'Condition1', 'Exterior2nd',\n",
       "                                                   'MSZoning', 'RoofMatl',\n",
       "                                                   'SaleCondition', 'LandSlope',\n",
       "                                                   'KitchenQual', 'CentralAir',\n",
       "                                                   'ExterCond', 'LandContour',\n",
       "                                                   'Functional', 'PavedDrive',\n",
       "                                                   'Street', 'Electrical',\n",
       "                                                   'Neighborhood', 'BldgType',\n",
       "                                                   'HeatingQC', 'ExterQual',\n",
       "                                                   'LotShape', 'Utilities',\n",
       "                                                   'SaleType', 'Condition2',\n",
       "                                                   'Heating',\n",
       "                                                   'RoofStyle'])]))])</pre></div></div></div><div class=\"sk-serial\"><div class=\"sk-item sk-dashed-wrapped\"><div class=\"sk-label-container\"><div class=\"sk-label sk-toggleable\"><input class=\"sk-toggleable__control sk-hidden--visually\" id=\"967aeeec-885d-483b-9215-af5d8baedaf4\" type=\"checkbox\" ><label class=\"sk-toggleable__label\" for=\"967aeeec-885d-483b-9215-af5d8baedaf4\">preprocessor: ColumnTransformer</label><div class=\"sk-toggleable__content\"><pre>ColumnTransformer(transformers=[('Constant Imputer',\n",
       "                                 Pipeline(steps=[('ImputerConstant',\n",
       "                                                  SimpleImputer(fill_value='None',\n",
       "                                                                strategy='constant')),\n",
       "                                                 ('OrdinalEncoder',\n",
       "                                                  OrdinalEncoder())]),\n",
       "                                 ['Alley', 'BsmtQual', 'BsmtCond',\n",
       "                                  'BsmtExposure', 'BsmtFinType1',\n",
       "                                  'BsmtFinType2', 'FireplaceQu', 'GarageType',\n",
       "                                  'GarageFinish', 'GarageQual', 'GarageCond',\n",
       "                                  'PoolQC', 'Fence', 'MiscFeatur...\n",
       "                                 ['TrainSet', 'Exterior1st', 'MasVnrType',\n",
       "                                  'HouseStyle', 'Foundation', 'LotConfig',\n",
       "                                  'Condition1', 'Exterior2nd', 'MSZoning',\n",
       "                                  'RoofMatl', 'SaleCondition', 'LandSlope',\n",
       "                                  'KitchenQual', 'CentralAir', 'ExterCond',\n",
       "                                  'LandContour', 'Functional', 'PavedDrive',\n",
       "                                  'Street', 'Electrical', 'Neighborhood',\n",
       "                                  'BldgType', 'HeatingQC', 'ExterQual',\n",
       "                                  'LotShape', 'Utilities', 'SaleType',\n",
       "                                  'Condition2', 'Heating', 'RoofStyle'])])</pre></div></div></div><div class=\"sk-parallel\"><div class=\"sk-parallel-item\"><div class=\"sk-item\"><div class=\"sk-label-container\"><div class=\"sk-label sk-toggleable\"><input class=\"sk-toggleable__control sk-hidden--visually\" id=\"5239ae23-7890-4c8d-ba1d-b72a17d3136a\" type=\"checkbox\" ><label class=\"sk-toggleable__label\" for=\"5239ae23-7890-4c8d-ba1d-b72a17d3136a\">Constant Imputer</label><div class=\"sk-toggleable__content\"><pre>['Alley', 'BsmtQual', 'BsmtCond', 'BsmtExposure', 'BsmtFinType1', 'BsmtFinType2', 'FireplaceQu', 'GarageType', 'GarageFinish', 'GarageQual', 'GarageCond', 'PoolQC', 'Fence', 'MiscFeature']</pre></div></div></div><div class=\"sk-serial\"><div class=\"sk-item\"><div class=\"sk-serial\"><div class=\"sk-item\"><div class=\"sk-estimator sk-toggleable\"><input class=\"sk-toggleable__control sk-hidden--visually\" id=\"40f161d4-5416-4ea0-addd-282f2b457fab\" type=\"checkbox\" ><label class=\"sk-toggleable__label\" for=\"40f161d4-5416-4ea0-addd-282f2b457fab\">SimpleImputer</label><div class=\"sk-toggleable__content\"><pre>SimpleImputer(fill_value='None', strategy='constant')</pre></div></div></div><div class=\"sk-item\"><div class=\"sk-estimator sk-toggleable\"><input class=\"sk-toggleable__control sk-hidden--visually\" id=\"42e99c99-86ff-4528-aa8d-293adf74b725\" type=\"checkbox\" ><label class=\"sk-toggleable__label\" for=\"42e99c99-86ff-4528-aa8d-293adf74b725\">OrdinalEncoder</label><div class=\"sk-toggleable__content\"><pre>OrdinalEncoder()</pre></div></div></div></div></div></div></div></div><div class=\"sk-parallel-item\"><div class=\"sk-item\"><div class=\"sk-label-container\"><div class=\"sk-label sk-toggleable\"><input class=\"sk-toggleable__control sk-hidden--visually\" id=\"7e2bf444-87cd-41b9-9015-99514640cb2e\" type=\"checkbox\" ><label class=\"sk-toggleable__label\" for=\"7e2bf444-87cd-41b9-9015-99514640cb2e\">Median Imputer</label><div class=\"sk-toggleable__content\"><pre>Index(['MSSubClass', 'LotFrontage', 'LotArea', 'OverallQual', 'OverallCond',\n",
       "       'YearBuilt', 'YearRemodAdd', 'MasVnrArea', 'BsmtFinSF1', 'BsmtFinSF2',\n",
       "       'BsmtUnfSF', 'TotalBsmtSF', '1stFlrSF', '2ndFlrSF', 'LowQualFinSF',\n",
       "       'GrLivArea', 'BsmtFullBath', 'BsmtHalfBath', 'FullBath', 'HalfBath',\n",
       "       'BedroomAbvGr', 'KitchenAbvGr', 'TotRmsAbvGrd', 'Fireplaces',\n",
       "       'GarageYrBlt', 'GarageCars', 'GarageArea', 'WoodDeckSF', 'OpenPorchSF',\n",
       "       'EnclosedPorch', '3SsnPorch', 'ScreenPorch', 'PoolArea', 'MiscVal',\n",
       "       'MoSold', 'YrSold', 'TotalBsmtFin', 'TotalBath', 'TotalArea',\n",
       "       'IsGarage', 'IsFireplace', 'IsPool', 'IsOpenPorch', 'IsWoodDeck'],\n",
       "      dtype='object')</pre></div></div></div><div class=\"sk-serial\"><div class=\"sk-item\"><div class=\"sk-serial\"><div class=\"sk-item\"><div class=\"sk-estimator sk-toggleable\"><input class=\"sk-toggleable__control sk-hidden--visually\" id=\"7f769c35-96d9-4401-b6d6-18167f78a345\" type=\"checkbox\" ><label class=\"sk-toggleable__label\" for=\"7f769c35-96d9-4401-b6d6-18167f78a345\">SimpleImputer</label><div class=\"sk-toggleable__content\"><pre>SimpleImputer(strategy='median')</pre></div></div></div><div class=\"sk-item\"><div class=\"sk-estimator sk-toggleable\"><input class=\"sk-toggleable__control sk-hidden--visually\" id=\"3339b0d9-86cd-478c-ba41-66282a87fef7\" type=\"checkbox\" ><label class=\"sk-toggleable__label\" for=\"3339b0d9-86cd-478c-ba41-66282a87fef7\">StandardScaler</label><div class=\"sk-toggleable__content\"><pre>StandardScaler()</pre></div></div></div></div></div></div></div></div><div class=\"sk-parallel-item\"><div class=\"sk-item\"><div class=\"sk-label-container\"><div class=\"sk-label sk-toggleable\"><input class=\"sk-toggleable__control sk-hidden--visually\" id=\"e589a8a6-4fff-4fcf-b203-76fb7ef51e0f\" type=\"checkbox\" ><label class=\"sk-toggleable__label\" for=\"e589a8a6-4fff-4fcf-b203-76fb7ef51e0f\">Mode Iputer</label><div class=\"sk-toggleable__content\"><pre>['TrainSet', 'Exterior1st', 'MasVnrType', 'HouseStyle', 'Foundation', 'LotConfig', 'Condition1', 'Exterior2nd', 'MSZoning', 'RoofMatl', 'SaleCondition', 'LandSlope', 'KitchenQual', 'CentralAir', 'ExterCond', 'LandContour', 'Functional', 'PavedDrive', 'Street', 'Electrical', 'Neighborhood', 'BldgType', 'HeatingQC', 'ExterQual', 'LotShape', 'Utilities', 'SaleType', 'Condition2', 'Heating', 'RoofStyle']</pre></div></div></div><div class=\"sk-serial\"><div class=\"sk-item\"><div class=\"sk-serial\"><div class=\"sk-item\"><div class=\"sk-estimator sk-toggleable\"><input class=\"sk-toggleable__control sk-hidden--visually\" id=\"96f64ae3-9645-4680-a8bf-2347ebda5945\" type=\"checkbox\" ><label class=\"sk-toggleable__label\" for=\"96f64ae3-9645-4680-a8bf-2347ebda5945\">SimpleImputer</label><div class=\"sk-toggleable__content\"><pre>SimpleImputer(strategy='most_frequent')</pre></div></div></div><div class=\"sk-item\"><div class=\"sk-estimator sk-toggleable\"><input class=\"sk-toggleable__control sk-hidden--visually\" id=\"99eeba1e-f914-4686-b4c9-18f8761868d1\" type=\"checkbox\" ><label class=\"sk-toggleable__label\" for=\"99eeba1e-f914-4686-b4c9-18f8761868d1\">OrdinalEncoder</label><div class=\"sk-toggleable__content\"><pre>OrdinalEncoder()</pre></div></div></div></div></div></div></div></div></div></div></div></div></div></div>"
      ],
      "text/plain": [
       "Pipeline(steps=[('preprocessor',\n",
       "                 ColumnTransformer(transformers=[('Constant Imputer',\n",
       "                                                  Pipeline(steps=[('ImputerConstant',\n",
       "                                                                   SimpleImputer(fill_value='None',\n",
       "                                                                                 strategy='constant')),\n",
       "                                                                  ('OrdinalEncoder',\n",
       "                                                                   OrdinalEncoder())]),\n",
       "                                                  ['Alley', 'BsmtQual',\n",
       "                                                   'BsmtCond', 'BsmtExposure',\n",
       "                                                   'BsmtFinType1',\n",
       "                                                   'BsmtFinType2',\n",
       "                                                   'FireplaceQu', 'GarageType',\n",
       "                                                   'GarageFinish', 'GarageQual',\n",
       "                                                   'GarageCo...\n",
       "                                                   'MasVnrType', 'HouseStyle',\n",
       "                                                   'Foundation', 'LotConfig',\n",
       "                                                   'Condition1', 'Exterior2nd',\n",
       "                                                   'MSZoning', 'RoofMatl',\n",
       "                                                   'SaleCondition', 'LandSlope',\n",
       "                                                   'KitchenQual', 'CentralAir',\n",
       "                                                   'ExterCond', 'LandContour',\n",
       "                                                   'Functional', 'PavedDrive',\n",
       "                                                   'Street', 'Electrical',\n",
       "                                                   'Neighborhood', 'BldgType',\n",
       "                                                   'HeatingQC', 'ExterQual',\n",
       "                                                   'LotShape', 'Utilities',\n",
       "                                                   'SaleType', 'Condition2',\n",
       "                                                   'Heating',\n",
       "                                                   'RoofStyle'])]))])"
      ]
     },
     "execution_count": 44,
     "metadata": {},
     "output_type": "execute_result"
    }
   ],
   "source": [
    "pipe_imputations"
   ]
  }
 ],
 "metadata": {
  "kernelspec": {
   "display_name": "Python 3",
   "language": "python",
   "name": "python3"
  },
  "language_info": {
   "codemirror_mode": {
    "name": "ipython",
    "version": 3
   },
   "file_extension": ".py",
   "mimetype": "text/x-python",
   "name": "python",
   "nbconvert_exporter": "python",
   "pygments_lexer": "ipython3",
   "version": "3.7.6"
  }
 },
 "nbformat": 4,
 "nbformat_minor": 4
}
