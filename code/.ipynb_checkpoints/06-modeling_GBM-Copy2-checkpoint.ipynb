{
 "cells": [
  {
   "cell_type": "markdown",
   "metadata": {},
   "source": [
    "## Parameter estimation using grid search with cross-validation"
   ]
  },
  {
   "cell_type": "code",
   "execution_count": 1,
   "metadata": {},
   "outputs": [],
   "source": [
    "import numpy as np\n",
    "import pandas as pd\n",
    "import seaborn as sns\n",
    "import matplotlib.pyplot as plt\n",
    "import lightgbm as lgb\n",
    "\n",
    "from lightgbm import LGBMClassifier\n",
    "\n",
    "from sklearn.model_selection import train_test_split, GridSearchCV\n",
    "from sklearn.metrics import confusion_matrix,accuracy_score, roc_curve, auc\n",
    "sns.set_style(\"darkgrid\")\n",
    "\n",
    "from sklearn.pipeline import Pipeline\n",
    "from sklearn.preprocessing import StandardScaler\n",
    "#Import data\n",
    "import pickle5 as pickle"
   ]
  },
  {
   "cell_type": "code",
   "execution_count": 2,
   "metadata": {},
   "outputs": [
    {
     "data": {
      "text/plain": [
       "((1460, 71), (1460,))"
      ]
     },
     "execution_count": 2,
     "metadata": {},
     "output_type": "execute_result"
    }
   ],
   "source": [
    "file_train_X = open(\"../data/X_train_03_preprocess\",\"rb\")\n",
    "file_train_y = open(\"../data/y_train_03_preprocess\",\"rb\")\n",
    "\n",
    "X = pickle.load(file_train_X)\n",
    "y = pickle.load(file_train_y)\n",
    "\n",
    "X.isnull().sum().sum() #No missing values\n",
    "X.shape, y.shape"
   ]
  },
  {
   "cell_type": "code",
   "execution_count": 3,
   "metadata": {},
   "outputs": [],
   "source": [
    "for c in X.columns:\n",
    "    col_type = X[c].dtype\n",
    "    if col_type == 'object' or col_type.name == 'category':\n",
    "        X[c] = X[c].astype('category')"
   ]
  },
  {
   "cell_type": "markdown",
   "metadata": {},
   "source": [
    "## Retrieve Best Features from RFECV"
   ]
  },
  {
   "cell_type": "code",
   "execution_count": 4,
   "metadata": {},
   "outputs": [
    {
     "data": {
      "text/plain": [
       "{('Random Forest', 'roc_auc'): ['BsmtQual',\n",
       "  'BsmtExposure',\n",
       "  'BsmtFinType1',\n",
       "  'FireplaceQu',\n",
       "  'GarageType',\n",
       "  'GarageFinish',\n",
       "  'MSSubClass',\n",
       "  'LotFrontage',\n",
       "  'LotArea',\n",
       "  'OverallQual',\n",
       "  'OverallCond',\n",
       "  'YearBuilt',\n",
       "  'YearRemodAdd',\n",
       "  'MasVnrArea',\n",
       "  'BsmtUnfSF',\n",
       "  'TotalBsmtSF',\n",
       "  'GrLivArea',\n",
       "  'BedroomAbvGr',\n",
       "  'TotRmsAbvGrd',\n",
       "  'Fireplaces',\n",
       "  'GarageArea',\n",
       "  'WoodDeckSF',\n",
       "  'OpenPorchSF',\n",
       "  'ScreenPorch',\n",
       "  'MoSold',\n",
       "  'YrSold',\n",
       "  'Exterior2nd',\n",
       "  'RoofStyle',\n",
       "  'ExterQual',\n",
       "  'Exterior1st',\n",
       "  'SaleCondition',\n",
       "  'HeatingQC',\n",
       "  'LotConfig',\n",
       "  'LotShape',\n",
       "  'LandContour',\n",
       "  'Neighborhood',\n",
       "  'BldgType',\n",
       "  'HouseStyle',\n",
       "  'MasVnrType',\n",
       "  'Foundation',\n",
       "  'KitchenQual',\n",
       "  'TotalBsmtFin',\n",
       "  'TotalBath'],\n",
       " ('Logistic Regression', 'roc_auc'): ['BsmtQual',\n",
       "  'MSSubClass',\n",
       "  'LotArea',\n",
       "  'OverallQual',\n",
       "  'OverallCond',\n",
       "  'YearBuilt',\n",
       "  'YearRemodAdd',\n",
       "  'LowQualFinSF',\n",
       "  'GrLivArea',\n",
       "  'Fireplaces',\n",
       "  'GarageArea',\n",
       "  'Exterior2nd',\n",
       "  'Exterior1st',\n",
       "  'SaleCondition',\n",
       "  'Functional',\n",
       "  'MSZoning',\n",
       "  'BldgType',\n",
       "  'KitchenQual',\n",
       "  'Condition2',\n",
       "  'TotalBsmtFin'],\n",
       " ('Random Forest', 'balanced_accuracy'): ['BsmtQual',\n",
       "  'MSSubClass',\n",
       "  'LotFrontage',\n",
       "  'LotArea',\n",
       "  'OverallQual',\n",
       "  'YearBuilt',\n",
       "  'YearRemodAdd',\n",
       "  'BsmtUnfSF',\n",
       "  'TotalBsmtSF',\n",
       "  'GrLivArea',\n",
       "  'TotRmsAbvGrd',\n",
       "  'Fireplaces',\n",
       "  'GarageArea',\n",
       "  'OpenPorchSF',\n",
       "  'ExterQual',\n",
       "  'Neighborhood',\n",
       "  'KitchenQual',\n",
       "  'TotalBsmtFin',\n",
       "  'TotalBath'],\n",
       " ('Logistic Regression', 'balanced_accuracy'): ['BsmtQual',\n",
       "  'BsmtFinType1',\n",
       "  'MiscFeature',\n",
       "  'MSSubClass',\n",
       "  'LotArea',\n",
       "  'OverallQual',\n",
       "  'OverallCond',\n",
       "  'YearBuilt',\n",
       "  'YearRemodAdd',\n",
       "  'TotalBsmtSF',\n",
       "  'LowQualFinSF',\n",
       "  'GrLivArea',\n",
       "  'TotRmsAbvGrd',\n",
       "  'Fireplaces',\n",
       "  'GarageArea',\n",
       "  'Exterior2nd',\n",
       "  'Exterior1st',\n",
       "  'SaleCondition',\n",
       "  'Functional',\n",
       "  'MSZoning',\n",
       "  'BldgType',\n",
       "  'KitchenQual',\n",
       "  'Condition2',\n",
       "  'TotalBsmtFin',\n",
       "  'TotalBath']}"
      ]
     },
     "execution_count": 4,
     "metadata": {},
     "output_type": "execute_result"
    }
   ],
   "source": [
    "file_features = open(\"../data/04_features_selection\", \"rb\")\n",
    "models_best_features = pickle.load(file_features)\n",
    "models_best_features"
   ]
  },
  {
   "cell_type": "code",
   "execution_count": 7,
   "metadata": {},
   "outputs": [
    {
     "data": {
      "text/plain": [
       "dict"
      ]
     },
     "execution_count": 7,
     "metadata": {},
     "output_type": "execute_result"
    }
   ],
   "source": [
    "tymodels_best_features[('GBM,roc_auc')]"
   ]
  },
  {
   "cell_type": "code",
   "execution_count": 5,
   "metadata": {},
   "outputs": [
    {
     "data": {
      "text/plain": [
       "(1460, 71)"
      ]
     },
     "execution_count": 5,
     "metadata": {},
     "output_type": "execute_result"
    }
   ],
   "source": [
    "X.shape[]"
   ]
  },
  {
   "cell_type": "code",
   "execution_count": 5,
   "metadata": {},
   "outputs": [
    {
     "data": {
      "text/plain": [
       "Index(['Alley', 'BsmtQual', 'BsmtCond', 'BsmtExposure', 'BsmtFinType1',\n",
       "       'BsmtFinType2', 'FireplaceQu', 'GarageType', 'GarageFinish',\n",
       "       'GarageQual', 'GarageCond', 'PoolQC', 'Fence', 'MiscFeature',\n",
       "       'MSSubClass', 'LotFrontage', 'LotArea', 'OverallQual', 'OverallCond',\n",
       "       'YearBuilt', 'YearRemodAdd', 'MasVnrArea', 'BsmtUnfSF', 'TotalBsmtSF',\n",
       "       'LowQualFinSF', 'GrLivArea', 'BedroomAbvGr', 'KitchenAbvGr',\n",
       "       'TotRmsAbvGrd', 'Fireplaces', 'GarageArea', 'WoodDeckSF', 'OpenPorchSF',\n",
       "       'EnclosedPorch', '3SsnPorch', 'ScreenPorch', 'PoolArea', 'MiscVal',\n",
       "       'MoSold', 'YrSold', 'Exterior2nd', 'Utilities', 'SaleType', 'RoofStyle',\n",
       "       'LandSlope', 'RoofMatl', 'ExterQual', 'Electrical', 'Street',\n",
       "       'Exterior1st', 'SaleCondition', 'Heating', 'Functional', 'PavedDrive',\n",
       "       'MSZoning', 'HeatingQC', 'LotConfig', 'LotShape', 'CentralAir',\n",
       "       'LandContour', 'Neighborhood', 'BldgType', 'Condition1', 'ExterCond',\n",
       "       'HouseStyle', 'MasVnrType', 'Foundation', 'KitchenQual', 'Condition2',\n",
       "       'TotalBsmtFin', 'TotalBath'],\n",
       "      dtype='object')"
      ]
     },
     "execution_count": 5,
     "metadata": {},
     "output_type": "execute_result"
    }
   ],
   "source": [
    "X.columns"
   ]
  },
  {
   "cell_type": "code",
   "execution_count": 6,
   "metadata": {},
   "outputs": [
    {
     "ename": "NameError",
     "evalue": "name 'pipeline' is not defined",
     "output_type": "error",
     "traceback": [
      "\u001b[1;31m---------------------------------------------------------------------------\u001b[0m",
      "\u001b[1;31mNameError\u001b[0m                                 Traceback (most recent call last)",
      "\u001b[1;32m<ipython-input-6-e5938805bb0e>\u001b[0m in \u001b[0;36m<module>\u001b[1;34m\u001b[0m\n\u001b[1;32m----> 1\u001b[1;33m \u001b[0mpipeline\u001b[0m\u001b[1;33m.\u001b[0m\u001b[0mget_params\u001b[0m\u001b[1;33m(\u001b[0m\u001b[1;33m)\u001b[0m\u001b[1;33m.\u001b[0m\u001b[0mkeys\u001b[0m\u001b[1;33m(\u001b[0m\u001b[1;33m)\u001b[0m\u001b[1;33m\u001b[0m\u001b[1;33m\u001b[0m\u001b[0m\n\u001b[0m",
      "\u001b[1;31mNameError\u001b[0m: name 'pipeline' is not defined"
     ]
    }
   ],
   "source": [
    "#pipeline.get_params().keys()"
   ]
  },
  {
   "cell_type": "code",
   "execution_count": 7,
   "metadata": {},
   "outputs": [
    {
     "name": "stdout",
     "output_type": "stream",
     "text": [
      "Fitting 5 folds for each of 540 candidates, totalling 2700 fits\n"
     ]
    },
    {
     "name": "stderr",
     "output_type": "stream",
     "text": [
      "[Parallel(n_jobs=-1)]: Using backend LokyBackend with 12 concurrent workers.\n",
      "[Parallel(n_jobs=-1)]: Done  28 tasks      | elapsed:    0.3s\n",
      "[Parallel(n_jobs=-1)]: Done 328 tasks      | elapsed:    5.4s\n",
      "[Parallel(n_jobs=-1)]: Done 828 tasks      | elapsed:   13.9s\n",
      "[Parallel(n_jobs=-1)]: Done 1528 tasks      | elapsed:   26.7s\n",
      "[Parallel(n_jobs=-1)]: Done 2428 tasks      | elapsed:   44.9s\n",
      "[Parallel(n_jobs=-1)]: Done 2677 out of 2700 | elapsed:   49.5s remaining:    0.3s\n"
     ]
    },
    {
     "name": "stdout",
     "output_type": "stream",
     "text": [
      "Best score\n",
      "0.9835819254518146\n",
      "Best parameters\n",
      "{'lgbm__learning_rate': 0.07, 'lgbm__max_depth': 5, 'lgbm__min_data_in_leaf': 25, 'lgbm__n_estimators': 100, 'lgbm__num_leaves': 10}\n"
     ]
    },
    {
     "name": "stderr",
     "output_type": "stream",
     "text": [
      "[Parallel(n_jobs=-1)]: Done 2700 out of 2700 | elapsed:   49.9s finished\n"
     ]
    }
   ],
   "source": [
    "pipeline = Pipeline([('scaler', StandardScaler()),('lgbm', LGBMClassifier(objective = 'binary', metric  = 'roc_auc',boosting_type = 'gbdt'))])\n",
    "\n",
    "from sklearn.model_selection import StratifiedKFold\n",
    "cv = StratifiedKFold(5)\n",
    "\n",
    "parameters = {}\n",
    "parameters['lgbm__learning_rate'] = [0.07]\n",
    "parameters['lgbm__n_estimators'] = [10, 20, 40, 50, 60, 70, 80, 90, 100] \n",
    "parameters['lgbm__num_leaves'] = [10, 20 , 30]\n",
    "parameters['lgbm__min_data_in_leaf'] = [5, 10, 15, 20, 25] \n",
    "parameters['lgbm__max_depth'] = [5, 6 , 7, 8] \n",
    "\n",
    "grid = GridSearchCV(pipeline, parameters, cv = cv, scoring = 'roc_auc', verbose = 1,n_jobs=-1)\n",
    "grid.fit(X, y)   \n",
    "\n",
    "print('Best score')\n",
    "print(grid.best_score_)\n",
    "print('Best parameters')\n",
    "print(grid.best_params_)    \n"
   ]
  },
  {
   "cell_type": "code",
   "execution_count": 9,
   "metadata": {},
   "outputs": [
    {
     "name": "stdout",
     "output_type": "stream",
     "text": [
      "Best parameters set found on development set:\n",
      "{'lgbm__learning_rate': 0.07, 'lgbm__max_depth': 5, 'lgbm__min_data_in_leaf': 25, 'lgbm__n_estimators': 100, 'lgbm__num_leaves': 10}\n",
      "0.965 (+/-0.014) for {'lgbm__learning_rate': 0.07, 'lgbm__max_depth': 5, 'lgbm__min_data_in_leaf': 5, 'lgbm__n_estimators': 10, 'lgbm__num_leaves': 10}\n",
      "0.968 (+/-0.018) for {'lgbm__learning_rate': 0.07, 'lgbm__max_depth': 5, 'lgbm__min_data_in_leaf': 5, 'lgbm__n_estimators': 10, 'lgbm__num_leaves': 20}\n",
      "0.967 (+/-0.017) for {'lgbm__learning_rate': 0.07, 'lgbm__max_depth': 5, 'lgbm__min_data_in_leaf': 5, 'lgbm__n_estimators': 10, 'lgbm__num_leaves': 30}\n",
      "0.973 (+/-0.012) for {'lgbm__learning_rate': 0.07, 'lgbm__max_depth': 5, 'lgbm__min_data_in_leaf': 5, 'lgbm__n_estimators': 20, 'lgbm__num_leaves': 10}\n",
      "0.974 (+/-0.014) for {'lgbm__learning_rate': 0.07, 'lgbm__max_depth': 5, 'lgbm__min_data_in_leaf': 5, 'lgbm__n_estimators': 20, 'lgbm__num_leaves': 20}\n",
      "0.973 (+/-0.010) for {'lgbm__learning_rate': 0.07, 'lgbm__max_depth': 5, 'lgbm__min_data_in_leaf': 5, 'lgbm__n_estimators': 20, 'lgbm__num_leaves': 30}\n",
      "0.979 (+/-0.009) for {'lgbm__learning_rate': 0.07, 'lgbm__max_depth': 5, 'lgbm__min_data_in_leaf': 5, 'lgbm__n_estimators': 40, 'lgbm__num_leaves': 10}\n",
      "0.979 (+/-0.011) for {'lgbm__learning_rate': 0.07, 'lgbm__max_depth': 5, 'lgbm__min_data_in_leaf': 5, 'lgbm__n_estimators': 40, 'lgbm__num_leaves': 20}\n",
      "0.978 (+/-0.011) for {'lgbm__learning_rate': 0.07, 'lgbm__max_depth': 5, 'lgbm__min_data_in_leaf': 5, 'lgbm__n_estimators': 40, 'lgbm__num_leaves': 30}\n",
      "0.981 (+/-0.008) for {'lgbm__learning_rate': 0.07, 'lgbm__max_depth': 5, 'lgbm__min_data_in_leaf': 5, 'lgbm__n_estimators': 50, 'lgbm__num_leaves': 10}\n",
      "0.980 (+/-0.010) for {'lgbm__learning_rate': 0.07, 'lgbm__max_depth': 5, 'lgbm__min_data_in_leaf': 5, 'lgbm__n_estimators': 50, 'lgbm__num_leaves': 20}\n",
      "0.979 (+/-0.010) for {'lgbm__learning_rate': 0.07, 'lgbm__max_depth': 5, 'lgbm__min_data_in_leaf': 5, 'lgbm__n_estimators': 50, 'lgbm__num_leaves': 30}\n",
      "0.981 (+/-0.009) for {'lgbm__learning_rate': 0.07, 'lgbm__max_depth': 5, 'lgbm__min_data_in_leaf': 5, 'lgbm__n_estimators': 60, 'lgbm__num_leaves': 10}\n",
      "0.981 (+/-0.010) for {'lgbm__learning_rate': 0.07, 'lgbm__max_depth': 5, 'lgbm__min_data_in_leaf': 5, 'lgbm__n_estimators': 60, 'lgbm__num_leaves': 20}\n",
      "0.980 (+/-0.010) for {'lgbm__learning_rate': 0.07, 'lgbm__max_depth': 5, 'lgbm__min_data_in_leaf': 5, 'lgbm__n_estimators': 60, 'lgbm__num_leaves': 30}\n",
      "0.982 (+/-0.009) for {'lgbm__learning_rate': 0.07, 'lgbm__max_depth': 5, 'lgbm__min_data_in_leaf': 5, 'lgbm__n_estimators': 70, 'lgbm__num_leaves': 10}\n",
      "0.981 (+/-0.009) for {'lgbm__learning_rate': 0.07, 'lgbm__max_depth': 5, 'lgbm__min_data_in_leaf': 5, 'lgbm__n_estimators': 70, 'lgbm__num_leaves': 20}\n",
      "0.980 (+/-0.010) for {'lgbm__learning_rate': 0.07, 'lgbm__max_depth': 5, 'lgbm__min_data_in_leaf': 5, 'lgbm__n_estimators': 70, 'lgbm__num_leaves': 30}\n",
      "0.983 (+/-0.009) for {'lgbm__learning_rate': 0.07, 'lgbm__max_depth': 5, 'lgbm__min_data_in_leaf': 5, 'lgbm__n_estimators': 80, 'lgbm__num_leaves': 10}\n",
      "0.982 (+/-0.010) for {'lgbm__learning_rate': 0.07, 'lgbm__max_depth': 5, 'lgbm__min_data_in_leaf': 5, 'lgbm__n_estimators': 80, 'lgbm__num_leaves': 20}\n",
      "0.981 (+/-0.011) for {'lgbm__learning_rate': 0.07, 'lgbm__max_depth': 5, 'lgbm__min_data_in_leaf': 5, 'lgbm__n_estimators': 80, 'lgbm__num_leaves': 30}\n",
      "0.983 (+/-0.010) for {'lgbm__learning_rate': 0.07, 'lgbm__max_depth': 5, 'lgbm__min_data_in_leaf': 5, 'lgbm__n_estimators': 90, 'lgbm__num_leaves': 10}\n",
      "0.982 (+/-0.010) for {'lgbm__learning_rate': 0.07, 'lgbm__max_depth': 5, 'lgbm__min_data_in_leaf': 5, 'lgbm__n_estimators': 90, 'lgbm__num_leaves': 20}\n",
      "0.981 (+/-0.010) for {'lgbm__learning_rate': 0.07, 'lgbm__max_depth': 5, 'lgbm__min_data_in_leaf': 5, 'lgbm__n_estimators': 90, 'lgbm__num_leaves': 30}\n",
      "0.983 (+/-0.010) for {'lgbm__learning_rate': 0.07, 'lgbm__max_depth': 5, 'lgbm__min_data_in_leaf': 5, 'lgbm__n_estimators': 100, 'lgbm__num_leaves': 10}\n",
      "0.982 (+/-0.010) for {'lgbm__learning_rate': 0.07, 'lgbm__max_depth': 5, 'lgbm__min_data_in_leaf': 5, 'lgbm__n_estimators': 100, 'lgbm__num_leaves': 20}\n",
      "0.981 (+/-0.010) for {'lgbm__learning_rate': 0.07, 'lgbm__max_depth': 5, 'lgbm__min_data_in_leaf': 5, 'lgbm__n_estimators': 100, 'lgbm__num_leaves': 30}\n",
      "0.965 (+/-0.018) for {'lgbm__learning_rate': 0.07, 'lgbm__max_depth': 5, 'lgbm__min_data_in_leaf': 10, 'lgbm__n_estimators': 10, 'lgbm__num_leaves': 10}\n",
      "0.970 (+/-0.018) for {'lgbm__learning_rate': 0.07, 'lgbm__max_depth': 5, 'lgbm__min_data_in_leaf': 10, 'lgbm__n_estimators': 10, 'lgbm__num_leaves': 20}\n",
      "0.970 (+/-0.015) for {'lgbm__learning_rate': 0.07, 'lgbm__max_depth': 5, 'lgbm__min_data_in_leaf': 10, 'lgbm__n_estimators': 10, 'lgbm__num_leaves': 30}\n",
      "0.974 (+/-0.010) for {'lgbm__learning_rate': 0.07, 'lgbm__max_depth': 5, 'lgbm__min_data_in_leaf': 10, 'lgbm__n_estimators': 20, 'lgbm__num_leaves': 10}\n",
      "0.974 (+/-0.014) for {'lgbm__learning_rate': 0.07, 'lgbm__max_depth': 5, 'lgbm__min_data_in_leaf': 10, 'lgbm__n_estimators': 20, 'lgbm__num_leaves': 20}\n",
      "0.973 (+/-0.016) for {'lgbm__learning_rate': 0.07, 'lgbm__max_depth': 5, 'lgbm__min_data_in_leaf': 10, 'lgbm__n_estimators': 20, 'lgbm__num_leaves': 30}\n",
      "0.980 (+/-0.009) for {'lgbm__learning_rate': 0.07, 'lgbm__max_depth': 5, 'lgbm__min_data_in_leaf': 10, 'lgbm__n_estimators': 40, 'lgbm__num_leaves': 10}\n",
      "0.979 (+/-0.012) for {'lgbm__learning_rate': 0.07, 'lgbm__max_depth': 5, 'lgbm__min_data_in_leaf': 10, 'lgbm__n_estimators': 40, 'lgbm__num_leaves': 20}\n",
      "0.979 (+/-0.010) for {'lgbm__learning_rate': 0.07, 'lgbm__max_depth': 5, 'lgbm__min_data_in_leaf': 10, 'lgbm__n_estimators': 40, 'lgbm__num_leaves': 30}\n",
      "0.981 (+/-0.009) for {'lgbm__learning_rate': 0.07, 'lgbm__max_depth': 5, 'lgbm__min_data_in_leaf': 10, 'lgbm__n_estimators': 50, 'lgbm__num_leaves': 10}\n",
      "0.980 (+/-0.010) for {'lgbm__learning_rate': 0.07, 'lgbm__max_depth': 5, 'lgbm__min_data_in_leaf': 10, 'lgbm__n_estimators': 50, 'lgbm__num_leaves': 20}\n",
      "0.980 (+/-0.010) for {'lgbm__learning_rate': 0.07, 'lgbm__max_depth': 5, 'lgbm__min_data_in_leaf': 10, 'lgbm__n_estimators': 50, 'lgbm__num_leaves': 30}\n",
      "0.982 (+/-0.009) for {'lgbm__learning_rate': 0.07, 'lgbm__max_depth': 5, 'lgbm__min_data_in_leaf': 10, 'lgbm__n_estimators': 60, 'lgbm__num_leaves': 10}\n",
      "0.980 (+/-0.011) for {'lgbm__learning_rate': 0.07, 'lgbm__max_depth': 5, 'lgbm__min_data_in_leaf': 10, 'lgbm__n_estimators': 60, 'lgbm__num_leaves': 20}\n",
      "0.981 (+/-0.010) for {'lgbm__learning_rate': 0.07, 'lgbm__max_depth': 5, 'lgbm__min_data_in_leaf': 10, 'lgbm__n_estimators': 60, 'lgbm__num_leaves': 30}\n",
      "0.982 (+/-0.009) for {'lgbm__learning_rate': 0.07, 'lgbm__max_depth': 5, 'lgbm__min_data_in_leaf': 10, 'lgbm__n_estimators': 70, 'lgbm__num_leaves': 10}\n",
      "0.980 (+/-0.011) for {'lgbm__learning_rate': 0.07, 'lgbm__max_depth': 5, 'lgbm__min_data_in_leaf': 10, 'lgbm__n_estimators': 70, 'lgbm__num_leaves': 20}\n",
      "0.981 (+/-0.010) for {'lgbm__learning_rate': 0.07, 'lgbm__max_depth': 5, 'lgbm__min_data_in_leaf': 10, 'lgbm__n_estimators': 70, 'lgbm__num_leaves': 30}\n",
      "0.983 (+/-0.009) for {'lgbm__learning_rate': 0.07, 'lgbm__max_depth': 5, 'lgbm__min_data_in_leaf': 10, 'lgbm__n_estimators': 80, 'lgbm__num_leaves': 10}\n",
      "0.981 (+/-0.011) for {'lgbm__learning_rate': 0.07, 'lgbm__max_depth': 5, 'lgbm__min_data_in_leaf': 10, 'lgbm__n_estimators': 80, 'lgbm__num_leaves': 20}\n",
      "0.981 (+/-0.010) for {'lgbm__learning_rate': 0.07, 'lgbm__max_depth': 5, 'lgbm__min_data_in_leaf': 10, 'lgbm__n_estimators': 80, 'lgbm__num_leaves': 30}\n",
      "0.983 (+/-0.010) for {'lgbm__learning_rate': 0.07, 'lgbm__max_depth': 5, 'lgbm__min_data_in_leaf': 10, 'lgbm__n_estimators': 90, 'lgbm__num_leaves': 10}\n",
      "0.981 (+/-0.012) for {'lgbm__learning_rate': 0.07, 'lgbm__max_depth': 5, 'lgbm__min_data_in_leaf': 10, 'lgbm__n_estimators': 90, 'lgbm__num_leaves': 20}\n",
      "0.982 (+/-0.010) for {'lgbm__learning_rate': 0.07, 'lgbm__max_depth': 5, 'lgbm__min_data_in_leaf': 10, 'lgbm__n_estimators': 90, 'lgbm__num_leaves': 30}\n",
      "0.983 (+/-0.010) for {'lgbm__learning_rate': 0.07, 'lgbm__max_depth': 5, 'lgbm__min_data_in_leaf': 10, 'lgbm__n_estimators': 100, 'lgbm__num_leaves': 10}\n",
      "0.981 (+/-0.012) for {'lgbm__learning_rate': 0.07, 'lgbm__max_depth': 5, 'lgbm__min_data_in_leaf': 10, 'lgbm__n_estimators': 100, 'lgbm__num_leaves': 20}\n",
      "0.982 (+/-0.010) for {'lgbm__learning_rate': 0.07, 'lgbm__max_depth': 5, 'lgbm__min_data_in_leaf': 10, 'lgbm__n_estimators': 100, 'lgbm__num_leaves': 30}\n",
      "0.966 (+/-0.016) for {'lgbm__learning_rate': 0.07, 'lgbm__max_depth': 5, 'lgbm__min_data_in_leaf': 15, 'lgbm__n_estimators': 10, 'lgbm__num_leaves': 10}\n",
      "0.965 (+/-0.015) for {'lgbm__learning_rate': 0.07, 'lgbm__max_depth': 5, 'lgbm__min_data_in_leaf': 15, 'lgbm__n_estimators': 10, 'lgbm__num_leaves': 20}\n",
      "0.965 (+/-0.016) for {'lgbm__learning_rate': 0.07, 'lgbm__max_depth': 5, 'lgbm__min_data_in_leaf': 15, 'lgbm__n_estimators': 10, 'lgbm__num_leaves': 30}\n",
      "0.973 (+/-0.012) for {'lgbm__learning_rate': 0.07, 'lgbm__max_depth': 5, 'lgbm__min_data_in_leaf': 15, 'lgbm__n_estimators': 20, 'lgbm__num_leaves': 10}\n",
      "0.974 (+/-0.011) for {'lgbm__learning_rate': 0.07, 'lgbm__max_depth': 5, 'lgbm__min_data_in_leaf': 15, 'lgbm__n_estimators': 20, 'lgbm__num_leaves': 20}\n",
      "0.975 (+/-0.012) for {'lgbm__learning_rate': 0.07, 'lgbm__max_depth': 5, 'lgbm__min_data_in_leaf': 15, 'lgbm__n_estimators': 20, 'lgbm__num_leaves': 30}\n",
      "0.980 (+/-0.010) for {'lgbm__learning_rate': 0.07, 'lgbm__max_depth': 5, 'lgbm__min_data_in_leaf': 15, 'lgbm__n_estimators': 40, 'lgbm__num_leaves': 10}\n",
      "0.980 (+/-0.010) for {'lgbm__learning_rate': 0.07, 'lgbm__max_depth': 5, 'lgbm__min_data_in_leaf': 15, 'lgbm__n_estimators': 40, 'lgbm__num_leaves': 20}\n",
      "0.980 (+/-0.010) for {'lgbm__learning_rate': 0.07, 'lgbm__max_depth': 5, 'lgbm__min_data_in_leaf': 15, 'lgbm__n_estimators': 40, 'lgbm__num_leaves': 30}\n",
      "0.981 (+/-0.009) for {'lgbm__learning_rate': 0.07, 'lgbm__max_depth': 5, 'lgbm__min_data_in_leaf': 15, 'lgbm__n_estimators': 50, 'lgbm__num_leaves': 10}\n",
      "0.981 (+/-0.010) for {'lgbm__learning_rate': 0.07, 'lgbm__max_depth': 5, 'lgbm__min_data_in_leaf': 15, 'lgbm__n_estimators': 50, 'lgbm__num_leaves': 20}\n",
      "0.981 (+/-0.009) for {'lgbm__learning_rate': 0.07, 'lgbm__max_depth': 5, 'lgbm__min_data_in_leaf': 15, 'lgbm__n_estimators': 50, 'lgbm__num_leaves': 30}\n",
      "0.981 (+/-0.010) for {'lgbm__learning_rate': 0.07, 'lgbm__max_depth': 5, 'lgbm__min_data_in_leaf': 15, 'lgbm__n_estimators': 60, 'lgbm__num_leaves': 10}\n",
      "0.981 (+/-0.010) for {'lgbm__learning_rate': 0.07, 'lgbm__max_depth': 5, 'lgbm__min_data_in_leaf': 15, 'lgbm__n_estimators': 60, 'lgbm__num_leaves': 20}\n",
      "0.981 (+/-0.010) for {'lgbm__learning_rate': 0.07, 'lgbm__max_depth': 5, 'lgbm__min_data_in_leaf': 15, 'lgbm__n_estimators': 60, 'lgbm__num_leaves': 30}\n",
      "0.982 (+/-0.010) for {'lgbm__learning_rate': 0.07, 'lgbm__max_depth': 5, 'lgbm__min_data_in_leaf': 15, 'lgbm__n_estimators': 70, 'lgbm__num_leaves': 10}\n",
      "0.981 (+/-0.010) for {'lgbm__learning_rate': 0.07, 'lgbm__max_depth': 5, 'lgbm__min_data_in_leaf': 15, 'lgbm__n_estimators': 70, 'lgbm__num_leaves': 20}\n",
      "0.982 (+/-0.010) for {'lgbm__learning_rate': 0.07, 'lgbm__max_depth': 5, 'lgbm__min_data_in_leaf': 15, 'lgbm__n_estimators': 70, 'lgbm__num_leaves': 30}\n",
      "0.982 (+/-0.010) for {'lgbm__learning_rate': 0.07, 'lgbm__max_depth': 5, 'lgbm__min_data_in_leaf': 15, 'lgbm__n_estimators': 80, 'lgbm__num_leaves': 10}\n",
      "0.982 (+/-0.011) for {'lgbm__learning_rate': 0.07, 'lgbm__max_depth': 5, 'lgbm__min_data_in_leaf': 15, 'lgbm__n_estimators': 80, 'lgbm__num_leaves': 20}\n",
      "0.982 (+/-0.010) for {'lgbm__learning_rate': 0.07, 'lgbm__max_depth': 5, 'lgbm__min_data_in_leaf': 15, 'lgbm__n_estimators': 80, 'lgbm__num_leaves': 30}\n",
      "0.983 (+/-0.011) for {'lgbm__learning_rate': 0.07, 'lgbm__max_depth': 5, 'lgbm__min_data_in_leaf': 15, 'lgbm__n_estimators': 90, 'lgbm__num_leaves': 10}\n",
      "0.982 (+/-0.011) for {'lgbm__learning_rate': 0.07, 'lgbm__max_depth': 5, 'lgbm__min_data_in_leaf': 15, 'lgbm__n_estimators': 90, 'lgbm__num_leaves': 20}\n",
      "0.982 (+/-0.010) for {'lgbm__learning_rate': 0.07, 'lgbm__max_depth': 5, 'lgbm__min_data_in_leaf': 15, 'lgbm__n_estimators': 90, 'lgbm__num_leaves': 30}\n",
      "0.983 (+/-0.011) for {'lgbm__learning_rate': 0.07, 'lgbm__max_depth': 5, 'lgbm__min_data_in_leaf': 15, 'lgbm__n_estimators': 100, 'lgbm__num_leaves': 10}\n",
      "0.982 (+/-0.012) for {'lgbm__learning_rate': 0.07, 'lgbm__max_depth': 5, 'lgbm__min_data_in_leaf': 15, 'lgbm__n_estimators': 100, 'lgbm__num_leaves': 20}\n",
      "0.982 (+/-0.010) for {'lgbm__learning_rate': 0.07, 'lgbm__max_depth': 5, 'lgbm__min_data_in_leaf': 15, 'lgbm__n_estimators': 100, 'lgbm__num_leaves': 30}\n",
      "0.964 (+/-0.020) for {'lgbm__learning_rate': 0.07, 'lgbm__max_depth': 5, 'lgbm__min_data_in_leaf': 20, 'lgbm__n_estimators': 10, 'lgbm__num_leaves': 10}\n",
      "0.969 (+/-0.010) for {'lgbm__learning_rate': 0.07, 'lgbm__max_depth': 5, 'lgbm__min_data_in_leaf': 20, 'lgbm__n_estimators': 10, 'lgbm__num_leaves': 20}\n",
      "0.969 (+/-0.010) for {'lgbm__learning_rate': 0.07, 'lgbm__max_depth': 5, 'lgbm__min_data_in_leaf': 20, 'lgbm__n_estimators': 10, 'lgbm__num_leaves': 30}\n",
      "0.974 (+/-0.014) for {'lgbm__learning_rate': 0.07, 'lgbm__max_depth': 5, 'lgbm__min_data_in_leaf': 20, 'lgbm__n_estimators': 20, 'lgbm__num_leaves': 10}\n",
      "0.975 (+/-0.012) for {'lgbm__learning_rate': 0.07, 'lgbm__max_depth': 5, 'lgbm__min_data_in_leaf': 20, 'lgbm__n_estimators': 20, 'lgbm__num_leaves': 20}\n",
      "0.975 (+/-0.012) for {'lgbm__learning_rate': 0.07, 'lgbm__max_depth': 5, 'lgbm__min_data_in_leaf': 20, 'lgbm__n_estimators': 20, 'lgbm__num_leaves': 30}\n",
      "0.980 (+/-0.009) for {'lgbm__learning_rate': 0.07, 'lgbm__max_depth': 5, 'lgbm__min_data_in_leaf': 20, 'lgbm__n_estimators': 40, 'lgbm__num_leaves': 10}\n",
      "0.980 (+/-0.009) for {'lgbm__learning_rate': 0.07, 'lgbm__max_depth': 5, 'lgbm__min_data_in_leaf': 20, 'lgbm__n_estimators': 40, 'lgbm__num_leaves': 20}\n",
      "0.980 (+/-0.009) for {'lgbm__learning_rate': 0.07, 'lgbm__max_depth': 5, 'lgbm__min_data_in_leaf': 20, 'lgbm__n_estimators': 40, 'lgbm__num_leaves': 30}\n",
      "0.981 (+/-0.010) for {'lgbm__learning_rate': 0.07, 'lgbm__max_depth': 5, 'lgbm__min_data_in_leaf': 20, 'lgbm__n_estimators': 50, 'lgbm__num_leaves': 10}\n",
      "0.981 (+/-0.009) for {'lgbm__learning_rate': 0.07, 'lgbm__max_depth': 5, 'lgbm__min_data_in_leaf': 20, 'lgbm__n_estimators': 50, 'lgbm__num_leaves': 20}\n",
      "0.981 (+/-0.009) for {'lgbm__learning_rate': 0.07, 'lgbm__max_depth': 5, 'lgbm__min_data_in_leaf': 20, 'lgbm__n_estimators': 50, 'lgbm__num_leaves': 30}\n",
      "0.981 (+/-0.010) for {'lgbm__learning_rate': 0.07, 'lgbm__max_depth': 5, 'lgbm__min_data_in_leaf': 20, 'lgbm__n_estimators': 60, 'lgbm__num_leaves': 10}\n",
      "0.982 (+/-0.009) for {'lgbm__learning_rate': 0.07, 'lgbm__max_depth': 5, 'lgbm__min_data_in_leaf': 20, 'lgbm__n_estimators': 60, 'lgbm__num_leaves': 20}\n",
      "0.982 (+/-0.010) for {'lgbm__learning_rate': 0.07, 'lgbm__max_depth': 5, 'lgbm__min_data_in_leaf': 20, 'lgbm__n_estimators': 60, 'lgbm__num_leaves': 30}\n",
      "0.982 (+/-0.011) for {'lgbm__learning_rate': 0.07, 'lgbm__max_depth': 5, 'lgbm__min_data_in_leaf': 20, 'lgbm__n_estimators': 70, 'lgbm__num_leaves': 10}\n",
      "0.982 (+/-0.009) for {'lgbm__learning_rate': 0.07, 'lgbm__max_depth': 5, 'lgbm__min_data_in_leaf': 20, 'lgbm__n_estimators': 70, 'lgbm__num_leaves': 20}\n",
      "0.982 (+/-0.009) for {'lgbm__learning_rate': 0.07, 'lgbm__max_depth': 5, 'lgbm__min_data_in_leaf': 20, 'lgbm__n_estimators': 70, 'lgbm__num_leaves': 30}\n",
      "0.983 (+/-0.010) for {'lgbm__learning_rate': 0.07, 'lgbm__max_depth': 5, 'lgbm__min_data_in_leaf': 20, 'lgbm__n_estimators': 80, 'lgbm__num_leaves': 10}\n",
      "0.983 (+/-0.009) for {'lgbm__learning_rate': 0.07, 'lgbm__max_depth': 5, 'lgbm__min_data_in_leaf': 20, 'lgbm__n_estimators': 80, 'lgbm__num_leaves': 20}\n",
      "0.983 (+/-0.008) for {'lgbm__learning_rate': 0.07, 'lgbm__max_depth': 5, 'lgbm__min_data_in_leaf': 20, 'lgbm__n_estimators': 80, 'lgbm__num_leaves': 30}\n",
      "0.983 (+/-0.011) for {'lgbm__learning_rate': 0.07, 'lgbm__max_depth': 5, 'lgbm__min_data_in_leaf': 20, 'lgbm__n_estimators': 90, 'lgbm__num_leaves': 10}\n",
      "0.983 (+/-0.008) for {'lgbm__learning_rate': 0.07, 'lgbm__max_depth': 5, 'lgbm__min_data_in_leaf': 20, 'lgbm__n_estimators': 90, 'lgbm__num_leaves': 20}\n",
      "0.983 (+/-0.009) for {'lgbm__learning_rate': 0.07, 'lgbm__max_depth': 5, 'lgbm__min_data_in_leaf': 20, 'lgbm__n_estimators': 90, 'lgbm__num_leaves': 30}\n",
      "0.983 (+/-0.011) for {'lgbm__learning_rate': 0.07, 'lgbm__max_depth': 5, 'lgbm__min_data_in_leaf': 20, 'lgbm__n_estimators': 100, 'lgbm__num_leaves': 10}\n",
      "0.983 (+/-0.009) for {'lgbm__learning_rate': 0.07, 'lgbm__max_depth': 5, 'lgbm__min_data_in_leaf': 20, 'lgbm__n_estimators': 100, 'lgbm__num_leaves': 20}\n",
      "0.983 (+/-0.009) for {'lgbm__learning_rate': 0.07, 'lgbm__max_depth': 5, 'lgbm__min_data_in_leaf': 20, 'lgbm__n_estimators': 100, 'lgbm__num_leaves': 30}\n",
      "0.967 (+/-0.018) for {'lgbm__learning_rate': 0.07, 'lgbm__max_depth': 5, 'lgbm__min_data_in_leaf': 25, 'lgbm__n_estimators': 10, 'lgbm__num_leaves': 10}\n",
      "0.968 (+/-0.014) for {'lgbm__learning_rate': 0.07, 'lgbm__max_depth': 5, 'lgbm__min_data_in_leaf': 25, 'lgbm__n_estimators': 10, 'lgbm__num_leaves': 20}\n",
      "0.968 (+/-0.014) for {'lgbm__learning_rate': 0.07, 'lgbm__max_depth': 5, 'lgbm__min_data_in_leaf': 25, 'lgbm__n_estimators': 10, 'lgbm__num_leaves': 30}\n",
      "0.973 (+/-0.015) for {'lgbm__learning_rate': 0.07, 'lgbm__max_depth': 5, 'lgbm__min_data_in_leaf': 25, 'lgbm__n_estimators': 20, 'lgbm__num_leaves': 10}\n",
      "0.974 (+/-0.013) for {'lgbm__learning_rate': 0.07, 'lgbm__max_depth': 5, 'lgbm__min_data_in_leaf': 25, 'lgbm__n_estimators': 20, 'lgbm__num_leaves': 20}\n",
      "0.974 (+/-0.013) for {'lgbm__learning_rate': 0.07, 'lgbm__max_depth': 5, 'lgbm__min_data_in_leaf': 25, 'lgbm__n_estimators': 20, 'lgbm__num_leaves': 30}\n",
      "0.979 (+/-0.011) for {'lgbm__learning_rate': 0.07, 'lgbm__max_depth': 5, 'lgbm__min_data_in_leaf': 25, 'lgbm__n_estimators': 40, 'lgbm__num_leaves': 10}\n",
      "0.980 (+/-0.010) for {'lgbm__learning_rate': 0.07, 'lgbm__max_depth': 5, 'lgbm__min_data_in_leaf': 25, 'lgbm__n_estimators': 40, 'lgbm__num_leaves': 20}\n",
      "0.980 (+/-0.010) for {'lgbm__learning_rate': 0.07, 'lgbm__max_depth': 5, 'lgbm__min_data_in_leaf': 25, 'lgbm__n_estimators': 40, 'lgbm__num_leaves': 30}\n",
      "0.981 (+/-0.010) for {'lgbm__learning_rate': 0.07, 'lgbm__max_depth': 5, 'lgbm__min_data_in_leaf': 25, 'lgbm__n_estimators': 50, 'lgbm__num_leaves': 10}\n",
      "0.981 (+/-0.010) for {'lgbm__learning_rate': 0.07, 'lgbm__max_depth': 5, 'lgbm__min_data_in_leaf': 25, 'lgbm__n_estimators': 50, 'lgbm__num_leaves': 20}\n",
      "0.981 (+/-0.010) for {'lgbm__learning_rate': 0.07, 'lgbm__max_depth': 5, 'lgbm__min_data_in_leaf': 25, 'lgbm__n_estimators': 50, 'lgbm__num_leaves': 30}\n",
      "0.982 (+/-0.010) for {'lgbm__learning_rate': 0.07, 'lgbm__max_depth': 5, 'lgbm__min_data_in_leaf': 25, 'lgbm__n_estimators': 60, 'lgbm__num_leaves': 10}\n",
      "0.982 (+/-0.009) for {'lgbm__learning_rate': 0.07, 'lgbm__max_depth': 5, 'lgbm__min_data_in_leaf': 25, 'lgbm__n_estimators': 60, 'lgbm__num_leaves': 20}\n",
      "0.982 (+/-0.009) for {'lgbm__learning_rate': 0.07, 'lgbm__max_depth': 5, 'lgbm__min_data_in_leaf': 25, 'lgbm__n_estimators': 60, 'lgbm__num_leaves': 30}\n",
      "0.982 (+/-0.009) for {'lgbm__learning_rate': 0.07, 'lgbm__max_depth': 5, 'lgbm__min_data_in_leaf': 25, 'lgbm__n_estimators': 70, 'lgbm__num_leaves': 10}\n",
      "0.982 (+/-0.009) for {'lgbm__learning_rate': 0.07, 'lgbm__max_depth': 5, 'lgbm__min_data_in_leaf': 25, 'lgbm__n_estimators': 70, 'lgbm__num_leaves': 20}\n",
      "0.982 (+/-0.009) for {'lgbm__learning_rate': 0.07, 'lgbm__max_depth': 5, 'lgbm__min_data_in_leaf': 25, 'lgbm__n_estimators': 70, 'lgbm__num_leaves': 30}\n",
      "0.983 (+/-0.010) for {'lgbm__learning_rate': 0.07, 'lgbm__max_depth': 5, 'lgbm__min_data_in_leaf': 25, 'lgbm__n_estimators': 80, 'lgbm__num_leaves': 10}\n",
      "0.983 (+/-0.008) for {'lgbm__learning_rate': 0.07, 'lgbm__max_depth': 5, 'lgbm__min_data_in_leaf': 25, 'lgbm__n_estimators': 80, 'lgbm__num_leaves': 20}\n",
      "0.983 (+/-0.009) for {'lgbm__learning_rate': 0.07, 'lgbm__max_depth': 5, 'lgbm__min_data_in_leaf': 25, 'lgbm__n_estimators': 80, 'lgbm__num_leaves': 30}\n",
      "0.983 (+/-0.009) for {'lgbm__learning_rate': 0.07, 'lgbm__max_depth': 5, 'lgbm__min_data_in_leaf': 25, 'lgbm__n_estimators': 90, 'lgbm__num_leaves': 10}\n",
      "0.983 (+/-0.009) for {'lgbm__learning_rate': 0.07, 'lgbm__max_depth': 5, 'lgbm__min_data_in_leaf': 25, 'lgbm__n_estimators': 90, 'lgbm__num_leaves': 20}\n",
      "0.983 (+/-0.008) for {'lgbm__learning_rate': 0.07, 'lgbm__max_depth': 5, 'lgbm__min_data_in_leaf': 25, 'lgbm__n_estimators': 90, 'lgbm__num_leaves': 30}\n",
      "0.984 (+/-0.009) for {'lgbm__learning_rate': 0.07, 'lgbm__max_depth': 5, 'lgbm__min_data_in_leaf': 25, 'lgbm__n_estimators': 100, 'lgbm__num_leaves': 10}\n",
      "0.983 (+/-0.009) for {'lgbm__learning_rate': 0.07, 'lgbm__max_depth': 5, 'lgbm__min_data_in_leaf': 25, 'lgbm__n_estimators': 100, 'lgbm__num_leaves': 20}\n",
      "0.983 (+/-0.009) for {'lgbm__learning_rate': 0.07, 'lgbm__max_depth': 5, 'lgbm__min_data_in_leaf': 25, 'lgbm__n_estimators': 100, 'lgbm__num_leaves': 30}\n",
      "0.965 (+/-0.014) for {'lgbm__learning_rate': 0.07, 'lgbm__max_depth': 6, 'lgbm__min_data_in_leaf': 5, 'lgbm__n_estimators': 10, 'lgbm__num_leaves': 10}\n",
      "0.964 (+/-0.023) for {'lgbm__learning_rate': 0.07, 'lgbm__max_depth': 6, 'lgbm__min_data_in_leaf': 5, 'lgbm__n_estimators': 10, 'lgbm__num_leaves': 20}\n",
      "0.965 (+/-0.018) for {'lgbm__learning_rate': 0.07, 'lgbm__max_depth': 6, 'lgbm__min_data_in_leaf': 5, 'lgbm__n_estimators': 10, 'lgbm__num_leaves': 30}\n",
      "0.973 (+/-0.011) for {'lgbm__learning_rate': 0.07, 'lgbm__max_depth': 6, 'lgbm__min_data_in_leaf': 5, 'lgbm__n_estimators': 20, 'lgbm__num_leaves': 10}\n",
      "0.970 (+/-0.021) for {'lgbm__learning_rate': 0.07, 'lgbm__max_depth': 6, 'lgbm__min_data_in_leaf': 5, 'lgbm__n_estimators': 20, 'lgbm__num_leaves': 20}\n",
      "0.975 (+/-0.012) for {'lgbm__learning_rate': 0.07, 'lgbm__max_depth': 6, 'lgbm__min_data_in_leaf': 5, 'lgbm__n_estimators': 20, 'lgbm__num_leaves': 30}\n",
      "0.980 (+/-0.009) for {'lgbm__learning_rate': 0.07, 'lgbm__max_depth': 6, 'lgbm__min_data_in_leaf': 5, 'lgbm__n_estimators': 40, 'lgbm__num_leaves': 10}\n",
      "0.979 (+/-0.010) for {'lgbm__learning_rate': 0.07, 'lgbm__max_depth': 6, 'lgbm__min_data_in_leaf': 5, 'lgbm__n_estimators': 40, 'lgbm__num_leaves': 20}\n",
      "0.978 (+/-0.010) for {'lgbm__learning_rate': 0.07, 'lgbm__max_depth': 6, 'lgbm__min_data_in_leaf': 5, 'lgbm__n_estimators': 40, 'lgbm__num_leaves': 30}\n",
      "0.981 (+/-0.009) for {'lgbm__learning_rate': 0.07, 'lgbm__max_depth': 6, 'lgbm__min_data_in_leaf': 5, 'lgbm__n_estimators': 50, 'lgbm__num_leaves': 10}\n",
      "0.980 (+/-0.009) for {'lgbm__learning_rate': 0.07, 'lgbm__max_depth': 6, 'lgbm__min_data_in_leaf': 5, 'lgbm__n_estimators': 50, 'lgbm__num_leaves': 20}\n",
      "0.979 (+/-0.011) for {'lgbm__learning_rate': 0.07, 'lgbm__max_depth': 6, 'lgbm__min_data_in_leaf': 5, 'lgbm__n_estimators': 50, 'lgbm__num_leaves': 30}\n",
      "0.982 (+/-0.009) for {'lgbm__learning_rate': 0.07, 'lgbm__max_depth': 6, 'lgbm__min_data_in_leaf': 5, 'lgbm__n_estimators': 60, 'lgbm__num_leaves': 10}\n",
      "0.981 (+/-0.009) for {'lgbm__learning_rate': 0.07, 'lgbm__max_depth': 6, 'lgbm__min_data_in_leaf': 5, 'lgbm__n_estimators': 60, 'lgbm__num_leaves': 20}\n",
      "0.980 (+/-0.010) for {'lgbm__learning_rate': 0.07, 'lgbm__max_depth': 6, 'lgbm__min_data_in_leaf': 5, 'lgbm__n_estimators': 60, 'lgbm__num_leaves': 30}\n",
      "0.982 (+/-0.009) for {'lgbm__learning_rate': 0.07, 'lgbm__max_depth': 6, 'lgbm__min_data_in_leaf': 5, 'lgbm__n_estimators': 70, 'lgbm__num_leaves': 10}\n",
      "0.981 (+/-0.010) for {'lgbm__learning_rate': 0.07, 'lgbm__max_depth': 6, 'lgbm__min_data_in_leaf': 5, 'lgbm__n_estimators': 70, 'lgbm__num_leaves': 20}\n",
      "0.980 (+/-0.010) for {'lgbm__learning_rate': 0.07, 'lgbm__max_depth': 6, 'lgbm__min_data_in_leaf': 5, 'lgbm__n_estimators': 70, 'lgbm__num_leaves': 30}\n",
      "0.982 (+/-0.010) for {'lgbm__learning_rate': 0.07, 'lgbm__max_depth': 6, 'lgbm__min_data_in_leaf': 5, 'lgbm__n_estimators': 80, 'lgbm__num_leaves': 10}\n",
      "0.981 (+/-0.009) for {'lgbm__learning_rate': 0.07, 'lgbm__max_depth': 6, 'lgbm__min_data_in_leaf': 5, 'lgbm__n_estimators': 80, 'lgbm__num_leaves': 20}\n",
      "0.981 (+/-0.010) for {'lgbm__learning_rate': 0.07, 'lgbm__max_depth': 6, 'lgbm__min_data_in_leaf': 5, 'lgbm__n_estimators': 80, 'lgbm__num_leaves': 30}\n",
      "0.983 (+/-0.010) for {'lgbm__learning_rate': 0.07, 'lgbm__max_depth': 6, 'lgbm__min_data_in_leaf': 5, 'lgbm__n_estimators': 90, 'lgbm__num_leaves': 10}\n",
      "0.981 (+/-0.009) for {'lgbm__learning_rate': 0.07, 'lgbm__max_depth': 6, 'lgbm__min_data_in_leaf': 5, 'lgbm__n_estimators': 90, 'lgbm__num_leaves': 20}\n",
      "0.981 (+/-0.010) for {'lgbm__learning_rate': 0.07, 'lgbm__max_depth': 6, 'lgbm__min_data_in_leaf': 5, 'lgbm__n_estimators': 90, 'lgbm__num_leaves': 30}\n",
      "0.983 (+/-0.010) for {'lgbm__learning_rate': 0.07, 'lgbm__max_depth': 6, 'lgbm__min_data_in_leaf': 5, 'lgbm__n_estimators': 100, 'lgbm__num_leaves': 10}\n",
      "0.981 (+/-0.009) for {'lgbm__learning_rate': 0.07, 'lgbm__max_depth': 6, 'lgbm__min_data_in_leaf': 5, 'lgbm__n_estimators': 100, 'lgbm__num_leaves': 20}\n",
      "0.981 (+/-0.009) for {'lgbm__learning_rate': 0.07, 'lgbm__max_depth': 6, 'lgbm__min_data_in_leaf': 5, 'lgbm__n_estimators': 100, 'lgbm__num_leaves': 30}\n",
      "0.965 (+/-0.018) for {'lgbm__learning_rate': 0.07, 'lgbm__max_depth': 6, 'lgbm__min_data_in_leaf': 10, 'lgbm__n_estimators': 10, 'lgbm__num_leaves': 10}\n",
      "0.969 (+/-0.017) for {'lgbm__learning_rate': 0.07, 'lgbm__max_depth': 6, 'lgbm__min_data_in_leaf': 10, 'lgbm__n_estimators': 10, 'lgbm__num_leaves': 20}\n",
      "0.967 (+/-0.017) for {'lgbm__learning_rate': 0.07, 'lgbm__max_depth': 6, 'lgbm__min_data_in_leaf': 10, 'lgbm__n_estimators': 10, 'lgbm__num_leaves': 30}\n",
      "0.974 (+/-0.010) for {'lgbm__learning_rate': 0.07, 'lgbm__max_depth': 6, 'lgbm__min_data_in_leaf': 10, 'lgbm__n_estimators': 20, 'lgbm__num_leaves': 10}\n",
      "0.974 (+/-0.013) for {'lgbm__learning_rate': 0.07, 'lgbm__max_depth': 6, 'lgbm__min_data_in_leaf': 10, 'lgbm__n_estimators': 20, 'lgbm__num_leaves': 20}\n",
      "0.974 (+/-0.013) for {'lgbm__learning_rate': 0.07, 'lgbm__max_depth': 6, 'lgbm__min_data_in_leaf': 10, 'lgbm__n_estimators': 20, 'lgbm__num_leaves': 30}\n",
      "0.980 (+/-0.011) for {'lgbm__learning_rate': 0.07, 'lgbm__max_depth': 6, 'lgbm__min_data_in_leaf': 10, 'lgbm__n_estimators': 40, 'lgbm__num_leaves': 10}\n",
      "0.979 (+/-0.012) for {'lgbm__learning_rate': 0.07, 'lgbm__max_depth': 6, 'lgbm__min_data_in_leaf': 10, 'lgbm__n_estimators': 40, 'lgbm__num_leaves': 20}\n",
      "0.980 (+/-0.011) for {'lgbm__learning_rate': 0.07, 'lgbm__max_depth': 6, 'lgbm__min_data_in_leaf': 10, 'lgbm__n_estimators': 40, 'lgbm__num_leaves': 30}\n",
      "0.981 (+/-0.010) for {'lgbm__learning_rate': 0.07, 'lgbm__max_depth': 6, 'lgbm__min_data_in_leaf': 10, 'lgbm__n_estimators': 50, 'lgbm__num_leaves': 10}\n",
      "0.981 (+/-0.011) for {'lgbm__learning_rate': 0.07, 'lgbm__max_depth': 6, 'lgbm__min_data_in_leaf': 10, 'lgbm__n_estimators': 50, 'lgbm__num_leaves': 20}\n",
      "0.980 (+/-0.011) for {'lgbm__learning_rate': 0.07, 'lgbm__max_depth': 6, 'lgbm__min_data_in_leaf': 10, 'lgbm__n_estimators': 50, 'lgbm__num_leaves': 30}\n",
      "0.981 (+/-0.010) for {'lgbm__learning_rate': 0.07, 'lgbm__max_depth': 6, 'lgbm__min_data_in_leaf': 10, 'lgbm__n_estimators': 60, 'lgbm__num_leaves': 10}\n",
      "0.981 (+/-0.011) for {'lgbm__learning_rate': 0.07, 'lgbm__max_depth': 6, 'lgbm__min_data_in_leaf': 10, 'lgbm__n_estimators': 60, 'lgbm__num_leaves': 20}\n",
      "0.981 (+/-0.011) for {'lgbm__learning_rate': 0.07, 'lgbm__max_depth': 6, 'lgbm__min_data_in_leaf': 10, 'lgbm__n_estimators': 60, 'lgbm__num_leaves': 30}\n",
      "0.982 (+/-0.009) for {'lgbm__learning_rate': 0.07, 'lgbm__max_depth': 6, 'lgbm__min_data_in_leaf': 10, 'lgbm__n_estimators': 70, 'lgbm__num_leaves': 10}\n",
      "0.981 (+/-0.011) for {'lgbm__learning_rate': 0.07, 'lgbm__max_depth': 6, 'lgbm__min_data_in_leaf': 10, 'lgbm__n_estimators': 70, 'lgbm__num_leaves': 20}\n",
      "0.982 (+/-0.011) for {'lgbm__learning_rate': 0.07, 'lgbm__max_depth': 6, 'lgbm__min_data_in_leaf': 10, 'lgbm__n_estimators': 70, 'lgbm__num_leaves': 30}\n",
      "0.983 (+/-0.010) for {'lgbm__learning_rate': 0.07, 'lgbm__max_depth': 6, 'lgbm__min_data_in_leaf': 10, 'lgbm__n_estimators': 80, 'lgbm__num_leaves': 10}\n",
      "0.982 (+/-0.011) for {'lgbm__learning_rate': 0.07, 'lgbm__max_depth': 6, 'lgbm__min_data_in_leaf': 10, 'lgbm__n_estimators': 80, 'lgbm__num_leaves': 20}\n",
      "0.982 (+/-0.011) for {'lgbm__learning_rate': 0.07, 'lgbm__max_depth': 6, 'lgbm__min_data_in_leaf': 10, 'lgbm__n_estimators': 80, 'lgbm__num_leaves': 30}\n",
      "0.983 (+/-0.010) for {'lgbm__learning_rate': 0.07, 'lgbm__max_depth': 6, 'lgbm__min_data_in_leaf': 10, 'lgbm__n_estimators': 90, 'lgbm__num_leaves': 10}\n",
      "0.982 (+/-0.010) for {'lgbm__learning_rate': 0.07, 'lgbm__max_depth': 6, 'lgbm__min_data_in_leaf': 10, 'lgbm__n_estimators': 90, 'lgbm__num_leaves': 20}\n",
      "0.982 (+/-0.011) for {'lgbm__learning_rate': 0.07, 'lgbm__max_depth': 6, 'lgbm__min_data_in_leaf': 10, 'lgbm__n_estimators': 90, 'lgbm__num_leaves': 30}\n",
      "0.983 (+/-0.010) for {'lgbm__learning_rate': 0.07, 'lgbm__max_depth': 6, 'lgbm__min_data_in_leaf': 10, 'lgbm__n_estimators': 100, 'lgbm__num_leaves': 10}\n",
      "0.982 (+/-0.010) for {'lgbm__learning_rate': 0.07, 'lgbm__max_depth': 6, 'lgbm__min_data_in_leaf': 10, 'lgbm__n_estimators': 100, 'lgbm__num_leaves': 20}\n",
      "0.982 (+/-0.010) for {'lgbm__learning_rate': 0.07, 'lgbm__max_depth': 6, 'lgbm__min_data_in_leaf': 10, 'lgbm__n_estimators': 100, 'lgbm__num_leaves': 30}\n",
      "0.966 (+/-0.017) for {'lgbm__learning_rate': 0.07, 'lgbm__max_depth': 6, 'lgbm__min_data_in_leaf': 15, 'lgbm__n_estimators': 10, 'lgbm__num_leaves': 10}\n",
      "0.966 (+/-0.015) for {'lgbm__learning_rate': 0.07, 'lgbm__max_depth': 6, 'lgbm__min_data_in_leaf': 15, 'lgbm__n_estimators': 10, 'lgbm__num_leaves': 20}\n",
      "0.967 (+/-0.015) for {'lgbm__learning_rate': 0.07, 'lgbm__max_depth': 6, 'lgbm__min_data_in_leaf': 15, 'lgbm__n_estimators': 10, 'lgbm__num_leaves': 30}\n",
      "0.973 (+/-0.012) for {'lgbm__learning_rate': 0.07, 'lgbm__max_depth': 6, 'lgbm__min_data_in_leaf': 15, 'lgbm__n_estimators': 20, 'lgbm__num_leaves': 10}\n",
      "0.974 (+/-0.013) for {'lgbm__learning_rate': 0.07, 'lgbm__max_depth': 6, 'lgbm__min_data_in_leaf': 15, 'lgbm__n_estimators': 20, 'lgbm__num_leaves': 20}\n",
      "0.974 (+/-0.014) for {'lgbm__learning_rate': 0.07, 'lgbm__max_depth': 6, 'lgbm__min_data_in_leaf': 15, 'lgbm__n_estimators': 20, 'lgbm__num_leaves': 30}\n",
      "0.979 (+/-0.011) for {'lgbm__learning_rate': 0.07, 'lgbm__max_depth': 6, 'lgbm__min_data_in_leaf': 15, 'lgbm__n_estimators': 40, 'lgbm__num_leaves': 10}\n",
      "0.979 (+/-0.011) for {'lgbm__learning_rate': 0.07, 'lgbm__max_depth': 6, 'lgbm__min_data_in_leaf': 15, 'lgbm__n_estimators': 40, 'lgbm__num_leaves': 20}\n",
      "0.979 (+/-0.012) for {'lgbm__learning_rate': 0.07, 'lgbm__max_depth': 6, 'lgbm__min_data_in_leaf': 15, 'lgbm__n_estimators': 40, 'lgbm__num_leaves': 30}\n",
      "0.980 (+/-0.011) for {'lgbm__learning_rate': 0.07, 'lgbm__max_depth': 6, 'lgbm__min_data_in_leaf': 15, 'lgbm__n_estimators': 50, 'lgbm__num_leaves': 10}\n",
      "0.980 (+/-0.011) for {'lgbm__learning_rate': 0.07, 'lgbm__max_depth': 6, 'lgbm__min_data_in_leaf': 15, 'lgbm__n_estimators': 50, 'lgbm__num_leaves': 20}\n",
      "0.980 (+/-0.010) for {'lgbm__learning_rate': 0.07, 'lgbm__max_depth': 6, 'lgbm__min_data_in_leaf': 15, 'lgbm__n_estimators': 50, 'lgbm__num_leaves': 30}\n",
      "0.981 (+/-0.011) for {'lgbm__learning_rate': 0.07, 'lgbm__max_depth': 6, 'lgbm__min_data_in_leaf': 15, 'lgbm__n_estimators': 60, 'lgbm__num_leaves': 10}\n",
      "0.981 (+/-0.011) for {'lgbm__learning_rate': 0.07, 'lgbm__max_depth': 6, 'lgbm__min_data_in_leaf': 15, 'lgbm__n_estimators': 60, 'lgbm__num_leaves': 20}\n",
      "0.980 (+/-0.010) for {'lgbm__learning_rate': 0.07, 'lgbm__max_depth': 6, 'lgbm__min_data_in_leaf': 15, 'lgbm__n_estimators': 60, 'lgbm__num_leaves': 30}\n",
      "0.982 (+/-0.010) for {'lgbm__learning_rate': 0.07, 'lgbm__max_depth': 6, 'lgbm__min_data_in_leaf': 15, 'lgbm__n_estimators': 70, 'lgbm__num_leaves': 10}\n",
      "0.981 (+/-0.012) for {'lgbm__learning_rate': 0.07, 'lgbm__max_depth': 6, 'lgbm__min_data_in_leaf': 15, 'lgbm__n_estimators': 70, 'lgbm__num_leaves': 20}\n",
      "0.981 (+/-0.010) for {'lgbm__learning_rate': 0.07, 'lgbm__max_depth': 6, 'lgbm__min_data_in_leaf': 15, 'lgbm__n_estimators': 70, 'lgbm__num_leaves': 30}\n",
      "0.983 (+/-0.011) for {'lgbm__learning_rate': 0.07, 'lgbm__max_depth': 6, 'lgbm__min_data_in_leaf': 15, 'lgbm__n_estimators': 80, 'lgbm__num_leaves': 10}\n",
      "0.981 (+/-0.012) for {'lgbm__learning_rate': 0.07, 'lgbm__max_depth': 6, 'lgbm__min_data_in_leaf': 15, 'lgbm__n_estimators': 80, 'lgbm__num_leaves': 20}\n",
      "0.981 (+/-0.010) for {'lgbm__learning_rate': 0.07, 'lgbm__max_depth': 6, 'lgbm__min_data_in_leaf': 15, 'lgbm__n_estimators': 80, 'lgbm__num_leaves': 30}\n",
      "0.983 (+/-0.010) for {'lgbm__learning_rate': 0.07, 'lgbm__max_depth': 6, 'lgbm__min_data_in_leaf': 15, 'lgbm__n_estimators': 90, 'lgbm__num_leaves': 10}\n",
      "0.981 (+/-0.012) for {'lgbm__learning_rate': 0.07, 'lgbm__max_depth': 6, 'lgbm__min_data_in_leaf': 15, 'lgbm__n_estimators': 90, 'lgbm__num_leaves': 20}\n",
      "0.982 (+/-0.010) for {'lgbm__learning_rate': 0.07, 'lgbm__max_depth': 6, 'lgbm__min_data_in_leaf': 15, 'lgbm__n_estimators': 90, 'lgbm__num_leaves': 30}\n",
      "0.983 (+/-0.010) for {'lgbm__learning_rate': 0.07, 'lgbm__max_depth': 6, 'lgbm__min_data_in_leaf': 15, 'lgbm__n_estimators': 100, 'lgbm__num_leaves': 10}\n",
      "0.982 (+/-0.012) for {'lgbm__learning_rate': 0.07, 'lgbm__max_depth': 6, 'lgbm__min_data_in_leaf': 15, 'lgbm__n_estimators': 100, 'lgbm__num_leaves': 20}\n",
      "0.982 (+/-0.011) for {'lgbm__learning_rate': 0.07, 'lgbm__max_depth': 6, 'lgbm__min_data_in_leaf': 15, 'lgbm__n_estimators': 100, 'lgbm__num_leaves': 30}\n",
      "0.964 (+/-0.021) for {'lgbm__learning_rate': 0.07, 'lgbm__max_depth': 6, 'lgbm__min_data_in_leaf': 20, 'lgbm__n_estimators': 10, 'lgbm__num_leaves': 10}\n",
      "0.969 (+/-0.011) for {'lgbm__learning_rate': 0.07, 'lgbm__max_depth': 6, 'lgbm__min_data_in_leaf': 20, 'lgbm__n_estimators': 10, 'lgbm__num_leaves': 20}\n",
      "0.970 (+/-0.012) for {'lgbm__learning_rate': 0.07, 'lgbm__max_depth': 6, 'lgbm__min_data_in_leaf': 20, 'lgbm__n_estimators': 10, 'lgbm__num_leaves': 30}\n",
      "0.975 (+/-0.013) for {'lgbm__learning_rate': 0.07, 'lgbm__max_depth': 6, 'lgbm__min_data_in_leaf': 20, 'lgbm__n_estimators': 20, 'lgbm__num_leaves': 10}\n",
      "0.975 (+/-0.013) for {'lgbm__learning_rate': 0.07, 'lgbm__max_depth': 6, 'lgbm__min_data_in_leaf': 20, 'lgbm__n_estimators': 20, 'lgbm__num_leaves': 20}\n",
      "0.975 (+/-0.014) for {'lgbm__learning_rate': 0.07, 'lgbm__max_depth': 6, 'lgbm__min_data_in_leaf': 20, 'lgbm__n_estimators': 20, 'lgbm__num_leaves': 30}\n",
      "0.979 (+/-0.012) for {'lgbm__learning_rate': 0.07, 'lgbm__max_depth': 6, 'lgbm__min_data_in_leaf': 20, 'lgbm__n_estimators': 40, 'lgbm__num_leaves': 10}\n",
      "0.980 (+/-0.010) for {'lgbm__learning_rate': 0.07, 'lgbm__max_depth': 6, 'lgbm__min_data_in_leaf': 20, 'lgbm__n_estimators': 40, 'lgbm__num_leaves': 20}\n",
      "0.980 (+/-0.011) for {'lgbm__learning_rate': 0.07, 'lgbm__max_depth': 6, 'lgbm__min_data_in_leaf': 20, 'lgbm__n_estimators': 40, 'lgbm__num_leaves': 30}\n",
      "0.981 (+/-0.010) for {'lgbm__learning_rate': 0.07, 'lgbm__max_depth': 6, 'lgbm__min_data_in_leaf': 20, 'lgbm__n_estimators': 50, 'lgbm__num_leaves': 10}\n",
      "0.981 (+/-0.011) for {'lgbm__learning_rate': 0.07, 'lgbm__max_depth': 6, 'lgbm__min_data_in_leaf': 20, 'lgbm__n_estimators': 50, 'lgbm__num_leaves': 20}\n",
      "0.981 (+/-0.011) for {'lgbm__learning_rate': 0.07, 'lgbm__max_depth': 6, 'lgbm__min_data_in_leaf': 20, 'lgbm__n_estimators': 50, 'lgbm__num_leaves': 30}\n",
      "0.982 (+/-0.010) for {'lgbm__learning_rate': 0.07, 'lgbm__max_depth': 6, 'lgbm__min_data_in_leaf': 20, 'lgbm__n_estimators': 60, 'lgbm__num_leaves': 10}\n",
      "0.982 (+/-0.010) for {'lgbm__learning_rate': 0.07, 'lgbm__max_depth': 6, 'lgbm__min_data_in_leaf': 20, 'lgbm__n_estimators': 60, 'lgbm__num_leaves': 20}\n",
      "0.982 (+/-0.010) for {'lgbm__learning_rate': 0.07, 'lgbm__max_depth': 6, 'lgbm__min_data_in_leaf': 20, 'lgbm__n_estimators': 60, 'lgbm__num_leaves': 30}\n",
      "0.982 (+/-0.010) for {'lgbm__learning_rate': 0.07, 'lgbm__max_depth': 6, 'lgbm__min_data_in_leaf': 20, 'lgbm__n_estimators': 70, 'lgbm__num_leaves': 10}\n",
      "0.982 (+/-0.010) for {'lgbm__learning_rate': 0.07, 'lgbm__max_depth': 6, 'lgbm__min_data_in_leaf': 20, 'lgbm__n_estimators': 70, 'lgbm__num_leaves': 20}\n",
      "0.982 (+/-0.010) for {'lgbm__learning_rate': 0.07, 'lgbm__max_depth': 6, 'lgbm__min_data_in_leaf': 20, 'lgbm__n_estimators': 70, 'lgbm__num_leaves': 30}\n",
      "0.983 (+/-0.010) for {'lgbm__learning_rate': 0.07, 'lgbm__max_depth': 6, 'lgbm__min_data_in_leaf': 20, 'lgbm__n_estimators': 80, 'lgbm__num_leaves': 10}\n",
      "0.982 (+/-0.011) for {'lgbm__learning_rate': 0.07, 'lgbm__max_depth': 6, 'lgbm__min_data_in_leaf': 20, 'lgbm__n_estimators': 80, 'lgbm__num_leaves': 20}\n",
      "0.982 (+/-0.011) for {'lgbm__learning_rate': 0.07, 'lgbm__max_depth': 6, 'lgbm__min_data_in_leaf': 20, 'lgbm__n_estimators': 80, 'lgbm__num_leaves': 30}\n",
      "0.983 (+/-0.010) for {'lgbm__learning_rate': 0.07, 'lgbm__max_depth': 6, 'lgbm__min_data_in_leaf': 20, 'lgbm__n_estimators': 90, 'lgbm__num_leaves': 10}\n",
      "0.983 (+/-0.011) for {'lgbm__learning_rate': 0.07, 'lgbm__max_depth': 6, 'lgbm__min_data_in_leaf': 20, 'lgbm__n_estimators': 90, 'lgbm__num_leaves': 20}\n",
      "0.982 (+/-0.011) for {'lgbm__learning_rate': 0.07, 'lgbm__max_depth': 6, 'lgbm__min_data_in_leaf': 20, 'lgbm__n_estimators': 90, 'lgbm__num_leaves': 30}\n",
      "0.983 (+/-0.010) for {'lgbm__learning_rate': 0.07, 'lgbm__max_depth': 6, 'lgbm__min_data_in_leaf': 20, 'lgbm__n_estimators': 100, 'lgbm__num_leaves': 10}\n",
      "0.983 (+/-0.011) for {'lgbm__learning_rate': 0.07, 'lgbm__max_depth': 6, 'lgbm__min_data_in_leaf': 20, 'lgbm__n_estimators': 100, 'lgbm__num_leaves': 20}\n",
      "0.982 (+/-0.011) for {'lgbm__learning_rate': 0.07, 'lgbm__max_depth': 6, 'lgbm__min_data_in_leaf': 20, 'lgbm__n_estimators': 100, 'lgbm__num_leaves': 30}\n",
      "0.967 (+/-0.019) for {'lgbm__learning_rate': 0.07, 'lgbm__max_depth': 6, 'lgbm__min_data_in_leaf': 25, 'lgbm__n_estimators': 10, 'lgbm__num_leaves': 10}\n",
      "0.967 (+/-0.012) for {'lgbm__learning_rate': 0.07, 'lgbm__max_depth': 6, 'lgbm__min_data_in_leaf': 25, 'lgbm__n_estimators': 10, 'lgbm__num_leaves': 20}\n",
      "0.967 (+/-0.012) for {'lgbm__learning_rate': 0.07, 'lgbm__max_depth': 6, 'lgbm__min_data_in_leaf': 25, 'lgbm__n_estimators': 10, 'lgbm__num_leaves': 30}\n",
      "0.973 (+/-0.014) for {'lgbm__learning_rate': 0.07, 'lgbm__max_depth': 6, 'lgbm__min_data_in_leaf': 25, 'lgbm__n_estimators': 20, 'lgbm__num_leaves': 10}\n",
      "0.974 (+/-0.015) for {'lgbm__learning_rate': 0.07, 'lgbm__max_depth': 6, 'lgbm__min_data_in_leaf': 25, 'lgbm__n_estimators': 20, 'lgbm__num_leaves': 20}\n",
      "0.974 (+/-0.015) for {'lgbm__learning_rate': 0.07, 'lgbm__max_depth': 6, 'lgbm__min_data_in_leaf': 25, 'lgbm__n_estimators': 20, 'lgbm__num_leaves': 30}\n",
      "0.980 (+/-0.011) for {'lgbm__learning_rate': 0.07, 'lgbm__max_depth': 6, 'lgbm__min_data_in_leaf': 25, 'lgbm__n_estimators': 40, 'lgbm__num_leaves': 10}\n",
      "0.980 (+/-0.009) for {'lgbm__learning_rate': 0.07, 'lgbm__max_depth': 6, 'lgbm__min_data_in_leaf': 25, 'lgbm__n_estimators': 40, 'lgbm__num_leaves': 20}\n",
      "0.980 (+/-0.010) for {'lgbm__learning_rate': 0.07, 'lgbm__max_depth': 6, 'lgbm__min_data_in_leaf': 25, 'lgbm__n_estimators': 40, 'lgbm__num_leaves': 30}\n",
      "0.981 (+/-0.011) for {'lgbm__learning_rate': 0.07, 'lgbm__max_depth': 6, 'lgbm__min_data_in_leaf': 25, 'lgbm__n_estimators': 50, 'lgbm__num_leaves': 10}\n",
      "0.981 (+/-0.010) for {'lgbm__learning_rate': 0.07, 'lgbm__max_depth': 6, 'lgbm__min_data_in_leaf': 25, 'lgbm__n_estimators': 50, 'lgbm__num_leaves': 20}\n",
      "0.982 (+/-0.009) for {'lgbm__learning_rate': 0.07, 'lgbm__max_depth': 6, 'lgbm__min_data_in_leaf': 25, 'lgbm__n_estimators': 50, 'lgbm__num_leaves': 30}\n",
      "0.982 (+/-0.010) for {'lgbm__learning_rate': 0.07, 'lgbm__max_depth': 6, 'lgbm__min_data_in_leaf': 25, 'lgbm__n_estimators': 60, 'lgbm__num_leaves': 10}\n",
      "0.982 (+/-0.010) for {'lgbm__learning_rate': 0.07, 'lgbm__max_depth': 6, 'lgbm__min_data_in_leaf': 25, 'lgbm__n_estimators': 60, 'lgbm__num_leaves': 20}\n",
      "0.982 (+/-0.009) for {'lgbm__learning_rate': 0.07, 'lgbm__max_depth': 6, 'lgbm__min_data_in_leaf': 25, 'lgbm__n_estimators': 60, 'lgbm__num_leaves': 30}\n",
      "0.982 (+/-0.009) for {'lgbm__learning_rate': 0.07, 'lgbm__max_depth': 6, 'lgbm__min_data_in_leaf': 25, 'lgbm__n_estimators': 70, 'lgbm__num_leaves': 10}\n",
      "0.983 (+/-0.009) for {'lgbm__learning_rate': 0.07, 'lgbm__max_depth': 6, 'lgbm__min_data_in_leaf': 25, 'lgbm__n_estimators': 70, 'lgbm__num_leaves': 20}\n",
      "0.982 (+/-0.009) for {'lgbm__learning_rate': 0.07, 'lgbm__max_depth': 6, 'lgbm__min_data_in_leaf': 25, 'lgbm__n_estimators': 70, 'lgbm__num_leaves': 30}\n",
      "0.982 (+/-0.010) for {'lgbm__learning_rate': 0.07, 'lgbm__max_depth': 6, 'lgbm__min_data_in_leaf': 25, 'lgbm__n_estimators': 80, 'lgbm__num_leaves': 10}\n",
      "0.983 (+/-0.010) for {'lgbm__learning_rate': 0.07, 'lgbm__max_depth': 6, 'lgbm__min_data_in_leaf': 25, 'lgbm__n_estimators': 80, 'lgbm__num_leaves': 20}\n",
      "0.982 (+/-0.009) for {'lgbm__learning_rate': 0.07, 'lgbm__max_depth': 6, 'lgbm__min_data_in_leaf': 25, 'lgbm__n_estimators': 80, 'lgbm__num_leaves': 30}\n",
      "0.983 (+/-0.009) for {'lgbm__learning_rate': 0.07, 'lgbm__max_depth': 6, 'lgbm__min_data_in_leaf': 25, 'lgbm__n_estimators': 90, 'lgbm__num_leaves': 10}\n",
      "0.983 (+/-0.010) for {'lgbm__learning_rate': 0.07, 'lgbm__max_depth': 6, 'lgbm__min_data_in_leaf': 25, 'lgbm__n_estimators': 90, 'lgbm__num_leaves': 20}\n",
      "0.982 (+/-0.008) for {'lgbm__learning_rate': 0.07, 'lgbm__max_depth': 6, 'lgbm__min_data_in_leaf': 25, 'lgbm__n_estimators': 90, 'lgbm__num_leaves': 30}\n",
      "0.982 (+/-0.010) for {'lgbm__learning_rate': 0.07, 'lgbm__max_depth': 6, 'lgbm__min_data_in_leaf': 25, 'lgbm__n_estimators': 100, 'lgbm__num_leaves': 10}\n",
      "0.983 (+/-0.010) for {'lgbm__learning_rate': 0.07, 'lgbm__max_depth': 6, 'lgbm__min_data_in_leaf': 25, 'lgbm__n_estimators': 100, 'lgbm__num_leaves': 20}\n",
      "0.982 (+/-0.009) for {'lgbm__learning_rate': 0.07, 'lgbm__max_depth': 6, 'lgbm__min_data_in_leaf': 25, 'lgbm__n_estimators': 100, 'lgbm__num_leaves': 30}\n",
      "0.965 (+/-0.014) for {'lgbm__learning_rate': 0.07, 'lgbm__max_depth': 7, 'lgbm__min_data_in_leaf': 5, 'lgbm__n_estimators': 10, 'lgbm__num_leaves': 10}\n",
      "0.964 (+/-0.024) for {'lgbm__learning_rate': 0.07, 'lgbm__max_depth': 7, 'lgbm__min_data_in_leaf': 5, 'lgbm__n_estimators': 10, 'lgbm__num_leaves': 20}\n",
      "0.958 (+/-0.041) for {'lgbm__learning_rate': 0.07, 'lgbm__max_depth': 7, 'lgbm__min_data_in_leaf': 5, 'lgbm__n_estimators': 10, 'lgbm__num_leaves': 30}\n",
      "0.973 (+/-0.011) for {'lgbm__learning_rate': 0.07, 'lgbm__max_depth': 7, 'lgbm__min_data_in_leaf': 5, 'lgbm__n_estimators': 20, 'lgbm__num_leaves': 10}\n",
      "0.970 (+/-0.016) for {'lgbm__learning_rate': 0.07, 'lgbm__max_depth': 7, 'lgbm__min_data_in_leaf': 5, 'lgbm__n_estimators': 20, 'lgbm__num_leaves': 20}\n",
      "0.971 (+/-0.022) for {'lgbm__learning_rate': 0.07, 'lgbm__max_depth': 7, 'lgbm__min_data_in_leaf': 5, 'lgbm__n_estimators': 20, 'lgbm__num_leaves': 30}\n",
      "0.979 (+/-0.009) for {'lgbm__learning_rate': 0.07, 'lgbm__max_depth': 7, 'lgbm__min_data_in_leaf': 5, 'lgbm__n_estimators': 40, 'lgbm__num_leaves': 10}\n",
      "0.979 (+/-0.011) for {'lgbm__learning_rate': 0.07, 'lgbm__max_depth': 7, 'lgbm__min_data_in_leaf': 5, 'lgbm__n_estimators': 40, 'lgbm__num_leaves': 20}\n",
      "0.978 (+/-0.011) for {'lgbm__learning_rate': 0.07, 'lgbm__max_depth': 7, 'lgbm__min_data_in_leaf': 5, 'lgbm__n_estimators': 40, 'lgbm__num_leaves': 30}\n",
      "0.981 (+/-0.009) for {'lgbm__learning_rate': 0.07, 'lgbm__max_depth': 7, 'lgbm__min_data_in_leaf': 5, 'lgbm__n_estimators': 50, 'lgbm__num_leaves': 10}\n",
      "0.981 (+/-0.011) for {'lgbm__learning_rate': 0.07, 'lgbm__max_depth': 7, 'lgbm__min_data_in_leaf': 5, 'lgbm__n_estimators': 50, 'lgbm__num_leaves': 20}\n",
      "0.980 (+/-0.009) for {'lgbm__learning_rate': 0.07, 'lgbm__max_depth': 7, 'lgbm__min_data_in_leaf': 5, 'lgbm__n_estimators': 50, 'lgbm__num_leaves': 30}\n",
      "0.982 (+/-0.010) for {'lgbm__learning_rate': 0.07, 'lgbm__max_depth': 7, 'lgbm__min_data_in_leaf': 5, 'lgbm__n_estimators': 60, 'lgbm__num_leaves': 10}\n",
      "0.981 (+/-0.012) for {'lgbm__learning_rate': 0.07, 'lgbm__max_depth': 7, 'lgbm__min_data_in_leaf': 5, 'lgbm__n_estimators': 60, 'lgbm__num_leaves': 20}\n",
      "0.981 (+/-0.009) for {'lgbm__learning_rate': 0.07, 'lgbm__max_depth': 7, 'lgbm__min_data_in_leaf': 5, 'lgbm__n_estimators': 60, 'lgbm__num_leaves': 30}\n",
      "0.982 (+/-0.009) for {'lgbm__learning_rate': 0.07, 'lgbm__max_depth': 7, 'lgbm__min_data_in_leaf': 5, 'lgbm__n_estimators': 70, 'lgbm__num_leaves': 10}\n",
      "0.981 (+/-0.011) for {'lgbm__learning_rate': 0.07, 'lgbm__max_depth': 7, 'lgbm__min_data_in_leaf': 5, 'lgbm__n_estimators': 70, 'lgbm__num_leaves': 20}\n",
      "0.981 (+/-0.010) for {'lgbm__learning_rate': 0.07, 'lgbm__max_depth': 7, 'lgbm__min_data_in_leaf': 5, 'lgbm__n_estimators': 70, 'lgbm__num_leaves': 30}\n",
      "0.982 (+/-0.009) for {'lgbm__learning_rate': 0.07, 'lgbm__max_depth': 7, 'lgbm__min_data_in_leaf': 5, 'lgbm__n_estimators': 80, 'lgbm__num_leaves': 10}\n",
      "0.981 (+/-0.011) for {'lgbm__learning_rate': 0.07, 'lgbm__max_depth': 7, 'lgbm__min_data_in_leaf': 5, 'lgbm__n_estimators': 80, 'lgbm__num_leaves': 20}\n",
      "0.981 (+/-0.010) for {'lgbm__learning_rate': 0.07, 'lgbm__max_depth': 7, 'lgbm__min_data_in_leaf': 5, 'lgbm__n_estimators': 80, 'lgbm__num_leaves': 30}\n",
      "0.982 (+/-0.010) for {'lgbm__learning_rate': 0.07, 'lgbm__max_depth': 7, 'lgbm__min_data_in_leaf': 5, 'lgbm__n_estimators': 90, 'lgbm__num_leaves': 10}\n",
      "0.981 (+/-0.011) for {'lgbm__learning_rate': 0.07, 'lgbm__max_depth': 7, 'lgbm__min_data_in_leaf': 5, 'lgbm__n_estimators': 90, 'lgbm__num_leaves': 20}\n",
      "0.981 (+/-0.011) for {'lgbm__learning_rate': 0.07, 'lgbm__max_depth': 7, 'lgbm__min_data_in_leaf': 5, 'lgbm__n_estimators': 90, 'lgbm__num_leaves': 30}\n",
      "0.983 (+/-0.010) for {'lgbm__learning_rate': 0.07, 'lgbm__max_depth': 7, 'lgbm__min_data_in_leaf': 5, 'lgbm__n_estimators': 100, 'lgbm__num_leaves': 10}\n",
      "0.981 (+/-0.011) for {'lgbm__learning_rate': 0.07, 'lgbm__max_depth': 7, 'lgbm__min_data_in_leaf': 5, 'lgbm__n_estimators': 100, 'lgbm__num_leaves': 20}\n",
      "0.982 (+/-0.011) for {'lgbm__learning_rate': 0.07, 'lgbm__max_depth': 7, 'lgbm__min_data_in_leaf': 5, 'lgbm__n_estimators': 100, 'lgbm__num_leaves': 30}\n",
      "0.965 (+/-0.018) for {'lgbm__learning_rate': 0.07, 'lgbm__max_depth': 7, 'lgbm__min_data_in_leaf': 10, 'lgbm__n_estimators': 10, 'lgbm__num_leaves': 10}\n",
      "0.967 (+/-0.018) for {'lgbm__learning_rate': 0.07, 'lgbm__max_depth': 7, 'lgbm__min_data_in_leaf': 10, 'lgbm__n_estimators': 10, 'lgbm__num_leaves': 20}\n",
      "0.969 (+/-0.017) for {'lgbm__learning_rate': 0.07, 'lgbm__max_depth': 7, 'lgbm__min_data_in_leaf': 10, 'lgbm__n_estimators': 10, 'lgbm__num_leaves': 30}\n",
      "0.974 (+/-0.010) for {'lgbm__learning_rate': 0.07, 'lgbm__max_depth': 7, 'lgbm__min_data_in_leaf': 10, 'lgbm__n_estimators': 20, 'lgbm__num_leaves': 10}\n",
      "0.974 (+/-0.014) for {'lgbm__learning_rate': 0.07, 'lgbm__max_depth': 7, 'lgbm__min_data_in_leaf': 10, 'lgbm__n_estimators': 20, 'lgbm__num_leaves': 20}\n",
      "0.974 (+/-0.014) for {'lgbm__learning_rate': 0.07, 'lgbm__max_depth': 7, 'lgbm__min_data_in_leaf': 10, 'lgbm__n_estimators': 20, 'lgbm__num_leaves': 30}\n",
      "0.979 (+/-0.011) for {'lgbm__learning_rate': 0.07, 'lgbm__max_depth': 7, 'lgbm__min_data_in_leaf': 10, 'lgbm__n_estimators': 40, 'lgbm__num_leaves': 10}\n",
      "0.979 (+/-0.013) for {'lgbm__learning_rate': 0.07, 'lgbm__max_depth': 7, 'lgbm__min_data_in_leaf': 10, 'lgbm__n_estimators': 40, 'lgbm__num_leaves': 20}\n",
      "0.979 (+/-0.011) for {'lgbm__learning_rate': 0.07, 'lgbm__max_depth': 7, 'lgbm__min_data_in_leaf': 10, 'lgbm__n_estimators': 40, 'lgbm__num_leaves': 30}\n",
      "0.981 (+/-0.011) for {'lgbm__learning_rate': 0.07, 'lgbm__max_depth': 7, 'lgbm__min_data_in_leaf': 10, 'lgbm__n_estimators': 50, 'lgbm__num_leaves': 10}\n",
      "0.980 (+/-0.013) for {'lgbm__learning_rate': 0.07, 'lgbm__max_depth': 7, 'lgbm__min_data_in_leaf': 10, 'lgbm__n_estimators': 50, 'lgbm__num_leaves': 20}\n",
      "0.979 (+/-0.010) for {'lgbm__learning_rate': 0.07, 'lgbm__max_depth': 7, 'lgbm__min_data_in_leaf': 10, 'lgbm__n_estimators': 50, 'lgbm__num_leaves': 30}\n",
      "0.982 (+/-0.011) for {'lgbm__learning_rate': 0.07, 'lgbm__max_depth': 7, 'lgbm__min_data_in_leaf': 10, 'lgbm__n_estimators': 60, 'lgbm__num_leaves': 10}\n",
      "0.981 (+/-0.012) for {'lgbm__learning_rate': 0.07, 'lgbm__max_depth': 7, 'lgbm__min_data_in_leaf': 10, 'lgbm__n_estimators': 60, 'lgbm__num_leaves': 20}\n",
      "0.981 (+/-0.010) for {'lgbm__learning_rate': 0.07, 'lgbm__max_depth': 7, 'lgbm__min_data_in_leaf': 10, 'lgbm__n_estimators': 60, 'lgbm__num_leaves': 30}\n",
      "0.982 (+/-0.010) for {'lgbm__learning_rate': 0.07, 'lgbm__max_depth': 7, 'lgbm__min_data_in_leaf': 10, 'lgbm__n_estimators': 70, 'lgbm__num_leaves': 10}\n",
      "0.982 (+/-0.013) for {'lgbm__learning_rate': 0.07, 'lgbm__max_depth': 7, 'lgbm__min_data_in_leaf': 10, 'lgbm__n_estimators': 70, 'lgbm__num_leaves': 20}\n",
      "0.981 (+/-0.010) for {'lgbm__learning_rate': 0.07, 'lgbm__max_depth': 7, 'lgbm__min_data_in_leaf': 10, 'lgbm__n_estimators': 70, 'lgbm__num_leaves': 30}\n",
      "0.983 (+/-0.010) for {'lgbm__learning_rate': 0.07, 'lgbm__max_depth': 7, 'lgbm__min_data_in_leaf': 10, 'lgbm__n_estimators': 80, 'lgbm__num_leaves': 10}\n",
      "0.982 (+/-0.012) for {'lgbm__learning_rate': 0.07, 'lgbm__max_depth': 7, 'lgbm__min_data_in_leaf': 10, 'lgbm__n_estimators': 80, 'lgbm__num_leaves': 20}\n",
      "0.981 (+/-0.011) for {'lgbm__learning_rate': 0.07, 'lgbm__max_depth': 7, 'lgbm__min_data_in_leaf': 10, 'lgbm__n_estimators': 80, 'lgbm__num_leaves': 30}\n",
      "0.983 (+/-0.010) for {'lgbm__learning_rate': 0.07, 'lgbm__max_depth': 7, 'lgbm__min_data_in_leaf': 10, 'lgbm__n_estimators': 90, 'lgbm__num_leaves': 10}\n",
      "0.983 (+/-0.012) for {'lgbm__learning_rate': 0.07, 'lgbm__max_depth': 7, 'lgbm__min_data_in_leaf': 10, 'lgbm__n_estimators': 90, 'lgbm__num_leaves': 20}\n",
      "0.982 (+/-0.010) for {'lgbm__learning_rate': 0.07, 'lgbm__max_depth': 7, 'lgbm__min_data_in_leaf': 10, 'lgbm__n_estimators': 90, 'lgbm__num_leaves': 30}\n",
      "0.983 (+/-0.011) for {'lgbm__learning_rate': 0.07, 'lgbm__max_depth': 7, 'lgbm__min_data_in_leaf': 10, 'lgbm__n_estimators': 100, 'lgbm__num_leaves': 10}\n",
      "0.982 (+/-0.011) for {'lgbm__learning_rate': 0.07, 'lgbm__max_depth': 7, 'lgbm__min_data_in_leaf': 10, 'lgbm__n_estimators': 100, 'lgbm__num_leaves': 20}\n",
      "0.981 (+/-0.010) for {'lgbm__learning_rate': 0.07, 'lgbm__max_depth': 7, 'lgbm__min_data_in_leaf': 10, 'lgbm__n_estimators': 100, 'lgbm__num_leaves': 30}\n",
      "0.966 (+/-0.017) for {'lgbm__learning_rate': 0.07, 'lgbm__max_depth': 7, 'lgbm__min_data_in_leaf': 15, 'lgbm__n_estimators': 10, 'lgbm__num_leaves': 10}\n",
      "0.966 (+/-0.015) for {'lgbm__learning_rate': 0.07, 'lgbm__max_depth': 7, 'lgbm__min_data_in_leaf': 15, 'lgbm__n_estimators': 10, 'lgbm__num_leaves': 20}\n",
      "0.966 (+/-0.014) for {'lgbm__learning_rate': 0.07, 'lgbm__max_depth': 7, 'lgbm__min_data_in_leaf': 15, 'lgbm__n_estimators': 10, 'lgbm__num_leaves': 30}\n",
      "0.973 (+/-0.012) for {'lgbm__learning_rate': 0.07, 'lgbm__max_depth': 7, 'lgbm__min_data_in_leaf': 15, 'lgbm__n_estimators': 20, 'lgbm__num_leaves': 10}\n",
      "0.975 (+/-0.013) for {'lgbm__learning_rate': 0.07, 'lgbm__max_depth': 7, 'lgbm__min_data_in_leaf': 15, 'lgbm__n_estimators': 20, 'lgbm__num_leaves': 20}\n",
      "0.975 (+/-0.013) for {'lgbm__learning_rate': 0.07, 'lgbm__max_depth': 7, 'lgbm__min_data_in_leaf': 15, 'lgbm__n_estimators': 20, 'lgbm__num_leaves': 30}\n",
      "0.979 (+/-0.011) for {'lgbm__learning_rate': 0.07, 'lgbm__max_depth': 7, 'lgbm__min_data_in_leaf': 15, 'lgbm__n_estimators': 40, 'lgbm__num_leaves': 10}\n",
      "0.979 (+/-0.010) for {'lgbm__learning_rate': 0.07, 'lgbm__max_depth': 7, 'lgbm__min_data_in_leaf': 15, 'lgbm__n_estimators': 40, 'lgbm__num_leaves': 20}\n",
      "0.980 (+/-0.009) for {'lgbm__learning_rate': 0.07, 'lgbm__max_depth': 7, 'lgbm__min_data_in_leaf': 15, 'lgbm__n_estimators': 40, 'lgbm__num_leaves': 30}\n",
      "0.981 (+/-0.011) for {'lgbm__learning_rate': 0.07, 'lgbm__max_depth': 7, 'lgbm__min_data_in_leaf': 15, 'lgbm__n_estimators': 50, 'lgbm__num_leaves': 10}\n",
      "0.980 (+/-0.010) for {'lgbm__learning_rate': 0.07, 'lgbm__max_depth': 7, 'lgbm__min_data_in_leaf': 15, 'lgbm__n_estimators': 50, 'lgbm__num_leaves': 20}\n",
      "0.980 (+/-0.009) for {'lgbm__learning_rate': 0.07, 'lgbm__max_depth': 7, 'lgbm__min_data_in_leaf': 15, 'lgbm__n_estimators': 50, 'lgbm__num_leaves': 30}\n",
      "0.982 (+/-0.010) for {'lgbm__learning_rate': 0.07, 'lgbm__max_depth': 7, 'lgbm__min_data_in_leaf': 15, 'lgbm__n_estimators': 60, 'lgbm__num_leaves': 10}\n",
      "0.981 (+/-0.011) for {'lgbm__learning_rate': 0.07, 'lgbm__max_depth': 7, 'lgbm__min_data_in_leaf': 15, 'lgbm__n_estimators': 60, 'lgbm__num_leaves': 20}\n",
      "0.981 (+/-0.010) for {'lgbm__learning_rate': 0.07, 'lgbm__max_depth': 7, 'lgbm__min_data_in_leaf': 15, 'lgbm__n_estimators': 60, 'lgbm__num_leaves': 30}\n",
      "0.983 (+/-0.009) for {'lgbm__learning_rate': 0.07, 'lgbm__max_depth': 7, 'lgbm__min_data_in_leaf': 15, 'lgbm__n_estimators': 70, 'lgbm__num_leaves': 10}\n",
      "0.981 (+/-0.012) for {'lgbm__learning_rate': 0.07, 'lgbm__max_depth': 7, 'lgbm__min_data_in_leaf': 15, 'lgbm__n_estimators': 70, 'lgbm__num_leaves': 20}\n",
      "0.981 (+/-0.010) for {'lgbm__learning_rate': 0.07, 'lgbm__max_depth': 7, 'lgbm__min_data_in_leaf': 15, 'lgbm__n_estimators': 70, 'lgbm__num_leaves': 30}\n",
      "0.983 (+/-0.010) for {'lgbm__learning_rate': 0.07, 'lgbm__max_depth': 7, 'lgbm__min_data_in_leaf': 15, 'lgbm__n_estimators': 80, 'lgbm__num_leaves': 10}\n",
      "0.981 (+/-0.012) for {'lgbm__learning_rate': 0.07, 'lgbm__max_depth': 7, 'lgbm__min_data_in_leaf': 15, 'lgbm__n_estimators': 80, 'lgbm__num_leaves': 20}\n",
      "0.982 (+/-0.011) for {'lgbm__learning_rate': 0.07, 'lgbm__max_depth': 7, 'lgbm__min_data_in_leaf': 15, 'lgbm__n_estimators': 80, 'lgbm__num_leaves': 30}\n",
      "0.983 (+/-0.009) for {'lgbm__learning_rate': 0.07, 'lgbm__max_depth': 7, 'lgbm__min_data_in_leaf': 15, 'lgbm__n_estimators': 90, 'lgbm__num_leaves': 10}\n",
      "0.981 (+/-0.012) for {'lgbm__learning_rate': 0.07, 'lgbm__max_depth': 7, 'lgbm__min_data_in_leaf': 15, 'lgbm__n_estimators': 90, 'lgbm__num_leaves': 20}\n",
      "0.982 (+/-0.011) for {'lgbm__learning_rate': 0.07, 'lgbm__max_depth': 7, 'lgbm__min_data_in_leaf': 15, 'lgbm__n_estimators': 90, 'lgbm__num_leaves': 30}\n",
      "0.983 (+/-0.009) for {'lgbm__learning_rate': 0.07, 'lgbm__max_depth': 7, 'lgbm__min_data_in_leaf': 15, 'lgbm__n_estimators': 100, 'lgbm__num_leaves': 10}\n",
      "0.981 (+/-0.013) for {'lgbm__learning_rate': 0.07, 'lgbm__max_depth': 7, 'lgbm__min_data_in_leaf': 15, 'lgbm__n_estimators': 100, 'lgbm__num_leaves': 20}\n",
      "0.982 (+/-0.010) for {'lgbm__learning_rate': 0.07, 'lgbm__max_depth': 7, 'lgbm__min_data_in_leaf': 15, 'lgbm__n_estimators': 100, 'lgbm__num_leaves': 30}\n",
      "0.964 (+/-0.021) for {'lgbm__learning_rate': 0.07, 'lgbm__max_depth': 7, 'lgbm__min_data_in_leaf': 20, 'lgbm__n_estimators': 10, 'lgbm__num_leaves': 10}\n",
      "0.969 (+/-0.012) for {'lgbm__learning_rate': 0.07, 'lgbm__max_depth': 7, 'lgbm__min_data_in_leaf': 20, 'lgbm__n_estimators': 10, 'lgbm__num_leaves': 20}\n",
      "0.969 (+/-0.012) for {'lgbm__learning_rate': 0.07, 'lgbm__max_depth': 7, 'lgbm__min_data_in_leaf': 20, 'lgbm__n_estimators': 10, 'lgbm__num_leaves': 30}\n",
      "0.975 (+/-0.013) for {'lgbm__learning_rate': 0.07, 'lgbm__max_depth': 7, 'lgbm__min_data_in_leaf': 20, 'lgbm__n_estimators': 20, 'lgbm__num_leaves': 10}\n",
      "0.975 (+/-0.013) for {'lgbm__learning_rate': 0.07, 'lgbm__max_depth': 7, 'lgbm__min_data_in_leaf': 20, 'lgbm__n_estimators': 20, 'lgbm__num_leaves': 20}\n",
      "0.975 (+/-0.012) for {'lgbm__learning_rate': 0.07, 'lgbm__max_depth': 7, 'lgbm__min_data_in_leaf': 20, 'lgbm__n_estimators': 20, 'lgbm__num_leaves': 30}\n",
      "0.980 (+/-0.012) for {'lgbm__learning_rate': 0.07, 'lgbm__max_depth': 7, 'lgbm__min_data_in_leaf': 20, 'lgbm__n_estimators': 40, 'lgbm__num_leaves': 10}\n",
      "0.980 (+/-0.010) for {'lgbm__learning_rate': 0.07, 'lgbm__max_depth': 7, 'lgbm__min_data_in_leaf': 20, 'lgbm__n_estimators': 40, 'lgbm__num_leaves': 20}\n",
      "0.979 (+/-0.011) for {'lgbm__learning_rate': 0.07, 'lgbm__max_depth': 7, 'lgbm__min_data_in_leaf': 20, 'lgbm__n_estimators': 40, 'lgbm__num_leaves': 30}\n",
      "0.981 (+/-0.010) for {'lgbm__learning_rate': 0.07, 'lgbm__max_depth': 7, 'lgbm__min_data_in_leaf': 20, 'lgbm__n_estimators': 50, 'lgbm__num_leaves': 10}\n",
      "0.981 (+/-0.010) for {'lgbm__learning_rate': 0.07, 'lgbm__max_depth': 7, 'lgbm__min_data_in_leaf': 20, 'lgbm__n_estimators': 50, 'lgbm__num_leaves': 20}\n",
      "0.980 (+/-0.011) for {'lgbm__learning_rate': 0.07, 'lgbm__max_depth': 7, 'lgbm__min_data_in_leaf': 20, 'lgbm__n_estimators': 50, 'lgbm__num_leaves': 30}\n",
      "0.982 (+/-0.010) for {'lgbm__learning_rate': 0.07, 'lgbm__max_depth': 7, 'lgbm__min_data_in_leaf': 20, 'lgbm__n_estimators': 60, 'lgbm__num_leaves': 10}\n",
      "0.981 (+/-0.011) for {'lgbm__learning_rate': 0.07, 'lgbm__max_depth': 7, 'lgbm__min_data_in_leaf': 20, 'lgbm__n_estimators': 60, 'lgbm__num_leaves': 20}\n",
      "0.981 (+/-0.011) for {'lgbm__learning_rate': 0.07, 'lgbm__max_depth': 7, 'lgbm__min_data_in_leaf': 20, 'lgbm__n_estimators': 60, 'lgbm__num_leaves': 30}\n",
      "0.983 (+/-0.010) for {'lgbm__learning_rate': 0.07, 'lgbm__max_depth': 7, 'lgbm__min_data_in_leaf': 20, 'lgbm__n_estimators': 70, 'lgbm__num_leaves': 10}\n",
      "0.982 (+/-0.011) for {'lgbm__learning_rate': 0.07, 'lgbm__max_depth': 7, 'lgbm__min_data_in_leaf': 20, 'lgbm__n_estimators': 70, 'lgbm__num_leaves': 20}\n",
      "0.981 (+/-0.011) for {'lgbm__learning_rate': 0.07, 'lgbm__max_depth': 7, 'lgbm__min_data_in_leaf': 20, 'lgbm__n_estimators': 70, 'lgbm__num_leaves': 30}\n",
      "0.983 (+/-0.011) for {'lgbm__learning_rate': 0.07, 'lgbm__max_depth': 7, 'lgbm__min_data_in_leaf': 20, 'lgbm__n_estimators': 80, 'lgbm__num_leaves': 10}\n",
      "0.982 (+/-0.011) for {'lgbm__learning_rate': 0.07, 'lgbm__max_depth': 7, 'lgbm__min_data_in_leaf': 20, 'lgbm__n_estimators': 80, 'lgbm__num_leaves': 20}\n",
      "0.982 (+/-0.011) for {'lgbm__learning_rate': 0.07, 'lgbm__max_depth': 7, 'lgbm__min_data_in_leaf': 20, 'lgbm__n_estimators': 80, 'lgbm__num_leaves': 30}\n",
      "0.983 (+/-0.010) for {'lgbm__learning_rate': 0.07, 'lgbm__max_depth': 7, 'lgbm__min_data_in_leaf': 20, 'lgbm__n_estimators': 90, 'lgbm__num_leaves': 10}\n",
      "0.982 (+/-0.012) for {'lgbm__learning_rate': 0.07, 'lgbm__max_depth': 7, 'lgbm__min_data_in_leaf': 20, 'lgbm__n_estimators': 90, 'lgbm__num_leaves': 20}\n",
      "0.982 (+/-0.011) for {'lgbm__learning_rate': 0.07, 'lgbm__max_depth': 7, 'lgbm__min_data_in_leaf': 20, 'lgbm__n_estimators': 90, 'lgbm__num_leaves': 30}\n",
      "0.983 (+/-0.010) for {'lgbm__learning_rate': 0.07, 'lgbm__max_depth': 7, 'lgbm__min_data_in_leaf': 20, 'lgbm__n_estimators': 100, 'lgbm__num_leaves': 10}\n",
      "0.982 (+/-0.012) for {'lgbm__learning_rate': 0.07, 'lgbm__max_depth': 7, 'lgbm__min_data_in_leaf': 20, 'lgbm__n_estimators': 100, 'lgbm__num_leaves': 20}\n",
      "0.982 (+/-0.011) for {'lgbm__learning_rate': 0.07, 'lgbm__max_depth': 7, 'lgbm__min_data_in_leaf': 20, 'lgbm__n_estimators': 100, 'lgbm__num_leaves': 30}\n",
      "0.967 (+/-0.019) for {'lgbm__learning_rate': 0.07, 'lgbm__max_depth': 7, 'lgbm__min_data_in_leaf': 25, 'lgbm__n_estimators': 10, 'lgbm__num_leaves': 10}\n",
      "0.968 (+/-0.013) for {'lgbm__learning_rate': 0.07, 'lgbm__max_depth': 7, 'lgbm__min_data_in_leaf': 25, 'lgbm__n_estimators': 10, 'lgbm__num_leaves': 20}\n",
      "0.968 (+/-0.012) for {'lgbm__learning_rate': 0.07, 'lgbm__max_depth': 7, 'lgbm__min_data_in_leaf': 25, 'lgbm__n_estimators': 10, 'lgbm__num_leaves': 30}\n",
      "0.973 (+/-0.014) for {'lgbm__learning_rate': 0.07, 'lgbm__max_depth': 7, 'lgbm__min_data_in_leaf': 25, 'lgbm__n_estimators': 20, 'lgbm__num_leaves': 10}\n",
      "0.975 (+/-0.015) for {'lgbm__learning_rate': 0.07, 'lgbm__max_depth': 7, 'lgbm__min_data_in_leaf': 25, 'lgbm__n_estimators': 20, 'lgbm__num_leaves': 20}\n",
      "0.975 (+/-0.015) for {'lgbm__learning_rate': 0.07, 'lgbm__max_depth': 7, 'lgbm__min_data_in_leaf': 25, 'lgbm__n_estimators': 20, 'lgbm__num_leaves': 30}\n",
      "0.979 (+/-0.012) for {'lgbm__learning_rate': 0.07, 'lgbm__max_depth': 7, 'lgbm__min_data_in_leaf': 25, 'lgbm__n_estimators': 40, 'lgbm__num_leaves': 10}\n",
      "0.980 (+/-0.010) for {'lgbm__learning_rate': 0.07, 'lgbm__max_depth': 7, 'lgbm__min_data_in_leaf': 25, 'lgbm__n_estimators': 40, 'lgbm__num_leaves': 20}\n",
      "0.981 (+/-0.009) for {'lgbm__learning_rate': 0.07, 'lgbm__max_depth': 7, 'lgbm__min_data_in_leaf': 25, 'lgbm__n_estimators': 40, 'lgbm__num_leaves': 30}\n",
      "0.981 (+/-0.010) for {'lgbm__learning_rate': 0.07, 'lgbm__max_depth': 7, 'lgbm__min_data_in_leaf': 25, 'lgbm__n_estimators': 50, 'lgbm__num_leaves': 10}\n",
      "0.981 (+/-0.009) for {'lgbm__learning_rate': 0.07, 'lgbm__max_depth': 7, 'lgbm__min_data_in_leaf': 25, 'lgbm__n_estimators': 50, 'lgbm__num_leaves': 20}\n",
      "0.982 (+/-0.009) for {'lgbm__learning_rate': 0.07, 'lgbm__max_depth': 7, 'lgbm__min_data_in_leaf': 25, 'lgbm__n_estimators': 50, 'lgbm__num_leaves': 30}\n",
      "0.982 (+/-0.009) for {'lgbm__learning_rate': 0.07, 'lgbm__max_depth': 7, 'lgbm__min_data_in_leaf': 25, 'lgbm__n_estimators': 60, 'lgbm__num_leaves': 10}\n",
      "0.982 (+/-0.009) for {'lgbm__learning_rate': 0.07, 'lgbm__max_depth': 7, 'lgbm__min_data_in_leaf': 25, 'lgbm__n_estimators': 60, 'lgbm__num_leaves': 20}\n",
      "0.982 (+/-0.009) for {'lgbm__learning_rate': 0.07, 'lgbm__max_depth': 7, 'lgbm__min_data_in_leaf': 25, 'lgbm__n_estimators': 60, 'lgbm__num_leaves': 30}\n",
      "0.982 (+/-0.009) for {'lgbm__learning_rate': 0.07, 'lgbm__max_depth': 7, 'lgbm__min_data_in_leaf': 25, 'lgbm__n_estimators': 70, 'lgbm__num_leaves': 10}\n",
      "0.982 (+/-0.009) for {'lgbm__learning_rate': 0.07, 'lgbm__max_depth': 7, 'lgbm__min_data_in_leaf': 25, 'lgbm__n_estimators': 70, 'lgbm__num_leaves': 20}\n",
      "0.983 (+/-0.010) for {'lgbm__learning_rate': 0.07, 'lgbm__max_depth': 7, 'lgbm__min_data_in_leaf': 25, 'lgbm__n_estimators': 70, 'lgbm__num_leaves': 30}\n",
      "0.983 (+/-0.009) for {'lgbm__learning_rate': 0.07, 'lgbm__max_depth': 7, 'lgbm__min_data_in_leaf': 25, 'lgbm__n_estimators': 80, 'lgbm__num_leaves': 10}\n",
      "0.983 (+/-0.010) for {'lgbm__learning_rate': 0.07, 'lgbm__max_depth': 7, 'lgbm__min_data_in_leaf': 25, 'lgbm__n_estimators': 80, 'lgbm__num_leaves': 20}\n",
      "0.983 (+/-0.010) for {'lgbm__learning_rate': 0.07, 'lgbm__max_depth': 7, 'lgbm__min_data_in_leaf': 25, 'lgbm__n_estimators': 80, 'lgbm__num_leaves': 30}\n",
      "0.983 (+/-0.009) for {'lgbm__learning_rate': 0.07, 'lgbm__max_depth': 7, 'lgbm__min_data_in_leaf': 25, 'lgbm__n_estimators': 90, 'lgbm__num_leaves': 10}\n",
      "0.982 (+/-0.010) for {'lgbm__learning_rate': 0.07, 'lgbm__max_depth': 7, 'lgbm__min_data_in_leaf': 25, 'lgbm__n_estimators': 90, 'lgbm__num_leaves': 20}\n",
      "0.983 (+/-0.010) for {'lgbm__learning_rate': 0.07, 'lgbm__max_depth': 7, 'lgbm__min_data_in_leaf': 25, 'lgbm__n_estimators': 90, 'lgbm__num_leaves': 30}\n",
      "0.983 (+/-0.009) for {'lgbm__learning_rate': 0.07, 'lgbm__max_depth': 7, 'lgbm__min_data_in_leaf': 25, 'lgbm__n_estimators': 100, 'lgbm__num_leaves': 10}\n",
      "0.982 (+/-0.009) for {'lgbm__learning_rate': 0.07, 'lgbm__max_depth': 7, 'lgbm__min_data_in_leaf': 25, 'lgbm__n_estimators': 100, 'lgbm__num_leaves': 20}\n",
      "0.983 (+/-0.010) for {'lgbm__learning_rate': 0.07, 'lgbm__max_depth': 7, 'lgbm__min_data_in_leaf': 25, 'lgbm__n_estimators': 100, 'lgbm__num_leaves': 30}\n",
      "0.965 (+/-0.014) for {'lgbm__learning_rate': 0.07, 'lgbm__max_depth': 8, 'lgbm__min_data_in_leaf': 5, 'lgbm__n_estimators': 10, 'lgbm__num_leaves': 10}\n",
      "0.964 (+/-0.024) for {'lgbm__learning_rate': 0.07, 'lgbm__max_depth': 8, 'lgbm__min_data_in_leaf': 5, 'lgbm__n_estimators': 10, 'lgbm__num_leaves': 20}\n",
      "0.958 (+/-0.038) for {'lgbm__learning_rate': 0.07, 'lgbm__max_depth': 8, 'lgbm__min_data_in_leaf': 5, 'lgbm__n_estimators': 10, 'lgbm__num_leaves': 30}\n",
      "0.973 (+/-0.011) for {'lgbm__learning_rate': 0.07, 'lgbm__max_depth': 8, 'lgbm__min_data_in_leaf': 5, 'lgbm__n_estimators': 20, 'lgbm__num_leaves': 10}\n",
      "0.970 (+/-0.022) for {'lgbm__learning_rate': 0.07, 'lgbm__max_depth': 8, 'lgbm__min_data_in_leaf': 5, 'lgbm__n_estimators': 20, 'lgbm__num_leaves': 20}\n",
      "0.969 (+/-0.024) for {'lgbm__learning_rate': 0.07, 'lgbm__max_depth': 8, 'lgbm__min_data_in_leaf': 5, 'lgbm__n_estimators': 20, 'lgbm__num_leaves': 30}\n",
      "0.979 (+/-0.009) for {'lgbm__learning_rate': 0.07, 'lgbm__max_depth': 8, 'lgbm__min_data_in_leaf': 5, 'lgbm__n_estimators': 40, 'lgbm__num_leaves': 10}\n",
      "0.980 (+/-0.011) for {'lgbm__learning_rate': 0.07, 'lgbm__max_depth': 8, 'lgbm__min_data_in_leaf': 5, 'lgbm__n_estimators': 40, 'lgbm__num_leaves': 20}\n",
      "0.977 (+/-0.011) for {'lgbm__learning_rate': 0.07, 'lgbm__max_depth': 8, 'lgbm__min_data_in_leaf': 5, 'lgbm__n_estimators': 40, 'lgbm__num_leaves': 30}\n",
      "0.980 (+/-0.009) for {'lgbm__learning_rate': 0.07, 'lgbm__max_depth': 8, 'lgbm__min_data_in_leaf': 5, 'lgbm__n_estimators': 50, 'lgbm__num_leaves': 10}\n",
      "0.981 (+/-0.010) for {'lgbm__learning_rate': 0.07, 'lgbm__max_depth': 8, 'lgbm__min_data_in_leaf': 5, 'lgbm__n_estimators': 50, 'lgbm__num_leaves': 20}\n",
      "0.978 (+/-0.011) for {'lgbm__learning_rate': 0.07, 'lgbm__max_depth': 8, 'lgbm__min_data_in_leaf': 5, 'lgbm__n_estimators': 50, 'lgbm__num_leaves': 30}\n",
      "0.981 (+/-0.009) for {'lgbm__learning_rate': 0.07, 'lgbm__max_depth': 8, 'lgbm__min_data_in_leaf': 5, 'lgbm__n_estimators': 60, 'lgbm__num_leaves': 10}\n",
      "0.981 (+/-0.010) for {'lgbm__learning_rate': 0.07, 'lgbm__max_depth': 8, 'lgbm__min_data_in_leaf': 5, 'lgbm__n_estimators': 60, 'lgbm__num_leaves': 20}\n",
      "0.980 (+/-0.011) for {'lgbm__learning_rate': 0.07, 'lgbm__max_depth': 8, 'lgbm__min_data_in_leaf': 5, 'lgbm__n_estimators': 60, 'lgbm__num_leaves': 30}\n",
      "0.982 (+/-0.009) for {'lgbm__learning_rate': 0.07, 'lgbm__max_depth': 8, 'lgbm__min_data_in_leaf': 5, 'lgbm__n_estimators': 70, 'lgbm__num_leaves': 10}\n",
      "0.982 (+/-0.011) for {'lgbm__learning_rate': 0.07, 'lgbm__max_depth': 8, 'lgbm__min_data_in_leaf': 5, 'lgbm__n_estimators': 70, 'lgbm__num_leaves': 20}\n",
      "0.980 (+/-0.010) for {'lgbm__learning_rate': 0.07, 'lgbm__max_depth': 8, 'lgbm__min_data_in_leaf': 5, 'lgbm__n_estimators': 70, 'lgbm__num_leaves': 30}\n",
      "0.982 (+/-0.009) for {'lgbm__learning_rate': 0.07, 'lgbm__max_depth': 8, 'lgbm__min_data_in_leaf': 5, 'lgbm__n_estimators': 80, 'lgbm__num_leaves': 10}\n",
      "0.982 (+/-0.011) for {'lgbm__learning_rate': 0.07, 'lgbm__max_depth': 8, 'lgbm__min_data_in_leaf': 5, 'lgbm__n_estimators': 80, 'lgbm__num_leaves': 20}\n",
      "0.980 (+/-0.011) for {'lgbm__learning_rate': 0.07, 'lgbm__max_depth': 8, 'lgbm__min_data_in_leaf': 5, 'lgbm__n_estimators': 80, 'lgbm__num_leaves': 30}\n",
      "0.983 (+/-0.010) for {'lgbm__learning_rate': 0.07, 'lgbm__max_depth': 8, 'lgbm__min_data_in_leaf': 5, 'lgbm__n_estimators': 90, 'lgbm__num_leaves': 10}\n",
      "0.982 (+/-0.011) for {'lgbm__learning_rate': 0.07, 'lgbm__max_depth': 8, 'lgbm__min_data_in_leaf': 5, 'lgbm__n_estimators': 90, 'lgbm__num_leaves': 20}\n",
      "0.981 (+/-0.011) for {'lgbm__learning_rate': 0.07, 'lgbm__max_depth': 8, 'lgbm__min_data_in_leaf': 5, 'lgbm__n_estimators': 90, 'lgbm__num_leaves': 30}\n",
      "0.983 (+/-0.010) for {'lgbm__learning_rate': 0.07, 'lgbm__max_depth': 8, 'lgbm__min_data_in_leaf': 5, 'lgbm__n_estimators': 100, 'lgbm__num_leaves': 10}\n",
      "0.982 (+/-0.011) for {'lgbm__learning_rate': 0.07, 'lgbm__max_depth': 8, 'lgbm__min_data_in_leaf': 5, 'lgbm__n_estimators': 100, 'lgbm__num_leaves': 20}\n",
      "0.981 (+/-0.010) for {'lgbm__learning_rate': 0.07, 'lgbm__max_depth': 8, 'lgbm__min_data_in_leaf': 5, 'lgbm__n_estimators': 100, 'lgbm__num_leaves': 30}\n",
      "0.965 (+/-0.018) for {'lgbm__learning_rate': 0.07, 'lgbm__max_depth': 8, 'lgbm__min_data_in_leaf': 10, 'lgbm__n_estimators': 10, 'lgbm__num_leaves': 10}\n",
      "0.967 (+/-0.018) for {'lgbm__learning_rate': 0.07, 'lgbm__max_depth': 8, 'lgbm__min_data_in_leaf': 10, 'lgbm__n_estimators': 10, 'lgbm__num_leaves': 20}\n",
      "0.969 (+/-0.017) for {'lgbm__learning_rate': 0.07, 'lgbm__max_depth': 8, 'lgbm__min_data_in_leaf': 10, 'lgbm__n_estimators': 10, 'lgbm__num_leaves': 30}\n",
      "0.974 (+/-0.010) for {'lgbm__learning_rate': 0.07, 'lgbm__max_depth': 8, 'lgbm__min_data_in_leaf': 10, 'lgbm__n_estimators': 20, 'lgbm__num_leaves': 10}\n",
      "0.974 (+/-0.015) for {'lgbm__learning_rate': 0.07, 'lgbm__max_depth': 8, 'lgbm__min_data_in_leaf': 10, 'lgbm__n_estimators': 20, 'lgbm__num_leaves': 20}\n",
      "0.975 (+/-0.014) for {'lgbm__learning_rate': 0.07, 'lgbm__max_depth': 8, 'lgbm__min_data_in_leaf': 10, 'lgbm__n_estimators': 20, 'lgbm__num_leaves': 30}\n",
      "0.979 (+/-0.011) for {'lgbm__learning_rate': 0.07, 'lgbm__max_depth': 8, 'lgbm__min_data_in_leaf': 10, 'lgbm__n_estimators': 40, 'lgbm__num_leaves': 10}\n",
      "0.980 (+/-0.011) for {'lgbm__learning_rate': 0.07, 'lgbm__max_depth': 8, 'lgbm__min_data_in_leaf': 10, 'lgbm__n_estimators': 40, 'lgbm__num_leaves': 20}\n",
      "0.980 (+/-0.011) for {'lgbm__learning_rate': 0.07, 'lgbm__max_depth': 8, 'lgbm__min_data_in_leaf': 10, 'lgbm__n_estimators': 40, 'lgbm__num_leaves': 30}\n",
      "0.981 (+/-0.009) for {'lgbm__learning_rate': 0.07, 'lgbm__max_depth': 8, 'lgbm__min_data_in_leaf': 10, 'lgbm__n_estimators': 50, 'lgbm__num_leaves': 10}\n",
      "0.981 (+/-0.012) for {'lgbm__learning_rate': 0.07, 'lgbm__max_depth': 8, 'lgbm__min_data_in_leaf': 10, 'lgbm__n_estimators': 50, 'lgbm__num_leaves': 20}\n",
      "0.981 (+/-0.010) for {'lgbm__learning_rate': 0.07, 'lgbm__max_depth': 8, 'lgbm__min_data_in_leaf': 10, 'lgbm__n_estimators': 50, 'lgbm__num_leaves': 30}\n",
      "0.982 (+/-0.009) for {'lgbm__learning_rate': 0.07, 'lgbm__max_depth': 8, 'lgbm__min_data_in_leaf': 10, 'lgbm__n_estimators': 60, 'lgbm__num_leaves': 10}\n",
      "0.982 (+/-0.011) for {'lgbm__learning_rate': 0.07, 'lgbm__max_depth': 8, 'lgbm__min_data_in_leaf': 10, 'lgbm__n_estimators': 60, 'lgbm__num_leaves': 20}\n",
      "0.981 (+/-0.010) for {'lgbm__learning_rate': 0.07, 'lgbm__max_depth': 8, 'lgbm__min_data_in_leaf': 10, 'lgbm__n_estimators': 60, 'lgbm__num_leaves': 30}\n",
      "0.983 (+/-0.009) for {'lgbm__learning_rate': 0.07, 'lgbm__max_depth': 8, 'lgbm__min_data_in_leaf': 10, 'lgbm__n_estimators': 70, 'lgbm__num_leaves': 10}\n",
      "0.982 (+/-0.011) for {'lgbm__learning_rate': 0.07, 'lgbm__max_depth': 8, 'lgbm__min_data_in_leaf': 10, 'lgbm__n_estimators': 70, 'lgbm__num_leaves': 20}\n",
      "0.981 (+/-0.011) for {'lgbm__learning_rate': 0.07, 'lgbm__max_depth': 8, 'lgbm__min_data_in_leaf': 10, 'lgbm__n_estimators': 70, 'lgbm__num_leaves': 30}\n",
      "0.983 (+/-0.009) for {'lgbm__learning_rate': 0.07, 'lgbm__max_depth': 8, 'lgbm__min_data_in_leaf': 10, 'lgbm__n_estimators': 80, 'lgbm__num_leaves': 10}\n",
      "0.982 (+/-0.011) for {'lgbm__learning_rate': 0.07, 'lgbm__max_depth': 8, 'lgbm__min_data_in_leaf': 10, 'lgbm__n_estimators': 80, 'lgbm__num_leaves': 20}\n",
      "0.981 (+/-0.011) for {'lgbm__learning_rate': 0.07, 'lgbm__max_depth': 8, 'lgbm__min_data_in_leaf': 10, 'lgbm__n_estimators': 80, 'lgbm__num_leaves': 30}\n",
      "0.983 (+/-0.010) for {'lgbm__learning_rate': 0.07, 'lgbm__max_depth': 8, 'lgbm__min_data_in_leaf': 10, 'lgbm__n_estimators': 90, 'lgbm__num_leaves': 10}\n",
      "0.982 (+/-0.011) for {'lgbm__learning_rate': 0.07, 'lgbm__max_depth': 8, 'lgbm__min_data_in_leaf': 10, 'lgbm__n_estimators': 90, 'lgbm__num_leaves': 20}\n",
      "0.982 (+/-0.011) for {'lgbm__learning_rate': 0.07, 'lgbm__max_depth': 8, 'lgbm__min_data_in_leaf': 10, 'lgbm__n_estimators': 90, 'lgbm__num_leaves': 30}\n",
      "0.983 (+/-0.010) for {'lgbm__learning_rate': 0.07, 'lgbm__max_depth': 8, 'lgbm__min_data_in_leaf': 10, 'lgbm__n_estimators': 100, 'lgbm__num_leaves': 10}\n",
      "0.982 (+/-0.011) for {'lgbm__learning_rate': 0.07, 'lgbm__max_depth': 8, 'lgbm__min_data_in_leaf': 10, 'lgbm__n_estimators': 100, 'lgbm__num_leaves': 20}\n",
      "0.982 (+/-0.010) for {'lgbm__learning_rate': 0.07, 'lgbm__max_depth': 8, 'lgbm__min_data_in_leaf': 10, 'lgbm__n_estimators': 100, 'lgbm__num_leaves': 30}\n",
      "0.966 (+/-0.017) for {'lgbm__learning_rate': 0.07, 'lgbm__max_depth': 8, 'lgbm__min_data_in_leaf': 15, 'lgbm__n_estimators': 10, 'lgbm__num_leaves': 10}\n",
      "0.967 (+/-0.015) for {'lgbm__learning_rate': 0.07, 'lgbm__max_depth': 8, 'lgbm__min_data_in_leaf': 15, 'lgbm__n_estimators': 10, 'lgbm__num_leaves': 20}\n",
      "0.967 (+/-0.015) for {'lgbm__learning_rate': 0.07, 'lgbm__max_depth': 8, 'lgbm__min_data_in_leaf': 15, 'lgbm__n_estimators': 10, 'lgbm__num_leaves': 30}\n",
      "0.973 (+/-0.012) for {'lgbm__learning_rate': 0.07, 'lgbm__max_depth': 8, 'lgbm__min_data_in_leaf': 15, 'lgbm__n_estimators': 20, 'lgbm__num_leaves': 10}\n",
      "0.974 (+/-0.013) for {'lgbm__learning_rate': 0.07, 'lgbm__max_depth': 8, 'lgbm__min_data_in_leaf': 15, 'lgbm__n_estimators': 20, 'lgbm__num_leaves': 20}\n",
      "0.975 (+/-0.013) for {'lgbm__learning_rate': 0.07, 'lgbm__max_depth': 8, 'lgbm__min_data_in_leaf': 15, 'lgbm__n_estimators': 20, 'lgbm__num_leaves': 30}\n",
      "0.979 (+/-0.011) for {'lgbm__learning_rate': 0.07, 'lgbm__max_depth': 8, 'lgbm__min_data_in_leaf': 15, 'lgbm__n_estimators': 40, 'lgbm__num_leaves': 10}\n",
      "0.979 (+/-0.010) for {'lgbm__learning_rate': 0.07, 'lgbm__max_depth': 8, 'lgbm__min_data_in_leaf': 15, 'lgbm__n_estimators': 40, 'lgbm__num_leaves': 20}\n",
      "0.980 (+/-0.010) for {'lgbm__learning_rate': 0.07, 'lgbm__max_depth': 8, 'lgbm__min_data_in_leaf': 15, 'lgbm__n_estimators': 40, 'lgbm__num_leaves': 30}\n",
      "0.981 (+/-0.011) for {'lgbm__learning_rate': 0.07, 'lgbm__max_depth': 8, 'lgbm__min_data_in_leaf': 15, 'lgbm__n_estimators': 50, 'lgbm__num_leaves': 10}\n",
      "0.981 (+/-0.010) for {'lgbm__learning_rate': 0.07, 'lgbm__max_depth': 8, 'lgbm__min_data_in_leaf': 15, 'lgbm__n_estimators': 50, 'lgbm__num_leaves': 20}\n",
      "0.980 (+/-0.011) for {'lgbm__learning_rate': 0.07, 'lgbm__max_depth': 8, 'lgbm__min_data_in_leaf': 15, 'lgbm__n_estimators': 50, 'lgbm__num_leaves': 30}\n",
      "0.982 (+/-0.010) for {'lgbm__learning_rate': 0.07, 'lgbm__max_depth': 8, 'lgbm__min_data_in_leaf': 15, 'lgbm__n_estimators': 60, 'lgbm__num_leaves': 10}\n",
      "0.981 (+/-0.012) for {'lgbm__learning_rate': 0.07, 'lgbm__max_depth': 8, 'lgbm__min_data_in_leaf': 15, 'lgbm__n_estimators': 60, 'lgbm__num_leaves': 20}\n",
      "0.981 (+/-0.012) for {'lgbm__learning_rate': 0.07, 'lgbm__max_depth': 8, 'lgbm__min_data_in_leaf': 15, 'lgbm__n_estimators': 60, 'lgbm__num_leaves': 30}\n",
      "0.982 (+/-0.010) for {'lgbm__learning_rate': 0.07, 'lgbm__max_depth': 8, 'lgbm__min_data_in_leaf': 15, 'lgbm__n_estimators': 70, 'lgbm__num_leaves': 10}\n",
      "0.981 (+/-0.011) for {'lgbm__learning_rate': 0.07, 'lgbm__max_depth': 8, 'lgbm__min_data_in_leaf': 15, 'lgbm__n_estimators': 70, 'lgbm__num_leaves': 20}\n",
      "0.981 (+/-0.013) for {'lgbm__learning_rate': 0.07, 'lgbm__max_depth': 8, 'lgbm__min_data_in_leaf': 15, 'lgbm__n_estimators': 70, 'lgbm__num_leaves': 30}\n",
      "0.983 (+/-0.010) for {'lgbm__learning_rate': 0.07, 'lgbm__max_depth': 8, 'lgbm__min_data_in_leaf': 15, 'lgbm__n_estimators': 80, 'lgbm__num_leaves': 10}\n",
      "0.982 (+/-0.011) for {'lgbm__learning_rate': 0.07, 'lgbm__max_depth': 8, 'lgbm__min_data_in_leaf': 15, 'lgbm__n_estimators': 80, 'lgbm__num_leaves': 20}\n",
      "0.981 (+/-0.013) for {'lgbm__learning_rate': 0.07, 'lgbm__max_depth': 8, 'lgbm__min_data_in_leaf': 15, 'lgbm__n_estimators': 80, 'lgbm__num_leaves': 30}\n",
      "0.983 (+/-0.011) for {'lgbm__learning_rate': 0.07, 'lgbm__max_depth': 8, 'lgbm__min_data_in_leaf': 15, 'lgbm__n_estimators': 90, 'lgbm__num_leaves': 10}\n",
      "0.981 (+/-0.012) for {'lgbm__learning_rate': 0.07, 'lgbm__max_depth': 8, 'lgbm__min_data_in_leaf': 15, 'lgbm__n_estimators': 90, 'lgbm__num_leaves': 20}\n",
      "0.981 (+/-0.014) for {'lgbm__learning_rate': 0.07, 'lgbm__max_depth': 8, 'lgbm__min_data_in_leaf': 15, 'lgbm__n_estimators': 90, 'lgbm__num_leaves': 30}\n",
      "0.983 (+/-0.010) for {'lgbm__learning_rate': 0.07, 'lgbm__max_depth': 8, 'lgbm__min_data_in_leaf': 15, 'lgbm__n_estimators': 100, 'lgbm__num_leaves': 10}\n",
      "0.982 (+/-0.012) for {'lgbm__learning_rate': 0.07, 'lgbm__max_depth': 8, 'lgbm__min_data_in_leaf': 15, 'lgbm__n_estimators': 100, 'lgbm__num_leaves': 20}\n",
      "0.981 (+/-0.014) for {'lgbm__learning_rate': 0.07, 'lgbm__max_depth': 8, 'lgbm__min_data_in_leaf': 15, 'lgbm__n_estimators': 100, 'lgbm__num_leaves': 30}\n",
      "0.964 (+/-0.021) for {'lgbm__learning_rate': 0.07, 'lgbm__max_depth': 8, 'lgbm__min_data_in_leaf': 20, 'lgbm__n_estimators': 10, 'lgbm__num_leaves': 10}\n",
      "0.969 (+/-0.011) for {'lgbm__learning_rate': 0.07, 'lgbm__max_depth': 8, 'lgbm__min_data_in_leaf': 20, 'lgbm__n_estimators': 10, 'lgbm__num_leaves': 20}\n",
      "0.970 (+/-0.012) for {'lgbm__learning_rate': 0.07, 'lgbm__max_depth': 8, 'lgbm__min_data_in_leaf': 20, 'lgbm__n_estimators': 10, 'lgbm__num_leaves': 30}\n",
      "0.975 (+/-0.013) for {'lgbm__learning_rate': 0.07, 'lgbm__max_depth': 8, 'lgbm__min_data_in_leaf': 20, 'lgbm__n_estimators': 20, 'lgbm__num_leaves': 10}\n",
      "0.975 (+/-0.013) for {'lgbm__learning_rate': 0.07, 'lgbm__max_depth': 8, 'lgbm__min_data_in_leaf': 20, 'lgbm__n_estimators': 20, 'lgbm__num_leaves': 20}\n",
      "0.975 (+/-0.013) for {'lgbm__learning_rate': 0.07, 'lgbm__max_depth': 8, 'lgbm__min_data_in_leaf': 20, 'lgbm__n_estimators': 20, 'lgbm__num_leaves': 30}\n",
      "0.979 (+/-0.012) for {'lgbm__learning_rate': 0.07, 'lgbm__max_depth': 8, 'lgbm__min_data_in_leaf': 20, 'lgbm__n_estimators': 40, 'lgbm__num_leaves': 10}\n",
      "0.980 (+/-0.010) for {'lgbm__learning_rate': 0.07, 'lgbm__max_depth': 8, 'lgbm__min_data_in_leaf': 20, 'lgbm__n_estimators': 40, 'lgbm__num_leaves': 20}\n",
      "0.980 (+/-0.010) for {'lgbm__learning_rate': 0.07, 'lgbm__max_depth': 8, 'lgbm__min_data_in_leaf': 20, 'lgbm__n_estimators': 40, 'lgbm__num_leaves': 30}\n",
      "0.981 (+/-0.010) for {'lgbm__learning_rate': 0.07, 'lgbm__max_depth': 8, 'lgbm__min_data_in_leaf': 20, 'lgbm__n_estimators': 50, 'lgbm__num_leaves': 10}\n",
      "0.981 (+/-0.011) for {'lgbm__learning_rate': 0.07, 'lgbm__max_depth': 8, 'lgbm__min_data_in_leaf': 20, 'lgbm__n_estimators': 50, 'lgbm__num_leaves': 20}\n",
      "0.981 (+/-0.010) for {'lgbm__learning_rate': 0.07, 'lgbm__max_depth': 8, 'lgbm__min_data_in_leaf': 20, 'lgbm__n_estimators': 50, 'lgbm__num_leaves': 30}\n",
      "0.982 (+/-0.010) for {'lgbm__learning_rate': 0.07, 'lgbm__max_depth': 8, 'lgbm__min_data_in_leaf': 20, 'lgbm__n_estimators': 60, 'lgbm__num_leaves': 10}\n",
      "0.981 (+/-0.011) for {'lgbm__learning_rate': 0.07, 'lgbm__max_depth': 8, 'lgbm__min_data_in_leaf': 20, 'lgbm__n_estimators': 60, 'lgbm__num_leaves': 20}\n",
      "0.981 (+/-0.010) for {'lgbm__learning_rate': 0.07, 'lgbm__max_depth': 8, 'lgbm__min_data_in_leaf': 20, 'lgbm__n_estimators': 60, 'lgbm__num_leaves': 30}\n",
      "0.982 (+/-0.010) for {'lgbm__learning_rate': 0.07, 'lgbm__max_depth': 8, 'lgbm__min_data_in_leaf': 20, 'lgbm__n_estimators': 70, 'lgbm__num_leaves': 10}\n",
      "0.982 (+/-0.012) for {'lgbm__learning_rate': 0.07, 'lgbm__max_depth': 8, 'lgbm__min_data_in_leaf': 20, 'lgbm__n_estimators': 70, 'lgbm__num_leaves': 20}\n",
      "0.981 (+/-0.010) for {'lgbm__learning_rate': 0.07, 'lgbm__max_depth': 8, 'lgbm__min_data_in_leaf': 20, 'lgbm__n_estimators': 70, 'lgbm__num_leaves': 30}\n",
      "0.983 (+/-0.010) for {'lgbm__learning_rate': 0.07, 'lgbm__max_depth': 8, 'lgbm__min_data_in_leaf': 20, 'lgbm__n_estimators': 80, 'lgbm__num_leaves': 10}\n",
      "0.982 (+/-0.012) for {'lgbm__learning_rate': 0.07, 'lgbm__max_depth': 8, 'lgbm__min_data_in_leaf': 20, 'lgbm__n_estimators': 80, 'lgbm__num_leaves': 20}\n",
      "0.982 (+/-0.010) for {'lgbm__learning_rate': 0.07, 'lgbm__max_depth': 8, 'lgbm__min_data_in_leaf': 20, 'lgbm__n_estimators': 80, 'lgbm__num_leaves': 30}\n",
      "0.983 (+/-0.010) for {'lgbm__learning_rate': 0.07, 'lgbm__max_depth': 8, 'lgbm__min_data_in_leaf': 20, 'lgbm__n_estimators': 90, 'lgbm__num_leaves': 10}\n",
      "0.982 (+/-0.012) for {'lgbm__learning_rate': 0.07, 'lgbm__max_depth': 8, 'lgbm__min_data_in_leaf': 20, 'lgbm__n_estimators': 90, 'lgbm__num_leaves': 20}\n",
      "0.982 (+/-0.011) for {'lgbm__learning_rate': 0.07, 'lgbm__max_depth': 8, 'lgbm__min_data_in_leaf': 20, 'lgbm__n_estimators': 90, 'lgbm__num_leaves': 30}\n",
      "0.983 (+/-0.010) for {'lgbm__learning_rate': 0.07, 'lgbm__max_depth': 8, 'lgbm__min_data_in_leaf': 20, 'lgbm__n_estimators': 100, 'lgbm__num_leaves': 10}\n",
      "0.982 (+/-0.012) for {'lgbm__learning_rate': 0.07, 'lgbm__max_depth': 8, 'lgbm__min_data_in_leaf': 20, 'lgbm__n_estimators': 100, 'lgbm__num_leaves': 20}\n",
      "0.982 (+/-0.011) for {'lgbm__learning_rate': 0.07, 'lgbm__max_depth': 8, 'lgbm__min_data_in_leaf': 20, 'lgbm__n_estimators': 100, 'lgbm__num_leaves': 30}\n",
      "0.967 (+/-0.019) for {'lgbm__learning_rate': 0.07, 'lgbm__max_depth': 8, 'lgbm__min_data_in_leaf': 25, 'lgbm__n_estimators': 10, 'lgbm__num_leaves': 10}\n",
      "0.969 (+/-0.013) for {'lgbm__learning_rate': 0.07, 'lgbm__max_depth': 8, 'lgbm__min_data_in_leaf': 25, 'lgbm__n_estimators': 10, 'lgbm__num_leaves': 20}\n",
      "0.968 (+/-0.012) for {'lgbm__learning_rate': 0.07, 'lgbm__max_depth': 8, 'lgbm__min_data_in_leaf': 25, 'lgbm__n_estimators': 10, 'lgbm__num_leaves': 30}\n",
      "0.973 (+/-0.014) for {'lgbm__learning_rate': 0.07, 'lgbm__max_depth': 8, 'lgbm__min_data_in_leaf': 25, 'lgbm__n_estimators': 20, 'lgbm__num_leaves': 10}\n",
      "0.975 (+/-0.015) for {'lgbm__learning_rate': 0.07, 'lgbm__max_depth': 8, 'lgbm__min_data_in_leaf': 25, 'lgbm__n_estimators': 20, 'lgbm__num_leaves': 20}\n",
      "0.975 (+/-0.014) for {'lgbm__learning_rate': 0.07, 'lgbm__max_depth': 8, 'lgbm__min_data_in_leaf': 25, 'lgbm__n_estimators': 20, 'lgbm__num_leaves': 30}\n",
      "0.979 (+/-0.012) for {'lgbm__learning_rate': 0.07, 'lgbm__max_depth': 8, 'lgbm__min_data_in_leaf': 25, 'lgbm__n_estimators': 40, 'lgbm__num_leaves': 10}\n",
      "0.980 (+/-0.009) for {'lgbm__learning_rate': 0.07, 'lgbm__max_depth': 8, 'lgbm__min_data_in_leaf': 25, 'lgbm__n_estimators': 40, 'lgbm__num_leaves': 20}\n",
      "0.980 (+/-0.010) for {'lgbm__learning_rate': 0.07, 'lgbm__max_depth': 8, 'lgbm__min_data_in_leaf': 25, 'lgbm__n_estimators': 40, 'lgbm__num_leaves': 30}\n",
      "0.981 (+/-0.010) for {'lgbm__learning_rate': 0.07, 'lgbm__max_depth': 8, 'lgbm__min_data_in_leaf': 25, 'lgbm__n_estimators': 50, 'lgbm__num_leaves': 10}\n",
      "0.981 (+/-0.010) for {'lgbm__learning_rate': 0.07, 'lgbm__max_depth': 8, 'lgbm__min_data_in_leaf': 25, 'lgbm__n_estimators': 50, 'lgbm__num_leaves': 20}\n",
      "0.981 (+/-0.011) for {'lgbm__learning_rate': 0.07, 'lgbm__max_depth': 8, 'lgbm__min_data_in_leaf': 25, 'lgbm__n_estimators': 50, 'lgbm__num_leaves': 30}\n",
      "0.982 (+/-0.010) for {'lgbm__learning_rate': 0.07, 'lgbm__max_depth': 8, 'lgbm__min_data_in_leaf': 25, 'lgbm__n_estimators': 60, 'lgbm__num_leaves': 10}\n",
      "0.982 (+/-0.010) for {'lgbm__learning_rate': 0.07, 'lgbm__max_depth': 8, 'lgbm__min_data_in_leaf': 25, 'lgbm__n_estimators': 60, 'lgbm__num_leaves': 20}\n",
      "0.982 (+/-0.010) for {'lgbm__learning_rate': 0.07, 'lgbm__max_depth': 8, 'lgbm__min_data_in_leaf': 25, 'lgbm__n_estimators': 60, 'lgbm__num_leaves': 30}\n",
      "0.982 (+/-0.009) for {'lgbm__learning_rate': 0.07, 'lgbm__max_depth': 8, 'lgbm__min_data_in_leaf': 25, 'lgbm__n_estimators': 70, 'lgbm__num_leaves': 10}\n",
      "0.983 (+/-0.010) for {'lgbm__learning_rate': 0.07, 'lgbm__max_depth': 8, 'lgbm__min_data_in_leaf': 25, 'lgbm__n_estimators': 70, 'lgbm__num_leaves': 20}\n",
      "0.982 (+/-0.010) for {'lgbm__learning_rate': 0.07, 'lgbm__max_depth': 8, 'lgbm__min_data_in_leaf': 25, 'lgbm__n_estimators': 70, 'lgbm__num_leaves': 30}\n",
      "0.983 (+/-0.009) for {'lgbm__learning_rate': 0.07, 'lgbm__max_depth': 8, 'lgbm__min_data_in_leaf': 25, 'lgbm__n_estimators': 80, 'lgbm__num_leaves': 10}\n",
      "0.983 (+/-0.010) for {'lgbm__learning_rate': 0.07, 'lgbm__max_depth': 8, 'lgbm__min_data_in_leaf': 25, 'lgbm__n_estimators': 80, 'lgbm__num_leaves': 20}\n",
      "0.982 (+/-0.011) for {'lgbm__learning_rate': 0.07, 'lgbm__max_depth': 8, 'lgbm__min_data_in_leaf': 25, 'lgbm__n_estimators': 80, 'lgbm__num_leaves': 30}\n",
      "0.983 (+/-0.008) for {'lgbm__learning_rate': 0.07, 'lgbm__max_depth': 8, 'lgbm__min_data_in_leaf': 25, 'lgbm__n_estimators': 90, 'lgbm__num_leaves': 10}\n",
      "0.983 (+/-0.010) for {'lgbm__learning_rate': 0.07, 'lgbm__max_depth': 8, 'lgbm__min_data_in_leaf': 25, 'lgbm__n_estimators': 90, 'lgbm__num_leaves': 20}\n",
      "0.983 (+/-0.011) for {'lgbm__learning_rate': 0.07, 'lgbm__max_depth': 8, 'lgbm__min_data_in_leaf': 25, 'lgbm__n_estimators': 90, 'lgbm__num_leaves': 30}\n",
      "0.983 (+/-0.009) for {'lgbm__learning_rate': 0.07, 'lgbm__max_depth': 8, 'lgbm__min_data_in_leaf': 25, 'lgbm__n_estimators': 100, 'lgbm__num_leaves': 10}\n",
      "0.983 (+/-0.009) for {'lgbm__learning_rate': 0.07, 'lgbm__max_depth': 8, 'lgbm__min_data_in_leaf': 25, 'lgbm__n_estimators': 100, 'lgbm__num_leaves': 20}\n",
      "0.983 (+/-0.011) for {'lgbm__learning_rate': 0.07, 'lgbm__max_depth': 8, 'lgbm__min_data_in_leaf': 25, 'lgbm__n_estimators': 100, 'lgbm__num_leaves': 30}\n"
     ]
    }
   ],
   "source": [
    "print(\"Best parameters set found on development set:\")\n",
    "print(grid.best_params_)\n",
    "\n",
    "means = grid.cv_results_['mean_test_score']\n",
    "stds = grid.cv_results_['std_test_score']\n",
    "for mean, std, params in zip(means, stds, grid.cv_results_['params']):\n",
    "    print(\"%0.3f (+/-%0.03f) for %r\"\n",
    "        % (mean, std * 2, params))\n"
   ]
  },
  {
   "cell_type": "code",
   "execution_count": 10,
   "metadata": {},
   "outputs": [],
   "source": [
    "file_model_lgbm = open(\"../data/05_modelling_GBM\", \"wb\")\n",
    "pickle.dump(grid,file_model_lgbm)\n",
    "file_features.close()"
   ]
  },
  {
   "cell_type": "code",
   "execution_count": 11,
   "metadata": {},
   "outputs": [],
   "source": [
    "import numpy as np\n",
    "import matplotlib.pyplot as plt\n",
    "\n",
    "from sklearn import svm, datasets\n",
    "from sklearn.metrics import auc\n",
    "from sklearn.metrics import plot_roc_curve\n",
    "from sklearn.model_selection import StratifiedKFold\n",
    "\n",
    "n_samples, n_features = X.shape\n",
    "\n",
    "# Add noisy features\n",
    "random_state = np.random.RandomState(0)\n",
    "X = np.c_[X, random_state.randn(n_samples, 200 * n_features)]\n",
    "\n",
    "cv = StratifiedKFold(n_splits=5)\n",
    "\n"
   ]
  },
  {
   "cell_type": "code",
   "execution_count": 13,
   "metadata": {},
   "outputs": [],
   "source": [
    "classifier  = grid.best_estimator_.steps[-1][-1]"
   ]
  },
  {
   "cell_type": "code",
   "execution_count": 107,
   "metadata": {},
   "outputs": [
    {
     "data": {
      "text/plain": [
       "(1460, 2)"
      ]
     },
     "execution_count": 107,
     "metadata": {},
     "output_type": "execute_result"
    }
   ],
   "source": [
    "appended_data = []\n",
    "\n",
    "for i, (train, test) in enumerate(cv.split(X, y)):\n",
    "    \n",
    "    classifier.fit(X[train], y[train])\n",
    "    predictions_model_prob = classifier.predict_proba(X[test])\n",
    "    \n",
    "    data = pd.DataFrame(data = predictions_model_prob, columns = ['proba_a','proba_b'])\n",
    "    appended_data.append(data)\n",
    "\n",
    "appended_data = pd.concat(appended_data)\n",
    "appended_data.shape"
   ]
  },
  {
   "cell_type": "code",
   "execution_count": 126,
   "metadata": {},
   "outputs": [
    {
     "data": {
      "text/plain": [
       "400"
      ]
     },
     "execution_count": 126,
     "metadata": {},
     "output_type": "execute_result"
    }
   ],
   "source": [
    "class_threshold = 0.5\n",
    "appended_data['Prediction'] = np.where(appended_data['proba_b'] >= class_threshold, 1, 0) \n",
    "appended_data['Prediction'].sum()"
   ]
  },
  {
   "cell_type": "code",
   "execution_count": 120,
   "metadata": {},
   "outputs": [
    {
     "data": {
      "text/html": [
       "<div>\n",
       "<style scoped>\n",
       "    .dataframe tbody tr th:only-of-type {\n",
       "        vertical-align: middle;\n",
       "    }\n",
       "\n",
       "    .dataframe tbody tr th {\n",
       "        vertical-align: top;\n",
       "    }\n",
       "\n",
       "    .dataframe thead th {\n",
       "        text-align: right;\n",
       "    }\n",
       "</style>\n",
       "<table border=\"1\" class=\"dataframe\">\n",
       "  <thead>\n",
       "    <tr style=\"text-align: right;\">\n",
       "      <th></th>\n",
       "      <th>proba_a</th>\n",
       "      <th>proba_b</th>\n",
       "      <th>Prediction</th>\n",
       "      <th>t</th>\n",
       "    </tr>\n",
       "  </thead>\n",
       "  <tbody>\n",
       "    <tr>\n",
       "      <th>0</th>\n",
       "      <td>0.607338</td>\n",
       "      <td>0.392662</td>\n",
       "      <td>0</td>\n",
       "      <td>1.0</td>\n",
       "    </tr>\n",
       "    <tr>\n",
       "      <th>1</th>\n",
       "      <td>0.996949</td>\n",
       "      <td>0.003051</td>\n",
       "      <td>0</td>\n",
       "      <td>1.0</td>\n",
       "    </tr>\n",
       "    <tr>\n",
       "      <th>2</th>\n",
       "      <td>0.254602</td>\n",
       "      <td>0.745398</td>\n",
       "      <td>1</td>\n",
       "      <td>1.0</td>\n",
       "    </tr>\n",
       "    <tr>\n",
       "      <th>3</th>\n",
       "      <td>0.925100</td>\n",
       "      <td>0.074900</td>\n",
       "      <td>0</td>\n",
       "      <td>1.0</td>\n",
       "    </tr>\n",
       "    <tr>\n",
       "      <th>4</th>\n",
       "      <td>0.012091</td>\n",
       "      <td>0.987909</td>\n",
       "      <td>1</td>\n",
       "      <td>1.0</td>\n",
       "    </tr>\n",
       "    <tr>\n",
       "      <th>...</th>\n",
       "      <td>...</td>\n",
       "      <td>...</td>\n",
       "      <td>...</td>\n",
       "      <td>...</td>\n",
       "    </tr>\n",
       "    <tr>\n",
       "      <th>287</th>\n",
       "      <td>0.964052</td>\n",
       "      <td>0.035948</td>\n",
       "      <td>0</td>\n",
       "      <td>1.0</td>\n",
       "    </tr>\n",
       "    <tr>\n",
       "      <th>288</th>\n",
       "      <td>0.571977</td>\n",
       "      <td>0.428023</td>\n",
       "      <td>0</td>\n",
       "      <td>1.0</td>\n",
       "    </tr>\n",
       "    <tr>\n",
       "      <th>289</th>\n",
       "      <td>0.188173</td>\n",
       "      <td>0.811827</td>\n",
       "      <td>1</td>\n",
       "      <td>1.0</td>\n",
       "    </tr>\n",
       "    <tr>\n",
       "      <th>290</th>\n",
       "      <td>0.996686</td>\n",
       "      <td>0.003314</td>\n",
       "      <td>0</td>\n",
       "      <td>1.0</td>\n",
       "    </tr>\n",
       "    <tr>\n",
       "      <th>291</th>\n",
       "      <td>0.997205</td>\n",
       "      <td>0.002795</td>\n",
       "      <td>0</td>\n",
       "      <td>1.0</td>\n",
       "    </tr>\n",
       "  </tbody>\n",
       "</table>\n",
       "<p>1460 rows × 4 columns</p>\n",
       "</div>"
      ],
      "text/plain": [
       "      proba_a   proba_b  Prediction    t\n",
       "0    0.607338  0.392662           0  1.0\n",
       "1    0.996949  0.003051           0  1.0\n",
       "2    0.254602  0.745398           1  1.0\n",
       "3    0.925100  0.074900           0  1.0\n",
       "4    0.012091  0.987909           1  1.0\n",
       "..        ...       ...         ...  ...\n",
       "287  0.964052  0.035948           0  1.0\n",
       "288  0.571977  0.428023           0  1.0\n",
       "289  0.188173  0.811827           1  1.0\n",
       "290  0.996686  0.003314           0  1.0\n",
       "291  0.997205  0.002795           0  1.0\n",
       "\n",
       "[1460 rows x 4 columns]"
      ]
     },
     "execution_count": 120,
     "metadata": {},
     "output_type": "execute_result"
    }
   ],
   "source": [
    "#appended_data['t'] = appended_data.apply(lambda x: x['proba_a'] + x['proba_b'], axis=1)\n",
    "#appended_data"
   ]
  },
  {
   "cell_type": "code",
   "execution_count": 106,
   "metadata": {},
   "outputs": [
    {
     "data": {
      "text/plain": [
       "(1460, 2)"
      ]
     },
     "execution_count": 106,
     "metadata": {},
     "output_type": "execute_result"
    }
   ],
   "source": [
    "appended_data = []\n",
    "\n",
    "for cv_element in v:\n",
    "    data = pd.DataFrame(data = cv_element, columns = ['proba_a','proba_b'])\n",
    "    appended_data.append(data)\n",
    "\n",
    "appended_data = pd.concat(appended_data)\n",
    "\n",
    "appended_data.shape"
   ]
  },
  {
   "cell_type": "code",
   "execution_count": 175,
   "metadata": {},
   "outputs": [
    {
     "data": {
      "text/plain": [
       "((1460,), (1460,))"
      ]
     },
     "execution_count": 175,
     "metadata": {},
     "output_type": "execute_result"
    }
   ],
   "source": [
    "class_threshold = 0.35\n",
    "appended_data['Prediction'] = np.where(appended_data['proba_b'] >= class_threshold, 1, 0) \n",
    "appended_data['Prediction'].sum()\n",
    "\n",
    "cv_predicted_y = appended_data['Prediction'].to_numpy()\n",
    "y.shape, arr.shape"
   ]
  },
  {
   "cell_type": "code",
   "execution_count": 176,
   "metadata": {},
   "outputs": [
    {
     "data": {
      "text/plain": [
       "<Figure size 432x288 with 0 Axes>"
      ]
     },
     "metadata": {},
     "output_type": "display_data"
    },
    {
     "data": {
      "image/png": "[encoded data removed]",
      "text/plain": [
       "<Figure size 576x432 with 2 Axes>"
      ]
     },
     "metadata": {},
     "output_type": "display_data"
    }
   ],
   "source": [
    "plt.figure()\n",
    "cm = confusion_matrix(y, cv_predicted_y)\n",
    "labels = ['Low Value House', 'High Value House']\n",
    "plt.figure(figsize=(8,6))\n",
    "sns.heatmap(cm, xticklabels = labels, yticklabels = labels, annot = True, fmt='d', cmap=\"Blues\", vmin = 0.2);\n",
    "plt.title('Confusion Matrix')\n",
    "plt.ylabel('True Class')\n",
    "plt.xlabel('Predicted Class')\n",
    "plt.show()"
   ]
  },
  {
   "cell_type": "code",
   "execution_count": 178,
   "metadata": {},
   "outputs": [
    {
     "name": "stdout",
     "output_type": "stream",
     "text": [
      "                  precision    recall  f1-score   support\n",
      "\n",
      " Low Value House       0.92      0.91      0.92      1033\n",
      "High Value House       0.79      0.81      0.80       427\n",
      "\n",
      "        accuracy                           0.88      1460\n",
      "       macro avg       0.86      0.86      0.86      1460\n",
      "    weighted avg       0.88      0.88      0.88      1460\n",
      "\n"
     ]
    }
   ],
   "source": [
    "from sklearn.metrics import classification_report\n",
    "target_names = ['Low Value House', 'High Value House']\n",
    "print(classification_report(y, cv_predicted_y, target_names=target_names))"
   ]
  },
  {
   "cell_type": "code",
   "execution_count": 173,
   "metadata": {},
   "outputs": [
    {
     "data": {
      "text/plain": [
       "0.8583580258948833"
      ]
     },
     "execution_count": 173,
     "metadata": {},
     "output_type": "execute_result"
    }
   ],
   "source": [
    "from sklearn.metrics import balanced_accuracy_score\n",
    "\n",
    "balanced_accuracy_score(y, cv_predicted_y)"
   ]
  },
  {
   "cell_type": "code",
   "execution_count": 174,
   "metadata": {},
   "outputs": [
    {
     "data": {
      "text/plain": [
       "0.8821917808219178"
      ]
     },
     "execution_count": 174,
     "metadata": {},
     "output_type": "execute_result"
    }
   ],
   "source": [
    "from sklearn.metrics import accuracy_score\n",
    "\n",
    "accuracy_score(y, cv_predicted_y)"
   ]
  },
  {
   "cell_type": "markdown",
   "metadata": {},
   "source": [
    "## ROC AUC Curve"
   ]
  },
  {
   "cell_type": "code",
   "execution_count": 24,
   "metadata": {},
   "outputs": [
    {
     "data": {
      "image/png": "[encoded data removed]",
      "text/plain": [
       "<Figure size 432x288 with 1 Axes>"
      ]
     },
     "metadata": {},
     "output_type": "display_data"
    }
   ],
   "source": [
    "tprs = []\n",
    "aucs = []\n",
    "mean_fpr = np.linspace(0, 1, 100)\n",
    "\n",
    "fig, ax = plt.subplots()\n",
    "for i, (train, test) in enumerate(cv.split(X, y)):\n",
    "    classifier.fit(X[train], y[train])\n",
    "    viz = plot_roc_curve(classifier, X[test], y[test],\n",
    "                         name='ROC fold {}'.format(i),\n",
    "                         alpha=0.3, lw=1, ax=ax)\n",
    "    interp_tpr = np.interp(mean_fpr, viz.fpr, viz.tpr)\n",
    "    interp_tpr[0] = 0.0\n",
    "    tprs.append(interp_tpr)\n",
    "    aucs.append(viz.roc_auc)\n",
    "\n",
    "ax.plot([0, 1], [0, 1], linestyle='--', lw=2, color='r',\n",
    "        label='No Predictive Power', alpha=.8)\n",
    "\n",
    "mean_tpr = np.mean(tprs, axis=0)\n",
    "mean_tpr[-1] = 1.0\n",
    "mean_auc = auc(mean_fpr, mean_tpr)\n",
    "std_auc = np.std(aucs)\n",
    "ax.plot(mean_fpr, mean_tpr, color='b',\n",
    "        label=r'Mean ROC (AUC = %0.2f $\\pm$ %0.2f)' % (mean_auc, std_auc),\n",
    "        lw=2, alpha=.8)\n",
    "\n",
    "std_tpr = np.std(tprs, axis=0)\n",
    "tprs_upper = np.minimum(mean_tpr + std_tpr, 1)\n",
    "tprs_lower = np.maximum(mean_tpr - std_tpr, 0)\n",
    "ax.fill_between(mean_fpr, tprs_lower, tprs_upper, color='grey', alpha=.2,\n",
    "                label=r'$\\pm$ 1 std. dev.')\n",
    "\n",
    "ax.set(xlim=[-0.05, 1.05], ylim=[-0.05, 1.05],\n",
    "       title=\"ROC Characteristic\")\n",
    "ax.legend(loc=\"lower right\")\n",
    "plt.show()"
   ]
  },
  {
   "cell_type": "code",
   "execution_count": 27,
   "metadata": {},
   "outputs": [
    {
     "data": {
      "text/plain": [
       "array([[2, 0],\n",
       "       [3, 1]], dtype=int64)"
      ]
     },
     "execution_count": 27,
     "metadata": {},
     "output_type": "execute_result"
    }
   ],
   "source": [
    "from sklearn.metrics import confusion_matrix\n",
    "y_true = [1, 0, 1, 1, 0, 1]\n",
    "y_pred = [0, 0, 1, 0, 0, 0]\n",
    "confusion_matrix(y_true, y_pred)\n"
   ]
  },
  {
   "cell_type": "code",
   "execution_count": 27,
   "metadata": {},
   "outputs": [
    {
     "data": {
      "text/plain": [
       "array([[2, 0],\n",
       "       [3, 1]], dtype=int64)"
      ]
     },
     "execution_count": 27,
     "metadata": {},
     "output_type": "execute_result"
    }
   ],
   "source": [
    "from sklearn.metrics import confusion_matrix\n",
    "y_true = [1, 0, 1, 1, 0, 1]\n",
    "y_pred = [0, 0, 1, 0, 0, 0]\n",
    "confusion_matrix(y_true, y_pred)\n"
   ]
  },
  {
   "cell_type": "code",
   "execution_count": 42,
   "metadata": {},
   "outputs": [
    {
     "name": "stdout",
     "output_type": "stream",
     "text": [
      "[0.93493151 0.94863014 0.89041096 0.91438356 0.93150685]\n"
     ]
    }
   ],
   "source": [
    "from sklearn.model_selection import KFold\n",
    "from sklearn.model_selection import StratifiedKFold\n",
    "from sklearn.model_selection import cross_val_score\n",
    "\n",
    "kf = KFold(shuffle=True, n_splits=5)\n",
    "\n",
    "cv_results_kfold = cross_val_score(classifier, X, y, cv=kf, scoring='accuracy')\n",
    "\n",
    "print(cv_results_kfold)\n",
    "\n",
    "# Stratified K fold\n",
    "\n",
    "skf = StratifiedKFold(shuffle=True, n_splits=5)\n",
    "\n",
    "cv_results_skfold = cross_val_score(classifier, X, y, cv=skf, scoring='accuracy')"
   ]
  },
  {
   "cell_type": "code",
   "execution_count": null,
   "metadata": {},
   "outputs": [],
   "source": [
    "plt.figure()\n",
    "cm = confusion_matrix(test_y, predictions_lgbm_01)\n",
    "labels = ['No Default', 'Default']\n",
    "plt.figure(figsize=(8,6))\n",
    "sns.heatmap(cm, xticklabels = labels, yticklabels = labels, annot = True, fmt='d', cmap=\"Blues\", vmin = 0.2);\n",
    "plt.title('Confusion Matrix')\n",
    "plt.ylabel('True Class')\n",
    "plt.xlabel('Predicted Class')\n",
    "plt.show()"
   ]
  },
  {
   "cell_type": "code",
   "execution_count": null,
   "metadata": {},
   "outputs": [],
   "source": [
    "from sklearn.model_selection import StratifiedKFold\n",
    "cv = StratifiedKFold(5)"
   ]
  },
  {
   "cell_type": "code",
   "execution_count": null,
   "metadata": {},
   "outputs": [],
   "source": [
    "class_threshold = 0.5\n",
    "\n",
    "predictions_model_prob = lgbm.predict(X_train)\n",
    "predictions_01 = np.where(predictions_model_prob > class_threshold, 1, 0) \n"
   ]
  }
 ],
 "metadata": {
  "kernelspec": {
   "display_name": "Python 3",
   "language": "python",
   "name": "python3"
  },
  "language_info": {
   "codemirror_mode": {
    "name": "ipython",
    "version": 3
   },
   "file_extension": ".py",
   "mimetype": "text/x-python",
   "name": "python",
   "nbconvert_exporter": "python",
   "pygments_lexer": "ipython3",
   "version": "3.7.6"
  }
 },
 "nbformat": 4,
 "nbformat_minor": 4
}
