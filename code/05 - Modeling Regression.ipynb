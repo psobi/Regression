{
 "cells": [
  {
   "cell_type": "markdown",
   "metadata": {},
   "source": [
    "<img style=\"float: left;\" width=\"120\" src=\"../images/kaggle.png\">\n",
    "<br><br><br>\n",
    "<h2><center>House Prices: Advanced Regression Techniques</center></h2>\n",
    "\n",
    "<h2><center> Modeling Regression  </center></h2>"
   ]
  },
  {
   "cell_type": "code",
   "execution_count": 1,
   "metadata": {},
   "outputs": [],
   "source": [
    "import numpy as np\n",
    "import pandas as pd\n",
    "import seaborn as sns\n",
    "import matplotlib.pyplot as plt\n",
    "import lightgbm as lgb\n",
    "\n",
    "from sklearn.model_selection import train_test_split, GridSearchCV\n",
    "from sklearn.metrics import confusion_matrix,accuracy_score, roc_curve, auc\n",
    "from sklearn.model_selection import KFold, cross_val_score\n",
    "from sklearn.preprocessing import StandardScaler\n",
    "from sklearn.neural_network import MLPRegressor\n",
    "from sklearn.pipeline import Pipeline\n",
    "from sklearn.model_selection import GridSearchCV\n",
    "from sklearn.model_selection import train_test_split\n",
    "import numpy as np\n",
    "from lightgbm import LGBMRegressor\n",
    "\n",
    "sns.set_style(\"darkgrid\")\n",
    "\n",
    "from sklearn.pipeline import Pipeline\n",
    "from sklearn.preprocessing import RobustScaler,MinMaxScaler\n",
    "#Import data\n",
    "import pickle5 as pickle"
   ]
  },
  {
   "cell_type": "code",
   "execution_count": 2,
   "metadata": {},
   "outputs": [
    {
     "data": {
      "text/plain": [
       "((1460, 71), (1460,))"
      ]
     },
     "execution_count": 2,
     "metadata": {},
     "output_type": "execute_result"
    }
   ],
   "source": [
    "file_train_X = open(\"../data/X_train_03_preprocess\",\"rb\")\n",
    "file_test_X = open(\"../data/X_test_03_preprocess\",\"rb\")\n",
    "file_train_y = open(\"../data/y_regression_train_03_preprocess\",\"rb\")\n",
    "\n",
    "\n",
    "X = pickle.load(file_train_X)\n",
    "y = pickle.load(file_train_y)\n",
    "X_test = pickle.load(file_test_X)\n",
    "\n",
    "\n",
    "X.isnull().sum().sum() #No missing values\n",
    "X.shape, y.shape"
   ]
  },
  {
   "cell_type": "code",
   "execution_count": 3,
   "metadata": {},
   "outputs": [
    {
     "data": {
      "text/plain": [
       "Id\n",
       "1    208500\n",
       "2    181500\n",
       "3    223500\n",
       "4    140000\n",
       "5    250000\n",
       "Name: SalePrice, dtype: int64"
      ]
     },
     "execution_count": 3,
     "metadata": {},
     "output_type": "execute_result"
    }
   ],
   "source": [
    "#y = np.log1p(y)\n",
    "\n",
    "y.head()"
   ]
  },
  {
   "cell_type": "code",
   "execution_count": 4,
   "metadata": {},
   "outputs": [],
   "source": [
    "for c in X.columns:\n",
    "    col_type = X[c].dtype\n",
    "    if col_type == 'object' or col_type.name == 'category':\n",
    "        X[c] = X[c].astype('category')"
   ]
  },
  {
   "cell_type": "code",
   "execution_count": 18,
   "metadata": {},
   "outputs": [],
   "source": [
    "for c in X_test.columns:\n",
    "    col_type = X_test[c].dtype\n",
    "    if col_type == 'object' or col_type.name == 'category':\n",
    "        X_test[c] = X_test[c].astype('category')"
   ]
  },
  {
   "cell_type": "code",
   "execution_count": 5,
   "metadata": {},
   "outputs": [
    {
     "data": {
      "text/plain": [
       "dict_keys(['explained_variance', 'r2', 'max_error', 'neg_median_absolute_error', 'neg_mean_absolute_error', 'neg_mean_squared_error', 'neg_mean_squared_log_error', 'neg_root_mean_squared_error', 'neg_mean_poisson_deviance', 'neg_mean_gamma_deviance', 'accuracy', 'roc_auc', 'roc_auc_ovr', 'roc_auc_ovo', 'roc_auc_ovr_weighted', 'roc_auc_ovo_weighted', 'balanced_accuracy', 'average_precision', 'neg_log_loss', 'neg_brier_score', 'adjusted_rand_score', 'homogeneity_score', 'completeness_score', 'v_measure_score', 'mutual_info_score', 'adjusted_mutual_info_score', 'normalized_mutual_info_score', 'fowlkes_mallows_score', 'precision', 'precision_macro', 'precision_micro', 'precision_samples', 'precision_weighted', 'recall', 'recall_macro', 'recall_micro', 'recall_samples', 'recall_weighted', 'f1', 'f1_macro', 'f1_micro', 'f1_samples', 'f1_weighted', 'jaccard', 'jaccard_macro', 'jaccard_micro', 'jaccard_samples', 'jaccard_weighted'])"
      ]
     },
     "execution_count": 5,
     "metadata": {},
     "output_type": "execute_result"
    }
   ],
   "source": [
    "import sklearn\n",
    "sklearn.metrics.SCORERS.keys()"
   ]
  },
  {
   "cell_type": "code",
   "execution_count": 6,
   "metadata": {},
   "outputs": [],
   "source": [
    "grid_parameters = {}\n",
    "pipes = {}\n",
    "grids = {}\n",
    "regressors = ['mlp','lgbm']\n",
    "\n",
    "grid_parameters['mlp'] = {\n",
    "    'MLPRegressor__max_iter': [5000],\n",
    "    'MLPRegressor__activation' : ['relu'],\n",
    "    'MLPRegressor__hidden_layer_sizes':[(10,10),(50,100,50),(100,100,100),(100,200,100)],}\n",
    "\n",
    "grid_parameters['lgbm'] = {\n",
    "    'lgbm__learning_rate' : [0.07],\n",
    "    'lgbm__min_data_in_leaf' : list(range(1,35,5)),\n",
    "    'lgbm__n_estimators' : list(range(10,500,50)),\n",
    "    'lgbm__max_depth' : list(range(5,11,1)),}\n",
    "    \n",
    "    \n",
    "pipes['mlp'] = Pipeline([('scaler',  MinMaxScaler()),\n",
    "                        ('MLPRegressor', MLPRegressor(random_state = 303))])\n",
    "\n",
    "\n",
    "pipes['lgbm'] = Pipeline([('scaler', RobustScaler()),('lgbm', LGBMRegressor(boosting_type='gbdt', objective='regression', \n",
    "                                                                         metric='neg_mean_squared_error'))])\n"
   ]
  },
  {
   "cell_type": "code",
   "execution_count": 7,
   "metadata": {},
   "outputs": [
    {
     "name": "stderr",
     "output_type": "stream",
     "text": [
      "C:\\Users\\pawel\\Anaconda3\\lib\\site-packages\\sklearn\\neural_network\\_multilayer_perceptron.py:585: ConvergenceWarning: Stochastic Optimizer: Maximum iterations (5000) reached and the optimization hasn't converged yet.\n",
      "  % self.max_iter, ConvergenceWarning)\n"
     ]
    },
    {
     "name": "stdout",
     "output_type": "stream",
     "text": [
      "0.7937290871526567\n",
      "{'MLPRegressor__activation': 'relu', 'MLPRegressor__hidden_layer_sizes': (10, 10), 'MLPRegressor__max_iter': 5000}\n",
      "0.8867080491195152\n",
      "{'lgbm__learning_rate': 0.07, 'lgbm__max_depth': 10, 'lgbm__min_data_in_leaf': 11, 'lgbm__n_estimators': 460}\n"
     ]
    }
   ],
   "source": [
    "cv = KFold(n_splits=5, shuffle=True, random_state=303)\n",
    "grid = {}\n",
    "\n",
    "for model in regressors:\n",
    "    \n",
    "    grid[model] = GridSearchCV (estimator = pipes[model],\n",
    "                               param_grid = grid_parameters[model],\n",
    "                               cv = cv,verbose=0,\n",
    "                               n_jobs=-1)\n",
    "    grid[model].fit(X, y)\n",
    "    print(grid[model].best_score_)\n",
    "    print(grid[model].best_params_)\n"
   ]
  },
  {
   "cell_type": "code",
   "execution_count": 8,
   "metadata": {},
   "outputs": [],
   "source": [
    "from sklearn.metrics import mean_squared_error,mean_squared_log_error,mean_absolute_error\n",
    "\n",
    "cv = KFold(n_splits=5, shuffle=True, random_state=303)\n",
    "\n",
    "def fit_score(y, y_pred):\n",
    "    return mean_squared_error(y, y_pred)\n",
    "\n",
    "def cv_score(model, scoring, X=X):\n",
    "    \n",
    "    rmse = cross_val_score(model, X, y,scoring = scoring, cv=cv)\n",
    "    \n",
    "    return (rmse)"
   ]
  },
  {
   "cell_type": "code",
   "execution_count": 14,
   "metadata": {},
   "outputs": [],
   "source": [
    "from sklearn.metrics import mean_squared_error,mean_squared_log_error,mean_absolute_error\n",
    "\n",
    "cv = KFold(n_splits=5, shuffle=True)\n",
    "           \n",
    "def fit_score(y, y_pred):\n",
    "    return np.sqrt(mean_squared_error(y, y_pred))\n",
    "\n",
    "def cv_score(model, scoring, X=X):\n",
    "    \n",
    "    rmse = np.sqrt(-cross_val_score(model, X, y,scoring = scoring, cv=cv))\n",
    "    \n",
    "    return (rmse)"
   ]
  },
  {
   "cell_type": "code",
   "execution_count": null,
   "metadata": {},
   "outputs": [],
   "source": [
    "from sklearn.model_selection import KFold\n",
    "from sklearn.model_selection import cross_val_score\n",
    "\n",
    "for model in regressors:\n",
    "    print(model)\n",
    "    print(\"Fit Score - Mean Squared Error\")\n",
    "    print(fit_score(y, grid[model].predict(X)))\n",
    "    print(\"\\n\")"
   ]
  },
  {
   "cell_type": "code",
   "execution_count": null,
   "metadata": {},
   "outputs": [],
   "source": [
    "for model in regressors:\n",
    "    print(model)\n",
    "    score = cv_score(grid[model],\"neg_mean_squared_error\")\n",
    "    print(\"CV Score - Mean Squared Error: {:.4f} ({:.4f})\\n\".format(score.mean(), score.std()) )\n",
    "    print(\"\\n\")"
   ]
  },
  {
   "cell_type": "code",
   "execution_count": 23,
   "metadata": {},
   "outputs": [
    {
     "data": {
      "text/plain": [
       "261061056.92820114"
      ]
     },
     "execution_count": 23,
     "metadata": {},
     "output_type": "execute_result"
    }
   ],
   "source": [
    "submission = pd.read_csv(\"../data_regression/sample_submission.csv\")\n",
    "submission.iloc[:,1] = pd.Series(grid['lgbm'].predict(X_test))\n",
    "#submission.iloc[:,1] = pd.Series(np.expm1(regressor.predict(X_test)))\n",
    "\n",
    "submission.to_csv(\"../data_regression/submission.csv\", index=False)\n",
    "submission.head()\n",
    "submission['SalePrice'].sum()"
   ]
  },
  {
   "cell_type": "code",
   "execution_count": 24,
   "metadata": {
    "scrolled": true
   },
   "outputs": [
    {
     "data": {
      "text/html": [
       "<div>\n",
       "<style scoped>\n",
       "    .dataframe tbody tr th:only-of-type {\n",
       "        vertical-align: middle;\n",
       "    }\n",
       "\n",
       "    .dataframe tbody tr th {\n",
       "        vertical-align: top;\n",
       "    }\n",
       "\n",
       "    .dataframe thead th {\n",
       "        text-align: right;\n",
       "    }\n",
       "</style>\n",
       "<table border=\"1\" class=\"dataframe\">\n",
       "  <thead>\n",
       "    <tr style=\"text-align: right;\">\n",
       "      <th></th>\n",
       "      <th>Id</th>\n",
       "      <th>SalePrice</th>\n",
       "    </tr>\n",
       "  </thead>\n",
       "  <tbody>\n",
       "    <tr>\n",
       "      <th>0</th>\n",
       "      <td>1461</td>\n",
       "      <td>125853.197028</td>\n",
       "    </tr>\n",
       "    <tr>\n",
       "      <th>1</th>\n",
       "      <td>1462</td>\n",
       "      <td>162627.547046</td>\n",
       "    </tr>\n",
       "    <tr>\n",
       "      <th>2</th>\n",
       "      <td>1463</td>\n",
       "      <td>182725.477182</td>\n",
       "    </tr>\n",
       "    <tr>\n",
       "      <th>3</th>\n",
       "      <td>1464</td>\n",
       "      <td>188589.692736</td>\n",
       "    </tr>\n",
       "    <tr>\n",
       "      <th>4</th>\n",
       "      <td>1465</td>\n",
       "      <td>179411.508456</td>\n",
       "    </tr>\n",
       "  </tbody>\n",
       "</table>\n",
       "</div>"
      ],
      "text/plain": [
       "     Id      SalePrice\n",
       "0  1461  125853.197028\n",
       "1  1462  162627.547046\n",
       "2  1463  182725.477182\n",
       "3  1464  188589.692736\n",
       "4  1465  179411.508456"
      ]
     },
     "execution_count": 24,
     "metadata": {},
     "output_type": "execute_result"
    }
   ],
   "source": [
    "submission.head()"
   ]
  },
  {
   "cell_type": "markdown",
   "metadata": {},
   "source": [
    "<div style=\"text-align: right\">Prepared by Pawel Sobieralski, 2020</div>"
   ]
  }
 ],
 "metadata": {
  "kernelspec": {
   "display_name": "Python 3",
   "language": "python",
   "name": "python3"
  },
  "language_info": {
   "codemirror_mode": {
    "name": "ipython",
    "version": 3
   },
   "file_extension": ".py",
   "mimetype": "text/x-python",
   "name": "python",
   "nbconvert_exporter": "python",
   "pygments_lexer": "ipython3",
   "version": "3.7.6"
  }
 },
 "nbformat": 4,
 "nbformat_minor": 4
}
